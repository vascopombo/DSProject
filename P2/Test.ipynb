{
 "cells": [
  {
   "cell_type": "markdown",
   "id": "0e6d4f6a",
   "metadata": {},
   "source": [
    "### Data Science\n",
    "\n",
    "Group 17\n",
    "\n",
    "Daniel Lucas  \n",
    "Ricardo Nobre  \n",
    "Ricardo Carvalho  \n",
    "Diogo Torneiro  \n",
    "Vasco Pombo  "
   ]
  },
  {
   "cell_type": "code",
   "execution_count": 1,
   "id": "51d531f6",
   "metadata": {},
   "outputs": [],
   "source": [
    "#basic libraries: numpy and pandasfor data handling, pyplot \n",
    "#and seaborn for visualization, math for mathematical operations\n",
    "import numpy as np\n",
    "import pandas as pd\n",
    "import matplotlib.pyplot as plt\n",
    "import seaborn as sns\n",
    "import math\n",
    "from datetime import date\n",
    "from scipy.stats import chi2_contingency\n",
    "from sklearn.preprocessing import MinMaxScaler\n",
    "import scipy.stats as stats\n",
    "\n",
    "\n",
    "#dataset partition\n",
    "from sklearn.model_selection import train_test_split\n",
    "\n",
    "#feature selection methods\n",
    "from sklearn.linear_model import LassoCV\n",
    "from sklearn.feature_selection import RFE\n",
    "from mlxtend.feature_selection import SequentialFeatureSelector as SFS\n",
    "\n",
    "#scaling methods and categorical variable encoder\n",
    "from sklearn.preprocessing import RobustScaler, OneHotEncoder\n",
    "\n",
    "#model selection \n",
    "from sklearn import model_selection\n",
    "from sklearn.model_selection import KFold, cross_val_score, GridSearchCV\n",
    "\n",
    "#linear models\n",
    "from sklearn.linear_model import LogisticRegression, SGDClassifier\n",
    "\n",
    "#gaussian naive bayes\n",
    "from sklearn.naive_bayes import GaussianNB\n",
    "\n",
    "#decision tree classifier\n",
    "from sklearn.tree import DecisionTreeClassifier\n",
    "\n",
    "#k-neighbors classifier\n",
    "from sklearn.neighbors import KNeighborsClassifier\n",
    "from sklearn.model_selection import StratifiedKFold\n",
    "from sklearn.impute import KNNImputer\n",
    "\n",
    "#principal component analysis\n",
    "from sklearn.decomposition import PCA\n",
    "\n",
    "import warnings\n",
    "warnings.filterwarnings('ignore')\n",
    "\n",
    "#neural network\n",
    "from sklearn.neural_network import MLPClassifier\n",
    "\n",
    "#ensemble classifier models\n",
    "from sklearn.experimental import enable_hist_gradient_boosting\n",
    "from sklearn.ensemble import GradientBoostingClassifier, RandomForestClassifier, BaggingClassifier, \\\n",
    "VotingClassifier, AdaBoostClassifier, StackingClassifier, HistGradientBoostingClassifier, \\\n",
    "ExtraTreesClassifier\n",
    "\n",
    "#support vector machines\n",
    "from sklearn.svm import SVC\n",
    "\n",
    "#model evaluation\n",
    "from sklearn.metrics import accuracy_score, precision_score, recall_score, \\\n",
    "make_scorer, classification_report, confusion_matrix, f1_score\n",
    "\n",
    "from itertools import combinations\n",
    "from collections import Counter"
   ]
  },
  {
   "cell_type": "markdown",
   "id": "ce71f4da",
   "metadata": {},
   "source": [
    "## Importing Data"
   ]
  },
  {
   "cell_type": "code",
   "execution_count": 2,
   "id": "6f99238a",
   "metadata": {},
   "outputs": [],
   "source": [
    "train_data_original = pd.read_csv('train.csv')\n",
    "test_data_original = pd.read_csv('test.csv')\n",
    "\n",
    "df = train_data_original.copy()\n",
    "df_test = test_data_original.copy()"
   ]
  },
  {
   "cell_type": "markdown",
   "id": "3e7416ed",
   "metadata": {},
   "source": [
    "## Pre Processing"
   ]
  },
  {
   "cell_type": "code",
   "execution_count": 3,
   "id": "fa6caa9e",
   "metadata": {},
   "outputs": [
    {
     "name": "stdout",
     "output_type": "stream",
     "text": [
      "Dataframe has 15589 rows and 22 columns\n"
     ]
    }
   ],
   "source": [
    "df_original_row_size = df.shape[0]\n",
    "df_original_columns_size = df.shape[1]\n",
    "\n",
    "print(\"Dataframe has\", df_original_row_size, \"rows and\", df_original_columns_size, \"columns\")"
   ]
  },
  {
   "cell_type": "code",
   "execution_count": 4,
   "id": "e40b431c",
   "metadata": {},
   "outputs": [],
   "source": [
    "# Change the data frame index to the customer ID of each entry, rather than the standard index\n",
    "df.set_index(\"Cust_ID\", inplace = True)\n",
    "df_test.set_index(\"Cust_ID\", inplace = True)"
   ]
  },
  {
   "cell_type": "code",
   "execution_count": 5,
   "id": "6621496c",
   "metadata": {},
   "outputs": [
    {
     "name": "stdout",
     "output_type": "stream",
     "text": [
      "<class 'pandas.core.frame.DataFrame'>\n",
      "Int64Index: 15589 entries, 1 to 15589\n",
      "Data columns (total 21 columns):\n",
      " #   Column             Non-Null Count  Dtype  \n",
      "---  ------             --------------  -----  \n",
      " 0   Churn              15589 non-null  object \n",
      " 1   Name               15589 non-null  object \n",
      " 2   Longevity          15589 non-null  object \n",
      " 3   Year_Birth         15394 non-null  float64\n",
      " 4   TypeTravel         15589 non-null  object \n",
      " 5   RoomType           15589 non-null  object \n",
      " 6   RewardPoints       15589 non-null  int64  \n",
      " 7   Comfort            15589 non-null  int64  \n",
      " 8   ReceptionSchedule  15589 non-null  int64  \n",
      " 9   FoodDrink          15589 non-null  int64  \n",
      " 10  Location           15589 non-null  int64  \n",
      " 11  Wifi               15589 non-null  int64  \n",
      " 12  Amenities          15589 non-null  int64  \n",
      " 13  Staff              15589 non-null  int64  \n",
      " 14  OnlineBooking      15589 non-null  int64  \n",
      " 15  PriceQuality       15589 non-null  int64  \n",
      " 16  RoomSpace          15589 non-null  int64  \n",
      " 17  CheckOut           15589 non-null  int64  \n",
      " 18  Checkin            15589 non-null  int64  \n",
      " 19  Cleanliness        15589 non-null  int64  \n",
      " 20  BarService         15589 non-null  int64  \n",
      "dtypes: float64(1), int64(15), object(5)\n",
      "memory usage: 2.6+ MB\n"
     ]
    }
   ],
   "source": [
    "df.info()"
   ]
  },
  {
   "cell_type": "code",
   "execution_count": 6,
   "id": "1a9c49b3",
   "metadata": {},
   "outputs": [
    {
     "data": {
      "text/html": [
       "<div>\n",
       "<style scoped>\n",
       "    .dataframe tbody tr th:only-of-type {\n",
       "        vertical-align: middle;\n",
       "    }\n",
       "\n",
       "    .dataframe tbody tr th {\n",
       "        vertical-align: top;\n",
       "    }\n",
       "\n",
       "    .dataframe thead th {\n",
       "        text-align: right;\n",
       "    }\n",
       "</style>\n",
       "<table border=\"1\" class=\"dataframe\">\n",
       "  <thead>\n",
       "    <tr style=\"text-align: right;\">\n",
       "      <th></th>\n",
       "      <th>count</th>\n",
       "      <th>mean</th>\n",
       "      <th>std</th>\n",
       "      <th>min</th>\n",
       "      <th>25%</th>\n",
       "      <th>50%</th>\n",
       "      <th>75%</th>\n",
       "      <th>max</th>\n",
       "    </tr>\n",
       "  </thead>\n",
       "  <tbody>\n",
       "    <tr>\n",
       "      <th>Year_Birth</th>\n",
       "      <td>15394.0</td>\n",
       "      <td>1981.706444</td>\n",
       "      <td>15.179042</td>\n",
       "      <td>1936.0</td>\n",
       "      <td>1970.0</td>\n",
       "      <td>1981.0</td>\n",
       "      <td>1994.0</td>\n",
       "      <td>2014.0</td>\n",
       "    </tr>\n",
       "    <tr>\n",
       "      <th>RewardPoints</th>\n",
       "      <td>15589.0</td>\n",
       "      <td>5022.593816</td>\n",
       "      <td>1027.962379</td>\n",
       "      <td>409.0</td>\n",
       "      <td>4445.0</td>\n",
       "      <td>5088.0</td>\n",
       "      <td>5649.0</td>\n",
       "      <td>6950.0</td>\n",
       "    </tr>\n",
       "    <tr>\n",
       "      <th>Comfort</th>\n",
       "      <td>15589.0</td>\n",
       "      <td>2.841619</td>\n",
       "      <td>1.388624</td>\n",
       "      <td>0.0</td>\n",
       "      <td>2.0</td>\n",
       "      <td>3.0</td>\n",
       "      <td>4.0</td>\n",
       "      <td>5.0</td>\n",
       "    </tr>\n",
       "    <tr>\n",
       "      <th>ReceptionSchedule</th>\n",
       "      <td>15589.0</td>\n",
       "      <td>2.997242</td>\n",
       "      <td>1.518994</td>\n",
       "      <td>0.0</td>\n",
       "      <td>2.0</td>\n",
       "      <td>3.0</td>\n",
       "      <td>4.0</td>\n",
       "      <td>5.0</td>\n",
       "    </tr>\n",
       "    <tr>\n",
       "      <th>FoodDrink</th>\n",
       "      <td>15589.0</td>\n",
       "      <td>2.844570</td>\n",
       "      <td>1.436948</td>\n",
       "      <td>0.0</td>\n",
       "      <td>2.0</td>\n",
       "      <td>3.0</td>\n",
       "      <td>4.0</td>\n",
       "      <td>5.0</td>\n",
       "    </tr>\n",
       "    <tr>\n",
       "      <th>Location</th>\n",
       "      <td>15589.0</td>\n",
       "      <td>2.986016</td>\n",
       "      <td>1.299438</td>\n",
       "      <td>1.0</td>\n",
       "      <td>2.0</td>\n",
       "      <td>3.0</td>\n",
       "      <td>4.0</td>\n",
       "      <td>5.0</td>\n",
       "    </tr>\n",
       "    <tr>\n",
       "      <th>Wifi</th>\n",
       "      <td>15589.0</td>\n",
       "      <td>3.245109</td>\n",
       "      <td>1.327026</td>\n",
       "      <td>0.0</td>\n",
       "      <td>2.0</td>\n",
       "      <td>3.0</td>\n",
       "      <td>4.0</td>\n",
       "      <td>6.0</td>\n",
       "    </tr>\n",
       "    <tr>\n",
       "      <th>Amenities</th>\n",
       "      <td>15589.0</td>\n",
       "      <td>3.374816</td>\n",
       "      <td>1.352417</td>\n",
       "      <td>0.0</td>\n",
       "      <td>2.0</td>\n",
       "      <td>4.0</td>\n",
       "      <td>4.0</td>\n",
       "      <td>5.0</td>\n",
       "    </tr>\n",
       "    <tr>\n",
       "      <th>Staff</th>\n",
       "      <td>15589.0</td>\n",
       "      <td>3.506383</td>\n",
       "      <td>1.319565</td>\n",
       "      <td>1.0</td>\n",
       "      <td>3.0</td>\n",
       "      <td>4.0</td>\n",
       "      <td>5.0</td>\n",
       "      <td>5.0</td>\n",
       "    </tr>\n",
       "    <tr>\n",
       "      <th>OnlineBooking</th>\n",
       "      <td>15589.0</td>\n",
       "      <td>3.454231</td>\n",
       "      <td>1.310343</td>\n",
       "      <td>0.0</td>\n",
       "      <td>2.0</td>\n",
       "      <td>4.0</td>\n",
       "      <td>5.0</td>\n",
       "      <td>5.0</td>\n",
       "    </tr>\n",
       "    <tr>\n",
       "      <th>PriceQuality</th>\n",
       "      <td>15589.0</td>\n",
       "      <td>3.459683</td>\n",
       "      <td>1.268130</td>\n",
       "      <td>1.0</td>\n",
       "      <td>3.0</td>\n",
       "      <td>4.0</td>\n",
       "      <td>4.0</td>\n",
       "      <td>5.0</td>\n",
       "    </tr>\n",
       "    <tr>\n",
       "      <th>RoomSpace</th>\n",
       "      <td>15589.0</td>\n",
       "      <td>3.470845</td>\n",
       "      <td>1.293873</td>\n",
       "      <td>0.0</td>\n",
       "      <td>2.0</td>\n",
       "      <td>4.0</td>\n",
       "      <td>5.0</td>\n",
       "      <td>5.0</td>\n",
       "    </tr>\n",
       "    <tr>\n",
       "      <th>CheckOut</th>\n",
       "      <td>15589.0</td>\n",
       "      <td>3.700558</td>\n",
       "      <td>1.158644</td>\n",
       "      <td>1.0</td>\n",
       "      <td>3.0</td>\n",
       "      <td>4.0</td>\n",
       "      <td>5.0</td>\n",
       "      <td>5.0</td>\n",
       "    </tr>\n",
       "    <tr>\n",
       "      <th>Checkin</th>\n",
       "      <td>15589.0</td>\n",
       "      <td>3.327282</td>\n",
       "      <td>1.266872</td>\n",
       "      <td>1.0</td>\n",
       "      <td>3.0</td>\n",
       "      <td>3.0</td>\n",
       "      <td>4.0</td>\n",
       "      <td>5.0</td>\n",
       "    </tr>\n",
       "    <tr>\n",
       "      <th>Cleanliness</th>\n",
       "      <td>15589.0</td>\n",
       "      <td>3.692347</td>\n",
       "      <td>1.154437</td>\n",
       "      <td>1.0</td>\n",
       "      <td>3.0</td>\n",
       "      <td>4.0</td>\n",
       "      <td>5.0</td>\n",
       "      <td>5.0</td>\n",
       "    </tr>\n",
       "    <tr>\n",
       "      <th>BarService</th>\n",
       "      <td>15589.0</td>\n",
       "      <td>3.347360</td>\n",
       "      <td>1.300452</td>\n",
       "      <td>0.0</td>\n",
       "      <td>2.0</td>\n",
       "      <td>3.0</td>\n",
       "      <td>4.0</td>\n",
       "      <td>5.0</td>\n",
       "    </tr>\n",
       "  </tbody>\n",
       "</table>\n",
       "</div>"
      ],
      "text/plain": [
       "                     count         mean          std     min     25%     50%  \\\n",
       "Year_Birth         15394.0  1981.706444    15.179042  1936.0  1970.0  1981.0   \n",
       "RewardPoints       15589.0  5022.593816  1027.962379   409.0  4445.0  5088.0   \n",
       "Comfort            15589.0     2.841619     1.388624     0.0     2.0     3.0   \n",
       "ReceptionSchedule  15589.0     2.997242     1.518994     0.0     2.0     3.0   \n",
       "FoodDrink          15589.0     2.844570     1.436948     0.0     2.0     3.0   \n",
       "Location           15589.0     2.986016     1.299438     1.0     2.0     3.0   \n",
       "Wifi               15589.0     3.245109     1.327026     0.0     2.0     3.0   \n",
       "Amenities          15589.0     3.374816     1.352417     0.0     2.0     4.0   \n",
       "Staff              15589.0     3.506383     1.319565     1.0     3.0     4.0   \n",
       "OnlineBooking      15589.0     3.454231     1.310343     0.0     2.0     4.0   \n",
       "PriceQuality       15589.0     3.459683     1.268130     1.0     3.0     4.0   \n",
       "RoomSpace          15589.0     3.470845     1.293873     0.0     2.0     4.0   \n",
       "CheckOut           15589.0     3.700558     1.158644     1.0     3.0     4.0   \n",
       "Checkin            15589.0     3.327282     1.266872     1.0     3.0     3.0   \n",
       "Cleanliness        15589.0     3.692347     1.154437     1.0     3.0     4.0   \n",
       "BarService         15589.0     3.347360     1.300452     0.0     2.0     3.0   \n",
       "\n",
       "                      75%     max  \n",
       "Year_Birth         1994.0  2014.0  \n",
       "RewardPoints       5649.0  6950.0  \n",
       "Comfort               4.0     5.0  \n",
       "ReceptionSchedule     4.0     5.0  \n",
       "FoodDrink             4.0     5.0  \n",
       "Location              4.0     5.0  \n",
       "Wifi                  4.0     6.0  \n",
       "Amenities             4.0     5.0  \n",
       "Staff                 5.0     5.0  \n",
       "OnlineBooking         5.0     5.0  \n",
       "PriceQuality          4.0     5.0  \n",
       "RoomSpace             5.0     5.0  \n",
       "CheckOut              5.0     5.0  \n",
       "Checkin               4.0     5.0  \n",
       "Cleanliness           5.0     5.0  \n",
       "BarService            4.0     5.0  "
      ]
     },
     "execution_count": 6,
     "metadata": {},
     "output_type": "execute_result"
    }
   ],
   "source": [
    "df.describe().T"
   ]
  },
  {
   "cell_type": "markdown",
   "id": "a097ae6a",
   "metadata": {},
   "source": [
    "### Coherence Checks"
   ]
  },
  {
   "cell_type": "markdown",
   "id": "cc644e93",
   "metadata": {},
   "source": [
    "#### Churn"
   ]
  },
  {
   "cell_type": "code",
   "execution_count": 7,
   "id": "c8a7a1fc",
   "metadata": {},
   "outputs": [
    {
     "data": {
      "image/png": "[encoded data removed]",
      "text/plain": [
       "<Figure size 432x288 with 1 Axes>"
      ]
     },
     "metadata": {
      "needs_background": "light"
     },
     "output_type": "display_data"
    }
   ],
   "source": [
    "df['Churn'].value_counts()\n",
    "\n",
    "sns.countplot(df[\"Churn\"], color=\"skyblue\")\n",
    "plt.show()"
   ]
  },
  {
   "cell_type": "markdown",
   "id": "327e2f26",
   "metadata": {},
   "source": [
    "Churn is our target variable and it looks somewhat evenly distributed. We will still test with over and under sampled datasets but there is not a huge descrepancy between the values of Churn."
   ]
  },
  {
   "cell_type": "markdown",
   "id": "16b0472d",
   "metadata": {},
   "source": [
    "#### Longevity"
   ]
  },
  {
   "cell_type": "code",
   "execution_count": 8,
   "id": "c2521c04",
   "metadata": {},
   "outputs": [
    {
     "data": {
      "text/plain": [
       "yes    12548\n",
       "no      2874\n",
       "y        167\n",
       "Name: Longevity, dtype: int64"
      ]
     },
     "execution_count": 8,
     "metadata": {},
     "output_type": "execute_result"
    }
   ],
   "source": [
    "df['Longevity'].value_counts()"
   ]
  },
  {
   "cell_type": "markdown",
   "id": "e94ba17c",
   "metadata": {},
   "source": [
    "Variable does not look good because we have entries with 'yes' and entries with 'y' which most likely mean the same. Will will transform the entries with 'y' into 'yes'"
   ]
  },
  {
   "cell_type": "code",
   "execution_count": 9,
   "id": "72440ff3",
   "metadata": {},
   "outputs": [
    {
     "data": {
      "image/png": "[encoded data removed]",
      "text/plain": [
       "<Figure size 432x288 with 1 Axes>"
      ]
     },
     "metadata": {
      "needs_background": "light"
     },
     "output_type": "display_data"
    }
   ],
   "source": [
    "df['Longevity'].replace('y','yes', inplace=True)\n",
    "df['Longevity'].value_counts()\n",
    "\n",
    "sns.countplot(df[\"Longevity\"], color=\"skyblue\")\n",
    "plt.show()"
   ]
  },
  {
   "cell_type": "markdown",
   "id": "73f97b9d",
   "metadata": {},
   "source": [
    "#### Ratings variables"
   ]
  },
  {
   "cell_type": "code",
   "execution_count": 10,
   "id": "0b6b7aaa",
   "metadata": {},
   "outputs": [
    {
     "data": {
      "image/png": "[encoded data removed]",
      "text/plain": [
       "<Figure size 1440x1080 with 15 Axes>"
      ]
     },
     "metadata": {
      "needs_background": "light"
     },
     "output_type": "display_data"
    }
   ],
   "source": [
    "f, axes = plt.subplots(3,5, figsize=(20, 15), squeeze=False)  \n",
    "sns.histplot(df[\"Comfort\"], color=\"skyblue\", ax=axes[0, 0])\n",
    "sns.histplot(df[\"ReceptionSchedule\"], color=\"skyblue\", ax=axes[0, 1])\n",
    "sns.histplot(df[\"FoodDrink\"], color=\"skyblue\", ax=axes[0, 2])\n",
    "sns.histplot(df[\"Location\"], color=\"skyblue\", ax=axes[0, 3])\n",
    "sns.histplot(df[\"Wifi\"], color=\"skyblue\", ax=axes[0, 4])\n",
    "sns.histplot(df[\"Amenities\"], color=\"skyblue\", ax=axes[1, 0])\n",
    "sns.histplot(df[\"Staff\"], color=\"skyblue\", ax=axes[1, 1])\n",
    "sns.histplot(df[\"OnlineBooking\"], color=\"skyblue\", ax=axes[1, 2])\n",
    "sns.histplot(df[\"PriceQuality\"], color=\"skyblue\", ax=axes[1, 3])\n",
    "sns.histplot(df[\"RoomSpace\"], color=\"skyblue\", ax=axes[1, 4])\n",
    "sns.histplot(df[\"CheckOut\"], color=\"skyblue\", ax=axes[2, 0])\n",
    "sns.histplot(df[\"Checkin\"], color=\"skyblue\", ax=axes[2, 1])\n",
    "sns.histplot(df[\"Cleanliness\"], color=\"skyblue\", ax=axes[2, 2])\n",
    "sns.histplot(df[\"BarService\"], color=\"skyblue\", ax=axes[2, 3])\n",
    "\n",
    "plt.show()"
   ]
  },
  {
   "cell_type": "markdown",
   "id": "7f9bb5fa",
   "metadata": {},
   "source": [
    "Upon looking at the charts, we noticed that 'Wifi' has values that should not be there, in particular, some surveys were marked with 6 which is not an available rating. \n",
    "\n",
    "Since there are only 36 rows with value 6, we will convert them to a 5."
   ]
  },
  {
   "cell_type": "code",
   "execution_count": 11,
   "id": "2ff01b0e",
   "metadata": {},
   "outputs": [
    {
     "data": {
      "image/png": "[encoded data removed]",
      "text/plain": [
       "<Figure size 432x288 with 1 Axes>"
      ]
     },
     "metadata": {
      "needs_background": "light"
     },
     "output_type": "display_data"
    }
   ],
   "source": [
    "df['Wifi'].replace(6,5, inplace=True)\n",
    "\n",
    "sns.histplot(df[\"Wifi\"], color=\"skyblue\")\n",
    "plt.show()"
   ]
  },
  {
   "cell_type": "markdown",
   "id": "7091844e",
   "metadata": {},
   "source": [
    "### Duplicate Values"
   ]
  },
  {
   "cell_type": "code",
   "execution_count": 12,
   "id": "3a83447e",
   "metadata": {},
   "outputs": [
    {
     "data": {
      "text/html": [
       "<div>\n",
       "<style scoped>\n",
       "    .dataframe tbody tr th:only-of-type {\n",
       "        vertical-align: middle;\n",
       "    }\n",
       "\n",
       "    .dataframe tbody tr th {\n",
       "        vertical-align: top;\n",
       "    }\n",
       "\n",
       "    .dataframe thead th {\n",
       "        text-align: right;\n",
       "    }\n",
       "</style>\n",
       "<table border=\"1\" class=\"dataframe\">\n",
       "  <thead>\n",
       "    <tr style=\"text-align: right;\">\n",
       "      <th></th>\n",
       "      <th>Churn</th>\n",
       "      <th>Name</th>\n",
       "      <th>Longevity</th>\n",
       "      <th>Year_Birth</th>\n",
       "      <th>TypeTravel</th>\n",
       "      <th>RoomType</th>\n",
       "      <th>RewardPoints</th>\n",
       "      <th>Comfort</th>\n",
       "      <th>ReceptionSchedule</th>\n",
       "      <th>FoodDrink</th>\n",
       "      <th>...</th>\n",
       "      <th>Wifi</th>\n",
       "      <th>Amenities</th>\n",
       "      <th>Staff</th>\n",
       "      <th>OnlineBooking</th>\n",
       "      <th>PriceQuality</th>\n",
       "      <th>RoomSpace</th>\n",
       "      <th>CheckOut</th>\n",
       "      <th>Checkin</th>\n",
       "      <th>Cleanliness</th>\n",
       "      <th>BarService</th>\n",
       "    </tr>\n",
       "    <tr>\n",
       "      <th>Cust_ID</th>\n",
       "      <th></th>\n",
       "      <th></th>\n",
       "      <th></th>\n",
       "      <th></th>\n",
       "      <th></th>\n",
       "      <th></th>\n",
       "      <th></th>\n",
       "      <th></th>\n",
       "      <th></th>\n",
       "      <th></th>\n",
       "      <th></th>\n",
       "      <th></th>\n",
       "      <th></th>\n",
       "      <th></th>\n",
       "      <th></th>\n",
       "      <th></th>\n",
       "      <th></th>\n",
       "      <th></th>\n",
       "      <th></th>\n",
       "      <th></th>\n",
       "      <th></th>\n",
       "    </tr>\n",
       "  </thead>\n",
       "  <tbody>\n",
       "    <tr>\n",
       "      <th>8196</th>\n",
       "      <td>nochurn</td>\n",
       "      <td>Ms. Abigail York</td>\n",
       "      <td>yes</td>\n",
       "      <td>1995.0</td>\n",
       "      <td>leisure</td>\n",
       "      <td>double</td>\n",
       "      <td>5098</td>\n",
       "      <td>5</td>\n",
       "      <td>5</td>\n",
       "      <td>5</td>\n",
       "      <td>...</td>\n",
       "      <td>4</td>\n",
       "      <td>5</td>\n",
       "      <td>5</td>\n",
       "      <td>3</td>\n",
       "      <td>3</td>\n",
       "      <td>4</td>\n",
       "      <td>3</td>\n",
       "      <td>3</td>\n",
       "      <td>3</td>\n",
       "      <td>5</td>\n",
       "    </tr>\n",
       "    <tr>\n",
       "      <th>9177</th>\n",
       "      <td>churn</td>\n",
       "      <td>Ms. Abigail Kennedy</td>\n",
       "      <td>yes</td>\n",
       "      <td>1991.0</td>\n",
       "      <td>business</td>\n",
       "      <td>suite</td>\n",
       "      <td>5932</td>\n",
       "      <td>3</td>\n",
       "      <td>3</td>\n",
       "      <td>2</td>\n",
       "      <td>...</td>\n",
       "      <td>3</td>\n",
       "      <td>3</td>\n",
       "      <td>3</td>\n",
       "      <td>3</td>\n",
       "      <td>4</td>\n",
       "      <td>1</td>\n",
       "      <td>4</td>\n",
       "      <td>3</td>\n",
       "      <td>4</td>\n",
       "      <td>3</td>\n",
       "    </tr>\n",
       "    <tr>\n",
       "      <th>9418</th>\n",
       "      <td>nochurn</td>\n",
       "      <td>Ms. Abigail Buchanan</td>\n",
       "      <td>yes</td>\n",
       "      <td>1972.0</td>\n",
       "      <td>business</td>\n",
       "      <td>double</td>\n",
       "      <td>6769</td>\n",
       "      <td>5</td>\n",
       "      <td>4</td>\n",
       "      <td>4</td>\n",
       "      <td>...</td>\n",
       "      <td>5</td>\n",
       "      <td>5</td>\n",
       "      <td>4</td>\n",
       "      <td>5</td>\n",
       "      <td>5</td>\n",
       "      <td>5</td>\n",
       "      <td>5</td>\n",
       "      <td>2</td>\n",
       "      <td>5</td>\n",
       "      <td>1</td>\n",
       "    </tr>\n",
       "  </tbody>\n",
       "</table>\n",
       "<p>3 rows × 21 columns</p>\n",
       "</div>"
      ],
      "text/plain": [
       "           Churn                  Name Longevity  Year_Birth TypeTravel  \\\n",
       "Cust_ID                                                                   \n",
       "8196     nochurn      Ms. Abigail York       yes      1995.0    leisure   \n",
       "9177       churn   Ms. Abigail Kennedy       yes      1991.0   business   \n",
       "9418     nochurn  Ms. Abigail Buchanan       yes      1972.0   business   \n",
       "\n",
       "        RoomType  RewardPoints  Comfort  ReceptionSchedule  FoodDrink  ...  \\\n",
       "Cust_ID                                                                ...   \n",
       "8196      double          5098        5                  5          5  ...   \n",
       "9177       suite          5932        3                  3          2  ...   \n",
       "9418      double          6769        5                  4          4  ...   \n",
       "\n",
       "         Wifi  Amenities  Staff  OnlineBooking  PriceQuality  RoomSpace  \\\n",
       "Cust_ID                                                                   \n",
       "8196        4          5      5              3             3          4   \n",
       "9177        3          3      3              3             4          1   \n",
       "9418        5          5      4              5             5          5   \n",
       "\n",
       "         CheckOut  Checkin  Cleanliness  BarService  \n",
       "Cust_ID                                              \n",
       "8196            3        3            3           5  \n",
       "9177            4        3            4           3  \n",
       "9418            5        2            5           1  \n",
       "\n",
       "[3 rows x 21 columns]"
      ]
     },
     "execution_count": 12,
     "metadata": {},
     "output_type": "execute_result"
    }
   ],
   "source": [
    "#create duplicate datafranme\n",
    "duplicates = df.duplicated()\n",
    "\n",
    "#visualize the duplicates\n",
    "df[duplicates]"
   ]
  },
  {
   "cell_type": "code",
   "execution_count": 13,
   "id": "8aef47e1",
   "metadata": {},
   "outputs": [
    {
     "data": {
      "text/plain": [
       "(15586, 21)"
      ]
     },
     "execution_count": 13,
     "metadata": {},
     "output_type": "execute_result"
    }
   ],
   "source": [
    "df.drop_duplicates(inplace = True)\n",
    "df.shape"
   ]
  },
  {
   "cell_type": "markdown",
   "id": "81d29d0a",
   "metadata": {},
   "source": [
    "### Outliers"
   ]
  },
  {
   "cell_type": "code",
   "execution_count": 14,
   "id": "37cb2c98",
   "metadata": {},
   "outputs": [
    {
     "data": {
      "image/png": "[encoded data removed]",
      "text/plain": [
       "<Figure size 1440x1080 with 16 Axes>"
      ]
     },
     "metadata": {
      "needs_background": "light"
     },
     "output_type": "display_data"
    }
   ],
   "source": [
    "f, axes = plt.subplots(4,4, figsize=(20, 15), squeeze=False)    \n",
    "sns.boxplot(df[\"Year_Birth\"], ax=axes[0, 0])\n",
    "sns.boxplot(df[\"RewardPoints\"], ax=axes[0, 1])\n",
    "sns.boxplot(df[\"Comfort\"], ax=axes[0, 2])\n",
    "sns.boxplot(df[\"ReceptionSchedule\"], ax=axes[0, 3])\n",
    "sns.boxplot(df[\"FoodDrink\"], ax=axes[1, 0])\n",
    "sns.boxplot(df[\"Location\"],  ax=axes[1, 1])\n",
    "sns.boxplot(df[\"Wifi\"],  ax=axes[1, 2])\n",
    "sns.boxplot(df[\"Amenities\"],  ax=axes[1, 3])\n",
    "sns.boxplot(df[\"Staff\"],  ax=axes[2, 0])\n",
    "sns.boxplot(df[\"OnlineBooking\"],  ax=axes[2, 1])\n",
    "sns.boxplot(df[\"PriceQuality\"],  ax=axes[2, 2])\n",
    "sns.boxplot(df[\"RoomSpace\"], ax=axes[2, 3])\n",
    "sns.boxplot(df[\"CheckOut\"], ax=axes[3, 0])\n",
    "sns.boxplot(df[\"Checkin\"], ax=axes[3, 1])\n",
    "sns.boxplot(df[\"Cleanliness\"], ax=axes[3, 2])\n",
    "sns.boxplot(df[\"BarService\"], ax=axes[3, 3])\n",
    "\n",
    "plt.show()"
   ]
  },
  {
   "cell_type": "code",
   "execution_count": 15,
   "id": "fa359ecd",
   "metadata": {},
   "outputs": [],
   "source": [
    "#method to return the boundaries of IQR \n",
    "def get_IQR_bounds(s):\n",
    "    q1 = s.quantile(0.25)\n",
    "    q3 = s.quantile(0.75)\n",
    "    \n",
    "    iqr = q3 - q1\n",
    "    \n",
    "    lower_bound = q1 -(1.5 * iqr)\n",
    "    upper_bound = q3 +(1.5 * iqr)\n",
    "    \n",
    "    return (lower_bound,upper_bound)"
   ]
  },
  {
   "cell_type": "markdown",
   "id": "a9e5e428",
   "metadata": {},
   "source": [
    "#### Reward Points"
   ]
  },
  {
   "cell_type": "code",
   "execution_count": 16,
   "id": "5284d1f7",
   "metadata": {},
   "outputs": [
    {
     "name": "stdout",
     "output_type": "stream",
     "text": [
      "There are been 293 outliers removed\n"
     ]
    }
   ],
   "source": [
    "df = df[df['RewardPoints'] > get_IQR_bounds(df['RewardPoints'])[0]]\n",
    "\n",
    "print(\"There are been\",df_original_row_size - df.shape[0], \"outliers removed\")"
   ]
  },
  {
   "cell_type": "code",
   "execution_count": 17,
   "id": "1c8c13dd",
   "metadata": {},
   "outputs": [
    {
     "data": {
      "image/png": "[encoded data removed]",
      "text/plain": [
       "<Figure size 432x288 with 1 Axes>"
      ]
     },
     "metadata": {
      "needs_background": "light"
     },
     "output_type": "display_data"
    }
   ],
   "source": [
    "sns.histplot(df[\"RewardPoints\"], color=\"skyblue\")\n",
    "plt.show()"
   ]
  },
  {
   "cell_type": "markdown",
   "id": "b6012219",
   "metadata": {},
   "source": [
    "#### Ratings Variables"
   ]
  },
  {
   "cell_type": "markdown",
   "id": "354d96cb",
   "metadata": {},
   "source": [
    "After some research and analysis on the subject, we decided not to remove outliers on the two ratings variables that presented outliers in the boxplot visualization. Those are 'PriceQuality' and 'Checkin'. The reason we did not remove them was because they were too many entries that would have to be removed, and if we did, we would effectively be shortening the rating scale for the rating data.\n",
    "\n",
    "Instead, we will look for straight lining on the ratings entries, meaning people who answered all the answers with the same variable, which can mean they were in a rush and decided to fill the survey as fast as they could."
   ]
  },
  {
   "cell_type": "markdown",
   "id": "bac1e23d",
   "metadata": {},
   "source": [
    "#### Straight Lining"
   ]
  },
  {
   "cell_type": "code",
   "execution_count": 18,
   "id": "1d4311fb",
   "metadata": {},
   "outputs": [],
   "source": [
    "straight_lining_entries = df[(df['Comfort'] == df['ReceptionSchedule']) & (df['Comfort'] == df['FoodDrink']) & (df['Comfort'] == df['Location']) & (df['Comfort'] == df['Wifi']) & (df['Comfort'] == df['Amenities']) & (df['Comfort'] == df['Staff']) & (df['Comfort'] == df['OnlineBooking']) & (df['Comfort'] == df['PriceQuality']) & (df['Comfort'] == df['RoomSpace']) & (df['Comfort'] == df['CheckOut']) & (df['Comfort'] == df['Checkin']) & (df['Comfort'] == df['Cleanliness']) & (df['Comfort'] == df['BarService'])]"
   ]
  },
  {
   "cell_type": "code",
   "execution_count": 19,
   "id": "d5aab4ae",
   "metadata": {},
   "outputs": [],
   "source": [
    "df.drop(straight_lining_entries.index, axis=0, inplace=True)"
   ]
  },
  {
   "cell_type": "markdown",
   "id": "e4bf744c",
   "metadata": {},
   "source": [
    "We found 2 entries that are considered straight lining answers and we will remove them from the data"
   ]
  },
  {
   "cell_type": "markdown",
   "id": "9b524c86",
   "metadata": {},
   "source": [
    "## Feature Engineering"
   ]
  },
  {
   "cell_type": "code",
   "execution_count": 20,
   "id": "e3bcb29a",
   "metadata": {},
   "outputs": [],
   "source": [
    "#churn = 1, nochurn = 0\n",
    "df['Churn'] = [1 if i == 'churn' else 0 for i in df[\"Churn\"]]"
   ]
  },
  {
   "cell_type": "code",
   "execution_count": 21,
   "id": "aa7d60d2",
   "metadata": {},
   "outputs": [],
   "source": [
    "df_data = df.drop(['Churn'], axis=1).copy()\n",
    "df_target = df['Churn'].copy()"
   ]
  },
  {
   "cell_type": "code",
   "execution_count": 22,
   "id": "950f9442",
   "metadata": {},
   "outputs": [],
   "source": [
    "#Method to transform the data\n",
    "\n",
    "def transform_data(X, age=False):\n",
    "        print()\n",
    "        # get all numerical variables\n",
    "        X_train_num = X[num_vars]\n",
    "        #\n",
    "        # get all categorical variables\n",
    "        X_train_cat = X[cat_vars]\n",
    "        #df_scaled['Longevity'] = [1 if i == 'yes' else 0 for i in df_scaled[\"Longevity\"]]\n",
    "        #df_scaled['TypeTravel'] = [1 if i == 'business' else 0 for i in df_scaled[\"TypeTravel\"]]\n",
    "        \n",
    "        # fill missing values (KNN Imputer for Year of Birth: first variable of numerical variables)\n",
    "        k_imputer = round(np.sqrt(len(X_train_num)),0).astype('int32') # 125\n",
    "        imputer = KNNImputer(n_neighbors=k_imputer, weights=\"uniform\", metric='nan_euclidean')\n",
    "        imputer.fit(X_train_num)\n",
    "        data_KNN_train = imputer.transform(X_train_num)\n",
    "        data_KNN_train = pd.DataFrame(data_KNN_train)\n",
    "        data_KNN_train[0] = data_KNN_train[0].round(0)\n",
    "        X_train_num['Year_Birth'] = data_KNN_train[0].values\n",
    "        if age:\n",
    "            X_train_num['Age'] = date.today().year - X_train_num['Year_Birth']\n",
    "            \n",
    "        \n",
    "        # Apply scaling to numerical data\n",
    "        scaler = MinMaxScaler().fit(X_train_num)\n",
    "        X_train_scaled = pd.DataFrame(scaler.transform(X_train_num), columns = X_train_num.columns, index = X_train_num.index,) # MinMaxScaler in the training data\n",
    "        \n",
    "        return X_train_scaled, X_train_cat"
   ]
  },
  {
   "cell_type": "code",
   "execution_count": 23,
   "id": "af9ef100",
   "metadata": {},
   "outputs": [],
   "source": [
    "#Gender Variable\n",
    "\n",
    "df_data[\"Characters\"] = df_data[\"Name\"].str[:3]\n",
    "df_data['Characters'].unique()\n",
    "\n",
    "df_data.drop(columns=[\"Characters\"], axis=1, inplace=True)\n",
    "df_data['Gender'] = ['Male' if i == 'Mr.' else 'Female' for i in df_data[\"Name\"].str[:3]]\n",
    "\n",
    "df_data.drop(columns=['Name'], inplace=True)"
   ]
  },
  {
   "cell_type": "code",
   "execution_count": 24,
   "id": "cf00c5e2",
   "metadata": {},
   "outputs": [],
   "source": [
    "cat_vars = ['Gender', 'Longevity', 'TypeTravel', 'RoomType']\n",
    "num_vars = list(set(df_data.columns) - set(cat_vars))"
   ]
  },
  {
   "cell_type": "markdown",
   "id": "c88a5f17",
   "metadata": {},
   "source": [
    "### Feature Selection"
   ]
  },
  {
   "cell_type": "code",
   "execution_count": 25,
   "id": "abc6ab39",
   "metadata": {},
   "outputs": [],
   "source": [
    "def select_best_features(X, y, splits, age=False):\n",
    "    sel_log = [0, 0, 0, 0, 0, 0, 0, 0, 0, 0, 0, 0, 0, 0, 0, 0]\n",
    "    sel_tree = [0, 0, 0, 0, 0, 0, 0, 0, 0, 0, 0, 0, 0, 0, 0, 0]\n",
    "    sel_forest = [0, 0, 0, 0, 0, 0, 0, 0, 0, 0, 0, 0, 0, 0, 0, 0]\n",
    "    sel_lasso = [0, 0, 0, 0, 0, 0, 0, 0, 0, 0, 0, 0, 0, 0, 0, 0]\n",
    "    \n",
    "    if age:\n",
    "        sel_log.append(0)\n",
    "        sel_tree.append(0)\n",
    "        sel_forest.append(0)\n",
    "        sel_lasso.append(0)\n",
    "        \n",
    "    skf = StratifiedKFold(n_splits = splits, shuffle=True, random_state=42)\n",
    "    counter = 0\n",
    "    for train_index, val_index in skf.split(X, y):\n",
    "        counter +=1\n",
    "        print('')\n",
    "        print('--------------------------------------------------------')\n",
    "        print('SPLIT ', counter)\n",
    "        print('--------------------------------------------------------')\n",
    "        print('')\n",
    "        X_train, X_val = X.iloc[train_index], X.iloc[val_index]\n",
    "        y_train, y_val = y.iloc[train_index], y.iloc[val_index]\n",
    "        \n",
    "        \n",
    "        X_train_scaled, X_train_cat = transform_data(X_train, age)\n",
    "        X_val_scaled, X_val_cat = transform_data(X_val, age)\n",
    "\n",
    "        # Check which features to use using RFE and Logistic Regression\n",
    "        print('')\n",
    "        print('----------------- RFE ----------------------')\n",
    "        model = LogisticRegression()\n",
    "        rfe = RFE(estimator = model, n_features_to_select = 5)\n",
    "        X_rfe = rfe.fit_transform(X = X_train_scaled, y = y_train)\n",
    "        selected_features = pd.Series(rfe.support_, index = X_train_scaled.columns)\n",
    "        sel_log=np.add(sel_log,list(map(int, selected_features)))\n",
    "\n",
    "         # Check which features to use using RFE and decision tree\n",
    "        model = DecisionTreeClassifier()\n",
    "        rfe = RFE(estimator = model, n_features_to_select = 5)\n",
    "        X_rfe = rfe.fit_transform(X = X_train_scaled, y = y_train)\n",
    "        selected_features = pd.Series(rfe.support_, index = X_train_scaled.columns)\n",
    "        sel_tree=np.add(sel_tree,list(map(int, selected_features)))\n",
    "        \n",
    "        # Check which features to use using RFE and random forest\n",
    "        model = RandomForestClassifier()\n",
    "        rfe = RFE(estimator = model, n_features_to_select = 5)\n",
    "        X_rfe = rfe.fit_transform(X = X_train_scaled, y = y_train)\n",
    "        selected_features = pd.Series(rfe.support_, index = X_train_scaled.columns)\n",
    "        sel_forest=np.add(sel_forest,list(map(int, selected_features)))\n",
    "\n",
    "        #Lasso\n",
    "        reg = LassoCV()\n",
    "        reg.fit(X=X_train_scaled, y=y_train.replace('nochurn',0).replace('churn',1))\n",
    "        print(\"Best alpha using built-in LassoCV: %f\" % reg.alpha_)\n",
    "        print(\"Best score using built-in LassoCV: %f\" %reg.score(X = X_train_scaled,y = y_train.replace('nochurn',0).replace('churn',1)))\n",
    "        coef = pd.Series(reg.coef_, index = X_train_scaled.columns)\n",
    "        sel_lasso=np.add(sel_lasso,coef.values)\n",
    "        \n",
    "        # Check which features to use using Chi-Square\n",
    "        print('')\n",
    "        print('----------------- CHI-SQUARE ----------------------')\n",
    "        def TestIndependence(X,y,var,alpha=0.05):        \n",
    "            dfObserved = pd.crosstab(y,X) \n",
    "            chi2, p, dof, expected = stats.chi2_contingency(dfObserved.values)\n",
    "            dfExpected = pd.DataFrame(expected, columns=dfObserved.columns, index = dfObserved.index)\n",
    "            if p<alpha:\n",
    "                result=\"{0} is IMPORTANT for Prediction\".format(var)\n",
    "            else:\n",
    "                result=\"{0} is NOT important for Prediction. (Discard {0} from model)\".format(var)\n",
    "            print(result)\n",
    "        \n",
    "        for var in X_train_cat:\n",
    "            TestIndependence(X_train_cat[var],y_train, var)\n",
    "        \n",
    "        sel_lasso = sel_lasso/splits\n",
    "        \n",
    "        if age==True:\n",
    "            num_vars.append(\"Age\")\n",
    "         \n",
    "        final = pd.DataFrame(np.array([sel_log,sel_tree,sel_forest,sel_lasso]),\\\n",
    "                         columns=set(num_vars),index=['Logistic Regression','Decision Tree','Random Forest','Lasso'])\n",
    "                             \n",
    "    print(final.T)"
   ]
  },
  {
   "cell_type": "code",
   "execution_count": 278,
   "id": "fd015f29",
   "metadata": {},
   "outputs": [
    {
     "name": "stdout",
     "output_type": "stream",
     "text": [
      "\n",
      "--------------------------------------------------------\n",
      "SPLIT  1\n",
      "--------------------------------------------------------\n",
      "\n",
      "\n",
      "\n",
      "\n",
      "----------------- RFE ----------------------\n",
      "Best alpha using built-in LassoCV: 0.000070\n",
      "Best score using built-in LassoCV: 0.407066\n",
      "\n",
      "----------------- CHI-SQUARE ----------------------\n",
      "Gender is IMPORTANT for Prediction\n",
      "Longevity is IMPORTANT for Prediction\n",
      "TypeTravel is IMPORTANT for Prediction\n",
      "RoomType is IMPORTANT for Prediction\n",
      "\n",
      "--------------------------------------------------------\n",
      "SPLIT  2\n",
      "--------------------------------------------------------\n",
      "\n",
      "\n",
      "\n",
      "\n",
      "----------------- RFE ----------------------\n",
      "Best alpha using built-in LassoCV: 0.000150\n",
      "Best score using built-in LassoCV: 0.409826\n",
      "\n",
      "----------------- CHI-SQUARE ----------------------\n",
      "Gender is IMPORTANT for Prediction\n",
      "Longevity is IMPORTANT for Prediction\n",
      "TypeTravel is IMPORTANT for Prediction\n",
      "RoomType is IMPORTANT for Prediction\n",
      "\n",
      "--------------------------------------------------------\n",
      "SPLIT  3\n",
      "--------------------------------------------------------\n",
      "\n",
      "\n",
      "\n",
      "\n",
      "----------------- RFE ----------------------\n",
      "Best alpha using built-in LassoCV: 0.000105\n",
      "Best score using built-in LassoCV: 0.402844\n",
      "\n",
      "----------------- CHI-SQUARE ----------------------\n",
      "Gender is IMPORTANT for Prediction\n",
      "Longevity is IMPORTANT for Prediction\n",
      "TypeTravel is IMPORTANT for Prediction\n",
      "RoomType is IMPORTANT for Prediction\n",
      "\n",
      "--------------------------------------------------------\n",
      "SPLIT  4\n",
      "--------------------------------------------------------\n",
      "\n",
      "\n",
      "\n",
      "\n",
      "----------------- RFE ----------------------\n",
      "Best alpha using built-in LassoCV: 0.000185\n",
      "Best score using built-in LassoCV: 0.408759\n",
      "\n",
      "----------------- CHI-SQUARE ----------------------\n",
      "Gender is IMPORTANT for Prediction\n",
      "Longevity is IMPORTANT for Prediction\n",
      "TypeTravel is IMPORTANT for Prediction\n",
      "RoomType is IMPORTANT for Prediction\n",
      "\n",
      "--------------------------------------------------------\n",
      "SPLIT  5\n",
      "--------------------------------------------------------\n",
      "\n",
      "\n",
      "\n",
      "\n",
      "----------------- RFE ----------------------\n",
      "Best alpha using built-in LassoCV: 0.000182\n",
      "Best score using built-in LassoCV: 0.404105\n",
      "\n",
      "----------------- CHI-SQUARE ----------------------\n",
      "Gender is IMPORTANT for Prediction\n",
      "Longevity is IMPORTANT for Prediction\n",
      "TypeTravel is IMPORTANT for Prediction\n",
      "RoomType is IMPORTANT for Prediction\n",
      "                   Logistic Regression  Decision Tree  Random Forest     Lasso\n",
      "OnlineBooking                      5.0            3.0            5.0 -0.166928\n",
      "Staff                              0.0            0.0            1.0 -0.030122\n",
      "Amenities                          0.0            2.0            0.0 -0.014985\n",
      "Location                           5.0            1.0            0.0 -0.058917\n",
      "RoomSpace                          0.0            5.0            5.0 -0.031625\n",
      "CheckOut                           0.0            0.0            0.0 -0.000002\n",
      "Year_Birth                         5.0            0.0            0.0 -0.049840\n",
      "PriceQuality                       0.0            2.0            0.0  0.032967\n",
      "Wifi                               0.0            0.0            0.0  0.000499\n",
      "FoodDrink                          5.0            5.0            4.0 -0.068626\n",
      "RewardPoints                       5.0            2.0            5.0 -0.000582\n",
      "BarService                         0.0            0.0            0.0  0.016486\n",
      "Comfort                            0.0            0.0            0.0  0.029020\n",
      "ReceptionSchedule                  0.0            5.0            5.0 -0.009667\n",
      "Checkin                            0.0            0.0            0.0 -0.017872\n",
      "Cleanliness                        0.0            0.0            0.0 -0.037841\n"
     ]
    }
   ],
   "source": [
    "select_best_features(df_data, df_target, 5)"
   ]
  },
  {
   "cell_type": "code",
   "execution_count": 26,
   "id": "3171a36b",
   "metadata": {},
   "outputs": [],
   "source": [
    "def cor_heatmap(cor):\n",
    "    plt.figure(figsize=(12,10))\n",
    "    sns.heatmap(data = cor, annot = True,  fmt='.1')\n",
    "    plt.show()"
   ]
  },
  {
   "cell_type": "code",
   "execution_count": 27,
   "id": "b0d4c0ab",
   "metadata": {},
   "outputs": [
    {
     "data": {
      "image/png": "[encoded data removed]",
      "text/plain": [
       "<Figure size 864x720 with 2 Axes>"
      ]
     },
     "metadata": {
      "needs_background": "light"
     },
     "output_type": "display_data"
    }
   ],
   "source": [
    "cor_heatmap(df_data.corr(method = 'spearman'))"
   ]
  },
  {
   "cell_type": "markdown",
   "id": "f345cb4e",
   "metadata": {},
   "source": [
    "| Predictor | RFE Logistic | RFE Decision Tree | RFE Random Forest | Lasso | Correlation | Include in the model?\n",
    "| --- | --- | --- | --- |--- | --- | --- |\n",
    "| Year_Birth        | Discard | Keep | Discard | Keep? | Keep |  Keep?\n",
    "| RewardPoints      | Discard | Discard | Discard | Keep? | Keep |  Discard\n",
    "| Comfort           | Discard | Keep | Keep | Keep | Discard | Keep?\n",
    "| ReceptionSchedule | Discard | Discard | Discard | Keep? | Keep | Discard\n",
    "| FoodDrink         | Keep | Keep | Keep | Discard | Keep | Keep \n",
    "| Location          | Keep | Discard | Discard | Keep | Keep | Keep\n",
    "| Wifi              | Keep | Keep | Keep | Keep | Keep | Keep\n",
    "| Amenities         | Discard | Keep | Discard | Keep? | Keep | Keep\n",
    "| Staff             | Discard | Discard | Discard | Keep? | Discard | Discard\n",
    "| OnlineBooking     | Keep | Keep | Keep | Keep | Discard | Keep\n",
    "| PriceQuality      | Discard | Discard | Discard | Discard | Keep | Discard\n",
    "| RoomSpace         | Discard | Discard | Discard | Discard | Keep | Discard\n",
    "| CheckOut          | Keep | Discard | Discard | Keep? | Keep | Keep?\n",
    "| CheckIn           | Discard | Keep | Keep | Keep? | Keep | Keep\n",
    "| Cleanliness       | Keep | Discard | Discard | Keep? | Keep | Keep\n",
    "| BarService        | Discard | Discard | Discard | Keep? | Keep | Discard"
   ]
  },
  {
   "cell_type": "markdown",
   "id": "1d1de822",
   "metadata": {},
   "source": [
    "#### Numerical variables to keep\n",
    "- Year_birth\n",
    "- Comfort\n",
    "- FoodDrink\n",
    "- Location\n",
    "- Wifi\n",
    "- Amenities\n",
    "- PriceQuality\n",
    "- CheckOut\n",
    "- CheckIn\n",
    "- Cleanliness\n",
    "\n",
    "#### Categorical variables to keep\n",
    "From the Chi-Square, every single variable was marked as important"
   ]
  },
  {
   "cell_type": "code",
   "execution_count": 28,
   "id": "9470b200",
   "metadata": {},
   "outputs": [],
   "source": [
    "selected_cat = ['Longevity','TypeTravel','RoomType','Gender']\n",
    "selected_num = ['Year_Birth', 'Comfort', 'FoodDrink', 'Location',\n",
    "       'Wifi', 'Amenities', 'PriceQuality','CheckOut', 'Checkin', 'Cleanliness']"
   ]
  },
  {
   "cell_type": "code",
   "execution_count": 29,
   "id": "306db7ba",
   "metadata": {},
   "outputs": [],
   "source": [
    "features_to_drop = ['RewardPoints','ReceptionSchedule',\n",
    "       'Staff', 'OnlineBooking', 'RoomSpace', 'BarService']"
   ]
  },
  {
   "cell_type": "code",
   "execution_count": 30,
   "id": "8902bb12",
   "metadata": {},
   "outputs": [],
   "source": [
    "df_data.drop(columns = features_to_drop, inplace = True)"
   ]
  },
  {
   "cell_type": "markdown",
   "id": "4604c6bb",
   "metadata": {},
   "source": [
    "### Creating Dummies"
   ]
  },
  {
   "cell_type": "code",
   "execution_count": 31,
   "id": "c6e0a2e3",
   "metadata": {},
   "outputs": [],
   "source": [
    "#yes = 1, no = 0\n",
    "df_data['Longevity'] = [1 if i == 'yes' else 0 for i in df_data[\"Longevity\"]]\n",
    "\n",
    "#business = 1, leisure = 0\n",
    "df_data['TypeTravel'] = [1 if i == 'business' else 0 for i in df_data[\"TypeTravel\"]]\n",
    "\n",
    "#Male = 1, Female = 0\n",
    "df_data['Gender'] = [1 if i == 'Male' else 0 for i in df_data[\"Gender\"]]\n",
    "\n",
    "df_data = pd.get_dummies(df_data, drop_first = True)"
   ]
  },
  {
   "cell_type": "markdown",
   "id": "cb372e93",
   "metadata": {},
   "source": [
    "### Scaling Data"
   ]
  },
  {
   "cell_type": "code",
   "execution_count": 32,
   "id": "a32072eb",
   "metadata": {},
   "outputs": [],
   "source": [
    "scaler = MinMaxScaler()\n",
    "df_data = pd.DataFrame(scaler.fit_transform(df_data), index=df_data.index, columns = df_data.columns)"
   ]
  },
  {
   "cell_type": "markdown",
   "id": "042f175b",
   "metadata": {},
   "source": [
    "### Modelling"
   ]
  },
  {
   "cell_type": "code",
   "execution_count": 33,
   "id": "01c5b12b",
   "metadata": {},
   "outputs": [],
   "source": [
    "def compare_models(X, y, model):\n",
    "    # apply StratifiedK-Fold\n",
    "    skf = StratifiedKFold(n_splits = 5)\n",
    "    score_train = []\n",
    "    score_val = []\n",
    "    for train_index, val_index in skf.split(X, y):\n",
    "        X_train, X_val = X.iloc[train_index], X.iloc[val_index]\n",
    "        y_train, y_val = y.iloc[train_index], y.iloc[val_index]\n",
    "        \n",
    "        # This time we are going to use validation to check overfitting \n",
    "        # so we need also to make all the needed changes in the validation\n",
    "        \n",
    "        # fill missing values (mean in numerical data, mode in categorical data)\n",
    "        #median_age_train = X_train['age'].median() # age is no longer used\n",
    "        #X_train['age'].fillna(median_age_train, inplace = True)\n",
    "        #X_val['age'].fillna(median_age_train, inplace = True)\n",
    "        k_imputer = round(np.sqrt(len(X_train[selected_num])),0).astype('int32') # 125\n",
    "        imputer = KNNImputer(n_neighbors=k_imputer, weights=\"uniform\", metric='nan_euclidean')\n",
    "        imputer.fit(X_train[selected_num])\n",
    "        data_KNN_train = imputer.transform(X_train[selected_num])\n",
    "        data_KNN_train = pd.DataFrame(data_KNN_train)\n",
    "        data_KNN_train[0] = data_KNN_train[0].round(0)\n",
    "        X_train['Year_Birth'] = data_KNN_train[0].values\n",
    "        # Use Train Imputer for Validation Data\n",
    "        data_KNN_val = imputer.transform(X_val[selected_num])\n",
    "        data_KNN_val = pd.DataFrame(data_KNN_val)\n",
    "        data_KNN_val[0] = data_KNN_val[0].round(0)\n",
    "        X_val['Year_Birth'] = data_KNN_val[0].values\n",
    "        \n",
    "        \n",
    "        # Data Scaling\n",
    "        # Apply MinMaxScaler\n",
    "        #scaler = MinMaxScaler().fit(X_train[selected_num])\n",
    "        #X_train_scaled = scaler.transform(X_train[selected_num]) \n",
    "        #X_val_scaled = scaler.transform(X_val[selected_num]) # Scaling with 'scaler' from train data\n",
    "\n",
    "        # Apply model\n",
    "        model.fit(X_train, y_train)\n",
    "        predictions_train = model.predict(X_train)\n",
    "        predictions_val = model.predict(X_val)\n",
    "        score_train.append(f1_score(y_train, predictions_train))\n",
    "        score_val.append(f1_score(y_val, predictions_val))\n",
    "\n",
    "    avg_train = round(np.mean(score_train),3)\n",
    "    avg_val = round(np.mean(score_val),3)\n",
    "    std_train = round(np.std(score_train),2)\n",
    "    std_val = round(np.std(score_val),2)\n",
    "\n",
    "    return str(avg_train) + '+/-' + str(std_train),str(avg_val) + '+/-' + str(std_val)"
   ]
  },
  {
   "cell_type": "code",
   "execution_count": 34,
   "id": "0b06ca98",
   "metadata": {},
   "outputs": [],
   "source": [
    "def show_results(df, X, y, *args):\n",
    "    \"\"\"\n",
    "    Receive an empty dataframe and the different models and call the function avg_score\n",
    "    \"\"\"\n",
    "    count = 0\n",
    "    # for each model passed as argument\n",
    "    for arg in args:\n",
    "        # obtain the results provided by avg_score\n",
    "        avg_train, avg_test = compare_models(X, y, arg)\n",
    "        # store the results in the right row\n",
    "        df.iloc[count] = avg_train, avg_test\n",
    "        count+=1\n",
    "    \n",
    "    return df"
   ]
  },
  {
   "cell_type": "code",
   "execution_count": 288,
   "id": "13e6a004",
   "metadata": {},
   "outputs": [
    {
     "data": {
      "text/html": [
       "<div>\n",
       "<style scoped>\n",
       "    .dataframe tbody tr th:only-of-type {\n",
       "        vertical-align: middle;\n",
       "    }\n",
       "\n",
       "    .dataframe tbody tr th {\n",
       "        vertical-align: top;\n",
       "    }\n",
       "\n",
       "    .dataframe thead th {\n",
       "        text-align: right;\n",
       "    }\n",
       "</style>\n",
       "<table border=\"1\" class=\"dataframe\">\n",
       "  <thead>\n",
       "    <tr style=\"text-align: right;\">\n",
       "      <th></th>\n",
       "      <th>Train</th>\n",
       "      <th>Validation</th>\n",
       "    </tr>\n",
       "  </thead>\n",
       "  <tbody>\n",
       "    <tr>\n",
       "      <th>Logistic Regression</th>\n",
       "      <td>0.803+/-0.0</td>\n",
       "      <td>0.801+/-0.01</td>\n",
       "    </tr>\n",
       "    <tr>\n",
       "      <th>KNN</th>\n",
       "      <td>0.922+/-0.0</td>\n",
       "      <td>0.885+/-0.01</td>\n",
       "    </tr>\n",
       "    <tr>\n",
       "      <th>GradientBoost</th>\n",
       "      <td>0.91+/-0.0</td>\n",
       "      <td>0.906+/-0.0</td>\n",
       "    </tr>\n",
       "    <tr>\n",
       "      <th>HistGradientBoost</th>\n",
       "      <td>0.955+/-0.0</td>\n",
       "      <td>0.932+/-0.0</td>\n",
       "    </tr>\n",
       "    <tr>\n",
       "      <th>AdaBoost</th>\n",
       "      <td>0.872+/-0.0</td>\n",
       "      <td>0.872+/-0.0</td>\n",
       "    </tr>\n",
       "    <tr>\n",
       "      <th>SVC</th>\n",
       "      <td>0.912+/-0.0</td>\n",
       "      <td>0.903+/-0.01</td>\n",
       "    </tr>\n",
       "    <tr>\n",
       "      <th>Gaussian</th>\n",
       "      <td>0.805+/-0.0</td>\n",
       "      <td>0.804+/-0.01</td>\n",
       "    </tr>\n",
       "    <tr>\n",
       "      <th>ExtraTrees</th>\n",
       "      <td>0.998+/-0.0</td>\n",
       "      <td>0.925+/-0.0</td>\n",
       "    </tr>\n",
       "    <tr>\n",
       "      <th>RandomForest</th>\n",
       "      <td>0.998+/-0.0</td>\n",
       "      <td>0.925+/-0.0</td>\n",
       "    </tr>\n",
       "    <tr>\n",
       "      <th>DecisonTree</th>\n",
       "      <td>0.998+/-0.0</td>\n",
       "      <td>0.901+/-0.0</td>\n",
       "    </tr>\n",
       "    <tr>\n",
       "      <th>MLPClassifier</th>\n",
       "      <td>0.933+/-0.0</td>\n",
       "      <td>0.919+/-0.01</td>\n",
       "    </tr>\n",
       "  </tbody>\n",
       "</table>\n",
       "</div>"
      ],
      "text/plain": [
       "                           Train    Validation\n",
       "Logistic Regression  0.803+/-0.0  0.801+/-0.01\n",
       "KNN                  0.922+/-0.0  0.885+/-0.01\n",
       "GradientBoost         0.91+/-0.0   0.906+/-0.0\n",
       "HistGradientBoost    0.955+/-0.0   0.932+/-0.0\n",
       "AdaBoost             0.872+/-0.0   0.872+/-0.0\n",
       "SVC                  0.912+/-0.0  0.903+/-0.01\n",
       "Gaussian             0.805+/-0.0  0.804+/-0.01\n",
       "ExtraTrees           0.998+/-0.0   0.925+/-0.0\n",
       "RandomForest         0.998+/-0.0   0.925+/-0.0\n",
       "DecisonTree          0.998+/-0.0   0.901+/-0.0\n",
       "MLPClassifier        0.933+/-0.0  0.919+/-0.01"
      ]
     },
     "execution_count": 288,
     "metadata": {},
     "output_type": "execute_result"
    }
   ],
   "source": [
    "model_LR = LogisticRegression()\n",
    "model_KNN = KNeighborsClassifier()\n",
    "model_GB = GradientBoostingClassifier()\n",
    "model_HGB = HistGradientBoostingClassifier()\n",
    "model_AB = AdaBoostClassifier()\n",
    "model_SVC = SVC()\n",
    "model_G = GaussianNB()\n",
    "model_ET = ExtraTreesClassifier()\n",
    "model_RF = RandomForestClassifier()\n",
    "model_DT = DecisionTreeClassifier()\n",
    "model_MLP = MLPClassifier()\n",
    "\n",
    "df = pd.DataFrame(columns = ['Train','Validation'], index = \n",
    "                  ['Logistic Regression','KNN', 'GradientBoost',\n",
    "                   'HistGradientBoost', 'AdaBoost', \n",
    "                  'SVC', 'Gaussian', 'ExtraTrees',\n",
    "                  'RandomForest', 'DecisonTree',\n",
    "                  'MLPClassifier'])\n",
    "show_results(df, df_data, df_target, \n",
    "             model_LR, model_KNN, model_GB, \n",
    "             model_HGB, model_AB, model_SVC,\n",
    "             model_G, model_ET, model_RF,\n",
    "             model_DT, model_MLP)"
   ]
  },
  {
   "cell_type": "code",
   "execution_count": null,
   "id": "21260714",
   "metadata": {},
   "outputs": [],
   "source": [
    "\n",
    "\n",
    "Daniel - Extra Trees, Decision Trees, log reg\n",
    "Vasco = MLP, Random FOrest, Gaussian\n",
    "Diogo = KNN\n",
    "Ricardo N = Gradboost\n",
    "Ricardo -  histgradboo, adaboo, svc"
   ]
  },
  {
   "cell_type": "markdown",
   "id": "3d55d24d",
   "metadata": {},
   "source": [
    "### Modelling and Predictions"
   ]
  },
  {
   "cell_type": "code",
   "execution_count": 33,
   "id": "7a201e26",
   "metadata": {},
   "outputs": [],
   "source": [
    "#First we must transform the test dataset to be able to be used in modeling\n",
    "\n",
    "#drop variables\n",
    "df_test.drop(columns=features_to_drop, inplace = True)\n",
    "\n",
    "#feature enginering\n",
    "df_test[\"Characters\"] = df_test[\"Name\"].str[:3]\n",
    "df_test['Characters'].unique()\n",
    "\n",
    "df_test.drop(columns=[\"Characters\"], axis=1, inplace=True)\n",
    "df_test['Gender'] = ['Male' if i == 'Mr.' else 'Female' for i in df_test[\"Name\"].str[:3]]\n",
    "\n",
    "df_test.drop(columns=['Name'], inplace=True)\n",
    "\n",
    "#dummies\n",
    "#yes = 1, no = 0\n",
    "df_test['Longevity'] = [1 if i == 'yes' else 0 for i in df_test[\"Longevity\"]]\n",
    "\n",
    "#business = 1, leisure = 0\n",
    "df_test['TypeTravel'] = [1 if i == 'business' else 0 for i in df_test[\"TypeTravel\"]]\n",
    "\n",
    "#Male = 1, Female = 0\n",
    "df_test['Gender'] = [1 if i == 'Male' else 0 for i in df_test[\"Gender\"]]\n",
    "\n",
    "df_test = pd.get_dummies(df_test, drop_first = True)\n",
    "\n",
    "#scaling\n",
    "scaler = MinMaxScaler()\n",
    "df_test = pd.DataFrame(scaler.fit_transform(df_test), index=df_test.index, columns = df_test.columns)"
   ]
  },
  {
   "cell_type": "code",
   "execution_count": 34,
   "id": "4c0bcc34",
   "metadata": {},
   "outputs": [],
   "source": [
    "def score(y_val,y_pred):\n",
    "    '''Shows the micro f score, then a complete analysis,\n",
    "    with precision, recall, f1-score, and support, for both\n",
    "    training and validation sets, after that the accuracy, and\n",
    "    finally the base and weighted averages\n",
    "    \n",
    "    Requires: the target from the validation dataset \n",
    "    and the corresponding prediction\n",
    "    '''\n",
    "    print('Micro f1 score:', f1_score(y_val, y_pred, average='micro'))\n",
    "    #calculating the micro f1 score\n",
    "    print('\\nResults on the data set:')\n",
    "    print(classification_report(y_true = y_val, y_pred = y_pred))"
   ]
  },
  {
   "cell_type": "markdown",
   "id": "e5749a6a",
   "metadata": {},
   "source": [
    "Split into train and test"
   ]
  },
  {
   "cell_type": "code",
   "execution_count": 35,
   "id": "67945c63",
   "metadata": {},
   "outputs": [],
   "source": [
    "from sklearn.impute import KNNImputer\n",
    "imputer = KNNImputer(n_neighbors=2)\n",
    "imputer_matrix = imputer.fit_transform(df_data)\n",
    "\n",
    "data_cleaned = pd.DataFrame(data=imputer_matrix, columns = df_data.columns, index = df_data.index)\n",
    "df_data['Year_Birth'] = data_cleaned['Year_Birth']"
   ]
  },
  {
   "cell_type": "code",
   "execution_count": 36,
   "id": "60e172e7",
   "metadata": {},
   "outputs": [],
   "source": [
    "X_train, X_val, y_train, y_val = train_test_split(df_data, df_target, test_size=0.3, random_state=123)\n"
   ]
  },
  {
   "cell_type": "markdown",
   "id": "bbacd2b6",
   "metadata": {},
   "source": [
    "#### Gradient Boosting"
   ]
  },
  {
   "cell_type": "code",
   "execution_count": 39,
   "id": "9307cb9a",
   "metadata": {},
   "outputs": [
    {
     "name": "stdout",
     "output_type": "stream",
     "text": [
      "-------MODEL WITH THE SELECTED FEATURES-------\n",
      "Score on train: 0.90226 (+/- 0.01)\n",
      "Micro f1 score: 0.9163216387012421\n",
      "\n",
      "Results on the data set:\n",
      "              precision    recall  f1-score   support\n",
      "\n",
      "           0       0.92      0.92      0.92      2492\n",
      "           1       0.91      0.91      0.91      2097\n",
      "\n",
      "    accuracy                           0.92      4589\n",
      "   macro avg       0.92      0.92      0.92      4589\n",
      "weighted avg       0.92      0.92      0.92      4589\n",
      "\n"
     ]
    }
   ],
   "source": [
    "clf =  GradientBoostingClassifier()\n",
    "\n",
    "print('-------MODEL WITH THE SELECTED FEATURES-------')\n",
    "scores = model_selection.cross_val_score(clf, X_train, y_train, cv=3, scoring='f1')\n",
    "print(\"Score on train: %0.5f (+/- %0.2f)\" % (scores.mean(), scores.std()))\n",
    "clf.fit(X_train, y_train)\n",
    "y_pred = clf.predict(X_val)\n",
    "score(y_val,y_pred)"
   ]
  },
  {
   "cell_type": "code",
   "execution_count": null,
   "id": "016eeb58",
   "metadata": {},
   "outputs": [],
   "source": [
    " def search_gradclass(x_train, y_train, x_val, y_val):\n",
    "     '''Determines the optimal parameters for a gradient boosting classifier for\n",
    "     the input data, and prints the optimal gradient boosting classifier, a full\n",
    "     list of its parameters, and the cross-validation scores for both\n",
    "     training and validation data\n",
    "    \n",
    "     Requires: train and validation data, both features and target in both cases\n",
    "     '''\n",
    "     model=GradientBoostingClassifier(random_state=15)\n",
    "     # grid search - find best parameters\n",
    "     parameters = {'n_estimators':[10,50,100,200],\n",
    "     'criterion':['gini','entropy'],\n",
    "     'max_depth':[5,10],\n",
    "     'min_samples_split':[3,7],\n",
    "     'min_samples_leaf':[1,2],\n",
    "     'max_features':['auto','log2',None]}\n",
    "                  \n",
    "     clf = GridSearchCV(model, param_grid=parameters)\n",
    "     grid_search = clf.fit(x_train, y_train)\n",
    "     # mark result\n",
    "     print(\"Best score: %0.3f\" % grid_search.best_score_)\n",
    "     print(grid_search.best_estimator_)\n",
    "\n",
    "     # best prarams\n",
    "     print('best prarams:', clf.best_params_)\n",
    "\n",
    "     print('-----grid search end------------')\n",
    "     print('on all train set')\n",
    "     scores = cross_val_score(grid_search.best_estimator_, x_train, y_train, cv=3, scoring='f1')\n",
    "     print(scores.mean(), scores)\n",
    "     print('on test set')\n",
    "     scores = cross_val_score(grid_search.best_estimator_, x_val, y_val, cv=3, scoring='f1')\n",
    "     print(scores.mean(), scores)"
   ]
  },
  {
   "cell_type": "code",
   "execution_count": null,
   "id": "872b9606",
   "metadata": {},
   "outputs": [],
   "source": []
  },
  {
   "cell_type": "code",
   "execution_count": null,
   "id": "73421830",
   "metadata": {},
   "outputs": [],
   "source": []
  },
  {
   "cell_type": "code",
   "execution_count": null,
   "id": "e543a6e5",
   "metadata": {},
   "outputs": [],
   "source": []
  },
  {
   "cell_type": "code",
   "execution_count": null,
   "id": "8e4a3d91",
   "metadata": {},
   "outputs": [],
   "source": []
  },
  {
   "cell_type": "markdown",
   "id": "309e1b5f",
   "metadata": {},
   "source": [
    "#### Random Forest"
   ]
  },
  {
   "cell_type": "code",
   "execution_count": 59,
   "id": "86f87fe9",
   "metadata": {},
   "outputs": [
    {
     "name": "stdout",
     "output_type": "stream",
     "text": [
      "-------MODEL WITH THE SELECTED FEATURES-------\n",
      "Score on train: 0.92367 (+/- 0.01)\n",
      "Micro f1 score: 0.9383307910220091\n",
      "\n",
      "Results on the data set:\n",
      "              precision    recall  f1-score   support\n",
      "\n",
      "           0       0.94      0.94      0.94      2492\n",
      "           1       0.93      0.93      0.93      2097\n",
      "\n",
      "    accuracy                           0.94      4589\n",
      "   macro avg       0.94      0.94      0.94      4589\n",
      "weighted avg       0.94      0.94      0.94      4589\n",
      "\n"
     ]
    }
   ],
   "source": [
    "clf =  RandomForestClassifier(random_state=15)\n",
    "\n",
    "print('-------MODEL WITH THE SELECTED FEATURES-------')\n",
    "scores = model_selection.cross_val_score(clf, X_train, y_train, cv=3, scoring='f1')\n",
    "print(\"Score on train: %0.5f (+/- %0.2f)\" % (scores.mean(), scores.std()))\n",
    "clf.fit(X_train, y_train)\n",
    "y_pred = clf.predict(X_val)\n",
    "score(y_val,y_pred)"
   ]
  },
  {
   "cell_type": "code",
   "execution_count": 67,
   "id": "0a0e99bc",
   "metadata": {},
   "outputs": [],
   "source": [
    " def search_cv_rf(x_train, y_train, x_val, y_val):\n",
    "     '''Determines the optimal parameters for a random forest classifier for\n",
    "     the input data, and prints the optimal random forest classifier, a full\n",
    "     list of its parameters, and the cross-validation scores for both\n",
    "     training and validation data\n",
    "    \n",
    "     Requires: train and validation data, both features and target in both cases\n",
    "     '''\n",
    "     model=RandomForestClassifier(random_state=15)\n",
    "     # grid search - find best parameters\n",
    "     parameters = {'n_estimators':[10,50,100,200],\n",
    "     'criterion':['gini','entropy'],\n",
    "     'max_depth':[5,10],\n",
    "     'min_samples_split':[3,7],\n",
    "     'min_samples_leaf':[1,2],\n",
    "     'max_features':['auto','log2',None]}\n",
    "                  \n",
    "     clf = GridSearchCV(model, param_grid=parameters)\n",
    "     grid_search = clf.fit(x_train, y_train)\n",
    "     # mark result\n",
    "     print(\"Best score: %0.3f\" % grid_search.best_score_)\n",
    "     print(grid_search.best_estimator_)\n",
    "\n",
    "     # best prarams\n",
    "     print('best prarams:', clf.best_params_)\n",
    "\n",
    "     print('-----grid search end------------')\n",
    "     print('on all train set')\n",
    "     scores = cross_val_score(grid_search.best_estimator_, x_train, y_train, cv=3, scoring='f1')\n",
    "     print(scores.mean(), scores)\n",
    "     print('on test set')\n",
    "     scores = cross_val_score(grid_search.best_estimator_, x_val, y_val, cv=3, scoring='f1')\n",
    "     print(scores.mean(), scores)"
   ]
  },
  {
   "cell_type": "code",
   "execution_count": 68,
   "id": "67b755cc",
   "metadata": {},
   "outputs": [
    {
     "name": "stdout",
     "output_type": "stream",
     "text": [
      "Best score: 0.921\n",
      "RandomForestClassifier(max_depth=10, max_features=None, min_samples_split=3,\n",
      "                       n_estimators=200, random_state=15)\n",
      "best prarams: {'criterion': 'gini', 'max_depth': 10, 'max_features': None, 'min_samples_leaf': 1, 'min_samples_split': 3, 'n_estimators': 200}\n",
      "-----grid search end------------\n",
      "on all train set\n",
      "0.9130192552864344 [0.91219512 0.91799266 0.90886999]\n",
      "on test set\n",
      "0.9036707638341782 [0.89660266 0.90662865 0.90778098]\n"
     ]
    }
   ],
   "source": [
    "search_cv_rf(X_train, y_train, X_val, y_val)"
   ]
  },
  {
   "cell_type": "code",
   "execution_count": 70,
   "id": "a684493d",
   "metadata": {},
   "outputs": [
    {
     "name": "stdout",
     "output_type": "stream",
     "text": [
      "-------MODEL WITH THE SELECTED FEATURES-------\n",
      "Score on train: 0.91372 (+/- 0.00)\n",
      "Micro f1 score: 0.9315755066463282\n",
      "\n",
      "Results on the data set:\n",
      "              precision    recall  f1-score   support\n",
      "\n",
      "           0       0.94      0.93      0.94      2492\n",
      "           1       0.92      0.93      0.93      2097\n",
      "\n",
      "    accuracy                           0.93      4589\n",
      "   macro avg       0.93      0.93      0.93      4589\n",
      "weighted avg       0.93      0.93      0.93      4589\n",
      "\n"
     ]
    }
   ],
   "source": [
    "clf =  RandomForestClassifier(criterion= 'gini', max_depth= 10, max_features= None, min_samples_leaf= 1, min_samples_split= 3, n_estimators= 200)\n",
    "\n",
    "print('-------MODEL WITH THE SELECTED FEATURES-------')\n",
    "scores = model_selection.cross_val_score(clf, X_train, y_train, cv=3, scoring='f1')\n",
    "print(\"Score on train: %0.5f (+/- %0.2f)\" % (scores.mean(), scores.std()))\n",
    "clf.fit(X_train, y_train)\n",
    "y_pred = clf.predict(X_val)\n",
    "score(y_val,y_pred)"
   ]
  },
  {
   "cell_type": "code",
   "execution_count": 72,
   "id": "d49b3303",
   "metadata": {},
   "outputs": [],
   "source": [
    "y_pred = clf.predict(df_test)"
   ]
  },
  {
   "cell_type": "code",
   "execution_count": 73,
   "id": "7dad9ef0",
   "metadata": {},
   "outputs": [],
   "source": [
    "df_test['Churn']=y_pred.copy()\n",
    "df_test[['Churn']].to_csv('sub.csv')"
   ]
  },
  {
   "cell_type": "markdown",
   "id": "c5cf1da6",
   "metadata": {},
   "source": [
    "#### MLP"
   ]
  },
  {
   "cell_type": "code",
   "execution_count": 74,
   "id": "915ce3dd",
   "metadata": {},
   "outputs": [
    {
     "name": "stdout",
     "output_type": "stream",
     "text": [
      "-------MODEL WITH THE SELECTED FEATURES-------\n",
      "Score on train: 0.90817 (+/- 0.01)\n",
      "Micro f1 score: 0.9278709958596644\n",
      "\n",
      "Results on the data set:\n",
      "              precision    recall  f1-score   support\n",
      "\n",
      "           0       0.93      0.94      0.93      2492\n",
      "           1       0.92      0.92      0.92      2097\n",
      "\n",
      "    accuracy                           0.93      4589\n",
      "   macro avg       0.93      0.93      0.93      4589\n",
      "weighted avg       0.93      0.93      0.93      4589\n",
      "\n"
     ]
    }
   ],
   "source": [
    "clf =  MLPClassifier(random_state=15)\n",
    "\n",
    "print('-------MODEL WITH THE SELECTED FEATURES-------')\n",
    "scores = model_selection.cross_val_score(clf, X_train, y_train, cv=3, scoring='f1')\n",
    "print(\"Score on train: %0.5f (+/- %0.2f)\" % (scores.mean(), scores.std()))\n",
    "clf.fit(X_train, y_train)\n",
    "y_pred = clf.predict(X_val)\n",
    "score(y_val,y_pred)"
   ]
  },
  {
   "cell_type": "code",
   "execution_count": null,
   "id": "dc5592ab",
   "metadata": {},
   "outputs": [],
   "source": [
    "parameter_space = {\n",
    "    'hidden_layer_sizes': [(50,50,50), (50,100,50), (100,)],\n",
    "    'activation': ['tanh', 'relu'],\n",
    "    'solver': ['sgd', 'adam'],\n",
    "    'alpha': [0.0001, 0.05],\n",
    "    'learning_rate': ['constant','adaptive'],\n",
    "}"
   ]
  },
  {
   "cell_type": "code",
   "execution_count": 76,
   "id": "21066f91",
   "metadata": {},
   "outputs": [],
   "source": [
    " def search_mlp(x_train, y_train, x_val, y_val):\n",
    "     '''Determines the optimal parameters for a mlp  classifier for\n",
    "     the input data, and prints the optimal mlp classifier, a full\n",
    "     list of its parameters, and the cross-validation scores for both\n",
    "     training and validation data\n",
    "    \n",
    "     Requires: train and validation data, both features and target in both cases\n",
    "     '''\n",
    "     model=MLPClassifier(random_state=15)\n",
    "     # grid search - find best parameters\n",
    "     parameters = {'hidden_layer_sizes': [(50,50,50), (50,100,50), (100,)],\n",
    "    'activation': ['tanh', 'relu'],\n",
    "    'solver': ['sgd', 'adam'],\n",
    "    'alpha': [0.0001, 0.05],\n",
    "    'learning_rate': ['constant','adaptive'],}\n",
    "                  \n",
    "     clf = GridSearchCV(model, param_grid=parameters)\n",
    "     grid_search = clf.fit(x_train, y_train)\n",
    "     # mark result\n",
    "     print(\"Best score: %0.3f\" % grid_search.best_score_)\n",
    "     print(grid_search.best_estimator_)\n",
    "\n",
    "     # best prarams\n",
    "     print('best prarams:', clf.best_params_)\n",
    "\n",
    "     print('-----grid search end------------')\n",
    "     print('on all train set')\n",
    "     scores = cross_val_score(grid_search.best_estimator_, x_train, y_train, cv=3, scoring='f1')\n",
    "     print(scores.mean(), scores)\n",
    "     print('on test set')\n",
    "     scores = cross_val_score(grid_search.best_estimator_, x_val, y_val, cv=3, scoring='f1')\n",
    "     print(scores.mean(), scores)"
   ]
  },
  {
   "cell_type": "code",
   "execution_count": 77,
   "id": "963138b3",
   "metadata": {},
   "outputs": [
    {
     "name": "stdout",
     "output_type": "stream",
     "text": [
      "Best score: 0.935\n",
      "MLPClassifier(activation='tanh', alpha=0.05, hidden_layer_sizes=(50, 100, 50),\n",
      "              random_state=15)\n",
      "best prarams: {'activation': 'tanh', 'alpha': 0.05, 'hidden_layer_sizes': (50, 100, 50), 'learning_rate': 'constant', 'solver': 'adam'}\n",
      "-----grid search end------------\n",
      "on all train set\n",
      "0.9242282600433298 [0.92246399 0.93123651 0.91898428]\n",
      "on test set\n",
      "0.9047132405259513 [0.8892261  0.90664781 0.91826581]\n"
     ]
    }
   ],
   "source": [
    "search_mlp(X_train, y_train, X_val, y_val)"
   ]
  },
  {
   "cell_type": "code",
   "execution_count": 78,
   "id": "73a525ee",
   "metadata": {},
   "outputs": [
    {
     "name": "stdout",
     "output_type": "stream",
     "text": [
      "-------MODEL WITH THE SELECTED FEATURES-------\n",
      "Score on train: 0.92479 (+/- 0.01)\n",
      "Micro f1 score: 0.9383307910220091\n",
      "\n",
      "Results on the data set:\n",
      "              precision    recall  f1-score   support\n",
      "\n",
      "           0       0.94      0.95      0.94      2492\n",
      "           1       0.94      0.93      0.93      2097\n",
      "\n",
      "    accuracy                           0.94      4589\n",
      "   macro avg       0.94      0.94      0.94      4589\n",
      "weighted avg       0.94      0.94      0.94      4589\n",
      "\n"
     ]
    }
   ],
   "source": [
    "clf =  MLPClassifier(activation= 'tanh', alpha= 0.05, hidden_layer_sizes= (50, 100, 50), learning_rate= 'constant', solver= 'adam')\n",
    "\n",
    "print('-------MODEL WITH THE SELECTED FEATURES-------')\n",
    "scores = model_selection.cross_val_score(clf, X_train, y_train, cv=3, scoring='f1')\n",
    "print(\"Score on train: %0.5f (+/- %0.2f)\" % (scores.mean(), scores.std()))\n",
    "clf.fit(X_train, y_train)\n",
    "y_pred = clf.predict(X_val)\n",
    "score(y_val,y_pred)"
   ]
  },
  {
   "cell_type": "code",
   "execution_count": 80,
   "id": "196cbb89",
   "metadata": {},
   "outputs": [],
   "source": [
    "del df_test['Churn']\n",
    "y_pred = clf.predict(df_test)\n",
    "\n",
    "df_test['Churn']=y_pred.copy()\n",
    "df_test[['Churn']].to_csv('sub.csv')"
   ]
  },
  {
   "cell_type": "code",
   "execution_count": null,
   "id": "409d10cd",
   "metadata": {},
   "outputs": [],
   "source": []
  },
  {
   "cell_type": "code",
   "execution_count": null,
   "id": "75ef33c8",
   "metadata": {},
   "outputs": [],
   "source": []
  },
  {
   "cell_type": "raw",
   "id": "a6498c45",
   "metadata": {},
   "source": [
    "#### XGBoost"
   ]
  },
  {
   "cell_type": "raw",
   "id": "c8866c42",
   "metadata": {},
   "source": [
    "import xgboost as xgb\n",
    "from sklearn.metrics import mean_squared_error"
   ]
  },
  {
   "cell_type": "raw",
   "id": "8554ea3f",
   "metadata": {},
   "source": [
    "data_dmatrix = xgb.DMatrix(data=df_data,label=df_target)"
   ]
  },
  {
   "cell_type": "raw",
   "id": "13f4107d",
   "metadata": {},
   "source": [
    "xg_reg = xgb.XGBRegressor(objective ='reg:linear', colsample_bytree = 0.3, learning_rate = 0.1,\n",
    "                max_depth = 5, alpha = 10, n_estimators = 10)"
   ]
  },
  {
   "cell_type": "raw",
   "id": "5c176d00",
   "metadata": {},
   "source": [
    "xg_reg.fit(X_train,y_train)\n",
    "\n",
    "preds = xg_reg.predict(df_test)"
   ]
  },
  {
   "cell_type": "raw",
   "id": "d6e2a11f",
   "metadata": {},
   "source": [
    "params = {\"objective\":\"reg:linear\",'colsample_bytree': 0.3,'learning_rate': 0.1,\n",
    "                'max_depth': 5, 'alpha': 10}\n",
    "\n",
    "cv_results = xgb.cv(dtrain=data_dmatrix, params=params, nfold=3,\n",
    "                    num_boost_round=50,early_stopping_rounds=10,metrics=\"rmse\", as_pandas=True, seed=123)"
   ]
  },
  {
   "cell_type": "raw",
   "id": "ce91feaf",
   "metadata": {},
   "source": [
    "cv_results.head()"
   ]
  },
  {
   "cell_type": "raw",
   "id": "fa29387f",
   "metadata": {},
   "source": [
    "xg_reg = xgb.train(params=params, dtrain=data_dmatrix, num_boost_round=10)\n"
   ]
  },
  {
   "cell_type": "raw",
   "id": "e8b8d846",
   "metadata": {},
   "source": [
    "xgb.plot_importance(xg_reg)\n",
    "plt.rcParams['figure.figsize'] = [5, 5]\n",
    "plt.show()"
   ]
  },
  {
   "cell_type": "raw",
   "id": "bc88bf0e",
   "metadata": {},
   "source": [
    "from xgboost import XGBClassifier"
   ]
  },
  {
   "cell_type": "raw",
   "id": "a5076470",
   "metadata": {},
   "source": [
    "X_train, X_val, y_train, y_val = train_test_split(df_data, df_target, test_size=0.3, random_state=10)"
   ]
  },
  {
   "cell_type": "raw",
   "id": "5c4df34d",
   "metadata": {},
   "source": [
    "\n",
    "# fit model no training data\n",
    "model = XGBClassifier()\n",
    "model.fit(X_train, y_train)"
   ]
  },
  {
   "cell_type": "raw",
   "id": "693b1f7e",
   "metadata": {},
   "source": [
    "# make predictions for test data\n",
    "y_pred = model.predict(df_test)"
   ]
  },
  {
   "cell_type": "raw",
   "id": "620756f3",
   "metadata": {},
   "source": [
    "y_pred"
   ]
  },
  {
   "cell_type": "raw",
   "id": "0e77b50b",
   "metadata": {},
   "source": [
    "df_test['Churn']=y_pred.copy()\n"
   ]
  },
  {
   "cell_type": "raw",
   "id": "51311e67",
   "metadata": {},
   "source": [
    "df_test[['Churn']].to_csv('sub.csv')"
   ]
  },
  {
   "cell_type": "code",
   "execution_count": null,
   "id": "2bd94922",
   "metadata": {},
   "outputs": [],
   "source": []
  },
  {
   "cell_type": "markdown",
   "id": "8167f6eb",
   "metadata": {},
   "source": [
    "### Submission"
   ]
  },
  {
   "cell_type": "code",
   "execution_count": null,
   "id": "6bd2b71e",
   "metadata": {},
   "outputs": [],
   "source": [
    "df_test=df_test[df_data.columns]\n",
    "#the testing dataframe is cropped: only the columns used in\n",
    "#training are left\n",
    "y_final =  clf.predict(df_test)\n",
    "#predicts the target for the test data\n",
    "df_test['Churn']=y_final.copy()\n",
    "df_test[['Churn']].to_csv('sub.csv')\n",
    "#writes the results of the prediction in a csv file"
   ]
  }
 ],
 "metadata": {
  "kernelspec": {
   "display_name": "Python 3 (ipykernel)",
   "language": "python",
   "name": "python3"
  },
  "language_info": {
   "codemirror_mode": {
    "name": "ipython",
    "version": 3
   },
   "file_extension": ".py",
   "mimetype": "text/x-python",
   "name": "python",
   "nbconvert_exporter": "python",
   "pygments_lexer": "ipython3",
   "version": "3.8.8"
  }
 },
 "nbformat": 4,
 "nbformat_minor": 5
}
