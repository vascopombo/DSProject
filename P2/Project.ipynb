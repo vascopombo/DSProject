{
 "cells": [
  {
   "cell_type": "markdown",
   "id": "e4c231bf",
   "metadata": {},
   "source": [
    "### Data Science"
   ]
  },
  {
   "cell_type": "markdown",
   "id": "caef116f",
   "metadata": {},
   "source": [
    "Group 17\n",
    "\n",
    "Daniel Lucas  \n",
    "Ricardo Nobre  \n",
    "Ricardo Carvalho  \n",
    "Diogo Torneiro  \n",
    "Vasco Pombo  "
   ]
  },
  {
   "cell_type": "markdown",
   "id": "28b9c2fd",
   "metadata": {},
   "source": [
    "### Imports"
   ]
  },
  {
   "cell_type": "code",
   "execution_count": 340,
   "id": "7a701256",
   "metadata": {},
   "outputs": [],
   "source": [
    "#basic libraries: numpy and pandasfor data handling, pyplot \n",
    "#and seaborn for visualization, math for mathematical operations\n",
    "import numpy as np\n",
    "import pandas as pd\n",
    "import matplotlib.pyplot as plt\n",
    "import seaborn as sns\n",
    "import math\n",
    "from datetime import date\n",
    "from scipy.stats import chi2_contingency\n",
    "from sklearn.preprocessing import MinMaxScaler\n",
    "\n",
    "\n",
    "#dataset partition\n",
    "from sklearn.model_selection import train_test_split\n",
    "\n",
    "#feature selection methods\n",
    "from sklearn.linear_model import LassoCV\n",
    "from sklearn.feature_selection import RFE\n",
    "from mlxtend.feature_selection import SequentialFeatureSelector as SFS\n",
    "\n",
    "#scaling methods and categorical variable encoder\n",
    "from sklearn.preprocessing import RobustScaler, OneHotEncoder\n",
    "\n",
    "#model selection \n",
    "from sklearn import model_selection\n",
    "from sklearn.model_selection import KFold, cross_val_score, GridSearchCV\n",
    "\n",
    "#linear models\n",
    "from sklearn.linear_model import LogisticRegression, SGDClassifier\n",
    "\n",
    "#gaussian naive bayes\n",
    "from sklearn.naive_bayes import GaussianNB\n",
    "\n",
    "#decision tree classifier\n",
    "from sklearn.tree import DecisionTreeClassifier\n",
    "\n",
    "#k-neighbors classifier\n",
    "from sklearn.neighbors import KNeighborsClassifier\n",
    "\n",
    "#principal component analysis\n",
    "from sklearn.decomposition import PCA\n",
    "\n",
    "import warnings\n",
    "warnings.filterwarnings('ignore')\n",
    "\n",
    "#neural network\n",
    "from sklearn.neural_network import MLPClassifier\n",
    "\n",
    "#ensemble classifier models\n",
    "from sklearn.experimental import enable_hist_gradient_boosting\n",
    "from sklearn.ensemble import GradientBoostingClassifier, RandomForestClassifier, BaggingClassifier, \\\n",
    "VotingClassifier, AdaBoostClassifier, StackingClassifier, HistGradientBoostingClassifier, \\\n",
    "ExtraTreesClassifier\n",
    "\n",
    "#support vector machines\n",
    "from sklearn.svm import SVC\n",
    "\n",
    "#model evaluation\n",
    "from sklearn.metrics import accuracy_score, precision_score, recall_score, \\\n",
    "make_scorer, classification_report, confusion_matrix, f1_score\n",
    "\n",
    "from itertools import combinations\n",
    "from collections import Counter"
   ]
  },
  {
   "cell_type": "markdown",
   "id": "d19ba690",
   "metadata": {},
   "source": [
    "# Importing Data"
   ]
  },
  {
   "cell_type": "code",
   "execution_count": 263,
   "id": "eb25987d",
   "metadata": {},
   "outputs": [],
   "source": [
    "train_data_original = pd.read_csv('train.csv')\n",
    "test_data_original = pd.read_csv('test.csv')"
   ]
  },
  {
   "cell_type": "code",
   "execution_count": 264,
   "id": "ce08ae13",
   "metadata": {},
   "outputs": [],
   "source": [
    "df = train_data_original.copy()"
   ]
  },
  {
   "cell_type": "markdown",
   "id": "3c9874d1",
   "metadata": {},
   "source": [
    "# 1) Initial Data Exploration"
   ]
  },
  {
   "cell_type": "markdown",
   "id": "d3be1b2d",
   "metadata": {},
   "source": [
    "| Variable      | Description |\n",
    "| ----------- | ----------- |\n",
    "| Name      | Customer’s name       |\n",
    "| Year Birth    | Customer’s birth year        |\n",
    "| Longevity   | Whether the customer registered more than 1 year ago or not        |\n",
    "| Churn   | Whether the customer churned or not (churn or nochurn)        |\n",
    "| TypeTravel   | Customer’s reason for travelling (business or leisure)        |\n",
    "| RoomType   | Type of room reserved        |\n",
    "| RewardPoints   | Customer’s rewarding point for loyalty        |\n",
    "| Comfort   | Satisfaction level of customer regarding comfort of the room (0 to 5)        |\n",
    "| ReceptionSchedule   | Satisfaction level of customer regarding reception schedule (0 to 5)        |\n",
    "| ReceptionSchedule   | Satisfaction level of customer regarding food and drink available (0 to 5)        |\n",
    "| Location   |   Satisfaction level of customer regarding accommodation location (0 to 5)      |\n",
    "| Wifi   |    Satisfaction level of customer regarding wi-fi service (0 to 5)     |\n",
    "| Amenities   | Satisfaction level of customer regarding accommodation amenities(0 to 5)        |\n",
    "| Staff   | Satisfaction level of customer regarding staff (0 to 5)        |\n",
    "| OnlineBooking   | Satisfaction level of customer regarding online booking ease(0 to 5)        |\n",
    "| PriceQuality   | Satisfaction level of customer regarding price quality relationship (0 to 5)        |\n",
    "| RoomSpace   | Satisfaction level of customer regarding room space (0 to 5)        |\n",
    "| CheckOut   | Satisfaction level of customer regarding check-out (0 to 5)        |\n",
    "| CheckIn   | Satisfaction level of customer regarding check-in (0 to 5)        |\n",
    "| Cleanliness   | Satisfaction level of customer regarding cleanliness (0 to 5)        |\n",
    "| BarService   | Satisfaction level of customer regarding bar service (0 to 5)        |"
   ]
  },
  {
   "cell_type": "code",
   "execution_count": 265,
   "id": "77a34986",
   "metadata": {},
   "outputs": [
    {
     "name": "stdout",
     "output_type": "stream",
     "text": [
      "Dataframe has 15589 rows and 22 columns\n"
     ]
    }
   ],
   "source": [
    "df_original_row_size = df.shape[0]\n",
    "df_original_columns_size = df.shape[1]\n",
    "\n",
    "print(\"Dataframe has\", df_original_row_size, \"rows and\", df_original_columns_size, \"columns\")"
   ]
  },
  {
   "cell_type": "code",
   "execution_count": 266,
   "id": "53c0f47b",
   "metadata": {},
   "outputs": [
    {
     "name": "stdout",
     "output_type": "stream",
     "text": [
      "<class 'pandas.core.frame.DataFrame'>\n",
      "RangeIndex: 15589 entries, 0 to 15588\n",
      "Data columns (total 22 columns):\n",
      " #   Column             Non-Null Count  Dtype  \n",
      "---  ------             --------------  -----  \n",
      " 0   Cust_ID            15589 non-null  int64  \n",
      " 1   Churn              15589 non-null  object \n",
      " 2   Name               15589 non-null  object \n",
      " 3   Longevity          15589 non-null  object \n",
      " 4   Year_Birth         15394 non-null  float64\n",
      " 5   TypeTravel         15589 non-null  object \n",
      " 6   RoomType           15589 non-null  object \n",
      " 7   RewardPoints       15589 non-null  int64  \n",
      " 8   Comfort            15589 non-null  int64  \n",
      " 9   ReceptionSchedule  15589 non-null  int64  \n",
      " 10  FoodDrink          15589 non-null  int64  \n",
      " 11  Location           15589 non-null  int64  \n",
      " 12  Wifi               15589 non-null  int64  \n",
      " 13  Amenities          15589 non-null  int64  \n",
      " 14  Staff              15589 non-null  int64  \n",
      " 15  OnlineBooking      15589 non-null  int64  \n",
      " 16  PriceQuality       15589 non-null  int64  \n",
      " 17  RoomSpace          15589 non-null  int64  \n",
      " 18  CheckOut           15589 non-null  int64  \n",
      " 19  Checkin            15589 non-null  int64  \n",
      " 20  Cleanliness        15589 non-null  int64  \n",
      " 21  BarService         15589 non-null  int64  \n",
      "dtypes: float64(1), int64(16), object(5)\n",
      "memory usage: 2.6+ MB\n"
     ]
    }
   ],
   "source": [
    "df.info()"
   ]
  },
  {
   "cell_type": "code",
   "execution_count": 267,
   "id": "968714f2",
   "metadata": {},
   "outputs": [
    {
     "data": {
      "text/html": [
       "<div>\n",
       "<style scoped>\n",
       "    .dataframe tbody tr th:only-of-type {\n",
       "        vertical-align: middle;\n",
       "    }\n",
       "\n",
       "    .dataframe tbody tr th {\n",
       "        vertical-align: top;\n",
       "    }\n",
       "\n",
       "    .dataframe thead th {\n",
       "        text-align: right;\n",
       "    }\n",
       "</style>\n",
       "<table border=\"1\" class=\"dataframe\">\n",
       "  <thead>\n",
       "    <tr style=\"text-align: right;\">\n",
       "      <th></th>\n",
       "      <th>count</th>\n",
       "      <th>mean</th>\n",
       "      <th>std</th>\n",
       "      <th>min</th>\n",
       "      <th>25%</th>\n",
       "      <th>50%</th>\n",
       "      <th>75%</th>\n",
       "      <th>max</th>\n",
       "    </tr>\n",
       "  </thead>\n",
       "  <tbody>\n",
       "    <tr>\n",
       "      <th>Cust_ID</th>\n",
       "      <td>15589.0</td>\n",
       "      <td>7795.000000</td>\n",
       "      <td>4500.301008</td>\n",
       "      <td>1.0</td>\n",
       "      <td>3898.0</td>\n",
       "      <td>7795.0</td>\n",
       "      <td>11692.0</td>\n",
       "      <td>15589.0</td>\n",
       "    </tr>\n",
       "    <tr>\n",
       "      <th>Year_Birth</th>\n",
       "      <td>15394.0</td>\n",
       "      <td>1981.706444</td>\n",
       "      <td>15.179042</td>\n",
       "      <td>1936.0</td>\n",
       "      <td>1970.0</td>\n",
       "      <td>1981.0</td>\n",
       "      <td>1994.0</td>\n",
       "      <td>2014.0</td>\n",
       "    </tr>\n",
       "    <tr>\n",
       "      <th>RewardPoints</th>\n",
       "      <td>15589.0</td>\n",
       "      <td>5022.593816</td>\n",
       "      <td>1027.962379</td>\n",
       "      <td>409.0</td>\n",
       "      <td>4445.0</td>\n",
       "      <td>5088.0</td>\n",
       "      <td>5649.0</td>\n",
       "      <td>6950.0</td>\n",
       "    </tr>\n",
       "    <tr>\n",
       "      <th>Comfort</th>\n",
       "      <td>15589.0</td>\n",
       "      <td>2.841619</td>\n",
       "      <td>1.388624</td>\n",
       "      <td>0.0</td>\n",
       "      <td>2.0</td>\n",
       "      <td>3.0</td>\n",
       "      <td>4.0</td>\n",
       "      <td>5.0</td>\n",
       "    </tr>\n",
       "    <tr>\n",
       "      <th>ReceptionSchedule</th>\n",
       "      <td>15589.0</td>\n",
       "      <td>2.997242</td>\n",
       "      <td>1.518994</td>\n",
       "      <td>0.0</td>\n",
       "      <td>2.0</td>\n",
       "      <td>3.0</td>\n",
       "      <td>4.0</td>\n",
       "      <td>5.0</td>\n",
       "    </tr>\n",
       "    <tr>\n",
       "      <th>FoodDrink</th>\n",
       "      <td>15589.0</td>\n",
       "      <td>2.844570</td>\n",
       "      <td>1.436948</td>\n",
       "      <td>0.0</td>\n",
       "      <td>2.0</td>\n",
       "      <td>3.0</td>\n",
       "      <td>4.0</td>\n",
       "      <td>5.0</td>\n",
       "    </tr>\n",
       "    <tr>\n",
       "      <th>Location</th>\n",
       "      <td>15589.0</td>\n",
       "      <td>2.986016</td>\n",
       "      <td>1.299438</td>\n",
       "      <td>1.0</td>\n",
       "      <td>2.0</td>\n",
       "      <td>3.0</td>\n",
       "      <td>4.0</td>\n",
       "      <td>5.0</td>\n",
       "    </tr>\n",
       "    <tr>\n",
       "      <th>Wifi</th>\n",
       "      <td>15589.0</td>\n",
       "      <td>3.245109</td>\n",
       "      <td>1.327026</td>\n",
       "      <td>0.0</td>\n",
       "      <td>2.0</td>\n",
       "      <td>3.0</td>\n",
       "      <td>4.0</td>\n",
       "      <td>6.0</td>\n",
       "    </tr>\n",
       "    <tr>\n",
       "      <th>Amenities</th>\n",
       "      <td>15589.0</td>\n",
       "      <td>3.374816</td>\n",
       "      <td>1.352417</td>\n",
       "      <td>0.0</td>\n",
       "      <td>2.0</td>\n",
       "      <td>4.0</td>\n",
       "      <td>4.0</td>\n",
       "      <td>5.0</td>\n",
       "    </tr>\n",
       "    <tr>\n",
       "      <th>Staff</th>\n",
       "      <td>15589.0</td>\n",
       "      <td>3.506383</td>\n",
       "      <td>1.319565</td>\n",
       "      <td>1.0</td>\n",
       "      <td>3.0</td>\n",
       "      <td>4.0</td>\n",
       "      <td>5.0</td>\n",
       "      <td>5.0</td>\n",
       "    </tr>\n",
       "    <tr>\n",
       "      <th>OnlineBooking</th>\n",
       "      <td>15589.0</td>\n",
       "      <td>3.454231</td>\n",
       "      <td>1.310343</td>\n",
       "      <td>0.0</td>\n",
       "      <td>2.0</td>\n",
       "      <td>4.0</td>\n",
       "      <td>5.0</td>\n",
       "      <td>5.0</td>\n",
       "    </tr>\n",
       "    <tr>\n",
       "      <th>PriceQuality</th>\n",
       "      <td>15589.0</td>\n",
       "      <td>3.459683</td>\n",
       "      <td>1.268130</td>\n",
       "      <td>1.0</td>\n",
       "      <td>3.0</td>\n",
       "      <td>4.0</td>\n",
       "      <td>4.0</td>\n",
       "      <td>5.0</td>\n",
       "    </tr>\n",
       "    <tr>\n",
       "      <th>RoomSpace</th>\n",
       "      <td>15589.0</td>\n",
       "      <td>3.470845</td>\n",
       "      <td>1.293873</td>\n",
       "      <td>0.0</td>\n",
       "      <td>2.0</td>\n",
       "      <td>4.0</td>\n",
       "      <td>5.0</td>\n",
       "      <td>5.0</td>\n",
       "    </tr>\n",
       "    <tr>\n",
       "      <th>CheckOut</th>\n",
       "      <td>15589.0</td>\n",
       "      <td>3.700558</td>\n",
       "      <td>1.158644</td>\n",
       "      <td>1.0</td>\n",
       "      <td>3.0</td>\n",
       "      <td>4.0</td>\n",
       "      <td>5.0</td>\n",
       "      <td>5.0</td>\n",
       "    </tr>\n",
       "    <tr>\n",
       "      <th>Checkin</th>\n",
       "      <td>15589.0</td>\n",
       "      <td>3.327282</td>\n",
       "      <td>1.266872</td>\n",
       "      <td>1.0</td>\n",
       "      <td>3.0</td>\n",
       "      <td>3.0</td>\n",
       "      <td>4.0</td>\n",
       "      <td>5.0</td>\n",
       "    </tr>\n",
       "    <tr>\n",
       "      <th>Cleanliness</th>\n",
       "      <td>15589.0</td>\n",
       "      <td>3.692347</td>\n",
       "      <td>1.154437</td>\n",
       "      <td>1.0</td>\n",
       "      <td>3.0</td>\n",
       "      <td>4.0</td>\n",
       "      <td>5.0</td>\n",
       "      <td>5.0</td>\n",
       "    </tr>\n",
       "    <tr>\n",
       "      <th>BarService</th>\n",
       "      <td>15589.0</td>\n",
       "      <td>3.347360</td>\n",
       "      <td>1.300452</td>\n",
       "      <td>0.0</td>\n",
       "      <td>2.0</td>\n",
       "      <td>3.0</td>\n",
       "      <td>4.0</td>\n",
       "      <td>5.0</td>\n",
       "    </tr>\n",
       "  </tbody>\n",
       "</table>\n",
       "</div>"
      ],
      "text/plain": [
       "                     count         mean          std     min     25%     50%  \\\n",
       "Cust_ID            15589.0  7795.000000  4500.301008     1.0  3898.0  7795.0   \n",
       "Year_Birth         15394.0  1981.706444    15.179042  1936.0  1970.0  1981.0   \n",
       "RewardPoints       15589.0  5022.593816  1027.962379   409.0  4445.0  5088.0   \n",
       "Comfort            15589.0     2.841619     1.388624     0.0     2.0     3.0   \n",
       "ReceptionSchedule  15589.0     2.997242     1.518994     0.0     2.0     3.0   \n",
       "FoodDrink          15589.0     2.844570     1.436948     0.0     2.0     3.0   \n",
       "Location           15589.0     2.986016     1.299438     1.0     2.0     3.0   \n",
       "Wifi               15589.0     3.245109     1.327026     0.0     2.0     3.0   \n",
       "Amenities          15589.0     3.374816     1.352417     0.0     2.0     4.0   \n",
       "Staff              15589.0     3.506383     1.319565     1.0     3.0     4.0   \n",
       "OnlineBooking      15589.0     3.454231     1.310343     0.0     2.0     4.0   \n",
       "PriceQuality       15589.0     3.459683     1.268130     1.0     3.0     4.0   \n",
       "RoomSpace          15589.0     3.470845     1.293873     0.0     2.0     4.0   \n",
       "CheckOut           15589.0     3.700558     1.158644     1.0     3.0     4.0   \n",
       "Checkin            15589.0     3.327282     1.266872     1.0     3.0     3.0   \n",
       "Cleanliness        15589.0     3.692347     1.154437     1.0     3.0     4.0   \n",
       "BarService         15589.0     3.347360     1.300452     0.0     2.0     3.0   \n",
       "\n",
       "                       75%      max  \n",
       "Cust_ID            11692.0  15589.0  \n",
       "Year_Birth          1994.0   2014.0  \n",
       "RewardPoints        5649.0   6950.0  \n",
       "Comfort                4.0      5.0  \n",
       "ReceptionSchedule      4.0      5.0  \n",
       "FoodDrink              4.0      5.0  \n",
       "Location               4.0      5.0  \n",
       "Wifi                   4.0      6.0  \n",
       "Amenities              4.0      5.0  \n",
       "Staff                  5.0      5.0  \n",
       "OnlineBooking          5.0      5.0  \n",
       "PriceQuality           4.0      5.0  \n",
       "RoomSpace              5.0      5.0  \n",
       "CheckOut               5.0      5.0  \n",
       "Checkin                4.0      5.0  \n",
       "Cleanliness            5.0      5.0  \n",
       "BarService             4.0      5.0  "
      ]
     },
     "execution_count": 267,
     "metadata": {},
     "output_type": "execute_result"
    }
   ],
   "source": [
    "df.describe().T"
   ]
  },
  {
   "cell_type": "markdown",
   "id": "4016f40b",
   "metadata": {},
   "source": [
    "On a first look, we noticed the ranges of each variable look acceptable. However, some variables have different scales than others and this must be handled later on."
   ]
  },
  {
   "cell_type": "code",
   "execution_count": 268,
   "id": "d29a32b6",
   "metadata": {},
   "outputs": [],
   "source": [
    "# Change the data frame index to the customer ID of each entry, rather than the standard index\n",
    "df.set_index(\"Cust_ID\", inplace = True)"
   ]
  },
  {
   "cell_type": "markdown",
   "id": "d9a9c15a",
   "metadata": {},
   "source": [
    "# 2) Exploratory Data Analysis"
   ]
  },
  {
   "cell_type": "markdown",
   "id": "d8fa4b1f",
   "metadata": {},
   "source": [
    "### 2.1) Coherence Checks"
   ]
  },
  {
   "cell_type": "markdown",
   "id": "9e143834",
   "metadata": {},
   "source": [
    "#### 2.1.1) Churn"
   ]
  },
  {
   "cell_type": "code",
   "execution_count": 269,
   "id": "d1152386",
   "metadata": {},
   "outputs": [
    {
     "data": {
      "text/plain": [
       "nochurn    8477\n",
       "churn      7112\n",
       "Name: Churn, dtype: int64"
      ]
     },
     "execution_count": 269,
     "metadata": {},
     "output_type": "execute_result"
    }
   ],
   "source": [
    "df['Churn'].value_counts()"
   ]
  },
  {
   "cell_type": "code",
   "execution_count": 270,
   "id": "f884a554",
   "metadata": {},
   "outputs": [
    {
     "data": {
      "image/png": "[encoded data removed]",
      "text/plain": [
       "<Figure size 432x288 with 1 Axes>"
      ]
     },
     "metadata": {
      "needs_background": "light"
     },
     "output_type": "display_data"
    }
   ],
   "source": [
    "sns.countplot(df[\"Churn\"], color=\"skyblue\")\n",
    "plt.show()"
   ]
  },
  {
   "cell_type": "markdown",
   "id": "8671aadd",
   "metadata": {},
   "source": [
    "Churn is our target variable and it looks somewhat evenly distributed. We will still test with over and under sampled datasets but there is not a huge descrepancy between the values of Churn."
   ]
  },
  {
   "cell_type": "markdown",
   "id": "d2f7a0a3",
   "metadata": {},
   "source": [
    "#### 2.1.2) Name"
   ]
  },
  {
   "cell_type": "code",
   "execution_count": 271,
   "id": "f778d76a",
   "metadata": {},
   "outputs": [
    {
     "data": {
      "text/plain": [
       "Mr. Michael Smith      9\n",
       "Ms. Amanda Smith       7\n",
       "Mr. John Smith         7\n",
       "Ms. Jennifer Smith     6\n",
       "Mr. Michael Davis      6\n",
       "                      ..\n",
       "Mr. Eric Silva         1\n",
       "Ms. Lori Deleon        1\n",
       "Ms. Joan Hebert        1\n",
       "Ms. Kerry Armstrong    1\n",
       "Mr. Joseph Blevins     1\n",
       "Name: Name, Length: 14227, dtype: int64"
      ]
     },
     "execution_count": 271,
     "metadata": {},
     "output_type": "execute_result"
    }
   ],
   "source": [
    "df['Name'].value_counts()"
   ]
  },
  {
   "cell_type": "markdown",
   "id": "2d1a8ce8",
   "metadata": {},
   "source": [
    "Variable looks good tu us and based on the prefix before the name, we can create a new variable called gender."
   ]
  },
  {
   "cell_type": "markdown",
   "id": "9efcce69",
   "metadata": {},
   "source": [
    "#### 2.1.3) Longevity"
   ]
  },
  {
   "cell_type": "code",
   "execution_count": 272,
   "id": "86fe8143",
   "metadata": {},
   "outputs": [
    {
     "data": {
      "text/plain": [
       "yes    12548\n",
       "no      2874\n",
       "y        167\n",
       "Name: Longevity, dtype: int64"
      ]
     },
     "execution_count": 272,
     "metadata": {},
     "output_type": "execute_result"
    }
   ],
   "source": [
    "df['Longevity'].value_counts()"
   ]
  },
  {
   "cell_type": "markdown",
   "id": "f6c90825",
   "metadata": {},
   "source": [
    "Variable does not look good because we have entries with 'yes' and entries with 'y' which most likely mean the same. Will will transform the entries with 'y' into 'yes'"
   ]
  },
  {
   "cell_type": "code",
   "execution_count": 273,
   "id": "c8edaa33",
   "metadata": {},
   "outputs": [
    {
     "data": {
      "text/plain": [
       "yes    12715\n",
       "no      2874\n",
       "Name: Longevity, dtype: int64"
      ]
     },
     "execution_count": 273,
     "metadata": {},
     "output_type": "execute_result"
    }
   ],
   "source": [
    "df['Longevity'].replace('y','yes', inplace=True)\n",
    "df['Longevity'].value_counts()"
   ]
  },
  {
   "cell_type": "code",
   "execution_count": 274,
   "id": "d1508f3a",
   "metadata": {},
   "outputs": [
    {
     "data": {
      "image/png": "[encoded data removed]",
      "text/plain": [
       "<Figure size 432x288 with 1 Axes>"
      ]
     },
     "metadata": {
      "needs_background": "light"
     },
     "output_type": "display_data"
    }
   ],
   "source": [
    "sns.countplot(df[\"Longevity\"], color=\"skyblue\")\n",
    "plt.show()"
   ]
  },
  {
   "cell_type": "markdown",
   "id": "77cd934d",
   "metadata": {},
   "source": [
    "#### 2.1.4) Year_Birth"
   ]
  },
  {
   "cell_type": "markdown",
   "id": "55e3a44e",
   "metadata": {},
   "source": [
    "Variable has missing values. We will handle these missing values and then create a new variable called Age based on this"
   ]
  },
  {
   "cell_type": "code",
   "execution_count": 275,
   "id": "f5e4592e",
   "metadata": {},
   "outputs": [
    {
     "data": {
      "image/png": "[encoded data removed]",
      "text/plain": [
       "<Figure size 432x288 with 1 Axes>"
      ]
     },
     "metadata": {
      "needs_background": "light"
     },
     "output_type": "display_data"
    }
   ],
   "source": [
    "sns.histplot(df[\"Year_Birth\"], color=\"skyblue\")\n",
    "plt.show()"
   ]
  },
  {
   "cell_type": "markdown",
   "id": "6ef6df8a",
   "metadata": {},
   "source": [
    "#### 2.1.5) Type Travel"
   ]
  },
  {
   "cell_type": "code",
   "execution_count": 276,
   "id": "d946ea6b",
   "metadata": {},
   "outputs": [
    {
     "data": {
      "text/plain": [
       "business    10756\n",
       "leisure      4833\n",
       "Name: TypeTravel, dtype: int64"
      ]
     },
     "execution_count": 276,
     "metadata": {},
     "output_type": "execute_result"
    }
   ],
   "source": [
    "df['TypeTravel'].value_counts()"
   ]
  },
  {
   "cell_type": "markdown",
   "id": "f43509b2",
   "metadata": {},
   "source": [
    "Variable looks good to us and we will create dummies for it"
   ]
  },
  {
   "cell_type": "code",
   "execution_count": 277,
   "id": "96498a5a",
   "metadata": {},
   "outputs": [
    {
     "data": {
      "image/png": "[encoded data removed]",
      "text/plain": [
       "<Figure size 432x288 with 1 Axes>"
      ]
     },
     "metadata": {
      "needs_background": "light"
     },
     "output_type": "display_data"
    }
   ],
   "source": [
    "sns.countplot(df[\"TypeTravel\"], color=\"skyblue\")\n",
    "plt.show()"
   ]
  },
  {
   "cell_type": "markdown",
   "id": "1b4c1c42",
   "metadata": {},
   "source": [
    "#### 2.1.6) Room Type"
   ]
  },
  {
   "cell_type": "code",
   "execution_count": 278,
   "id": "12dee5e5",
   "metadata": {},
   "outputs": [
    {
     "data": {
      "text/plain": [
       "single    7442\n",
       "double    7021\n",
       "suite     1126\n",
       "Name: RoomType, dtype: int64"
      ]
     },
     "execution_count": 278,
     "metadata": {},
     "output_type": "execute_result"
    }
   ],
   "source": [
    "df['RoomType'].value_counts()"
   ]
  },
  {
   "cell_type": "markdown",
   "id": "48c8fbc3",
   "metadata": {},
   "source": [
    "Variable looks good to us and we will create dummies for it"
   ]
  },
  {
   "cell_type": "code",
   "execution_count": 279,
   "id": "e4308523",
   "metadata": {},
   "outputs": [
    {
     "data": {
      "text/plain": [
       "<AxesSubplot:xlabel='RoomType', ylabel='count'>"
      ]
     },
     "execution_count": 279,
     "metadata": {},
     "output_type": "execute_result"
    },
    {
     "data": {
      "image/png": "[encoded data removed]",
      "text/plain": [
       "<Figure size 432x288 with 1 Axes>"
      ]
     },
     "metadata": {
      "needs_background": "light"
     },
     "output_type": "display_data"
    }
   ],
   "source": [
    "sns.countplot(df[\"RoomType\"], color=\"skyblue\")"
   ]
  },
  {
   "cell_type": "markdown",
   "id": "3681c221",
   "metadata": {},
   "source": [
    "#### 2.1.7) Reward Points"
   ]
  },
  {
   "cell_type": "code",
   "execution_count": 280,
   "id": "17ef9ee3",
   "metadata": {},
   "outputs": [
    {
     "data": {
      "image/png": "[encoded data removed]",
      "text/plain": [
       "<Figure size 432x288 with 1 Axes>"
      ]
     },
     "metadata": {
      "needs_background": "light"
     },
     "output_type": "display_data"
    }
   ],
   "source": [
    "sns.histplot(df[\"RewardPoints\"], color=\"skyblue\")\n",
    "plt.show()"
   ]
  },
  {
   "cell_type": "markdown",
   "id": "d2b1301f",
   "metadata": {},
   "source": [
    "Variable looks good but it needs to be scaled"
   ]
  },
  {
   "cell_type": "markdown",
   "id": "2fcaf81a",
   "metadata": {},
   "source": [
    "#### 2.1.8) Ratings"
   ]
  },
  {
   "cell_type": "code",
   "execution_count": 281,
   "id": "c5d4d49f",
   "metadata": {
    "scrolled": true
   },
   "outputs": [
    {
     "data": {
      "image/png": "[encoded data removed]",
      "text/plain": [
       "<Figure size 1440x1080 with 15 Axes>"
      ]
     },
     "metadata": {
      "needs_background": "light"
     },
     "output_type": "display_data"
    }
   ],
   "source": [
    "f, axes = plt.subplots(3,5, figsize=(20, 15), squeeze=False)  \n",
    "sns.histplot(df[\"Comfort\"], color=\"skyblue\", ax=axes[0, 0])\n",
    "sns.histplot(df[\"ReceptionSchedule\"], color=\"skyblue\", ax=axes[0, 1])\n",
    "sns.histplot(df[\"FoodDrink\"], color=\"skyblue\", ax=axes[0, 2])\n",
    "sns.histplot(df[\"Location\"], color=\"skyblue\", ax=axes[0, 3])\n",
    "sns.histplot(df[\"Wifi\"], color=\"skyblue\", ax=axes[0, 4])\n",
    "sns.histplot(df[\"Amenities\"], color=\"skyblue\", ax=axes[1, 0])\n",
    "sns.histplot(df[\"Staff\"], color=\"skyblue\", ax=axes[1, 1])\n",
    "sns.histplot(df[\"OnlineBooking\"], color=\"skyblue\", ax=axes[1, 2])\n",
    "sns.histplot(df[\"PriceQuality\"], color=\"skyblue\", ax=axes[1, 3])\n",
    "sns.histplot(df[\"RoomSpace\"], color=\"skyblue\", ax=axes[1, 4])\n",
    "sns.histplot(df[\"CheckOut\"], color=\"skyblue\", ax=axes[2, 0])\n",
    "sns.histplot(df[\"Checkin\"], color=\"skyblue\", ax=axes[2, 1])\n",
    "sns.histplot(df[\"Cleanliness\"], color=\"skyblue\", ax=axes[2, 2])\n",
    "sns.histplot(df[\"BarService\"], color=\"skyblue\", ax=axes[2, 3])\n",
    "\n",
    "plt.show()"
   ]
  },
  {
   "cell_type": "markdown",
   "id": "0bf67a84",
   "metadata": {},
   "source": [
    "Upon looking at the charts, we noticed that 'Wifi' has values that should not be there, in particular, some surveys were marked with 6 which is not an available rating. "
   ]
  },
  {
   "cell_type": "markdown",
   "id": "245c033b",
   "metadata": {},
   "source": [
    "Since there are only 36 rows with value 6, we will convert them to a 5."
   ]
  },
  {
   "cell_type": "code",
   "execution_count": 282,
   "id": "aec27267",
   "metadata": {},
   "outputs": [],
   "source": [
    "df['Wifi'].replace(6,5, inplace=True)"
   ]
  },
  {
   "cell_type": "code",
   "execution_count": 283,
   "id": "27de8c9d",
   "metadata": {},
   "outputs": [
    {
     "data": {
      "image/png": "[encoded data removed]",
      "text/plain": [
       "<Figure size 432x288 with 1 Axes>"
      ]
     },
     "metadata": {
      "needs_background": "light"
     },
     "output_type": "display_data"
    }
   ],
   "source": [
    "sns.histplot(df[\"Wifi\"], color=\"skyblue\")\n",
    "plt.show()"
   ]
  },
  {
   "cell_type": "markdown",
   "id": "bf9e3eea",
   "metadata": {},
   "source": [
    "### 2.2) Missing Values"
   ]
  },
  {
   "cell_type": "code",
   "execution_count": 284,
   "id": "7dbe5313",
   "metadata": {},
   "outputs": [
    {
     "data": {
      "text/plain": [
       "Churn                  0\n",
       "Name                   0\n",
       "Longevity              0\n",
       "Year_Birth           195\n",
       "TypeTravel             0\n",
       "RoomType               0\n",
       "RewardPoints           0\n",
       "Comfort                0\n",
       "ReceptionSchedule      0\n",
       "FoodDrink              0\n",
       "Location               0\n",
       "Wifi                   0\n",
       "Amenities              0\n",
       "Staff                  0\n",
       "OnlineBooking          0\n",
       "PriceQuality           0\n",
       "RoomSpace              0\n",
       "CheckOut               0\n",
       "Checkin                0\n",
       "Cleanliness            0\n",
       "BarService             0\n",
       "dtype: int64"
      ]
     },
     "execution_count": 284,
     "metadata": {},
     "output_type": "execute_result"
    }
   ],
   "source": [
    "df.isna().sum()"
   ]
  },
  {
   "cell_type": "markdown",
   "id": "01c5bcd4",
   "metadata": {},
   "source": [
    "Year of Birth is the only variable with missing values. We have different methods to fill in these missing values like using the mode, mean or KNN Inputer. We decided to fill these missing values with the mode."
   ]
  },
  {
   "cell_type": "code",
   "execution_count": 285,
   "id": "04d25cf1",
   "metadata": {},
   "outputs": [],
   "source": [
    "df_numerical = df.drop(columns=['Churn', 'RoomType', 'Longevity', 'TypeTravel', 'Name'])\n",
    "\n",
    "from sklearn.impute import KNNImputer\n",
    "imputer = KNNImputer(n_neighbors=2)\n",
    "imputer_matrix = imputer.fit_transform(df_numerical)\n",
    "\n",
    "data_cleaned = pd.DataFrame(data=imputer_matrix, columns = df_numerical.columns, index = df_numerical.index)\n",
    "df['Year_Birth'] = data_cleaned['Year_Birth']"
   ]
  },
  {
   "cell_type": "code",
   "execution_count": 286,
   "id": "02bf3fc7",
   "metadata": {},
   "outputs": [
    {
     "data": {
      "text/plain": [
       "Churn                0\n",
       "Name                 0\n",
       "Longevity            0\n",
       "Year_Birth           0\n",
       "TypeTravel           0\n",
       "RoomType             0\n",
       "RewardPoints         0\n",
       "Comfort              0\n",
       "ReceptionSchedule    0\n",
       "FoodDrink            0\n",
       "Location             0\n",
       "Wifi                 0\n",
       "Amenities            0\n",
       "Staff                0\n",
       "OnlineBooking        0\n",
       "PriceQuality         0\n",
       "RoomSpace            0\n",
       "CheckOut             0\n",
       "Checkin              0\n",
       "Cleanliness          0\n",
       "BarService           0\n",
       "dtype: int64"
      ]
     },
     "execution_count": 286,
     "metadata": {},
     "output_type": "execute_result"
    }
   ],
   "source": [
    "df.isna().sum()"
   ]
  },
  {
   "cell_type": "markdown",
   "id": "9fa3af58",
   "metadata": {},
   "source": [
    "### 2.3) Duplicate Values"
   ]
  },
  {
   "cell_type": "code",
   "execution_count": 287,
   "id": "c27df0ab",
   "metadata": {},
   "outputs": [],
   "source": [
    "#create duplicate datafranme\n",
    "duplicates = df.duplicated()"
   ]
  },
  {
   "cell_type": "code",
   "execution_count": 288,
   "id": "c7e993d9",
   "metadata": {},
   "outputs": [
    {
     "data": {
      "text/html": [
       "<div>\n",
       "<style scoped>\n",
       "    .dataframe tbody tr th:only-of-type {\n",
       "        vertical-align: middle;\n",
       "    }\n",
       "\n",
       "    .dataframe tbody tr th {\n",
       "        vertical-align: top;\n",
       "    }\n",
       "\n",
       "    .dataframe thead th {\n",
       "        text-align: right;\n",
       "    }\n",
       "</style>\n",
       "<table border=\"1\" class=\"dataframe\">\n",
       "  <thead>\n",
       "    <tr style=\"text-align: right;\">\n",
       "      <th></th>\n",
       "      <th>Churn</th>\n",
       "      <th>Name</th>\n",
       "      <th>Longevity</th>\n",
       "      <th>Year_Birth</th>\n",
       "      <th>TypeTravel</th>\n",
       "      <th>RoomType</th>\n",
       "      <th>RewardPoints</th>\n",
       "      <th>Comfort</th>\n",
       "      <th>ReceptionSchedule</th>\n",
       "      <th>FoodDrink</th>\n",
       "      <th>...</th>\n",
       "      <th>Wifi</th>\n",
       "      <th>Amenities</th>\n",
       "      <th>Staff</th>\n",
       "      <th>OnlineBooking</th>\n",
       "      <th>PriceQuality</th>\n",
       "      <th>RoomSpace</th>\n",
       "      <th>CheckOut</th>\n",
       "      <th>Checkin</th>\n",
       "      <th>Cleanliness</th>\n",
       "      <th>BarService</th>\n",
       "    </tr>\n",
       "    <tr>\n",
       "      <th>Cust_ID</th>\n",
       "      <th></th>\n",
       "      <th></th>\n",
       "      <th></th>\n",
       "      <th></th>\n",
       "      <th></th>\n",
       "      <th></th>\n",
       "      <th></th>\n",
       "      <th></th>\n",
       "      <th></th>\n",
       "      <th></th>\n",
       "      <th></th>\n",
       "      <th></th>\n",
       "      <th></th>\n",
       "      <th></th>\n",
       "      <th></th>\n",
       "      <th></th>\n",
       "      <th></th>\n",
       "      <th></th>\n",
       "      <th></th>\n",
       "      <th></th>\n",
       "      <th></th>\n",
       "    </tr>\n",
       "  </thead>\n",
       "  <tbody>\n",
       "    <tr>\n",
       "      <th>8196</th>\n",
       "      <td>nochurn</td>\n",
       "      <td>Ms. Abigail York</td>\n",
       "      <td>yes</td>\n",
       "      <td>1995.0</td>\n",
       "      <td>leisure</td>\n",
       "      <td>double</td>\n",
       "      <td>5098</td>\n",
       "      <td>5</td>\n",
       "      <td>5</td>\n",
       "      <td>5</td>\n",
       "      <td>...</td>\n",
       "      <td>4</td>\n",
       "      <td>5</td>\n",
       "      <td>5</td>\n",
       "      <td>3</td>\n",
       "      <td>3</td>\n",
       "      <td>4</td>\n",
       "      <td>3</td>\n",
       "      <td>3</td>\n",
       "      <td>3</td>\n",
       "      <td>5</td>\n",
       "    </tr>\n",
       "    <tr>\n",
       "      <th>9177</th>\n",
       "      <td>churn</td>\n",
       "      <td>Ms. Abigail Kennedy</td>\n",
       "      <td>yes</td>\n",
       "      <td>1991.0</td>\n",
       "      <td>business</td>\n",
       "      <td>suite</td>\n",
       "      <td>5932</td>\n",
       "      <td>3</td>\n",
       "      <td>3</td>\n",
       "      <td>2</td>\n",
       "      <td>...</td>\n",
       "      <td>3</td>\n",
       "      <td>3</td>\n",
       "      <td>3</td>\n",
       "      <td>3</td>\n",
       "      <td>4</td>\n",
       "      <td>1</td>\n",
       "      <td>4</td>\n",
       "      <td>3</td>\n",
       "      <td>4</td>\n",
       "      <td>3</td>\n",
       "    </tr>\n",
       "    <tr>\n",
       "      <th>9418</th>\n",
       "      <td>nochurn</td>\n",
       "      <td>Ms. Abigail Buchanan</td>\n",
       "      <td>yes</td>\n",
       "      <td>1972.0</td>\n",
       "      <td>business</td>\n",
       "      <td>double</td>\n",
       "      <td>6769</td>\n",
       "      <td>5</td>\n",
       "      <td>4</td>\n",
       "      <td>4</td>\n",
       "      <td>...</td>\n",
       "      <td>5</td>\n",
       "      <td>5</td>\n",
       "      <td>4</td>\n",
       "      <td>5</td>\n",
       "      <td>5</td>\n",
       "      <td>5</td>\n",
       "      <td>5</td>\n",
       "      <td>2</td>\n",
       "      <td>5</td>\n",
       "      <td>1</td>\n",
       "    </tr>\n",
       "  </tbody>\n",
       "</table>\n",
       "<p>3 rows × 21 columns</p>\n",
       "</div>"
      ],
      "text/plain": [
       "           Churn                  Name Longevity  Year_Birth TypeTravel  \\\n",
       "Cust_ID                                                                   \n",
       "8196     nochurn      Ms. Abigail York       yes      1995.0    leisure   \n",
       "9177       churn   Ms. Abigail Kennedy       yes      1991.0   business   \n",
       "9418     nochurn  Ms. Abigail Buchanan       yes      1972.0   business   \n",
       "\n",
       "        RoomType  RewardPoints  Comfort  ReceptionSchedule  FoodDrink  ...  \\\n",
       "Cust_ID                                                                ...   \n",
       "8196      double          5098        5                  5          5  ...   \n",
       "9177       suite          5932        3                  3          2  ...   \n",
       "9418      double          6769        5                  4          4  ...   \n",
       "\n",
       "         Wifi  Amenities  Staff  OnlineBooking  PriceQuality  RoomSpace  \\\n",
       "Cust_ID                                                                   \n",
       "8196        4          5      5              3             3          4   \n",
       "9177        3          3      3              3             4          1   \n",
       "9418        5          5      4              5             5          5   \n",
       "\n",
       "         CheckOut  Checkin  Cleanliness  BarService  \n",
       "Cust_ID                                              \n",
       "8196            3        3            3           5  \n",
       "9177            4        3            4           3  \n",
       "9418            5        2            5           1  \n",
       "\n",
       "[3 rows x 21 columns]"
      ]
     },
     "execution_count": 288,
     "metadata": {},
     "output_type": "execute_result"
    }
   ],
   "source": [
    "#visualize the duplicates\n",
    "df[duplicates]"
   ]
  },
  {
   "cell_type": "code",
   "execution_count": 289,
   "id": "e69afdf9",
   "metadata": {},
   "outputs": [
    {
     "data": {
      "text/plain": [
       "(15586, 21)"
      ]
     },
     "execution_count": 289,
     "metadata": {},
     "output_type": "execute_result"
    }
   ],
   "source": [
    "df.drop_duplicates(inplace = True)\n",
    "df.shape"
   ]
  },
  {
   "cell_type": "markdown",
   "id": "f4562011",
   "metadata": {},
   "source": [
    "### 2.4) Handling Outliers"
   ]
  },
  {
   "cell_type": "code",
   "execution_count": 290,
   "id": "26bfc611",
   "metadata": {},
   "outputs": [
    {
     "data": {
      "image/png": "[encoded data removed]",
      "text/plain": [
       "<Figure size 1440x1080 with 16 Axes>"
      ]
     },
     "metadata": {
      "needs_background": "light"
     },
     "output_type": "display_data"
    }
   ],
   "source": [
    "f, axes = plt.subplots(4,4, figsize=(20, 15), squeeze=False)    \n",
    "sns.boxplot(df[\"Year_Birth\"], color=\"skyblue\", ax=axes[0, 0])\n",
    "sns.boxplot(df[\"RewardPoints\"], color=\"skyblue\", ax=axes[0, 1])\n",
    "sns.boxplot(df[\"Comfort\"], color=\"skyblue\", ax=axes[0, 2])\n",
    "sns.boxplot(df[\"ReceptionSchedule\"], color=\"skyblue\", ax=axes[0, 3])\n",
    "sns.boxplot(df[\"FoodDrink\"], color=\"skyblue\", ax=axes[1, 0])\n",
    "sns.boxplot(df[\"Location\"], color=\"skyblue\", ax=axes[1, 1])\n",
    "sns.boxplot(df[\"Wifi\"], color=\"skyblue\", ax=axes[1, 2])\n",
    "sns.boxplot(df[\"Amenities\"], color=\"skyblue\", ax=axes[1, 3])\n",
    "sns.boxplot(df[\"Staff\"], color=\"skyblue\", ax=axes[2, 0])\n",
    "sns.boxplot(df[\"OnlineBooking\"], color=\"skyblue\", ax=axes[2, 1])\n",
    "sns.boxplot(df[\"PriceQuality\"], color=\"skyblue\", ax=axes[2, 2])\n",
    "sns.boxplot(df[\"RoomSpace\"], color=\"skyblue\", ax=axes[2, 3])\n",
    "sns.boxplot(df[\"CheckOut\"], color=\"skyblue\", ax=axes[3, 0])\n",
    "sns.boxplot(df[\"Checkin\"], color=\"skyblue\", ax=axes[3, 1])\n",
    "sns.boxplot(df[\"Cleanliness\"], color=\"skyblue\", ax=axes[3, 2])\n",
    "sns.boxplot(df[\"BarService\"], color=\"skyblue\", ax=axes[3, 3])\n",
    "\n",
    "plt.show()"
   ]
  },
  {
   "cell_type": "code",
   "execution_count": 291,
   "id": "135b2ac1",
   "metadata": {},
   "outputs": [],
   "source": [
    "#method to return the boundaries of IQR \n",
    "def get_IQR_bounds(s):\n",
    "    q1 = s.quantile(0.25)\n",
    "    q3 = s.quantile(0.75)\n",
    "    \n",
    "    iqr = q3 - q1\n",
    "    \n",
    "    lower_bound = q1 -(1.5 * iqr)\n",
    "    upper_bound = q3 +(1.5 * iqr)\n",
    "    \n",
    "    return (lower_bound,upper_bound)"
   ]
  },
  {
   "cell_type": "markdown",
   "id": "77a16a8f",
   "metadata": {},
   "source": [
    "#### 2.4.1) Ouliers in Reward Points"
   ]
  },
  {
   "cell_type": "code",
   "execution_count": 292,
   "id": "3226b0b7",
   "metadata": {},
   "outputs": [
    {
     "name": "stdout",
     "output_type": "stream",
     "text": [
      "There are been 293 outliers removed\n"
     ]
    }
   ],
   "source": [
    "df = df[df['RewardPoints'] > get_IQR_bounds(df['RewardPoints'])[0]]\n",
    "\n",
    "print(\"There are been\",df_original_row_size - df.shape[0], \"outliers removed\")"
   ]
  },
  {
   "cell_type": "code",
   "execution_count": 293,
   "id": "d6b3d80f",
   "metadata": {},
   "outputs": [
    {
     "data": {
      "image/png": "[encoded data removed]",
      "text/plain": [
       "<Figure size 432x288 with 1 Axes>"
      ]
     },
     "metadata": {
      "needs_background": "light"
     },
     "output_type": "display_data"
    }
   ],
   "source": [
    "sns.histplot(df[\"RewardPoints\"], color=\"skyblue\")\n",
    "plt.show()"
   ]
  },
  {
   "cell_type": "markdown",
   "id": "595fae0f",
   "metadata": {},
   "source": [
    "#### 2.4.2) Outliers in Ratings Variables"
   ]
  },
  {
   "cell_type": "markdown",
   "id": "a03c56e6",
   "metadata": {},
   "source": [
    "After some research and analysis on the subject, we decided not to remove outliers on the two ratings variables that presented outliers in the boxplot visualization. Those are 'PriceQuality' and 'Checkin'. The reason we did not remove them was because they were too many entries that would have to be removed, and if we did, we would effectively be shortening the rating scale for the rating data."
   ]
  },
  {
   "cell_type": "markdown",
   "id": "a751470b",
   "metadata": {},
   "source": [
    "Instead, we will look for straight lining on the ratings entries, meaning people who answered all the answers with the same variable, which can mean they were in a rush and decided to fill the survey as fast as they could."
   ]
  },
  {
   "cell_type": "markdown",
   "id": "3157a81c",
   "metadata": {},
   "source": [
    "#### 2.4.3) Outliers in Straight Lining entries to the Ratings Variables"
   ]
  },
  {
   "cell_type": "code",
   "execution_count": 294,
   "id": "805bf3e7",
   "metadata": {},
   "outputs": [],
   "source": [
    "straight_lining_entries = df[(df['Comfort'] == df['ReceptionSchedule']) & (df['Comfort'] == df['FoodDrink']) & (df['Comfort'] == df['Location']) & (df['Comfort'] == df['Wifi']) & (df['Comfort'] == df['Amenities']) & (df['Comfort'] == df['Staff']) & (df['Comfort'] == df['OnlineBooking']) & (df['Comfort'] == df['PriceQuality']) & (df['Comfort'] == df['RoomSpace']) & (df['Comfort'] == df['CheckOut']) & (df['Comfort'] == df['Checkin']) & (df['Comfort'] == df['Cleanliness']) & (df['Comfort'] == df['BarService'])]"
   ]
  },
  {
   "cell_type": "code",
   "execution_count": 295,
   "id": "444c32ac",
   "metadata": {},
   "outputs": [
    {
     "data": {
      "text/html": [
       "<div>\n",
       "<style scoped>\n",
       "    .dataframe tbody tr th:only-of-type {\n",
       "        vertical-align: middle;\n",
       "    }\n",
       "\n",
       "    .dataframe tbody tr th {\n",
       "        vertical-align: top;\n",
       "    }\n",
       "\n",
       "    .dataframe thead th {\n",
       "        text-align: right;\n",
       "    }\n",
       "</style>\n",
       "<table border=\"1\" class=\"dataframe\">\n",
       "  <thead>\n",
       "    <tr style=\"text-align: right;\">\n",
       "      <th></th>\n",
       "      <th>Churn</th>\n",
       "      <th>Name</th>\n",
       "      <th>Longevity</th>\n",
       "      <th>Year_Birth</th>\n",
       "      <th>TypeTravel</th>\n",
       "      <th>RoomType</th>\n",
       "      <th>RewardPoints</th>\n",
       "      <th>Comfort</th>\n",
       "      <th>ReceptionSchedule</th>\n",
       "      <th>FoodDrink</th>\n",
       "      <th>...</th>\n",
       "      <th>Wifi</th>\n",
       "      <th>Amenities</th>\n",
       "      <th>Staff</th>\n",
       "      <th>OnlineBooking</th>\n",
       "      <th>PriceQuality</th>\n",
       "      <th>RoomSpace</th>\n",
       "      <th>CheckOut</th>\n",
       "      <th>Checkin</th>\n",
       "      <th>Cleanliness</th>\n",
       "      <th>BarService</th>\n",
       "    </tr>\n",
       "    <tr>\n",
       "      <th>Cust_ID</th>\n",
       "      <th></th>\n",
       "      <th></th>\n",
       "      <th></th>\n",
       "      <th></th>\n",
       "      <th></th>\n",
       "      <th></th>\n",
       "      <th></th>\n",
       "      <th></th>\n",
       "      <th></th>\n",
       "      <th></th>\n",
       "      <th></th>\n",
       "      <th></th>\n",
       "      <th></th>\n",
       "      <th></th>\n",
       "      <th></th>\n",
       "      <th></th>\n",
       "      <th></th>\n",
       "      <th></th>\n",
       "      <th></th>\n",
       "      <th></th>\n",
       "      <th></th>\n",
       "    </tr>\n",
       "  </thead>\n",
       "  <tbody>\n",
       "    <tr>\n",
       "      <th>1549</th>\n",
       "      <td>nochurn</td>\n",
       "      <td>Mr. Marcus Burns</td>\n",
       "      <td>yes</td>\n",
       "      <td>1981.0</td>\n",
       "      <td>business</td>\n",
       "      <td>single</td>\n",
       "      <td>5289</td>\n",
       "      <td>4</td>\n",
       "      <td>4</td>\n",
       "      <td>4</td>\n",
       "      <td>...</td>\n",
       "      <td>4</td>\n",
       "      <td>4</td>\n",
       "      <td>4</td>\n",
       "      <td>4</td>\n",
       "      <td>4</td>\n",
       "      <td>4</td>\n",
       "      <td>4</td>\n",
       "      <td>4</td>\n",
       "      <td>4</td>\n",
       "      <td>4</td>\n",
       "    </tr>\n",
       "    <tr>\n",
       "      <th>15260</th>\n",
       "      <td>nochurn</td>\n",
       "      <td>Mr. Randy Robbins</td>\n",
       "      <td>yes</td>\n",
       "      <td>1976.0</td>\n",
       "      <td>business</td>\n",
       "      <td>single</td>\n",
       "      <td>6699</td>\n",
       "      <td>5</td>\n",
       "      <td>5</td>\n",
       "      <td>5</td>\n",
       "      <td>...</td>\n",
       "      <td>5</td>\n",
       "      <td>5</td>\n",
       "      <td>5</td>\n",
       "      <td>5</td>\n",
       "      <td>5</td>\n",
       "      <td>5</td>\n",
       "      <td>5</td>\n",
       "      <td>5</td>\n",
       "      <td>5</td>\n",
       "      <td>5</td>\n",
       "    </tr>\n",
       "  </tbody>\n",
       "</table>\n",
       "<p>2 rows × 21 columns</p>\n",
       "</div>"
      ],
      "text/plain": [
       "           Churn               Name Longevity  Year_Birth TypeTravel RoomType  \\\n",
       "Cust_ID                                                                         \n",
       "1549     nochurn   Mr. Marcus Burns       yes      1981.0   business   single   \n",
       "15260    nochurn  Mr. Randy Robbins       yes      1976.0   business   single   \n",
       "\n",
       "         RewardPoints  Comfort  ReceptionSchedule  FoodDrink  ...  Wifi  \\\n",
       "Cust_ID                                                       ...         \n",
       "1549             5289        4                  4          4  ...     4   \n",
       "15260            6699        5                  5          5  ...     5   \n",
       "\n",
       "         Amenities  Staff  OnlineBooking  PriceQuality  RoomSpace  CheckOut  \\\n",
       "Cust_ID                                                                       \n",
       "1549             4      4              4             4          4         4   \n",
       "15260            5      5              5             5          5         5   \n",
       "\n",
       "         Checkin  Cleanliness  BarService  \n",
       "Cust_ID                                    \n",
       "1549           4            4           4  \n",
       "15260          5            5           5  \n",
       "\n",
       "[2 rows x 21 columns]"
      ]
     },
     "execution_count": 295,
     "metadata": {},
     "output_type": "execute_result"
    }
   ],
   "source": [
    "straight_lining_entries"
   ]
  },
  {
   "cell_type": "code",
   "execution_count": 296,
   "id": "1f97a149",
   "metadata": {},
   "outputs": [],
   "source": [
    "df.drop(straight_lining_entries.index, axis=0, inplace=True)"
   ]
  },
  {
   "cell_type": "markdown",
   "id": "2f3d5fc2",
   "metadata": {},
   "source": [
    "We found 2 entries that are considered straight lining answers and we will remove them from the data"
   ]
  },
  {
   "cell_type": "markdown",
   "id": "1f4f41f2",
   "metadata": {},
   "source": [
    "# 3) Feature Engineering"
   ]
  },
  {
   "cell_type": "markdown",
   "id": "e800e02f",
   "metadata": {},
   "source": [
    "### 3.1) Gender Variable"
   ]
  },
  {
   "cell_type": "code",
   "execution_count": 297,
   "id": "9d3bf772",
   "metadata": {},
   "outputs": [
    {
     "data": {
      "text/plain": [
       "array(['Ms.', 'Mr.'], dtype=object)"
      ]
     },
     "execution_count": 297,
     "metadata": {},
     "output_type": "execute_result"
    }
   ],
   "source": [
    "df[\"Characters\"] = df[\"Name\"].str[:3]\n",
    "df['Characters'].unique()"
   ]
  },
  {
   "cell_type": "code",
   "execution_count": 298,
   "id": "038760c9",
   "metadata": {},
   "outputs": [],
   "source": [
    "df.drop(columns=[\"Characters\"], axis=1, inplace=True)\n",
    "df['Gender'] = ['Male' if i == 'Mr.' else 'Female' for i in df[\"Name\"].str[:3]]"
   ]
  },
  {
   "cell_type": "code",
   "execution_count": 299,
   "id": "fd2ed2bb",
   "metadata": {},
   "outputs": [],
   "source": [
    "df.drop(columns=['Name'], inplace=True)"
   ]
  },
  {
   "cell_type": "markdown",
   "id": "780044d5",
   "metadata": {},
   "source": [
    "### 3.2) Age Variable"
   ]
  },
  {
   "cell_type": "code",
   "execution_count": 300,
   "id": "123d03bd",
   "metadata": {},
   "outputs": [],
   "source": [
    "df['Age'] = date.today().year - df['Year_Birth']"
   ]
  },
  {
   "cell_type": "code",
   "execution_count": 301,
   "id": "c4d6bada",
   "metadata": {},
   "outputs": [],
   "source": [
    "del df['Year_Birth']"
   ]
  },
  {
   "cell_type": "markdown",
   "id": "0fdf0822",
   "metadata": {},
   "source": [
    "### 3.3) Rating Average Variable"
   ]
  },
  {
   "cell_type": "code",
   "execution_count": 302,
   "id": "07e7ae60",
   "metadata": {},
   "outputs": [],
   "source": [
    "rating_features = ['Comfort', 'ReceptionSchedule', 'FoodDrink', 'Location', 'Wifi',\n",
    "       'Amenities', 'Staff', 'OnlineBooking', 'PriceQuality', 'RoomSpace',\n",
    "       'CheckOut', 'Checkin', 'Cleanliness', 'BarService']"
   ]
  },
  {
   "cell_type": "code",
   "execution_count": 303,
   "id": "d97122f5",
   "metadata": {},
   "outputs": [],
   "source": [
    "rating_features = ['Comfort', 'ReceptionSchedule', 'FoodDrink', 'Location', 'Wifi',\n",
    "       'Amenities', 'Staff', 'OnlineBooking', 'PriceQuality', 'RoomSpace',\n",
    "       'CheckOut', 'Checkin', 'Cleanliness', 'BarService']\n",
    "\n",
    "df['Overall_Rating'] = df.apply(lambda x: round(x[rating_features].mean(), 2), axis=1)"
   ]
  },
  {
   "cell_type": "markdown",
   "id": "8be379d4",
   "metadata": {},
   "source": [
    "### 3.4) Churn Variable"
   ]
  },
  {
   "cell_type": "code",
   "execution_count": 304,
   "id": "8f11b208",
   "metadata": {},
   "outputs": [],
   "source": [
    "#churn = 1, nochurn = 0\n",
    "df['Churn'] = [1 if i == 'churn' else 0 for i in df[\"Churn\"]]"
   ]
  },
  {
   "cell_type": "markdown",
   "id": "e72a6160",
   "metadata": {},
   "source": [
    "# 5) Data Scaling"
   ]
  },
  {
   "cell_type": "code",
   "execution_count": 305,
   "id": "346d86ed",
   "metadata": {},
   "outputs": [],
   "source": [
    "target = ['Churn']\n",
    "metric_features_without_ratings = ['RewardPoints', 'Age', 'Overall_Rating']\n",
    "\n",
    "metric_features = ['RewardPoints', 'Comfort',\n",
    "       'ReceptionSchedule', 'FoodDrink', 'Location', 'Wifi', 'Amenities',\n",
    "       'Staff', 'OnlineBooking', 'PriceQuality', 'RoomSpace', 'CheckOut',\n",
    "       'Checkin', 'Cleanliness', 'BarService', 'Age',\n",
    "       'Overall_Rating']\n",
    "\n",
    "metric_features_without_overall_rating = ['RewardPoints', 'Comfort',\n",
    "       'ReceptionSchedule', 'FoodDrink', 'Location', 'Wifi', 'Amenities',\n",
    "       'Staff', 'OnlineBooking', 'PriceQuality', 'RoomSpace', 'CheckOut',\n",
    "       'Checkin', 'Cleanliness', 'BarService', 'Age']\n",
    "\n",
    "non_metric_features = ['Churn', 'Longevity', 'TypeTravel', 'RoomType', 'Gender']"
   ]
  },
  {
   "cell_type": "code",
   "execution_count": 306,
   "id": "d7d4b3e0",
   "metadata": {},
   "outputs": [],
   "source": [
    "scaler = MinMaxScaler()"
   ]
  },
  {
   "cell_type": "code",
   "execution_count": 307,
   "id": "6b5097f3",
   "metadata": {},
   "outputs": [],
   "source": [
    "df_scaled_metric = pd.DataFrame(scaler.fit_transform(df[metric_features]), index=df[metric_features].index, columns = df[metric_features].columns)"
   ]
  },
  {
   "cell_type": "code",
   "execution_count": 308,
   "id": "e46ca9ab",
   "metadata": {},
   "outputs": [],
   "source": [
    "df_scaled = pd.concat([df_scaled_metric, df[non_metric_features]], axis = 1)"
   ]
  },
  {
   "cell_type": "code",
   "execution_count": 309,
   "id": "d452bf79",
   "metadata": {},
   "outputs": [
    {
     "data": {
      "text/html": [
       "<div>\n",
       "<style scoped>\n",
       "    .dataframe tbody tr th:only-of-type {\n",
       "        vertical-align: middle;\n",
       "    }\n",
       "\n",
       "    .dataframe tbody tr th {\n",
       "        vertical-align: top;\n",
       "    }\n",
       "\n",
       "    .dataframe thead th {\n",
       "        text-align: right;\n",
       "    }\n",
       "</style>\n",
       "<table border=\"1\" class=\"dataframe\">\n",
       "  <thead>\n",
       "    <tr style=\"text-align: right;\">\n",
       "      <th></th>\n",
       "      <th>RewardPoints</th>\n",
       "      <th>Comfort</th>\n",
       "      <th>ReceptionSchedule</th>\n",
       "      <th>FoodDrink</th>\n",
       "      <th>Location</th>\n",
       "      <th>Wifi</th>\n",
       "      <th>Amenities</th>\n",
       "      <th>Staff</th>\n",
       "      <th>OnlineBooking</th>\n",
       "      <th>PriceQuality</th>\n",
       "      <th>...</th>\n",
       "      <th>Checkin</th>\n",
       "      <th>Cleanliness</th>\n",
       "      <th>BarService</th>\n",
       "      <th>Age</th>\n",
       "      <th>Overall_Rating</th>\n",
       "      <th>Churn</th>\n",
       "      <th>Longevity</th>\n",
       "      <th>TypeTravel</th>\n",
       "      <th>RoomType</th>\n",
       "      <th>Gender</th>\n",
       "    </tr>\n",
       "    <tr>\n",
       "      <th>Cust_ID</th>\n",
       "      <th></th>\n",
       "      <th></th>\n",
       "      <th></th>\n",
       "      <th></th>\n",
       "      <th></th>\n",
       "      <th></th>\n",
       "      <th></th>\n",
       "      <th></th>\n",
       "      <th></th>\n",
       "      <th></th>\n",
       "      <th></th>\n",
       "      <th></th>\n",
       "      <th></th>\n",
       "      <th></th>\n",
       "      <th></th>\n",
       "      <th></th>\n",
       "      <th></th>\n",
       "      <th></th>\n",
       "      <th></th>\n",
       "      <th></th>\n",
       "      <th></th>\n",
       "    </tr>\n",
       "  </thead>\n",
       "  <tbody>\n",
       "    <tr>\n",
       "      <th>1</th>\n",
       "      <td>0.525986</td>\n",
       "      <td>0.6</td>\n",
       "      <td>0.8</td>\n",
       "      <td>0.2</td>\n",
       "      <td>0.75</td>\n",
       "      <td>0.8</td>\n",
       "      <td>0.6</td>\n",
       "      <td>0.75</td>\n",
       "      <td>0.6</td>\n",
       "      <td>0.50</td>\n",
       "      <td>...</td>\n",
       "      <td>0.75</td>\n",
       "      <td>0.50</td>\n",
       "      <td>0.8</td>\n",
       "      <td>0.512821</td>\n",
       "      <td>0.567282</td>\n",
       "      <td>1</td>\n",
       "      <td>yes</td>\n",
       "      <td>business</td>\n",
       "      <td>single</td>\n",
       "      <td>Female</td>\n",
       "    </tr>\n",
       "    <tr>\n",
       "      <th>2</th>\n",
       "      <td>0.947564</td>\n",
       "      <td>0.2</td>\n",
       "      <td>0.2</td>\n",
       "      <td>0.2</td>\n",
       "      <td>0.00</td>\n",
       "      <td>1.0</td>\n",
       "      <td>0.6</td>\n",
       "      <td>0.75</td>\n",
       "      <td>1.0</td>\n",
       "      <td>1.00</td>\n",
       "      <td>...</td>\n",
       "      <td>0.00</td>\n",
       "      <td>1.00</td>\n",
       "      <td>0.4</td>\n",
       "      <td>0.628205</td>\n",
       "      <td>0.527704</td>\n",
       "      <td>0</td>\n",
       "      <td>yes</td>\n",
       "      <td>business</td>\n",
       "      <td>single</td>\n",
       "      <td>Male</td>\n",
       "    </tr>\n",
       "    <tr>\n",
       "      <th>3</th>\n",
       "      <td>0.400232</td>\n",
       "      <td>0.6</td>\n",
       "      <td>0.6</td>\n",
       "      <td>0.6</td>\n",
       "      <td>0.50</td>\n",
       "      <td>0.2</td>\n",
       "      <td>0.8</td>\n",
       "      <td>0.75</td>\n",
       "      <td>0.6</td>\n",
       "      <td>0.50</td>\n",
       "      <td>...</td>\n",
       "      <td>0.25</td>\n",
       "      <td>0.50</td>\n",
       "      <td>0.2</td>\n",
       "      <td>0.525641</td>\n",
       "      <td>0.414248</td>\n",
       "      <td>1</td>\n",
       "      <td>yes</td>\n",
       "      <td>business</td>\n",
       "      <td>single</td>\n",
       "      <td>Male</td>\n",
       "    </tr>\n",
       "    <tr>\n",
       "      <th>4</th>\n",
       "      <td>0.280510</td>\n",
       "      <td>0.2</td>\n",
       "      <td>0.2</td>\n",
       "      <td>0.2</td>\n",
       "      <td>0.00</td>\n",
       "      <td>0.8</td>\n",
       "      <td>0.8</td>\n",
       "      <td>1.00</td>\n",
       "      <td>0.8</td>\n",
       "      <td>0.75</td>\n",
       "      <td>...</td>\n",
       "      <td>0.75</td>\n",
       "      <td>0.75</td>\n",
       "      <td>0.6</td>\n",
       "      <td>0.269231</td>\n",
       "      <td>0.527704</td>\n",
       "      <td>0</td>\n",
       "      <td>yes</td>\n",
       "      <td>leisure</td>\n",
       "      <td>double</td>\n",
       "      <td>Female</td>\n",
       "    </tr>\n",
       "    <tr>\n",
       "      <th>5</th>\n",
       "      <td>0.634803</td>\n",
       "      <td>0.4</td>\n",
       "      <td>0.4</td>\n",
       "      <td>0.6</td>\n",
       "      <td>0.25</td>\n",
       "      <td>1.0</td>\n",
       "      <td>1.0</td>\n",
       "      <td>1.00</td>\n",
       "      <td>1.0</td>\n",
       "      <td>1.00</td>\n",
       "      <td>...</td>\n",
       "      <td>0.00</td>\n",
       "      <td>0.50</td>\n",
       "      <td>1.0</td>\n",
       "      <td>0.320513</td>\n",
       "      <td>0.641161</td>\n",
       "      <td>0</td>\n",
       "      <td>yes</td>\n",
       "      <td>business</td>\n",
       "      <td>single</td>\n",
       "      <td>Male</td>\n",
       "    </tr>\n",
       "    <tr>\n",
       "      <th>...</th>\n",
       "      <td>...</td>\n",
       "      <td>...</td>\n",
       "      <td>...</td>\n",
       "      <td>...</td>\n",
       "      <td>...</td>\n",
       "      <td>...</td>\n",
       "      <td>...</td>\n",
       "      <td>...</td>\n",
       "      <td>...</td>\n",
       "      <td>...</td>\n",
       "      <td>...</td>\n",
       "      <td>...</td>\n",
       "      <td>...</td>\n",
       "      <td>...</td>\n",
       "      <td>...</td>\n",
       "      <td>...</td>\n",
       "      <td>...</td>\n",
       "      <td>...</td>\n",
       "      <td>...</td>\n",
       "      <td>...</td>\n",
       "      <td>...</td>\n",
       "    </tr>\n",
       "    <tr>\n",
       "      <th>15585</th>\n",
       "      <td>0.540139</td>\n",
       "      <td>0.4</td>\n",
       "      <td>0.0</td>\n",
       "      <td>0.4</td>\n",
       "      <td>0.25</td>\n",
       "      <td>0.6</td>\n",
       "      <td>0.4</td>\n",
       "      <td>0.75</td>\n",
       "      <td>0.6</td>\n",
       "      <td>0.75</td>\n",
       "      <td>...</td>\n",
       "      <td>0.50</td>\n",
       "      <td>0.75</td>\n",
       "      <td>0.6</td>\n",
       "      <td>0.333333</td>\n",
       "      <td>0.414248</td>\n",
       "      <td>1</td>\n",
       "      <td>no</td>\n",
       "      <td>business</td>\n",
       "      <td>double</td>\n",
       "      <td>Female</td>\n",
       "    </tr>\n",
       "    <tr>\n",
       "      <th>15586</th>\n",
       "      <td>0.540603</td>\n",
       "      <td>0.6</td>\n",
       "      <td>0.6</td>\n",
       "      <td>0.6</td>\n",
       "      <td>0.50</td>\n",
       "      <td>1.0</td>\n",
       "      <td>0.6</td>\n",
       "      <td>1.00</td>\n",
       "      <td>1.0</td>\n",
       "      <td>0.50</td>\n",
       "      <td>...</td>\n",
       "      <td>0.75</td>\n",
       "      <td>0.75</td>\n",
       "      <td>1.0</td>\n",
       "      <td>0.179487</td>\n",
       "      <td>0.641161</td>\n",
       "      <td>1</td>\n",
       "      <td>no</td>\n",
       "      <td>business</td>\n",
       "      <td>double</td>\n",
       "      <td>Female</td>\n",
       "    </tr>\n",
       "    <tr>\n",
       "      <th>15587</th>\n",
       "      <td>0.326218</td>\n",
       "      <td>0.2</td>\n",
       "      <td>0.2</td>\n",
       "      <td>0.2</td>\n",
       "      <td>0.00</td>\n",
       "      <td>0.6</td>\n",
       "      <td>0.8</td>\n",
       "      <td>1.00</td>\n",
       "      <td>0.8</td>\n",
       "      <td>0.75</td>\n",
       "      <td>...</td>\n",
       "      <td>1.00</td>\n",
       "      <td>0.75</td>\n",
       "      <td>0.8</td>\n",
       "      <td>0.641026</td>\n",
       "      <td>0.546174</td>\n",
       "      <td>0</td>\n",
       "      <td>yes</td>\n",
       "      <td>business</td>\n",
       "      <td>single</td>\n",
       "      <td>Male</td>\n",
       "    </tr>\n",
       "    <tr>\n",
       "      <th>15588</th>\n",
       "      <td>0.583527</td>\n",
       "      <td>0.8</td>\n",
       "      <td>0.6</td>\n",
       "      <td>0.8</td>\n",
       "      <td>0.75</td>\n",
       "      <td>1.0</td>\n",
       "      <td>0.8</td>\n",
       "      <td>1.00</td>\n",
       "      <td>1.0</td>\n",
       "      <td>0.25</td>\n",
       "      <td>...</td>\n",
       "      <td>0.50</td>\n",
       "      <td>0.75</td>\n",
       "      <td>1.0</td>\n",
       "      <td>0.282051</td>\n",
       "      <td>0.773087</td>\n",
       "      <td>0</td>\n",
       "      <td>yes</td>\n",
       "      <td>leisure</td>\n",
       "      <td>double</td>\n",
       "      <td>Male</td>\n",
       "    </tr>\n",
       "    <tr>\n",
       "      <th>15589</th>\n",
       "      <td>0.579118</td>\n",
       "      <td>0.6</td>\n",
       "      <td>0.6</td>\n",
       "      <td>0.6</td>\n",
       "      <td>0.50</td>\n",
       "      <td>0.6</td>\n",
       "      <td>0.6</td>\n",
       "      <td>0.50</td>\n",
       "      <td>0.6</td>\n",
       "      <td>0.75</td>\n",
       "      <td>...</td>\n",
       "      <td>0.00</td>\n",
       "      <td>0.50</td>\n",
       "      <td>0.6</td>\n",
       "      <td>0.397436</td>\n",
       "      <td>0.527704</td>\n",
       "      <td>1</td>\n",
       "      <td>yes</td>\n",
       "      <td>business</td>\n",
       "      <td>suite</td>\n",
       "      <td>Male</td>\n",
       "    </tr>\n",
       "  </tbody>\n",
       "</table>\n",
       "<p>15294 rows × 22 columns</p>\n",
       "</div>"
      ],
      "text/plain": [
       "         RewardPoints  Comfort  ReceptionSchedule  FoodDrink  Location  Wifi  \\\n",
       "Cust_ID                                                                        \n",
       "1            0.525986      0.6                0.8        0.2      0.75   0.8   \n",
       "2            0.947564      0.2                0.2        0.2      0.00   1.0   \n",
       "3            0.400232      0.6                0.6        0.6      0.50   0.2   \n",
       "4            0.280510      0.2                0.2        0.2      0.00   0.8   \n",
       "5            0.634803      0.4                0.4        0.6      0.25   1.0   \n",
       "...               ...      ...                ...        ...       ...   ...   \n",
       "15585        0.540139      0.4                0.0        0.4      0.25   0.6   \n",
       "15586        0.540603      0.6                0.6        0.6      0.50   1.0   \n",
       "15587        0.326218      0.2                0.2        0.2      0.00   0.6   \n",
       "15588        0.583527      0.8                0.6        0.8      0.75   1.0   \n",
       "15589        0.579118      0.6                0.6        0.6      0.50   0.6   \n",
       "\n",
       "         Amenities  Staff  OnlineBooking  PriceQuality  ...  Checkin  \\\n",
       "Cust_ID                                                 ...            \n",
       "1              0.6   0.75            0.6          0.50  ...     0.75   \n",
       "2              0.6   0.75            1.0          1.00  ...     0.00   \n",
       "3              0.8   0.75            0.6          0.50  ...     0.25   \n",
       "4              0.8   1.00            0.8          0.75  ...     0.75   \n",
       "5              1.0   1.00            1.0          1.00  ...     0.00   \n",
       "...            ...    ...            ...           ...  ...      ...   \n",
       "15585          0.4   0.75            0.6          0.75  ...     0.50   \n",
       "15586          0.6   1.00            1.0          0.50  ...     0.75   \n",
       "15587          0.8   1.00            0.8          0.75  ...     1.00   \n",
       "15588          0.8   1.00            1.0          0.25  ...     0.50   \n",
       "15589          0.6   0.50            0.6          0.75  ...     0.00   \n",
       "\n",
       "         Cleanliness  BarService       Age  Overall_Rating  Churn  Longevity  \\\n",
       "Cust_ID                                                                        \n",
       "1               0.50         0.8  0.512821        0.567282      1        yes   \n",
       "2               1.00         0.4  0.628205        0.527704      0        yes   \n",
       "3               0.50         0.2  0.525641        0.414248      1        yes   \n",
       "4               0.75         0.6  0.269231        0.527704      0        yes   \n",
       "5               0.50         1.0  0.320513        0.641161      0        yes   \n",
       "...              ...         ...       ...             ...    ...        ...   \n",
       "15585           0.75         0.6  0.333333        0.414248      1         no   \n",
       "15586           0.75         1.0  0.179487        0.641161      1         no   \n",
       "15587           0.75         0.8  0.641026        0.546174      0        yes   \n",
       "15588           0.75         1.0  0.282051        0.773087      0        yes   \n",
       "15589           0.50         0.6  0.397436        0.527704      1        yes   \n",
       "\n",
       "         TypeTravel RoomType  Gender  \n",
       "Cust_ID                               \n",
       "1          business   single  Female  \n",
       "2          business   single    Male  \n",
       "3          business   single    Male  \n",
       "4           leisure   double  Female  \n",
       "5          business   single    Male  \n",
       "...             ...      ...     ...  \n",
       "15585      business   double  Female  \n",
       "15586      business   double  Female  \n",
       "15587      business   single    Male  \n",
       "15588       leisure   double    Male  \n",
       "15589      business    suite    Male  \n",
       "\n",
       "[15294 rows x 22 columns]"
      ]
     },
     "execution_count": 309,
     "metadata": {},
     "output_type": "execute_result"
    }
   ],
   "source": [
    "df_scaled"
   ]
  },
  {
   "cell_type": "markdown",
   "id": "824caffa",
   "metadata": {},
   "source": [
    "# 4) Feature Selection"
   ]
  },
  {
   "cell_type": "code",
   "execution_count": 327,
   "id": "04027b6f",
   "metadata": {},
   "outputs": [],
   "source": [
    "data = df_scaled[metric_features]\n",
    "target = df_scaled['Churn']"
   ]
  },
  {
   "cell_type": "markdown",
   "id": "be63aa92",
   "metadata": {},
   "source": [
    "### 4.1) Metric Features"
   ]
  },
  {
   "cell_type": "code",
   "execution_count": 328,
   "id": "4176809f",
   "metadata": {},
   "outputs": [],
   "source": [
    "def cor_heatmap(cor):\n",
    "    plt.figure(figsize=(12,10))\n",
    "    sns.heatmap(data = cor, annot = True, cmap = plt.cm.Reds, fmt='.1')\n",
    "    plt.show()"
   ]
  },
  {
   "cell_type": "code",
   "execution_count": 329,
   "id": "43054e77",
   "metadata": {},
   "outputs": [
    {
     "data": {
      "image/png": "[encoded data removed]",
      "text/plain": [
       "<Figure size 864x720 with 2 Axes>"
      ]
     },
     "metadata": {
      "needs_background": "light"
     },
     "output_type": "display_data"
    }
   ],
   "source": [
    "cor_heatmap(data.corr())"
   ]
  },
  {
   "cell_type": "code",
   "execution_count": 330,
   "id": "a765d29e",
   "metadata": {},
   "outputs": [],
   "source": [
    "#RFE"
   ]
  },
  {
   "cell_type": "code",
   "execution_count": 331,
   "id": "11b9b919",
   "metadata": {},
   "outputs": [
    {
     "name": "stdout",
     "output_type": "stream",
     "text": [
      "Optimum number of features: 5\n",
      "Score with 5 features: 0.796906\n"
     ]
    }
   ],
   "source": [
    "#no of features\n",
    "nof_list=np.arange(1,6)            \n",
    "high_score=0\n",
    "#Variable to store the optimum features\n",
    "nof=0           \n",
    "score_list =[]\n",
    "\n",
    "#for each possible number of features\n",
    "for n in range(len(nof_list)):\n",
    "    #the data is split into training and test sets, with stratification\n",
    "    X_train1, X_test1, y_train1, y_test1 = train_test_split(data,target, test_size = 0.3, random_state = 0, stratify = target)\n",
    "    \n",
    "    model = LogisticRegression()\n",
    "    rfe = RFE(model,nof_list[n])\n",
    "    \n",
    "    #then the features are ranked and selected based on their importance to a logistic regression\n",
    "    X_train_rfe = rfe.fit_transform(X_train1,y_train1)\n",
    "    X_test_rfe = rfe.transform(X_test1)\n",
    "    \n",
    "    #the training partition with only the selected feature(s) is fit into a logistic regression\n",
    "    model.fit(X_train_rfe,y_train1)\n",
    "    \n",
    "    #then the target is predicted for the test partition, and its accuracy evaluated\n",
    "    #by its f1 score\n",
    "    y_pred = model.predict(X_test_rfe)\n",
    "    score = f1_score(y_test1, y_pred, average='micro')\n",
    "    score_list.append(score)\n",
    "    \n",
    "    #the f1 score is saved in a list of scores, and the high score\n",
    "    #and corresponding number of features are isolated\n",
    "    if(score>high_score):\n",
    "        high_score = score\n",
    "        nof = nof_list[n]\n",
    "        \n",
    "#The optimum number of features and the corresponding score is printed\n",
    "print(\"Optimum number of features: %d\" %nof)\n",
    "print(\"Score with %d features: %f\" % (nof, high_score))"
   ]
  },
  {
   "cell_type": "code",
   "execution_count": 332,
   "id": "e18fa0c4",
   "metadata": {},
   "outputs": [
    {
     "data": {
      "text/plain": [
       "RewardPoints         False\n",
       "Comfort              False\n",
       "ReceptionSchedule     True\n",
       "FoodDrink             True\n",
       "Location             False\n",
       "Wifi                 False\n",
       "Amenities             True\n",
       "Staff                False\n",
       "OnlineBooking        False\n",
       "PriceQuality         False\n",
       "RoomSpace             True\n",
       "CheckOut             False\n",
       "Checkin              False\n",
       "Cleanliness          False\n",
       "BarService           False\n",
       "Age                  False\n",
       "Overall_Rating        True\n",
       "dtype: bool"
      ]
     },
     "execution_count": 332,
     "metadata": {},
     "output_type": "execute_result"
    }
   ],
   "source": [
    "#RFE selects 5 features according to a logistic regression\n",
    "rfe = RFE(estimator = model, n_features_to_select = 5)\n",
    "X_rfe = rfe.fit_transform(X = data, y = target)\n",
    "model = LogisticRegression().fit(X = X_rfe,y = target)\n",
    "selected_features = pd.Series(rfe.support_, index = data.columns)\n",
    "\n",
    "# Features selected with RFE\n",
    "selected_features"
   ]
  },
  {
   "cell_type": "code",
   "execution_count": 333,
   "id": "594a670f",
   "metadata": {},
   "outputs": [],
   "source": [
    "#LASSO"
   ]
  },
  {
   "cell_type": "code",
   "execution_count": 334,
   "id": "d5be98b3",
   "metadata": {},
   "outputs": [
    {
     "name": "stdout",
     "output_type": "stream",
     "text": [
      "Best alpha using built-in LassoCV: 0.000121\n",
      "Best score using built-in LassoCV: 0.407498\n",
      "Lasso picked 15 variables and eliminated the other 2 variables\n"
     ]
    },
    {
     "data": {
      "image/png": "[encoded data removed]",
      "text/plain": [
       "<Figure size 576x720 with 1 Axes>"
      ]
     },
     "metadata": {
      "needs_background": "light"
     },
     "output_type": "display_data"
    }
   ],
   "source": [
    "#barh plot created to show feature importance\n",
    "def plot_importance(coef,name):\n",
    "    imp_coef = coef.sort_values()\n",
    "    plt.figure(figsize=(8,10))\n",
    "    imp_coef.plot(kind = \"barh\", color=\"peru\")\n",
    "    plt.title(\"Feature importance using \" + name + \" Model\")\n",
    "    plt.show()\n",
    "    \n",
    "reg = LassoCV()\n",
    "\n",
    "#the best alpha, best score, and feature importance plot determined\n",
    "#using LASSO are shown\n",
    "reg.fit(X=data, y=target)\n",
    "print(\"Best alpha using built-in LassoCV: %f\" % reg.alpha_)\n",
    "print(\"Best score using built-in LassoCV: %f\" %reg.score(X = data,y = target))\n",
    "coef = pd.Series(reg.coef_, index = data.columns)\n",
    "print(\"Lasso picked \" + str(sum(coef != 0)) + \" variables and eliminated the other \" +  str(sum(coef == 0)) + \" variables\")\n",
    "plot_importance(coef,'Lasso')"
   ]
  },
  {
   "cell_type": "code",
   "execution_count": 341,
   "id": "2cc9c15f",
   "metadata": {},
   "outputs": [],
   "source": [
    "# Sequential Forward Selection (SFS)"
   ]
  },
  {
   "cell_type": "code",
   "execution_count": 342,
   "id": "e8fd1f90",
   "metadata": {},
   "outputs": [
    {
     "data": {
      "text/plain": [
       "SequentialFeatureSelector(cv=None, estimator=LogisticRegression(),\n",
       "                          k_features=12, scoring='accuracy')"
      ]
     },
     "execution_count": 342,
     "metadata": {},
     "output_type": "execute_result"
    }
   ],
   "source": [
    "model = LogisticRegression()\n",
    "# Stop when all features have been selected\n",
    "forward = SFS(model, k_features=12, forward=True, scoring=\"accuracy\", cv = None)\n",
    "\n",
    "forward.fit(data, target)"
   ]
  },
  {
   "cell_type": "code",
   "execution_count": 343,
   "id": "c83b69b7",
   "metadata": {},
   "outputs": [
    {
     "data": {
      "text/html": [
       "<div>\n",
       "<style scoped>\n",
       "    .dataframe tbody tr th:only-of-type {\n",
       "        vertical-align: middle;\n",
       "    }\n",
       "\n",
       "    .dataframe tbody tr th {\n",
       "        vertical-align: top;\n",
       "    }\n",
       "\n",
       "    .dataframe thead th {\n",
       "        text-align: right;\n",
       "    }\n",
       "</style>\n",
       "<table border=\"1\" class=\"dataframe\">\n",
       "  <thead>\n",
       "    <tr style=\"text-align: right;\">\n",
       "      <th></th>\n",
       "      <th>feature_idx</th>\n",
       "      <th>avg_score</th>\n",
       "      <th>feature_names</th>\n",
       "    </tr>\n",
       "  </thead>\n",
       "  <tbody>\n",
       "    <tr>\n",
       "      <th>1</th>\n",
       "      <td>(6,)</td>\n",
       "      <td>0.797372</td>\n",
       "      <td>(Amenities,)</td>\n",
       "    </tr>\n",
       "    <tr>\n",
       "      <th>2</th>\n",
       "      <td>(0, 6)</td>\n",
       "      <td>0.797372</td>\n",
       "      <td>(RewardPoints, Amenities)</td>\n",
       "    </tr>\n",
       "    <tr>\n",
       "      <th>3</th>\n",
       "      <td>(0, 1, 6)</td>\n",
       "      <td>0.799268</td>\n",
       "      <td>(RewardPoints, Comfort, Amenities)</td>\n",
       "    </tr>\n",
       "    <tr>\n",
       "      <th>4</th>\n",
       "      <td>(0, 1, 4, 6)</td>\n",
       "      <td>0.796195</td>\n",
       "      <td>(RewardPoints, Comfort, Location, Amenities)</td>\n",
       "    </tr>\n",
       "    <tr>\n",
       "      <th>5</th>\n",
       "      <td>(0, 1, 4, 6, 16)</td>\n",
       "      <td>0.792533</td>\n",
       "      <td>(RewardPoints, Comfort, Location, Amenities, O...</td>\n",
       "    </tr>\n",
       "    <tr>\n",
       "      <th>6</th>\n",
       "      <td>(0, 1, 2, 4, 6, 16)</td>\n",
       "      <td>0.795475</td>\n",
       "      <td>(RewardPoints, Comfort, ReceptionSchedule, Loc...</td>\n",
       "    </tr>\n",
       "    <tr>\n",
       "      <th>7</th>\n",
       "      <td>(0, 1, 2, 4, 6, 9, 16)</td>\n",
       "      <td>0.79881</td>\n",
       "      <td>(RewardPoints, Comfort, ReceptionSchedule, Loc...</td>\n",
       "    </tr>\n",
       "    <tr>\n",
       "      <th>8</th>\n",
       "      <td>(0, 1, 2, 4, 6, 9, 15, 16)</td>\n",
       "      <td>0.798156</td>\n",
       "      <td>(RewardPoints, Comfort, ReceptionSchedule, Loc...</td>\n",
       "    </tr>\n",
       "    <tr>\n",
       "      <th>9</th>\n",
       "      <td>(0, 1, 2, 4, 6, 9, 12, 15, 16)</td>\n",
       "      <td>0.800968</td>\n",
       "      <td>(RewardPoints, Comfort, ReceptionSchedule, Loc...</td>\n",
       "    </tr>\n",
       "    <tr>\n",
       "      <th>10</th>\n",
       "      <td>(0, 1, 2, 3, 4, 6, 9, 12, 15, 16)</td>\n",
       "      <td>0.800968</td>\n",
       "      <td>(RewardPoints, Comfort, ReceptionSchedule, Foo...</td>\n",
       "    </tr>\n",
       "    <tr>\n",
       "      <th>11</th>\n",
       "      <td>(0, 1, 2, 3, 4, 5, 6, 9, 12, 15, 16)</td>\n",
       "      <td>0.80221</td>\n",
       "      <td>(RewardPoints, Comfort, ReceptionSchedule, Foo...</td>\n",
       "    </tr>\n",
       "    <tr>\n",
       "      <th>12</th>\n",
       "      <td>(0, 1, 2, 3, 4, 5, 6, 7, 9, 12, 15, 16)</td>\n",
       "      <td>0.802406</td>\n",
       "      <td>(RewardPoints, Comfort, ReceptionSchedule, Foo...</td>\n",
       "    </tr>\n",
       "  </tbody>\n",
       "</table>\n",
       "</div>"
      ],
      "text/plain": [
       "                                feature_idx avg_score  \\\n",
       "1                                      (6,)  0.797372   \n",
       "2                                    (0, 6)  0.797372   \n",
       "3                                 (0, 1, 6)  0.799268   \n",
       "4                              (0, 1, 4, 6)  0.796195   \n",
       "5                          (0, 1, 4, 6, 16)  0.792533   \n",
       "6                       (0, 1, 2, 4, 6, 16)  0.795475   \n",
       "7                    (0, 1, 2, 4, 6, 9, 16)   0.79881   \n",
       "8                (0, 1, 2, 4, 6, 9, 15, 16)  0.798156   \n",
       "9            (0, 1, 2, 4, 6, 9, 12, 15, 16)  0.800968   \n",
       "10        (0, 1, 2, 3, 4, 6, 9, 12, 15, 16)  0.800968   \n",
       "11     (0, 1, 2, 3, 4, 5, 6, 9, 12, 15, 16)   0.80221   \n",
       "12  (0, 1, 2, 3, 4, 5, 6, 7, 9, 12, 15, 16)  0.802406   \n",
       "\n",
       "                                        feature_names  \n",
       "1                                        (Amenities,)  \n",
       "2                           (RewardPoints, Amenities)  \n",
       "3                  (RewardPoints, Comfort, Amenities)  \n",
       "4        (RewardPoints, Comfort, Location, Amenities)  \n",
       "5   (RewardPoints, Comfort, Location, Amenities, O...  \n",
       "6   (RewardPoints, Comfort, ReceptionSchedule, Loc...  \n",
       "7   (RewardPoints, Comfort, ReceptionSchedule, Loc...  \n",
       "8   (RewardPoints, Comfort, ReceptionSchedule, Loc...  \n",
       "9   (RewardPoints, Comfort, ReceptionSchedule, Loc...  \n",
       "10  (RewardPoints, Comfort, ReceptionSchedule, Foo...  \n",
       "11  (RewardPoints, Comfort, ReceptionSchedule, Foo...  \n",
       "12  (RewardPoints, Comfort, ReceptionSchedule, Foo...  "
      ]
     },
     "execution_count": 343,
     "metadata": {},
     "output_type": "execute_result"
    }
   ],
   "source": [
    "# Checking the features added at each step\n",
    "forward_table = pd.DataFrame.from_dict(forward.get_metric_dict()).T.drop(columns=['cv_scores', 'ci_bound', 'std_dev', 'std_err'])\n",
    "forward_table"
   ]
  },
  {
   "cell_type": "code",
   "execution_count": 344,
   "id": "14340545",
   "metadata": {},
   "outputs": [
    {
     "data": {
      "text/plain": [
       "0.802406172355172"
      ]
     },
     "execution_count": 344,
     "metadata": {},
     "output_type": "execute_result"
    }
   ],
   "source": [
    "# Iteration with the highest score\n",
    "forward_table_max = forward_table['avg_score'].max()\n",
    "forward_table_max"
   ]
  },
  {
   "cell_type": "code",
   "execution_count": 345,
   "id": "7a3a774a",
   "metadata": {},
   "outputs": [
    {
     "data": {
      "text/plain": [
       "array([('RewardPoints', 'Comfort', 'ReceptionSchedule', 'FoodDrink', 'Location', 'Wifi', 'Amenities', 'Staff', 'PriceQuality', 'Checkin', 'Age', 'Overall_Rating')],\n",
       "      dtype=object)"
      ]
     },
     "execution_count": 345,
     "metadata": {},
     "output_type": "execute_result"
    }
   ],
   "source": [
    "# Feature's names\n",
    "forward_table[forward_table['avg_score']==forward_table_max]['feature_names'].values"
   ]
  },
  {
   "cell_type": "code",
   "execution_count": 346,
   "id": "829cff60",
   "metadata": {},
   "outputs": [],
   "source": [
    "# Sequential Backward Selection (SBS)"
   ]
  },
  {
   "cell_type": "code",
   "execution_count": 347,
   "id": "d40c0564",
   "metadata": {},
   "outputs": [
    {
     "data": {
      "text/plain": [
       "SequentialFeatureSelector(cv=None, estimator=LogisticRegression(),\n",
       "                          forward=False, scoring='accuracy')"
      ]
     },
     "execution_count": 347,
     "metadata": {},
     "output_type": "execute_result"
    }
   ],
   "source": [
    "# Stop when only one feature remains\n",
    "backward = SFS(model, k_features=1, forward=False, scoring=\"accuracy\", cv = None)\n",
    "\n",
    "backward.fit(data, target)"
   ]
  },
  {
   "cell_type": "code",
   "execution_count": 348,
   "id": "8e500c70",
   "metadata": {},
   "outputs": [
    {
     "data": {
      "text/html": [
       "<div>\n",
       "<style scoped>\n",
       "    .dataframe tbody tr th:only-of-type {\n",
       "        vertical-align: middle;\n",
       "    }\n",
       "\n",
       "    .dataframe tbody tr th {\n",
       "        vertical-align: top;\n",
       "    }\n",
       "\n",
       "    .dataframe thead th {\n",
       "        text-align: right;\n",
       "    }\n",
       "</style>\n",
       "<table border=\"1\" class=\"dataframe\">\n",
       "  <thead>\n",
       "    <tr style=\"text-align: right;\">\n",
       "      <th></th>\n",
       "      <th>feature_idx</th>\n",
       "      <th>avg_score</th>\n",
       "      <th>feature_names</th>\n",
       "    </tr>\n",
       "  </thead>\n",
       "  <tbody>\n",
       "    <tr>\n",
       "      <th>17</th>\n",
       "      <td>(0, 1, 2, 3, 4, 5, 6, 7, 8, 9, 10, 11, 12, 13,...</td>\n",
       "      <td>0.802864</td>\n",
       "      <td>(RewardPoints, Comfort, ReceptionSchedule, Foo...</td>\n",
       "    </tr>\n",
       "    <tr>\n",
       "      <th>16</th>\n",
       "      <td>(1, 2, 3, 4, 5, 6, 7, 8, 9, 10, 11, 12, 13, 14...</td>\n",
       "      <td>0.803975</td>\n",
       "      <td>(Comfort, ReceptionSchedule, FoodDrink, Locati...</td>\n",
       "    </tr>\n",
       "    <tr>\n",
       "      <th>15</th>\n",
       "      <td>(1, 2, 3, 4, 5, 6, 7, 8, 9, 10, 11, 12, 14, 15...</td>\n",
       "      <td>0.804172</td>\n",
       "      <td>(Comfort, ReceptionSchedule, FoodDrink, Locati...</td>\n",
       "    </tr>\n",
       "    <tr>\n",
       "      <th>14</th>\n",
       "      <td>(1, 2, 3, 4, 5, 6, 7, 8, 9, 10, 11, 12, 14, 15)</td>\n",
       "      <td>0.804302</td>\n",
       "      <td>(Comfort, ReceptionSchedule, FoodDrink, Locati...</td>\n",
       "    </tr>\n",
       "    <tr>\n",
       "      <th>13</th>\n",
       "      <td>(1, 2, 3, 4, 5, 6, 8, 9, 10, 11, 12, 14, 15)</td>\n",
       "      <td>0.804172</td>\n",
       "      <td>(Comfort, ReceptionSchedule, FoodDrink, Locati...</td>\n",
       "    </tr>\n",
       "    <tr>\n",
       "      <th>12</th>\n",
       "      <td>(1, 2, 3, 5, 6, 8, 9, 10, 11, 12, 14, 15)</td>\n",
       "      <td>0.803779</td>\n",
       "      <td>(Comfort, ReceptionSchedule, FoodDrink, Wifi, ...</td>\n",
       "    </tr>\n",
       "    <tr>\n",
       "      <th>11</th>\n",
       "      <td>(1, 2, 3, 5, 6, 8, 9, 10, 12, 14, 15)</td>\n",
       "      <td>0.803714</td>\n",
       "      <td>(Comfort, ReceptionSchedule, FoodDrink, Wifi, ...</td>\n",
       "    </tr>\n",
       "    <tr>\n",
       "      <th>10</th>\n",
       "      <td>(1, 2, 5, 6, 8, 9, 10, 12, 14, 15)</td>\n",
       "      <td>0.802537</td>\n",
       "      <td>(Comfort, ReceptionSchedule, Wifi, Amenities, ...</td>\n",
       "    </tr>\n",
       "    <tr>\n",
       "      <th>9</th>\n",
       "      <td>(1, 2, 5, 6, 8, 9, 10, 12, 14)</td>\n",
       "      <td>0.801948</td>\n",
       "      <td>(Comfort, ReceptionSchedule, Wifi, Amenities, ...</td>\n",
       "    </tr>\n",
       "    <tr>\n",
       "      <th>8</th>\n",
       "      <td>(1, 2, 5, 6, 8, 9, 10, 12)</td>\n",
       "      <td>0.802341</td>\n",
       "      <td>(Comfort, ReceptionSchedule, Wifi, Amenities, ...</td>\n",
       "    </tr>\n",
       "    <tr>\n",
       "      <th>7</th>\n",
       "      <td>(1, 2, 6, 8, 9, 10, 12)</td>\n",
       "      <td>0.802733</td>\n",
       "      <td>(Comfort, ReceptionSchedule, Amenities, Online...</td>\n",
       "    </tr>\n",
       "    <tr>\n",
       "      <th>6</th>\n",
       "      <td>(2, 6, 8, 9, 10, 12)</td>\n",
       "      <td>0.801752</td>\n",
       "      <td>(ReceptionSchedule, Amenities, OnlineBooking, ...</td>\n",
       "    </tr>\n",
       "    <tr>\n",
       "      <th>5</th>\n",
       "      <td>(6, 8, 9, 10, 12)</td>\n",
       "      <td>0.801752</td>\n",
       "      <td>(Amenities, OnlineBooking, PriceQuality, RoomS...</td>\n",
       "    </tr>\n",
       "    <tr>\n",
       "      <th>4</th>\n",
       "      <td>(6, 8, 9, 10)</td>\n",
       "      <td>0.795672</td>\n",
       "      <td>(Amenities, OnlineBooking, PriceQuality, RoomS...</td>\n",
       "    </tr>\n",
       "    <tr>\n",
       "      <th>3</th>\n",
       "      <td>(6, 8, 9)</td>\n",
       "      <td>0.797568</td>\n",
       "      <td>(Amenities, OnlineBooking, PriceQuality)</td>\n",
       "    </tr>\n",
       "    <tr>\n",
       "      <th>2</th>\n",
       "      <td>(6, 8)</td>\n",
       "      <td>0.776448</td>\n",
       "      <td>(Amenities, OnlineBooking)</td>\n",
       "    </tr>\n",
       "    <tr>\n",
       "      <th>1</th>\n",
       "      <td>(6,)</td>\n",
       "      <td>0.797372</td>\n",
       "      <td>(Amenities,)</td>\n",
       "    </tr>\n",
       "  </tbody>\n",
       "</table>\n",
       "</div>"
      ],
      "text/plain": [
       "                                          feature_idx avg_score  \\\n",
       "17  (0, 1, 2, 3, 4, 5, 6, 7, 8, 9, 10, 11, 12, 13,...  0.802864   \n",
       "16  (1, 2, 3, 4, 5, 6, 7, 8, 9, 10, 11, 12, 13, 14...  0.803975   \n",
       "15  (1, 2, 3, 4, 5, 6, 7, 8, 9, 10, 11, 12, 14, 15...  0.804172   \n",
       "14    (1, 2, 3, 4, 5, 6, 7, 8, 9, 10, 11, 12, 14, 15)  0.804302   \n",
       "13       (1, 2, 3, 4, 5, 6, 8, 9, 10, 11, 12, 14, 15)  0.804172   \n",
       "12          (1, 2, 3, 5, 6, 8, 9, 10, 11, 12, 14, 15)  0.803779   \n",
       "11              (1, 2, 3, 5, 6, 8, 9, 10, 12, 14, 15)  0.803714   \n",
       "10                 (1, 2, 5, 6, 8, 9, 10, 12, 14, 15)  0.802537   \n",
       "9                      (1, 2, 5, 6, 8, 9, 10, 12, 14)  0.801948   \n",
       "8                          (1, 2, 5, 6, 8, 9, 10, 12)  0.802341   \n",
       "7                             (1, 2, 6, 8, 9, 10, 12)  0.802733   \n",
       "6                                (2, 6, 8, 9, 10, 12)  0.801752   \n",
       "5                                   (6, 8, 9, 10, 12)  0.801752   \n",
       "4                                       (6, 8, 9, 10)  0.795672   \n",
       "3                                           (6, 8, 9)  0.797568   \n",
       "2                                              (6, 8)  0.776448   \n",
       "1                                                (6,)  0.797372   \n",
       "\n",
       "                                        feature_names  \n",
       "17  (RewardPoints, Comfort, ReceptionSchedule, Foo...  \n",
       "16  (Comfort, ReceptionSchedule, FoodDrink, Locati...  \n",
       "15  (Comfort, ReceptionSchedule, FoodDrink, Locati...  \n",
       "14  (Comfort, ReceptionSchedule, FoodDrink, Locati...  \n",
       "13  (Comfort, ReceptionSchedule, FoodDrink, Locati...  \n",
       "12  (Comfort, ReceptionSchedule, FoodDrink, Wifi, ...  \n",
       "11  (Comfort, ReceptionSchedule, FoodDrink, Wifi, ...  \n",
       "10  (Comfort, ReceptionSchedule, Wifi, Amenities, ...  \n",
       "9   (Comfort, ReceptionSchedule, Wifi, Amenities, ...  \n",
       "8   (Comfort, ReceptionSchedule, Wifi, Amenities, ...  \n",
       "7   (Comfort, ReceptionSchedule, Amenities, Online...  \n",
       "6   (ReceptionSchedule, Amenities, OnlineBooking, ...  \n",
       "5   (Amenities, OnlineBooking, PriceQuality, RoomS...  \n",
       "4   (Amenities, OnlineBooking, PriceQuality, RoomS...  \n",
       "3            (Amenities, OnlineBooking, PriceQuality)  \n",
       "2                          (Amenities, OnlineBooking)  \n",
       "1                                        (Amenities,)  "
      ]
     },
     "execution_count": 348,
     "metadata": {},
     "output_type": "execute_result"
    }
   ],
   "source": [
    "# Checking the features removed at each step\n",
    "backward_table = pd.DataFrame.from_dict(backward.get_metric_dict()).T.drop(columns=['cv_scores', 'ci_bound', 'std_dev', 'std_err'])\n",
    "backward_table"
   ]
  },
  {
   "cell_type": "code",
   "execution_count": 349,
   "id": "aa8c684b",
   "metadata": {},
   "outputs": [
    {
     "data": {
      "text/plain": [
       "0.8043023407872368"
      ]
     },
     "execution_count": 349,
     "metadata": {},
     "output_type": "execute_result"
    }
   ],
   "source": [
    "# Iteration with the highest score\n",
    "backward_table_max = backward_table['avg_score'].max()\n",
    "backward_table_max"
   ]
  },
  {
   "cell_type": "code",
   "execution_count": 350,
   "id": "bee04b73",
   "metadata": {},
   "outputs": [
    {
     "data": {
      "text/plain": [
       "array([('Comfort', 'ReceptionSchedule', 'FoodDrink', 'Location', 'Wifi', 'Amenities', 'Staff', 'OnlineBooking', 'PriceQuality', 'RoomSpace', 'CheckOut', 'Checkin', 'BarService', 'Age')],\n",
       "      dtype=object)"
      ]
     },
     "execution_count": 350,
     "metadata": {},
     "output_type": "execute_result"
    }
   ],
   "source": [
    "# Feature's names\n",
    "backward_table[backward_table['avg_score']==backward_table_max]['feature_names'].values"
   ]
  },
  {
   "cell_type": "code",
   "execution_count": 351,
   "id": "a77b0857",
   "metadata": {},
   "outputs": [
    {
     "data": {
      "text/plain": [
       "Index(['RewardPoints', 'Comfort', 'ReceptionSchedule', 'FoodDrink', 'Location',\n",
       "       'Wifi', 'Amenities', 'Staff', 'OnlineBooking', 'PriceQuality',\n",
       "       'RoomSpace', 'CheckOut', 'Checkin', 'Cleanliness', 'BarService', 'Age',\n",
       "       'Overall_Rating', 'Churn', 'Longevity', 'TypeTravel', 'RoomType',\n",
       "       'Gender'],\n",
       "      dtype='object')"
      ]
     },
     "execution_count": 351,
     "metadata": {},
     "output_type": "execute_result"
    }
   ],
   "source": [
    "df_scaled.columns"
   ]
  },
  {
   "cell_type": "markdown",
   "id": "48959881",
   "metadata": {},
   "source": [
    "<hr> \n",
    "\n",
    "### Numerical Data\n",
    "\n",
    "| Predictor | RFE | Lasso |  SFS | SBS | Correlation | Include in the model?\n",
    "| --- | --- | --- | --- |--- | --- | --- |\n",
    "| RewardPoints | Discard | Keep | Discard | Keep | Keep |  Keep\n",
    "| Comfort | Discard | Keep | Keep | Discard | Keep | Keep\n",
    "| ReceptionSchedule | Keep | Keep | Discard | Discard | Keep | Discard\n",
    "| FoodDrink | Discard | Keep | Keep | Discard | Keep |Discard \n",
    "| Location | Keep | Keep | Discard | Discard | Keep | Keep\n",
    "| Wifi | Discard | Keep | Discard | Discard | Discard | Discard\n",
    "| Amenities | Keep | Keep | Keep | Discard | Keep | Keep\n",
    "| Staff | Discard | Keep | Keep | Keep | Discard | Keep\n",
    "| OnlineBooking | Discard | Keep | Keep | Keep | Keep | Keep\n",
    "| PriceQuality | Discard | Keep | Keep | Discard | Keep | Keep\n",
    "| RoomSpace | Keep | Keep | Discard | Discard | Discard | Discard\n",
    "| CheckOut | Discard | Keep | Keep | Discard | Discard | Discard\n",
    "| Checkin | Discard | Keep | Keep | Discard | Discard | Discard\n",
    "| Cleanliness | Discard | Discard | Keep | Discard | Discard | Discard\n",
    "| BarService | Discard | Keep | Keep | Discard | Discard | Discard\n",
    "| Age | Discard | Keep | Keep | Discard | Discard | Discard\n",
    "| Overall_Rating | Keep | Discard | Keep | Discard | Discard | Discard\n",
    "\n",
    "<hr> "
   ]
  },
  {
   "cell_type": "code",
   "execution_count": null,
   "id": "56cf36b2",
   "metadata": {},
   "outputs": [],
   "source": []
  },
  {
   "cell_type": "code",
   "execution_count": null,
   "id": "12648b76",
   "metadata": {},
   "outputs": [],
   "source": []
  },
  {
   "cell_type": "markdown",
   "id": "bccba6f4",
   "metadata": {},
   "source": [
    "### 4.2) Non Metric Features"
   ]
  },
  {
   "cell_type": "code",
   "execution_count": null,
   "id": "d111c8f1",
   "metadata": {},
   "outputs": [],
   "source": []
  },
  {
   "cell_type": "code",
   "execution_count": null,
   "id": "1b3711f1",
   "metadata": {},
   "outputs": [],
   "source": []
  },
  {
   "cell_type": "code",
   "execution_count": null,
   "id": "e5b8e1bf",
   "metadata": {},
   "outputs": [],
   "source": []
  },
  {
   "cell_type": "code",
   "execution_count": null,
   "id": "5a48b4a4",
   "metadata": {},
   "outputs": [],
   "source": []
  },
  {
   "cell_type": "code",
   "execution_count": null,
   "id": "914ad24d",
   "metadata": {},
   "outputs": [],
   "source": []
  },
  {
   "cell_type": "code",
   "execution_count": null,
   "id": "326f2ad0",
   "metadata": {},
   "outputs": [],
   "source": []
  },
  {
   "cell_type": "code",
   "execution_count": null,
   "id": "aa73a23a",
   "metadata": {},
   "outputs": [],
   "source": []
  },
  {
   "cell_type": "code",
   "execution_count": null,
   "id": "ec150c99",
   "metadata": {},
   "outputs": [],
   "source": []
  },
  {
   "cell_type": "code",
   "execution_count": null,
   "id": "55c9ca07",
   "metadata": {},
   "outputs": [],
   "source": []
  },
  {
   "cell_type": "code",
   "execution_count": null,
   "id": "c2faf00b",
   "metadata": {},
   "outputs": [],
   "source": []
  },
  {
   "cell_type": "code",
   "execution_count": null,
   "id": "bc27c2c3",
   "metadata": {},
   "outputs": [],
   "source": []
  },
  {
   "cell_type": "code",
   "execution_count": null,
   "id": "0ff7a218",
   "metadata": {},
   "outputs": [],
   "source": []
  },
  {
   "cell_type": "code",
   "execution_count": null,
   "id": "7d45d643",
   "metadata": {},
   "outputs": [],
   "source": []
  },
  {
   "cell_type": "code",
   "execution_count": null,
   "id": "6421f3d3",
   "metadata": {},
   "outputs": [],
   "source": []
  },
  {
   "cell_type": "code",
   "execution_count": null,
   "id": "f5f2dd72",
   "metadata": {},
   "outputs": [],
   "source": []
  },
  {
   "cell_type": "code",
   "execution_count": null,
   "id": "561ed208",
   "metadata": {},
   "outputs": [],
   "source": []
  },
  {
   "cell_type": "code",
   "execution_count": null,
   "id": "ca64e414",
   "metadata": {},
   "outputs": [],
   "source": []
  },
  {
   "cell_type": "code",
   "execution_count": null,
   "id": "c3f5b82a",
   "metadata": {},
   "outputs": [],
   "source": []
  },
  {
   "cell_type": "code",
   "execution_count": null,
   "id": "c4178888",
   "metadata": {},
   "outputs": [],
   "source": []
  },
  {
   "cell_type": "code",
   "execution_count": null,
   "id": "413ca3f8",
   "metadata": {},
   "outputs": [],
   "source": []
  },
  {
   "cell_type": "markdown",
   "id": "3ae6db10",
   "metadata": {},
   "source": [
    "# 4) Creating Dummies and Binary Variables"
   ]
  },
  {
   "cell_type": "markdown",
   "id": "52445386",
   "metadata": {},
   "source": [
    "The following variables need dummies: RoomType  \n",
    "The following variables are binary: Churn, Longevity, TypeTravel"
   ]
  },
  {
   "cell_type": "code",
   "execution_count": 67,
   "id": "1e204d49",
   "metadata": {},
   "outputs": [],
   "source": [
    "#churn = 1, nochurn = 0\n",
    "df['Churn'] = [1 if i == 'churn' else 0 for i in df[\"Churn\"]]"
   ]
  },
  {
   "cell_type": "code",
   "execution_count": 68,
   "id": "7283bb43",
   "metadata": {},
   "outputs": [],
   "source": [
    "#yes = 1, no = 0\n",
    "df['Longevity'] = [1 if i == 'yes' else 0 for i in df[\"Longevity\"]]"
   ]
  },
  {
   "cell_type": "code",
   "execution_count": 69,
   "id": "1ac88f24",
   "metadata": {},
   "outputs": [],
   "source": [
    "#business = 1, leisure = 0\n",
    "df['TypeTravel'] = [1 if i == 'business' else 0 for i in df[\"TypeTravel\"]]"
   ]
  },
  {
   "cell_type": "code",
   "execution_count": 70,
   "id": "c0024c0f",
   "metadata": {},
   "outputs": [],
   "source": [
    "df = pd.get_dummies(df, drop_first = True)"
   ]
  },
  {
   "cell_type": "code",
   "execution_count": null,
   "id": "64c94add",
   "metadata": {},
   "outputs": [],
   "source": []
  },
  {
   "cell_type": "code",
   "execution_count": null,
   "id": "ed9d3425",
   "metadata": {},
   "outputs": [],
   "source": []
  },
  {
   "cell_type": "code",
   "execution_count": null,
   "id": "e80c0648",
   "metadata": {},
   "outputs": [],
   "source": []
  },
  {
   "cell_type": "code",
   "execution_count": null,
   "id": "00a71184",
   "metadata": {},
   "outputs": [],
   "source": []
  },
  {
   "cell_type": "code",
   "execution_count": null,
   "id": "ca64682c",
   "metadata": {},
   "outputs": [],
   "source": []
  },
  {
   "cell_type": "code",
   "execution_count": null,
   "id": "2cc8e69a",
   "metadata": {},
   "outputs": [],
   "source": []
  },
  {
   "cell_type": "code",
   "execution_count": null,
   "id": "b072477b",
   "metadata": {},
   "outputs": [],
   "source": []
  },
  {
   "cell_type": "code",
   "execution_count": null,
   "id": "6b4fd319",
   "metadata": {},
   "outputs": [],
   "source": []
  },
  {
   "cell_type": "code",
   "execution_count": null,
   "id": "c775ac2e",
   "metadata": {},
   "outputs": [],
   "source": []
  }
 ],
 "metadata": {
  "kernelspec": {
   "display_name": "Python 3",
   "language": "python",
   "name": "python3"
  },
  "language_info": {
   "codemirror_mode": {
    "name": "ipython",
    "version": 3
   },
   "file_extension": ".py",
   "mimetype": "text/x-python",
   "name": "python",
   "nbconvert_exporter": "python",
   "pygments_lexer": "ipython3",
   "version": "3.8.8"
  }
 },
 "nbformat": 4,
 "nbformat_minor": 5
}
