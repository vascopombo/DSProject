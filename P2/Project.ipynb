{
 "cells": [
  {
   "cell_type": "markdown",
   "id": "e4c231bf",
   "metadata": {},
   "source": [
    "### Data Science"
   ]
  },
  {
   "cell_type": "markdown",
   "id": "caef116f",
   "metadata": {},
   "source": [
    "Group 17\n",
    "\n",
    "Daniel Lucas  \n",
    "Ricardo Nobre  \n",
    "Ricardo Carvalho  \n",
    "Diogo Torneiro  \n",
    "Vasco Pombo  "
   ]
  },
  {
   "cell_type": "markdown",
   "id": "28b9c2fd",
   "metadata": {},
   "source": [
    "### Imports"
   ]
  },
  {
   "cell_type": "code",
   "execution_count": 1,
   "id": "7a701256",
   "metadata": {},
   "outputs": [],
   "source": [
    "#basic libraries: numpy and pandasfor data handling, pyplot \n",
    "#and seaborn for visualization, math for mathematical operations\n",
    "import numpy as np\n",
    "import pandas as pd\n",
    "import matplotlib.pyplot as plt\n",
    "import seaborn as sns\n",
    "import math\n",
    "from datetime import date\n",
    "from scipy.stats import chi2_contingency\n",
    "from sklearn.preprocessing import MinMaxScaler\n",
    "import scipy.stats as stats\n",
    "\n",
    "\n",
    "#dataset partition\n",
    "from sklearn.model_selection import train_test_split\n",
    "\n",
    "#feature selection methods\n",
    "from sklearn.linear_model import LassoCV\n",
    "from sklearn.feature_selection import RFE\n",
    "from mlxtend.feature_selection import SequentialFeatureSelector as SFS\n",
    "\n",
    "#scaling methods and categorical variable encoder\n",
    "from sklearn.preprocessing import RobustScaler, OneHotEncoder\n",
    "\n",
    "#model selection \n",
    "from sklearn import model_selection\n",
    "from sklearn.model_selection import KFold, cross_val_score, GridSearchCV\n",
    "\n",
    "#linear models\n",
    "from sklearn.linear_model import LogisticRegression, SGDClassifier\n",
    "\n",
    "#gaussian naive bayes\n",
    "from sklearn.naive_bayes import GaussianNB\n",
    "\n",
    "#decision tree classifier\n",
    "from sklearn.tree import DecisionTreeClassifier\n",
    "\n",
    "#k-neighbors classifier\n",
    "from sklearn.neighbors import KNeighborsClassifier\n",
    "from sklearn.model_selection import StratifiedKFold\n",
    "from sklearn.impute import KNNImputer\n",
    "\n",
    "#principal component analysis\n",
    "from sklearn.decomposition import PCA\n",
    "\n",
    "import warnings\n",
    "warnings.filterwarnings('ignore')\n",
    "\n",
    "#neural network\n",
    "from sklearn.neural_network import MLPClassifier\n",
    "\n",
    "#ensemble classifier models\n",
    "from sklearn.experimental import enable_hist_gradient_boosting\n",
    "from sklearn.ensemble import GradientBoostingClassifier, RandomForestClassifier, BaggingClassifier, \\\n",
    "VotingClassifier, AdaBoostClassifier, StackingClassifier, HistGradientBoostingClassifier, \\\n",
    "ExtraTreesClassifier\n",
    "\n",
    "#support vector machines\n",
    "from sklearn.svm import SVC\n",
    "\n",
    "#model evaluation\n",
    "from sklearn.metrics import accuracy_score, precision_score, recall_score, \\\n",
    "make_scorer, classification_report, confusion_matrix, f1_score\n",
    "\n",
    "from itertools import combinations\n",
    "from collections import Counter"
   ]
  },
  {
   "cell_type": "markdown",
   "id": "d19ba690",
   "metadata": {},
   "source": [
    "# Importing Data"
   ]
  },
  {
   "cell_type": "code",
   "execution_count": 2,
   "id": "eb25987d",
   "metadata": {},
   "outputs": [],
   "source": [
    "train_data_original = pd.read_csv('train.csv')\n",
    "test_data_original = pd.read_csv('test.csv')"
   ]
  },
  {
   "cell_type": "code",
   "execution_count": 3,
   "id": "ce08ae13",
   "metadata": {},
   "outputs": [],
   "source": [
    "df = train_data_original.copy()"
   ]
  },
  {
   "cell_type": "markdown",
   "id": "3c9874d1",
   "metadata": {},
   "source": [
    "# 1) Initial Data Exploration"
   ]
  },
  {
   "cell_type": "markdown",
   "id": "d3be1b2d",
   "metadata": {},
   "source": [
    "| Variable      | Description |\n",
    "| ----------- | ----------- |\n",
    "| Name      | Customer’s name       |\n",
    "| Year Birth    | Customer’s birth year        |\n",
    "| Longevity   | Whether the customer registered more than 1 year ago or not        |\n",
    "| Churn   | Whether the customer churned or not (churn or nochurn)        |\n",
    "| TypeTravel   | Customer’s reason for travelling (business or leisure)        |\n",
    "| RoomType   | Type of room reserved        |\n",
    "| RewardPoints   | Customer’s rewarding point for loyalty        |\n",
    "| Comfort   | Satisfaction level of customer regarding comfort of the room (0 to 5)        |\n",
    "| ReceptionSchedule   | Satisfaction level of customer regarding reception schedule (0 to 5)        |\n",
    "| ReceptionSchedule   | Satisfaction level of customer regarding food and drink available (0 to 5)        |\n",
    "| Location   |   Satisfaction level of customer regarding accommodation location (0 to 5)      |\n",
    "| Wifi   |    Satisfaction level of customer regarding wi-fi service (0 to 5)     |\n",
    "| Amenities   | Satisfaction level of customer regarding accommodation amenities(0 to 5)        |\n",
    "| Staff   | Satisfaction level of customer regarding staff (0 to 5)        |\n",
    "| OnlineBooking   | Satisfaction level of customer regarding online booking ease(0 to 5)        |\n",
    "| PriceQuality   | Satisfaction level of customer regarding price quality relationship (0 to 5)        |\n",
    "| RoomSpace   | Satisfaction level of customer regarding room space (0 to 5)        |\n",
    "| CheckOut   | Satisfaction level of customer regarding check-out (0 to 5)        |\n",
    "| CheckIn   | Satisfaction level of customer regarding check-in (0 to 5)        |\n",
    "| Cleanliness   | Satisfaction level of customer regarding cleanliness (0 to 5)        |\n",
    "| BarService   | Satisfaction level of customer regarding bar service (0 to 5)        |"
   ]
  },
  {
   "cell_type": "code",
   "execution_count": 4,
   "id": "77a34986",
   "metadata": {},
   "outputs": [
    {
     "name": "stdout",
     "output_type": "stream",
     "text": [
      "Dataframe has 15589 rows and 22 columns\n"
     ]
    }
   ],
   "source": [
    "df_original_row_size = df.shape[0]\n",
    "df_original_columns_size = df.shape[1]\n",
    "\n",
    "print(\"Dataframe has\", df_original_row_size, \"rows and\", df_original_columns_size, \"columns\")"
   ]
  },
  {
   "cell_type": "code",
   "execution_count": 5,
   "id": "53c0f47b",
   "metadata": {},
   "outputs": [
    {
     "name": "stdout",
     "output_type": "stream",
     "text": [
      "<class 'pandas.core.frame.DataFrame'>\n",
      "RangeIndex: 15589 entries, 0 to 15588\n",
      "Data columns (total 22 columns):\n",
      " #   Column             Non-Null Count  Dtype  \n",
      "---  ------             --------------  -----  \n",
      " 0   Cust_ID            15589 non-null  int64  \n",
      " 1   Churn              15589 non-null  object \n",
      " 2   Name               15589 non-null  object \n",
      " 3   Longevity          15589 non-null  object \n",
      " 4   Year_Birth         15394 non-null  float64\n",
      " 5   TypeTravel         15589 non-null  object \n",
      " 6   RoomType           15589 non-null  object \n",
      " 7   RewardPoints       15589 non-null  int64  \n",
      " 8   Comfort            15589 non-null  int64  \n",
      " 9   ReceptionSchedule  15589 non-null  int64  \n",
      " 10  FoodDrink          15589 non-null  int64  \n",
      " 11  Location           15589 non-null  int64  \n",
      " 12  Wifi               15589 non-null  int64  \n",
      " 13  Amenities          15589 non-null  int64  \n",
      " 14  Staff              15589 non-null  int64  \n",
      " 15  OnlineBooking      15589 non-null  int64  \n",
      " 16  PriceQuality       15589 non-null  int64  \n",
      " 17  RoomSpace          15589 non-null  int64  \n",
      " 18  CheckOut           15589 non-null  int64  \n",
      " 19  Checkin            15589 non-null  int64  \n",
      " 20  Cleanliness        15589 non-null  int64  \n",
      " 21  BarService         15589 non-null  int64  \n",
      "dtypes: float64(1), int64(16), object(5)\n",
      "memory usage: 2.6+ MB\n"
     ]
    }
   ],
   "source": [
    "df.info()"
   ]
  },
  {
   "cell_type": "code",
   "execution_count": 6,
   "id": "968714f2",
   "metadata": {},
   "outputs": [
    {
     "data": {
      "text/html": [
       "<div>\n",
       "<style scoped>\n",
       "    .dataframe tbody tr th:only-of-type {\n",
       "        vertical-align: middle;\n",
       "    }\n",
       "\n",
       "    .dataframe tbody tr th {\n",
       "        vertical-align: top;\n",
       "    }\n",
       "\n",
       "    .dataframe thead th {\n",
       "        text-align: right;\n",
       "    }\n",
       "</style>\n",
       "<table border=\"1\" class=\"dataframe\">\n",
       "  <thead>\n",
       "    <tr style=\"text-align: right;\">\n",
       "      <th></th>\n",
       "      <th>count</th>\n",
       "      <th>mean</th>\n",
       "      <th>std</th>\n",
       "      <th>min</th>\n",
       "      <th>25%</th>\n",
       "      <th>50%</th>\n",
       "      <th>75%</th>\n",
       "      <th>max</th>\n",
       "    </tr>\n",
       "  </thead>\n",
       "  <tbody>\n",
       "    <tr>\n",
       "      <th>Cust_ID</th>\n",
       "      <td>15589.0</td>\n",
       "      <td>7795.000000</td>\n",
       "      <td>4500.301008</td>\n",
       "      <td>1.0</td>\n",
       "      <td>3898.0</td>\n",
       "      <td>7795.0</td>\n",
       "      <td>11692.0</td>\n",
       "      <td>15589.0</td>\n",
       "    </tr>\n",
       "    <tr>\n",
       "      <th>Year_Birth</th>\n",
       "      <td>15394.0</td>\n",
       "      <td>1981.706444</td>\n",
       "      <td>15.179042</td>\n",
       "      <td>1936.0</td>\n",
       "      <td>1970.0</td>\n",
       "      <td>1981.0</td>\n",
       "      <td>1994.0</td>\n",
       "      <td>2014.0</td>\n",
       "    </tr>\n",
       "    <tr>\n",
       "      <th>RewardPoints</th>\n",
       "      <td>15589.0</td>\n",
       "      <td>5022.593816</td>\n",
       "      <td>1027.962379</td>\n",
       "      <td>409.0</td>\n",
       "      <td>4445.0</td>\n",
       "      <td>5088.0</td>\n",
       "      <td>5649.0</td>\n",
       "      <td>6950.0</td>\n",
       "    </tr>\n",
       "    <tr>\n",
       "      <th>Comfort</th>\n",
       "      <td>15589.0</td>\n",
       "      <td>2.841619</td>\n",
       "      <td>1.388624</td>\n",
       "      <td>0.0</td>\n",
       "      <td>2.0</td>\n",
       "      <td>3.0</td>\n",
       "      <td>4.0</td>\n",
       "      <td>5.0</td>\n",
       "    </tr>\n",
       "    <tr>\n",
       "      <th>ReceptionSchedule</th>\n",
       "      <td>15589.0</td>\n",
       "      <td>2.997242</td>\n",
       "      <td>1.518994</td>\n",
       "      <td>0.0</td>\n",
       "      <td>2.0</td>\n",
       "      <td>3.0</td>\n",
       "      <td>4.0</td>\n",
       "      <td>5.0</td>\n",
       "    </tr>\n",
       "    <tr>\n",
       "      <th>FoodDrink</th>\n",
       "      <td>15589.0</td>\n",
       "      <td>2.844570</td>\n",
       "      <td>1.436948</td>\n",
       "      <td>0.0</td>\n",
       "      <td>2.0</td>\n",
       "      <td>3.0</td>\n",
       "      <td>4.0</td>\n",
       "      <td>5.0</td>\n",
       "    </tr>\n",
       "    <tr>\n",
       "      <th>Location</th>\n",
       "      <td>15589.0</td>\n",
       "      <td>2.986016</td>\n",
       "      <td>1.299438</td>\n",
       "      <td>1.0</td>\n",
       "      <td>2.0</td>\n",
       "      <td>3.0</td>\n",
       "      <td>4.0</td>\n",
       "      <td>5.0</td>\n",
       "    </tr>\n",
       "    <tr>\n",
       "      <th>Wifi</th>\n",
       "      <td>15589.0</td>\n",
       "      <td>3.245109</td>\n",
       "      <td>1.327026</td>\n",
       "      <td>0.0</td>\n",
       "      <td>2.0</td>\n",
       "      <td>3.0</td>\n",
       "      <td>4.0</td>\n",
       "      <td>6.0</td>\n",
       "    </tr>\n",
       "    <tr>\n",
       "      <th>Amenities</th>\n",
       "      <td>15589.0</td>\n",
       "      <td>3.374816</td>\n",
       "      <td>1.352417</td>\n",
       "      <td>0.0</td>\n",
       "      <td>2.0</td>\n",
       "      <td>4.0</td>\n",
       "      <td>4.0</td>\n",
       "      <td>5.0</td>\n",
       "    </tr>\n",
       "    <tr>\n",
       "      <th>Staff</th>\n",
       "      <td>15589.0</td>\n",
       "      <td>3.506383</td>\n",
       "      <td>1.319565</td>\n",
       "      <td>1.0</td>\n",
       "      <td>3.0</td>\n",
       "      <td>4.0</td>\n",
       "      <td>5.0</td>\n",
       "      <td>5.0</td>\n",
       "    </tr>\n",
       "    <tr>\n",
       "      <th>OnlineBooking</th>\n",
       "      <td>15589.0</td>\n",
       "      <td>3.454231</td>\n",
       "      <td>1.310343</td>\n",
       "      <td>0.0</td>\n",
       "      <td>2.0</td>\n",
       "      <td>4.0</td>\n",
       "      <td>5.0</td>\n",
       "      <td>5.0</td>\n",
       "    </tr>\n",
       "    <tr>\n",
       "      <th>PriceQuality</th>\n",
       "      <td>15589.0</td>\n",
       "      <td>3.459683</td>\n",
       "      <td>1.268130</td>\n",
       "      <td>1.0</td>\n",
       "      <td>3.0</td>\n",
       "      <td>4.0</td>\n",
       "      <td>4.0</td>\n",
       "      <td>5.0</td>\n",
       "    </tr>\n",
       "    <tr>\n",
       "      <th>RoomSpace</th>\n",
       "      <td>15589.0</td>\n",
       "      <td>3.470845</td>\n",
       "      <td>1.293873</td>\n",
       "      <td>0.0</td>\n",
       "      <td>2.0</td>\n",
       "      <td>4.0</td>\n",
       "      <td>5.0</td>\n",
       "      <td>5.0</td>\n",
       "    </tr>\n",
       "    <tr>\n",
       "      <th>CheckOut</th>\n",
       "      <td>15589.0</td>\n",
       "      <td>3.700558</td>\n",
       "      <td>1.158644</td>\n",
       "      <td>1.0</td>\n",
       "      <td>3.0</td>\n",
       "      <td>4.0</td>\n",
       "      <td>5.0</td>\n",
       "      <td>5.0</td>\n",
       "    </tr>\n",
       "    <tr>\n",
       "      <th>Checkin</th>\n",
       "      <td>15589.0</td>\n",
       "      <td>3.327282</td>\n",
       "      <td>1.266872</td>\n",
       "      <td>1.0</td>\n",
       "      <td>3.0</td>\n",
       "      <td>3.0</td>\n",
       "      <td>4.0</td>\n",
       "      <td>5.0</td>\n",
       "    </tr>\n",
       "    <tr>\n",
       "      <th>Cleanliness</th>\n",
       "      <td>15589.0</td>\n",
       "      <td>3.692347</td>\n",
       "      <td>1.154437</td>\n",
       "      <td>1.0</td>\n",
       "      <td>3.0</td>\n",
       "      <td>4.0</td>\n",
       "      <td>5.0</td>\n",
       "      <td>5.0</td>\n",
       "    </tr>\n",
       "    <tr>\n",
       "      <th>BarService</th>\n",
       "      <td>15589.0</td>\n",
       "      <td>3.347360</td>\n",
       "      <td>1.300452</td>\n",
       "      <td>0.0</td>\n",
       "      <td>2.0</td>\n",
       "      <td>3.0</td>\n",
       "      <td>4.0</td>\n",
       "      <td>5.0</td>\n",
       "    </tr>\n",
       "  </tbody>\n",
       "</table>\n",
       "</div>"
      ],
      "text/plain": [
       "                     count         mean          std     min     25%     50%  \\\n",
       "Cust_ID            15589.0  7795.000000  4500.301008     1.0  3898.0  7795.0   \n",
       "Year_Birth         15394.0  1981.706444    15.179042  1936.0  1970.0  1981.0   \n",
       "RewardPoints       15589.0  5022.593816  1027.962379   409.0  4445.0  5088.0   \n",
       "Comfort            15589.0     2.841619     1.388624     0.0     2.0     3.0   \n",
       "ReceptionSchedule  15589.0     2.997242     1.518994     0.0     2.0     3.0   \n",
       "FoodDrink          15589.0     2.844570     1.436948     0.0     2.0     3.0   \n",
       "Location           15589.0     2.986016     1.299438     1.0     2.0     3.0   \n",
       "Wifi               15589.0     3.245109     1.327026     0.0     2.0     3.0   \n",
       "Amenities          15589.0     3.374816     1.352417     0.0     2.0     4.0   \n",
       "Staff              15589.0     3.506383     1.319565     1.0     3.0     4.0   \n",
       "OnlineBooking      15589.0     3.454231     1.310343     0.0     2.0     4.0   \n",
       "PriceQuality       15589.0     3.459683     1.268130     1.0     3.0     4.0   \n",
       "RoomSpace          15589.0     3.470845     1.293873     0.0     2.0     4.0   \n",
       "CheckOut           15589.0     3.700558     1.158644     1.0     3.0     4.0   \n",
       "Checkin            15589.0     3.327282     1.266872     1.0     3.0     3.0   \n",
       "Cleanliness        15589.0     3.692347     1.154437     1.0     3.0     4.0   \n",
       "BarService         15589.0     3.347360     1.300452     0.0     2.0     3.0   \n",
       "\n",
       "                       75%      max  \n",
       "Cust_ID            11692.0  15589.0  \n",
       "Year_Birth          1994.0   2014.0  \n",
       "RewardPoints        5649.0   6950.0  \n",
       "Comfort                4.0      5.0  \n",
       "ReceptionSchedule      4.0      5.0  \n",
       "FoodDrink              4.0      5.0  \n",
       "Location               4.0      5.0  \n",
       "Wifi                   4.0      6.0  \n",
       "Amenities              4.0      5.0  \n",
       "Staff                  5.0      5.0  \n",
       "OnlineBooking          5.0      5.0  \n",
       "PriceQuality           4.0      5.0  \n",
       "RoomSpace              5.0      5.0  \n",
       "CheckOut               5.0      5.0  \n",
       "Checkin                4.0      5.0  \n",
       "Cleanliness            5.0      5.0  \n",
       "BarService             4.0      5.0  "
      ]
     },
     "execution_count": 6,
     "metadata": {},
     "output_type": "execute_result"
    }
   ],
   "source": [
    "df.describe().T"
   ]
  },
  {
   "cell_type": "markdown",
   "id": "4016f40b",
   "metadata": {},
   "source": [
    "On a first look, we noticed the ranges of each variable look acceptable. However, some variables have different scales than others and this must be handled later on."
   ]
  },
  {
   "cell_type": "code",
   "execution_count": 7,
   "id": "d29a32b6",
   "metadata": {},
   "outputs": [],
   "source": [
    "# Change the data frame index to the customer ID of each entry, rather than the standard index\n",
    "df.set_index(\"Cust_ID\", inplace = True)"
   ]
  },
  {
   "cell_type": "markdown",
   "id": "d9a9c15a",
   "metadata": {},
   "source": [
    "# 2) Exploratory Data Analysis"
   ]
  },
  {
   "cell_type": "markdown",
   "id": "d8fa4b1f",
   "metadata": {},
   "source": [
    "### 2.1) Coherence Checks"
   ]
  },
  {
   "cell_type": "markdown",
   "id": "9e143834",
   "metadata": {},
   "source": [
    "#### 2.1.1) Churn"
   ]
  },
  {
   "cell_type": "code",
   "execution_count": 8,
   "id": "d1152386",
   "metadata": {},
   "outputs": [
    {
     "data": {
      "text/plain": [
       "nochurn    8477\n",
       "churn      7112\n",
       "Name: Churn, dtype: int64"
      ]
     },
     "execution_count": 8,
     "metadata": {},
     "output_type": "execute_result"
    }
   ],
   "source": [
    "df['Churn'].value_counts()"
   ]
  },
  {
   "cell_type": "code",
   "execution_count": 9,
   "id": "f884a554",
   "metadata": {},
   "outputs": [
    {
     "data": {
      "image/png": "[encoded data removed]",
      "text/plain": [
       "<Figure size 432x288 with 1 Axes>"
      ]
     },
     "metadata": {
      "needs_background": "light"
     },
     "output_type": "display_data"
    }
   ],
   "source": [
    "sns.countplot(df[\"Churn\"], color=\"skyblue\")\n",
    "plt.show()"
   ]
  },
  {
   "cell_type": "markdown",
   "id": "8671aadd",
   "metadata": {},
   "source": [
    "Churn is our target variable and it looks somewhat evenly distributed. We will still test with over and under sampled datasets but there is not a huge descrepancy between the values of Churn."
   ]
  },
  {
   "cell_type": "markdown",
   "id": "d2f7a0a3",
   "metadata": {},
   "source": [
    "#### 2.1.2) Name"
   ]
  },
  {
   "cell_type": "code",
   "execution_count": 10,
   "id": "f778d76a",
   "metadata": {},
   "outputs": [
    {
     "data": {
      "text/plain": [
       "Mr. Michael Smith    9\n",
       "Ms. Amanda Smith     7\n",
       "Mr. John Smith       7\n",
       "Mr. Michael Jones    6\n",
       "Mr. William Smith    6\n",
       "                    ..\n",
       "Ms. Laurie Smith     1\n",
       "Mr. Aaron Cox        1\n",
       "Ms. Natasha Estes    1\n",
       "Ms. Beverly Lee      1\n",
       "Mr. Steven Mendez    1\n",
       "Name: Name, Length: 14227, dtype: int64"
      ]
     },
     "execution_count": 10,
     "metadata": {},
     "output_type": "execute_result"
    }
   ],
   "source": [
    "df['Name'].value_counts()"
   ]
  },
  {
   "cell_type": "markdown",
   "id": "2d1a8ce8",
   "metadata": {},
   "source": [
    "Variable looks good tu us and based on the prefix before the name, we can create a new variable called gender."
   ]
  },
  {
   "cell_type": "markdown",
   "id": "9efcce69",
   "metadata": {},
   "source": [
    "#### 2.1.3) Longevity"
   ]
  },
  {
   "cell_type": "code",
   "execution_count": 11,
   "id": "86fe8143",
   "metadata": {},
   "outputs": [
    {
     "data": {
      "text/plain": [
       "yes    12548\n",
       "no      2874\n",
       "y        167\n",
       "Name: Longevity, dtype: int64"
      ]
     },
     "execution_count": 11,
     "metadata": {},
     "output_type": "execute_result"
    }
   ],
   "source": [
    "df['Longevity'].value_counts()"
   ]
  },
  {
   "cell_type": "markdown",
   "id": "f6c90825",
   "metadata": {},
   "source": [
    "Variable does not look good because we have entries with 'yes' and entries with 'y' which most likely mean the same. Will will transform the entries with 'y' into 'yes'"
   ]
  },
  {
   "cell_type": "code",
   "execution_count": 12,
   "id": "c8edaa33",
   "metadata": {},
   "outputs": [
    {
     "data": {
      "text/plain": [
       "yes    12715\n",
       "no      2874\n",
       "Name: Longevity, dtype: int64"
      ]
     },
     "execution_count": 12,
     "metadata": {},
     "output_type": "execute_result"
    }
   ],
   "source": [
    "df['Longevity'].replace('y','yes', inplace=True)\n",
    "df['Longevity'].value_counts()"
   ]
  },
  {
   "cell_type": "code",
   "execution_count": 13,
   "id": "d1508f3a",
   "metadata": {},
   "outputs": [
    {
     "data": {
      "image/png": "[encoded data removed]",
      "text/plain": [
       "<Figure size 432x288 with 1 Axes>"
      ]
     },
     "metadata": {
      "needs_background": "light"
     },
     "output_type": "display_data"
    }
   ],
   "source": [
    "sns.countplot(df[\"Longevity\"], color=\"skyblue\")\n",
    "plt.show()"
   ]
  },
  {
   "cell_type": "markdown",
   "id": "77cd934d",
   "metadata": {},
   "source": [
    "#### 2.1.4) Year_Birth"
   ]
  },
  {
   "cell_type": "markdown",
   "id": "55e3a44e",
   "metadata": {},
   "source": [
    "Variable has missing values. We will handle these missing values and then create a new variable called Age based on this"
   ]
  },
  {
   "cell_type": "code",
   "execution_count": 14,
   "id": "f5e4592e",
   "metadata": {},
   "outputs": [
    {
     "data": {
      "image/png": "[encoded data removed]",
      "text/plain": [
       "<Figure size 432x288 with 1 Axes>"
      ]
     },
     "metadata": {
      "needs_background": "light"
     },
     "output_type": "display_data"
    }
   ],
   "source": [
    "sns.histplot(df[\"Year_Birth\"], color=\"skyblue\")\n",
    "plt.show()"
   ]
  },
  {
   "cell_type": "markdown",
   "id": "6ef6df8a",
   "metadata": {},
   "source": [
    "#### 2.1.5) Type Travel"
   ]
  },
  {
   "cell_type": "code",
   "execution_count": 15,
   "id": "d946ea6b",
   "metadata": {},
   "outputs": [
    {
     "data": {
      "text/plain": [
       "business    10756\n",
       "leisure      4833\n",
       "Name: TypeTravel, dtype: int64"
      ]
     },
     "execution_count": 15,
     "metadata": {},
     "output_type": "execute_result"
    }
   ],
   "source": [
    "df['TypeTravel'].value_counts()"
   ]
  },
  {
   "cell_type": "markdown",
   "id": "f43509b2",
   "metadata": {},
   "source": [
    "Variable looks good to us and we will create dummies for it"
   ]
  },
  {
   "cell_type": "code",
   "execution_count": 16,
   "id": "96498a5a",
   "metadata": {},
   "outputs": [
    {
     "data": {
      "image/png": "[encoded data removed]",
      "text/plain": [
       "<Figure size 432x288 with 1 Axes>"
      ]
     },
     "metadata": {
      "needs_background": "light"
     },
     "output_type": "display_data"
    }
   ],
   "source": [
    "sns.countplot(df[\"TypeTravel\"], color=\"skyblue\")\n",
    "plt.show()"
   ]
  },
  {
   "cell_type": "markdown",
   "id": "1b4c1c42",
   "metadata": {},
   "source": [
    "#### 2.1.6) Room Type"
   ]
  },
  {
   "cell_type": "code",
   "execution_count": 17,
   "id": "12dee5e5",
   "metadata": {},
   "outputs": [
    {
     "data": {
      "text/plain": [
       "single    7442\n",
       "double    7021\n",
       "suite     1126\n",
       "Name: RoomType, dtype: int64"
      ]
     },
     "execution_count": 17,
     "metadata": {},
     "output_type": "execute_result"
    }
   ],
   "source": [
    "df['RoomType'].value_counts()"
   ]
  },
  {
   "cell_type": "markdown",
   "id": "48c8fbc3",
   "metadata": {},
   "source": [
    "Variable looks good to us and we will create dummies for it"
   ]
  },
  {
   "cell_type": "code",
   "execution_count": 18,
   "id": "e4308523",
   "metadata": {},
   "outputs": [
    {
     "data": {
      "text/plain": [
       "<AxesSubplot:xlabel='RoomType', ylabel='count'>"
      ]
     },
     "execution_count": 18,
     "metadata": {},
     "output_type": "execute_result"
    },
    {
     "data": {
      "image/png": "[encoded data removed]",
      "text/plain": [
       "<Figure size 432x288 with 1 Axes>"
      ]
     },
     "metadata": {
      "needs_background": "light"
     },
     "output_type": "display_data"
    }
   ],
   "source": [
    "sns.countplot(df[\"RoomType\"], color=\"skyblue\")"
   ]
  },
  {
   "cell_type": "markdown",
   "id": "3681c221",
   "metadata": {},
   "source": [
    "#### 2.1.7) Reward Points"
   ]
  },
  {
   "cell_type": "code",
   "execution_count": 19,
   "id": "17ef9ee3",
   "metadata": {},
   "outputs": [
    {
     "data": {
      "image/png": "[encoded data removed]",
      "text/plain": [
       "<Figure size 432x288 with 1 Axes>"
      ]
     },
     "metadata": {
      "needs_background": "light"
     },
     "output_type": "display_data"
    }
   ],
   "source": [
    "sns.histplot(df[\"RewardPoints\"], color=\"skyblue\")\n",
    "plt.show()"
   ]
  },
  {
   "cell_type": "markdown",
   "id": "d2b1301f",
   "metadata": {},
   "source": [
    "Variable looks good but it needs to be scaled"
   ]
  },
  {
   "cell_type": "markdown",
   "id": "2fcaf81a",
   "metadata": {},
   "source": [
    "#### 2.1.8) Ratings"
   ]
  },
  {
   "cell_type": "code",
   "execution_count": 20,
   "id": "c5d4d49f",
   "metadata": {
    "scrolled": true
   },
   "outputs": [
    {
     "data": {
      "image/png": "[encoded data removed]",
      "text/plain": [
       "<Figure size 1440x1080 with 15 Axes>"
      ]
     },
     "metadata": {
      "needs_background": "light"
     },
     "output_type": "display_data"
    }
   ],
   "source": [
    "f, axes = plt.subplots(3,5, figsize=(20, 15), squeeze=False)  \n",
    "sns.histplot(df[\"Comfort\"], color=\"skyblue\", ax=axes[0, 0])\n",
    "sns.histplot(df[\"ReceptionSchedule\"], color=\"skyblue\", ax=axes[0, 1])\n",
    "sns.histplot(df[\"FoodDrink\"], color=\"skyblue\", ax=axes[0, 2])\n",
    "sns.histplot(df[\"Location\"], color=\"skyblue\", ax=axes[0, 3])\n",
    "sns.histplot(df[\"Wifi\"], color=\"skyblue\", ax=axes[0, 4])\n",
    "sns.histplot(df[\"Amenities\"], color=\"skyblue\", ax=axes[1, 0])\n",
    "sns.histplot(df[\"Staff\"], color=\"skyblue\", ax=axes[1, 1])\n",
    "sns.histplot(df[\"OnlineBooking\"], color=\"skyblue\", ax=axes[1, 2])\n",
    "sns.histplot(df[\"PriceQuality\"], color=\"skyblue\", ax=axes[1, 3])\n",
    "sns.histplot(df[\"RoomSpace\"], color=\"skyblue\", ax=axes[1, 4])\n",
    "sns.histplot(df[\"CheckOut\"], color=\"skyblue\", ax=axes[2, 0])\n",
    "sns.histplot(df[\"Checkin\"], color=\"skyblue\", ax=axes[2, 1])\n",
    "sns.histplot(df[\"Cleanliness\"], color=\"skyblue\", ax=axes[2, 2])\n",
    "sns.histplot(df[\"BarService\"], color=\"skyblue\", ax=axes[2, 3])\n",
    "\n",
    "plt.show()"
   ]
  },
  {
   "cell_type": "markdown",
   "id": "0bf67a84",
   "metadata": {},
   "source": [
    "Upon looking at the charts, we noticed that 'Wifi' has values that should not be there, in particular, some surveys were marked with 6 which is not an available rating. "
   ]
  },
  {
   "cell_type": "markdown",
   "id": "245c033b",
   "metadata": {},
   "source": [
    "Since there are only 36 rows with value 6, we will convert them to a 5."
   ]
  },
  {
   "cell_type": "code",
   "execution_count": 21,
   "id": "aec27267",
   "metadata": {},
   "outputs": [],
   "source": [
    "df['Wifi'].replace(6,5, inplace=True)"
   ]
  },
  {
   "cell_type": "code",
   "execution_count": 22,
   "id": "27de8c9d",
   "metadata": {},
   "outputs": [
    {
     "data": {
      "image/png": "[encoded data removed]",
      "text/plain": [
       "<Figure size 432x288 with 1 Axes>"
      ]
     },
     "metadata": {
      "needs_background": "light"
     },
     "output_type": "display_data"
    }
   ],
   "source": [
    "sns.histplot(df[\"Wifi\"], color=\"skyblue\")\n",
    "plt.show()"
   ]
  },
  {
   "cell_type": "raw",
   "id": "a9875187",
   "metadata": {},
   "source": [
    "### 2.2) Missing Values"
   ]
  },
  {
   "cell_type": "raw",
   "id": "cb68c2ce",
   "metadata": {},
   "source": [
    "df.isna().sum()"
   ]
  },
  {
   "cell_type": "raw",
   "id": "4825c1bb",
   "metadata": {},
   "source": [
    "Year of Birth is the only variable with missing values. We have different methods to fill in these missing values like using the mode, mean or KNN Inputer. We decided to fill these missing values with the mode."
   ]
  },
  {
   "cell_type": "raw",
   "id": "e8e53e1a",
   "metadata": {},
   "source": [
    "df_numerical = df.drop(columns=['Churn', 'RoomType', 'Longevity', 'TypeTravel', 'Name'])\n",
    "\n",
    "from sklearn.impute import KNNImputer\n",
    "imputer = KNNImputer(n_neighbors=2)\n",
    "imputer_matrix = imputer.fit_transform(df_numerical)\n",
    "\n",
    "data_cleaned = pd.DataFrame(data=imputer_matrix, columns = df_numerical.columns, index = df_numerical.index)\n",
    "df['Year_Birth'] = data_cleaned['Year_Birth']"
   ]
  },
  {
   "cell_type": "raw",
   "id": "ba39fc57",
   "metadata": {},
   "source": [
    "df.isna().sum()"
   ]
  },
  {
   "cell_type": "markdown",
   "id": "9fa3af58",
   "metadata": {},
   "source": [
    "### 2.3) Duplicate Values"
   ]
  },
  {
   "cell_type": "code",
   "execution_count": 23,
   "id": "c27df0ab",
   "metadata": {},
   "outputs": [],
   "source": [
    "#create duplicate datafranme\n",
    "duplicates = df.duplicated()"
   ]
  },
  {
   "cell_type": "code",
   "execution_count": 24,
   "id": "c7e993d9",
   "metadata": {},
   "outputs": [
    {
     "data": {
      "text/html": [
       "<div>\n",
       "<style scoped>\n",
       "    .dataframe tbody tr th:only-of-type {\n",
       "        vertical-align: middle;\n",
       "    }\n",
       "\n",
       "    .dataframe tbody tr th {\n",
       "        vertical-align: top;\n",
       "    }\n",
       "\n",
       "    .dataframe thead th {\n",
       "        text-align: right;\n",
       "    }\n",
       "</style>\n",
       "<table border=\"1\" class=\"dataframe\">\n",
       "  <thead>\n",
       "    <tr style=\"text-align: right;\">\n",
       "      <th></th>\n",
       "      <th>Churn</th>\n",
       "      <th>Name</th>\n",
       "      <th>Longevity</th>\n",
       "      <th>Year_Birth</th>\n",
       "      <th>TypeTravel</th>\n",
       "      <th>RoomType</th>\n",
       "      <th>RewardPoints</th>\n",
       "      <th>Comfort</th>\n",
       "      <th>ReceptionSchedule</th>\n",
       "      <th>FoodDrink</th>\n",
       "      <th>...</th>\n",
       "      <th>Wifi</th>\n",
       "      <th>Amenities</th>\n",
       "      <th>Staff</th>\n",
       "      <th>OnlineBooking</th>\n",
       "      <th>PriceQuality</th>\n",
       "      <th>RoomSpace</th>\n",
       "      <th>CheckOut</th>\n",
       "      <th>Checkin</th>\n",
       "      <th>Cleanliness</th>\n",
       "      <th>BarService</th>\n",
       "    </tr>\n",
       "    <tr>\n",
       "      <th>Cust_ID</th>\n",
       "      <th></th>\n",
       "      <th></th>\n",
       "      <th></th>\n",
       "      <th></th>\n",
       "      <th></th>\n",
       "      <th></th>\n",
       "      <th></th>\n",
       "      <th></th>\n",
       "      <th></th>\n",
       "      <th></th>\n",
       "      <th></th>\n",
       "      <th></th>\n",
       "      <th></th>\n",
       "      <th></th>\n",
       "      <th></th>\n",
       "      <th></th>\n",
       "      <th></th>\n",
       "      <th></th>\n",
       "      <th></th>\n",
       "      <th></th>\n",
       "      <th></th>\n",
       "    </tr>\n",
       "  </thead>\n",
       "  <tbody>\n",
       "    <tr>\n",
       "      <th>8196</th>\n",
       "      <td>nochurn</td>\n",
       "      <td>Ms. Abigail York</td>\n",
       "      <td>yes</td>\n",
       "      <td>1995.0</td>\n",
       "      <td>leisure</td>\n",
       "      <td>double</td>\n",
       "      <td>5098</td>\n",
       "      <td>5</td>\n",
       "      <td>5</td>\n",
       "      <td>5</td>\n",
       "      <td>...</td>\n",
       "      <td>4</td>\n",
       "      <td>5</td>\n",
       "      <td>5</td>\n",
       "      <td>3</td>\n",
       "      <td>3</td>\n",
       "      <td>4</td>\n",
       "      <td>3</td>\n",
       "      <td>3</td>\n",
       "      <td>3</td>\n",
       "      <td>5</td>\n",
       "    </tr>\n",
       "    <tr>\n",
       "      <th>9177</th>\n",
       "      <td>churn</td>\n",
       "      <td>Ms. Abigail Kennedy</td>\n",
       "      <td>yes</td>\n",
       "      <td>1991.0</td>\n",
       "      <td>business</td>\n",
       "      <td>suite</td>\n",
       "      <td>5932</td>\n",
       "      <td>3</td>\n",
       "      <td>3</td>\n",
       "      <td>2</td>\n",
       "      <td>...</td>\n",
       "      <td>3</td>\n",
       "      <td>3</td>\n",
       "      <td>3</td>\n",
       "      <td>3</td>\n",
       "      <td>4</td>\n",
       "      <td>1</td>\n",
       "      <td>4</td>\n",
       "      <td>3</td>\n",
       "      <td>4</td>\n",
       "      <td>3</td>\n",
       "    </tr>\n",
       "    <tr>\n",
       "      <th>9418</th>\n",
       "      <td>nochurn</td>\n",
       "      <td>Ms. Abigail Buchanan</td>\n",
       "      <td>yes</td>\n",
       "      <td>1972.0</td>\n",
       "      <td>business</td>\n",
       "      <td>double</td>\n",
       "      <td>6769</td>\n",
       "      <td>5</td>\n",
       "      <td>4</td>\n",
       "      <td>4</td>\n",
       "      <td>...</td>\n",
       "      <td>5</td>\n",
       "      <td>5</td>\n",
       "      <td>4</td>\n",
       "      <td>5</td>\n",
       "      <td>5</td>\n",
       "      <td>5</td>\n",
       "      <td>5</td>\n",
       "      <td>2</td>\n",
       "      <td>5</td>\n",
       "      <td>1</td>\n",
       "    </tr>\n",
       "  </tbody>\n",
       "</table>\n",
       "<p>3 rows × 21 columns</p>\n",
       "</div>"
      ],
      "text/plain": [
       "           Churn                  Name Longevity  Year_Birth TypeTravel  \\\n",
       "Cust_ID                                                                   \n",
       "8196     nochurn      Ms. Abigail York       yes      1995.0    leisure   \n",
       "9177       churn   Ms. Abigail Kennedy       yes      1991.0   business   \n",
       "9418     nochurn  Ms. Abigail Buchanan       yes      1972.0   business   \n",
       "\n",
       "        RoomType  RewardPoints  Comfort  ReceptionSchedule  FoodDrink  ...  \\\n",
       "Cust_ID                                                                ...   \n",
       "8196      double          5098        5                  5          5  ...   \n",
       "9177       suite          5932        3                  3          2  ...   \n",
       "9418      double          6769        5                  4          4  ...   \n",
       "\n",
       "         Wifi  Amenities  Staff  OnlineBooking  PriceQuality  RoomSpace  \\\n",
       "Cust_ID                                                                   \n",
       "8196        4          5      5              3             3          4   \n",
       "9177        3          3      3              3             4          1   \n",
       "9418        5          5      4              5             5          5   \n",
       "\n",
       "         CheckOut  Checkin  Cleanliness  BarService  \n",
       "Cust_ID                                              \n",
       "8196            3        3            3           5  \n",
       "9177            4        3            4           3  \n",
       "9418            5        2            5           1  \n",
       "\n",
       "[3 rows x 21 columns]"
      ]
     },
     "execution_count": 24,
     "metadata": {},
     "output_type": "execute_result"
    }
   ],
   "source": [
    "#visualize the duplicates\n",
    "df[duplicates]"
   ]
  },
  {
   "cell_type": "code",
   "execution_count": 25,
   "id": "e69afdf9",
   "metadata": {},
   "outputs": [
    {
     "data": {
      "text/plain": [
       "(15586, 21)"
      ]
     },
     "execution_count": 25,
     "metadata": {},
     "output_type": "execute_result"
    }
   ],
   "source": [
    "df.drop_duplicates(inplace = True)\n",
    "df.shape"
   ]
  },
  {
   "cell_type": "markdown",
   "id": "f4562011",
   "metadata": {},
   "source": [
    "### 2.4) Handling Outliers"
   ]
  },
  {
   "cell_type": "code",
   "execution_count": 26,
   "id": "26bfc611",
   "metadata": {},
   "outputs": [
    {
     "data": {
      "image/png": "[encoded data removed]",
      "text/plain": [
       "<Figure size 1440x1080 with 16 Axes>"
      ]
     },
     "metadata": {
      "needs_background": "light"
     },
     "output_type": "display_data"
    }
   ],
   "source": [
    "f, axes = plt.subplots(4,4, figsize=(20, 15), squeeze=False)    \n",
    "sns.boxplot(df[\"Year_Birth\"], color=\"skyblue\", ax=axes[0, 0])\n",
    "sns.boxplot(df[\"RewardPoints\"], color=\"skyblue\", ax=axes[0, 1])\n",
    "sns.boxplot(df[\"Comfort\"], color=\"skyblue\", ax=axes[0, 2])\n",
    "sns.boxplot(df[\"ReceptionSchedule\"], color=\"skyblue\", ax=axes[0, 3])\n",
    "sns.boxplot(df[\"FoodDrink\"], color=\"skyblue\", ax=axes[1, 0])\n",
    "sns.boxplot(df[\"Location\"], color=\"skyblue\", ax=axes[1, 1])\n",
    "sns.boxplot(df[\"Wifi\"], color=\"skyblue\", ax=axes[1, 2])\n",
    "sns.boxplot(df[\"Amenities\"], color=\"skyblue\", ax=axes[1, 3])\n",
    "sns.boxplot(df[\"Staff\"], color=\"skyblue\", ax=axes[2, 0])\n",
    "sns.boxplot(df[\"OnlineBooking\"], color=\"skyblue\", ax=axes[2, 1])\n",
    "sns.boxplot(df[\"PriceQuality\"], color=\"skyblue\", ax=axes[2, 2])\n",
    "sns.boxplot(df[\"RoomSpace\"], color=\"skyblue\", ax=axes[2, 3])\n",
    "sns.boxplot(df[\"CheckOut\"], color=\"skyblue\", ax=axes[3, 0])\n",
    "sns.boxplot(df[\"Checkin\"], color=\"skyblue\", ax=axes[3, 1])\n",
    "sns.boxplot(df[\"Cleanliness\"], color=\"skyblue\", ax=axes[3, 2])\n",
    "sns.boxplot(df[\"BarService\"], color=\"skyblue\", ax=axes[3, 3])\n",
    "\n",
    "plt.show()"
   ]
  },
  {
   "cell_type": "code",
   "execution_count": 27,
   "id": "135b2ac1",
   "metadata": {},
   "outputs": [],
   "source": [
    "#method to return the boundaries of IQR \n",
    "def get_IQR_bounds(s):\n",
    "    q1 = s.quantile(0.25)\n",
    "    q3 = s.quantile(0.75)\n",
    "    \n",
    "    iqr = q3 - q1\n",
    "    \n",
    "    lower_bound = q1 -(1.5 * iqr)\n",
    "    upper_bound = q3 +(1.5 * iqr)\n",
    "    \n",
    "    return (lower_bound,upper_bound)"
   ]
  },
  {
   "cell_type": "markdown",
   "id": "77a16a8f",
   "metadata": {},
   "source": [
    "#### 2.4.1) Ouliers in Reward Points"
   ]
  },
  {
   "cell_type": "code",
   "execution_count": 28,
   "id": "3226b0b7",
   "metadata": {},
   "outputs": [
    {
     "name": "stdout",
     "output_type": "stream",
     "text": [
      "There are been 293 outliers removed\n"
     ]
    }
   ],
   "source": [
    "df = df[df['RewardPoints'] > get_IQR_bounds(df['RewardPoints'])[0]]\n",
    "\n",
    "print(\"There are been\",df_original_row_size - df.shape[0], \"outliers removed\")"
   ]
  },
  {
   "cell_type": "code",
   "execution_count": 29,
   "id": "d6b3d80f",
   "metadata": {},
   "outputs": [
    {
     "data": {
      "image/png": "[encoded data removed]",
      "text/plain": [
       "<Figure size 432x288 with 1 Axes>"
      ]
     },
     "metadata": {
      "needs_background": "light"
     },
     "output_type": "display_data"
    }
   ],
   "source": [
    "sns.histplot(df[\"RewardPoints\"], color=\"skyblue\")\n",
    "plt.show()"
   ]
  },
  {
   "cell_type": "markdown",
   "id": "595fae0f",
   "metadata": {},
   "source": [
    "#### 2.4.2) Outliers in Ratings Variables"
   ]
  },
  {
   "cell_type": "markdown",
   "id": "a03c56e6",
   "metadata": {},
   "source": [
    "After some research and analysis on the subject, we decided not to remove outliers on the two ratings variables that presented outliers in the boxplot visualization. Those are 'PriceQuality' and 'Checkin'. The reason we did not remove them was because they were too many entries that would have to be removed, and if we did, we would effectively be shortening the rating scale for the rating data."
   ]
  },
  {
   "cell_type": "markdown",
   "id": "a751470b",
   "metadata": {},
   "source": [
    "Instead, we will look for straight lining on the ratings entries, meaning people who answered all the answers with the same variable, which can mean they were in a rush and decided to fill the survey as fast as they could."
   ]
  },
  {
   "cell_type": "markdown",
   "id": "3157a81c",
   "metadata": {},
   "source": [
    "#### 2.4.3) Outliers in Straight Lining entries to the Ratings Variables"
   ]
  },
  {
   "cell_type": "code",
   "execution_count": 30,
   "id": "805bf3e7",
   "metadata": {},
   "outputs": [],
   "source": [
    "straight_lining_entries = df[(df['Comfort'] == df['ReceptionSchedule']) & (df['Comfort'] == df['FoodDrink']) & (df['Comfort'] == df['Location']) & (df['Comfort'] == df['Wifi']) & (df['Comfort'] == df['Amenities']) & (df['Comfort'] == df['Staff']) & (df['Comfort'] == df['OnlineBooking']) & (df['Comfort'] == df['PriceQuality']) & (df['Comfort'] == df['RoomSpace']) & (df['Comfort'] == df['CheckOut']) & (df['Comfort'] == df['Checkin']) & (df['Comfort'] == df['Cleanliness']) & (df['Comfort'] == df['BarService'])]"
   ]
  },
  {
   "cell_type": "code",
   "execution_count": 31,
   "id": "444c32ac",
   "metadata": {},
   "outputs": [
    {
     "data": {
      "text/html": [
       "<div>\n",
       "<style scoped>\n",
       "    .dataframe tbody tr th:only-of-type {\n",
       "        vertical-align: middle;\n",
       "    }\n",
       "\n",
       "    .dataframe tbody tr th {\n",
       "        vertical-align: top;\n",
       "    }\n",
       "\n",
       "    .dataframe thead th {\n",
       "        text-align: right;\n",
       "    }\n",
       "</style>\n",
       "<table border=\"1\" class=\"dataframe\">\n",
       "  <thead>\n",
       "    <tr style=\"text-align: right;\">\n",
       "      <th></th>\n",
       "      <th>Churn</th>\n",
       "      <th>Name</th>\n",
       "      <th>Longevity</th>\n",
       "      <th>Year_Birth</th>\n",
       "      <th>TypeTravel</th>\n",
       "      <th>RoomType</th>\n",
       "      <th>RewardPoints</th>\n",
       "      <th>Comfort</th>\n",
       "      <th>ReceptionSchedule</th>\n",
       "      <th>FoodDrink</th>\n",
       "      <th>...</th>\n",
       "      <th>Wifi</th>\n",
       "      <th>Amenities</th>\n",
       "      <th>Staff</th>\n",
       "      <th>OnlineBooking</th>\n",
       "      <th>PriceQuality</th>\n",
       "      <th>RoomSpace</th>\n",
       "      <th>CheckOut</th>\n",
       "      <th>Checkin</th>\n",
       "      <th>Cleanliness</th>\n",
       "      <th>BarService</th>\n",
       "    </tr>\n",
       "    <tr>\n",
       "      <th>Cust_ID</th>\n",
       "      <th></th>\n",
       "      <th></th>\n",
       "      <th></th>\n",
       "      <th></th>\n",
       "      <th></th>\n",
       "      <th></th>\n",
       "      <th></th>\n",
       "      <th></th>\n",
       "      <th></th>\n",
       "      <th></th>\n",
       "      <th></th>\n",
       "      <th></th>\n",
       "      <th></th>\n",
       "      <th></th>\n",
       "      <th></th>\n",
       "      <th></th>\n",
       "      <th></th>\n",
       "      <th></th>\n",
       "      <th></th>\n",
       "      <th></th>\n",
       "      <th></th>\n",
       "    </tr>\n",
       "  </thead>\n",
       "  <tbody>\n",
       "    <tr>\n",
       "      <th>1549</th>\n",
       "      <td>nochurn</td>\n",
       "      <td>Mr. Marcus Burns</td>\n",
       "      <td>yes</td>\n",
       "      <td>1981.0</td>\n",
       "      <td>business</td>\n",
       "      <td>single</td>\n",
       "      <td>5289</td>\n",
       "      <td>4</td>\n",
       "      <td>4</td>\n",
       "      <td>4</td>\n",
       "      <td>...</td>\n",
       "      <td>4</td>\n",
       "      <td>4</td>\n",
       "      <td>4</td>\n",
       "      <td>4</td>\n",
       "      <td>4</td>\n",
       "      <td>4</td>\n",
       "      <td>4</td>\n",
       "      <td>4</td>\n",
       "      <td>4</td>\n",
       "      <td>4</td>\n",
       "    </tr>\n",
       "    <tr>\n",
       "      <th>15260</th>\n",
       "      <td>nochurn</td>\n",
       "      <td>Mr. Randy Robbins</td>\n",
       "      <td>yes</td>\n",
       "      <td>1976.0</td>\n",
       "      <td>business</td>\n",
       "      <td>single</td>\n",
       "      <td>6699</td>\n",
       "      <td>5</td>\n",
       "      <td>5</td>\n",
       "      <td>5</td>\n",
       "      <td>...</td>\n",
       "      <td>5</td>\n",
       "      <td>5</td>\n",
       "      <td>5</td>\n",
       "      <td>5</td>\n",
       "      <td>5</td>\n",
       "      <td>5</td>\n",
       "      <td>5</td>\n",
       "      <td>5</td>\n",
       "      <td>5</td>\n",
       "      <td>5</td>\n",
       "    </tr>\n",
       "  </tbody>\n",
       "</table>\n",
       "<p>2 rows × 21 columns</p>\n",
       "</div>"
      ],
      "text/plain": [
       "           Churn               Name Longevity  Year_Birth TypeTravel RoomType  \\\n",
       "Cust_ID                                                                         \n",
       "1549     nochurn   Mr. Marcus Burns       yes      1981.0   business   single   \n",
       "15260    nochurn  Mr. Randy Robbins       yes      1976.0   business   single   \n",
       "\n",
       "         RewardPoints  Comfort  ReceptionSchedule  FoodDrink  ...  Wifi  \\\n",
       "Cust_ID                                                       ...         \n",
       "1549             5289        4                  4          4  ...     4   \n",
       "15260            6699        5                  5          5  ...     5   \n",
       "\n",
       "         Amenities  Staff  OnlineBooking  PriceQuality  RoomSpace  CheckOut  \\\n",
       "Cust_ID                                                                       \n",
       "1549             4      4              4             4          4         4   \n",
       "15260            5      5              5             5          5         5   \n",
       "\n",
       "         Checkin  Cleanliness  BarService  \n",
       "Cust_ID                                    \n",
       "1549           4            4           4  \n",
       "15260          5            5           5  \n",
       "\n",
       "[2 rows x 21 columns]"
      ]
     },
     "execution_count": 31,
     "metadata": {},
     "output_type": "execute_result"
    }
   ],
   "source": [
    "straight_lining_entries"
   ]
  },
  {
   "cell_type": "code",
   "execution_count": 32,
   "id": "1f97a149",
   "metadata": {},
   "outputs": [],
   "source": [
    "df.drop(straight_lining_entries.index, axis=0, inplace=True)"
   ]
  },
  {
   "cell_type": "markdown",
   "id": "2f3d5fc2",
   "metadata": {},
   "source": [
    "We found 2 entries that are considered straight lining answers and we will remove them from the data"
   ]
  },
  {
   "cell_type": "markdown",
   "id": "1f4f41f2",
   "metadata": {},
   "source": [
    "# 3) Feature Engineering"
   ]
  },
  {
   "cell_type": "raw",
   "id": "64d59cca",
   "metadata": {},
   "source": [
    "### 3.1) Gender Variable"
   ]
  },
  {
   "cell_type": "raw",
   "id": "3bd07836",
   "metadata": {},
   "source": [
    "df[\"Characters\"] = df[\"Name\"].str[:3]\n",
    "df['Characters'].unique()"
   ]
  },
  {
   "cell_type": "raw",
   "id": "fb9dcd08",
   "metadata": {},
   "source": [
    "df.drop(columns=[\"Characters\"], axis=1, inplace=True)\n",
    "df['Gender'] = ['Male' if i == 'Mr.' else 'Female' for i in df[\"Name\"].str[:3]]"
   ]
  },
  {
   "cell_type": "raw",
   "id": "bbe634f4",
   "metadata": {},
   "source": [
    "df.drop(columns=['Name'], inplace=True)"
   ]
  },
  {
   "cell_type": "raw",
   "id": "7a432bb7",
   "metadata": {},
   "source": [
    "### 3.2) Age Variable"
   ]
  },
  {
   "cell_type": "raw",
   "id": "ee34c6f6",
   "metadata": {},
   "source": [
    "df['Age'] = date.today().year - df['Year_Birth']"
   ]
  },
  {
   "cell_type": "raw",
   "id": "2a684319",
   "metadata": {},
   "source": [
    "del df['Year_Birth']"
   ]
  },
  {
   "cell_type": "raw",
   "id": "e0767d09",
   "metadata": {},
   "source": [
    "### 3.3) Rating Average Variable"
   ]
  },
  {
   "cell_type": "raw",
   "id": "844e0044",
   "metadata": {},
   "source": [
    "rating_features = ['Comfort', 'ReceptionSchedule', 'FoodDrink', 'Location', 'Wifi',\n",
    "       'Amenities', 'Staff', 'OnlineBooking', 'PriceQuality', 'RoomSpace',\n",
    "       'CheckOut', 'Checkin', 'Cleanliness', 'BarService']"
   ]
  },
  {
   "cell_type": "raw",
   "id": "92728315",
   "metadata": {},
   "source": [
    "rating_features = ['Comfort', 'ReceptionSchedule', 'FoodDrink', 'Location', 'Wifi',\n",
    "       'Amenities', 'Staff', 'OnlineBooking', 'PriceQuality', 'RoomSpace',\n",
    "       'CheckOut', 'Checkin', 'Cleanliness', 'BarService']\n",
    "\n",
    "df['Overall_Rating'] = df.apply(lambda x: round(x[rating_features].mean(), 2), axis=1)"
   ]
  },
  {
   "cell_type": "markdown",
   "id": "8be379d4",
   "metadata": {},
   "source": [
    "### 3.4) Churn Variable"
   ]
  },
  {
   "cell_type": "code",
   "execution_count": 33,
   "id": "8f11b208",
   "metadata": {},
   "outputs": [],
   "source": [
    "#churn = 1, nochurn = 0\n",
    "df['Churn'] = [1 if i == 'churn' else 0 for i in df[\"Churn\"]]"
   ]
  },
  {
   "cell_type": "raw",
   "id": "caa3f5bb",
   "metadata": {},
   "source": [
    "# 5) Data Scaling"
   ]
  },
  {
   "cell_type": "code",
   "execution_count": 34,
   "id": "b4a0b076",
   "metadata": {},
   "outputs": [],
   "source": [
    "target = ['Churn']\n",
    "metric_features_without_ratings = ['RewardPoints', 'Age', 'Overall_Rating']\n",
    "\n",
    "metric_features = ['RewardPoints', 'Comfort',\n",
    "       'ReceptionSchedule', 'FoodDrink', 'Location', 'Wifi', 'Amenities',\n",
    "       'Staff', 'OnlineBooking', 'PriceQuality', 'RoomSpace', 'CheckOut',\n",
    "       'Checkin', 'Cleanliness', 'BarService', 'Age',\n",
    "       'Overall_Rating']\n",
    "\n",
    "metric_features_without_overall_rating = ['RewardPoints', 'Comfort',\n",
    "       'ReceptionSchedule', 'FoodDrink', 'Location', 'Wifi', 'Amenities',\n",
    "       'Staff', 'OnlineBooking', 'PriceQuality', 'RoomSpace', 'CheckOut',\n",
    "       'Checkin', 'Cleanliness', 'BarService', 'Age']\n",
    "\n",
    "non_metric_features = ['Longevity', 'TypeTravel', 'RoomType', 'Gender', 'Churn']"
   ]
  },
  {
   "cell_type": "raw",
   "id": "6f3b6c04",
   "metadata": {},
   "source": [
    "scaler = MinMaxScaler()"
   ]
  },
  {
   "cell_type": "raw",
   "id": "21f01335",
   "metadata": {},
   "source": [
    "df_scaled_metric = pd.DataFrame(scaler.fit_transform(df[metric_features]), index=df[metric_features].index, columns = df[metric_features].columns)"
   ]
  },
  {
   "cell_type": "raw",
   "id": "0699a969",
   "metadata": {},
   "source": [
    "df_scaled = pd.concat([df_scaled_metric, df[non_metric_features + target]], axis = 1)"
   ]
  },
  {
   "cell_type": "raw",
   "id": "e896067d",
   "metadata": {},
   "source": [
    "df_scaled"
   ]
  },
  {
   "cell_type": "markdown",
   "id": "824caffa",
   "metadata": {},
   "source": [
    "# 4) Feature Selection"
   ]
  },
  {
   "cell_type": "code",
   "execution_count": 35,
   "id": "ea522391",
   "metadata": {},
   "outputs": [
    {
     "data": {
      "text/html": [
       "<div>\n",
       "<style scoped>\n",
       "    .dataframe tbody tr th:only-of-type {\n",
       "        vertical-align: middle;\n",
       "    }\n",
       "\n",
       "    .dataframe tbody tr th {\n",
       "        vertical-align: top;\n",
       "    }\n",
       "\n",
       "    .dataframe thead th {\n",
       "        text-align: right;\n",
       "    }\n",
       "</style>\n",
       "<table border=\"1\" class=\"dataframe\">\n",
       "  <thead>\n",
       "    <tr style=\"text-align: right;\">\n",
       "      <th></th>\n",
       "      <th>Churn</th>\n",
       "      <th>Name</th>\n",
       "      <th>Longevity</th>\n",
       "      <th>Year_Birth</th>\n",
       "      <th>TypeTravel</th>\n",
       "      <th>RoomType</th>\n",
       "      <th>RewardPoints</th>\n",
       "      <th>Comfort</th>\n",
       "      <th>ReceptionSchedule</th>\n",
       "      <th>FoodDrink</th>\n",
       "      <th>...</th>\n",
       "      <th>Wifi</th>\n",
       "      <th>Amenities</th>\n",
       "      <th>Staff</th>\n",
       "      <th>OnlineBooking</th>\n",
       "      <th>PriceQuality</th>\n",
       "      <th>RoomSpace</th>\n",
       "      <th>CheckOut</th>\n",
       "      <th>Checkin</th>\n",
       "      <th>Cleanliness</th>\n",
       "      <th>BarService</th>\n",
       "    </tr>\n",
       "    <tr>\n",
       "      <th>Cust_ID</th>\n",
       "      <th></th>\n",
       "      <th></th>\n",
       "      <th></th>\n",
       "      <th></th>\n",
       "      <th></th>\n",
       "      <th></th>\n",
       "      <th></th>\n",
       "      <th></th>\n",
       "      <th></th>\n",
       "      <th></th>\n",
       "      <th></th>\n",
       "      <th></th>\n",
       "      <th></th>\n",
       "      <th></th>\n",
       "      <th></th>\n",
       "      <th></th>\n",
       "      <th></th>\n",
       "      <th></th>\n",
       "      <th></th>\n",
       "      <th></th>\n",
       "      <th></th>\n",
       "    </tr>\n",
       "  </thead>\n",
       "  <tbody>\n",
       "    <tr>\n",
       "      <th>1</th>\n",
       "      <td>1</td>\n",
       "      <td>Ms. Nicole Clarke</td>\n",
       "      <td>yes</td>\n",
       "      <td>1974.0</td>\n",
       "      <td>business</td>\n",
       "      <td>single</td>\n",
       "      <td>4907</td>\n",
       "      <td>3</td>\n",
       "      <td>4</td>\n",
       "      <td>1</td>\n",
       "      <td>...</td>\n",
       "      <td>4</td>\n",
       "      <td>3</td>\n",
       "      <td>4</td>\n",
       "      <td>3</td>\n",
       "      <td>3</td>\n",
       "      <td>3</td>\n",
       "      <td>3</td>\n",
       "      <td>4</td>\n",
       "      <td>3</td>\n",
       "      <td>4</td>\n",
       "    </tr>\n",
       "    <tr>\n",
       "      <th>2</th>\n",
       "      <td>0</td>\n",
       "      <td>Mr. Jesse Scott</td>\n",
       "      <td>yes</td>\n",
       "      <td>1965.0</td>\n",
       "      <td>business</td>\n",
       "      <td>single</td>\n",
       "      <td>6724</td>\n",
       "      <td>1</td>\n",
       "      <td>1</td>\n",
       "      <td>1</td>\n",
       "      <td>...</td>\n",
       "      <td>5</td>\n",
       "      <td>3</td>\n",
       "      <td>4</td>\n",
       "      <td>5</td>\n",
       "      <td>5</td>\n",
       "      <td>5</td>\n",
       "      <td>5</td>\n",
       "      <td>1</td>\n",
       "      <td>5</td>\n",
       "      <td>2</td>\n",
       "    </tr>\n",
       "    <tr>\n",
       "      <th>3</th>\n",
       "      <td>1</td>\n",
       "      <td>Mr. Christopher Carter</td>\n",
       "      <td>yes</td>\n",
       "      <td>1973.0</td>\n",
       "      <td>business</td>\n",
       "      <td>single</td>\n",
       "      <td>4365</td>\n",
       "      <td>3</td>\n",
       "      <td>3</td>\n",
       "      <td>3</td>\n",
       "      <td>...</td>\n",
       "      <td>1</td>\n",
       "      <td>4</td>\n",
       "      <td>4</td>\n",
       "      <td>3</td>\n",
       "      <td>3</td>\n",
       "      <td>2</td>\n",
       "      <td>3</td>\n",
       "      <td>2</td>\n",
       "      <td>3</td>\n",
       "      <td>1</td>\n",
       "    </tr>\n",
       "    <tr>\n",
       "      <th>4</th>\n",
       "      <td>0</td>\n",
       "      <td>Ms. Jennifer Morgan</td>\n",
       "      <td>yes</td>\n",
       "      <td>1993.0</td>\n",
       "      <td>leisure</td>\n",
       "      <td>double</td>\n",
       "      <td>3849</td>\n",
       "      <td>1</td>\n",
       "      <td>1</td>\n",
       "      <td>1</td>\n",
       "      <td>...</td>\n",
       "      <td>4</td>\n",
       "      <td>4</td>\n",
       "      <td>5</td>\n",
       "      <td>4</td>\n",
       "      <td>4</td>\n",
       "      <td>4</td>\n",
       "      <td>4</td>\n",
       "      <td>4</td>\n",
       "      <td>4</td>\n",
       "      <td>3</td>\n",
       "    </tr>\n",
       "    <tr>\n",
       "      <th>5</th>\n",
       "      <td>0</td>\n",
       "      <td>Mr. Michael White</td>\n",
       "      <td>yes</td>\n",
       "      <td>1989.0</td>\n",
       "      <td>business</td>\n",
       "      <td>single</td>\n",
       "      <td>5376</td>\n",
       "      <td>2</td>\n",
       "      <td>2</td>\n",
       "      <td>3</td>\n",
       "      <td>...</td>\n",
       "      <td>5</td>\n",
       "      <td>5</td>\n",
       "      <td>5</td>\n",
       "      <td>5</td>\n",
       "      <td>5</td>\n",
       "      <td>3</td>\n",
       "      <td>4</td>\n",
       "      <td>1</td>\n",
       "      <td>3</td>\n",
       "      <td>5</td>\n",
       "    </tr>\n",
       "    <tr>\n",
       "      <th>...</th>\n",
       "      <td>...</td>\n",
       "      <td>...</td>\n",
       "      <td>...</td>\n",
       "      <td>...</td>\n",
       "      <td>...</td>\n",
       "      <td>...</td>\n",
       "      <td>...</td>\n",
       "      <td>...</td>\n",
       "      <td>...</td>\n",
       "      <td>...</td>\n",
       "      <td>...</td>\n",
       "      <td>...</td>\n",
       "      <td>...</td>\n",
       "      <td>...</td>\n",
       "      <td>...</td>\n",
       "      <td>...</td>\n",
       "      <td>...</td>\n",
       "      <td>...</td>\n",
       "      <td>...</td>\n",
       "      <td>...</td>\n",
       "      <td>...</td>\n",
       "    </tr>\n",
       "    <tr>\n",
       "      <th>15585</th>\n",
       "      <td>1</td>\n",
       "      <td>Ms. Wendy Roberts</td>\n",
       "      <td>no</td>\n",
       "      <td>1988.0</td>\n",
       "      <td>business</td>\n",
       "      <td>double</td>\n",
       "      <td>4968</td>\n",
       "      <td>2</td>\n",
       "      <td>0</td>\n",
       "      <td>2</td>\n",
       "      <td>...</td>\n",
       "      <td>3</td>\n",
       "      <td>2</td>\n",
       "      <td>4</td>\n",
       "      <td>3</td>\n",
       "      <td>4</td>\n",
       "      <td>5</td>\n",
       "      <td>1</td>\n",
       "      <td>3</td>\n",
       "      <td>4</td>\n",
       "      <td>3</td>\n",
       "    </tr>\n",
       "    <tr>\n",
       "      <th>15586</th>\n",
       "      <td>1</td>\n",
       "      <td>Ms. Sonya Smith</td>\n",
       "      <td>no</td>\n",
       "      <td>2000.0</td>\n",
       "      <td>business</td>\n",
       "      <td>double</td>\n",
       "      <td>4970</td>\n",
       "      <td>3</td>\n",
       "      <td>3</td>\n",
       "      <td>3</td>\n",
       "      <td>...</td>\n",
       "      <td>5</td>\n",
       "      <td>3</td>\n",
       "      <td>5</td>\n",
       "      <td>5</td>\n",
       "      <td>3</td>\n",
       "      <td>1</td>\n",
       "      <td>3</td>\n",
       "      <td>4</td>\n",
       "      <td>4</td>\n",
       "      <td>5</td>\n",
       "    </tr>\n",
       "    <tr>\n",
       "      <th>15587</th>\n",
       "      <td>0</td>\n",
       "      <td>Mr. Maxwell Wright</td>\n",
       "      <td>yes</td>\n",
       "      <td>1964.0</td>\n",
       "      <td>business</td>\n",
       "      <td>single</td>\n",
       "      <td>4046</td>\n",
       "      <td>1</td>\n",
       "      <td>1</td>\n",
       "      <td>1</td>\n",
       "      <td>...</td>\n",
       "      <td>3</td>\n",
       "      <td>4</td>\n",
       "      <td>5</td>\n",
       "      <td>4</td>\n",
       "      <td>4</td>\n",
       "      <td>4</td>\n",
       "      <td>4</td>\n",
       "      <td>5</td>\n",
       "      <td>4</td>\n",
       "      <td>4</td>\n",
       "    </tr>\n",
       "    <tr>\n",
       "      <th>15588</th>\n",
       "      <td>0</td>\n",
       "      <td>Mr. Gregory Moran</td>\n",
       "      <td>yes</td>\n",
       "      <td>1992.0</td>\n",
       "      <td>leisure</td>\n",
       "      <td>double</td>\n",
       "      <td>5155</td>\n",
       "      <td>4</td>\n",
       "      <td>3</td>\n",
       "      <td>4</td>\n",
       "      <td>...</td>\n",
       "      <td>5</td>\n",
       "      <td>4</td>\n",
       "      <td>5</td>\n",
       "      <td>5</td>\n",
       "      <td>2</td>\n",
       "      <td>5</td>\n",
       "      <td>4</td>\n",
       "      <td>3</td>\n",
       "      <td>4</td>\n",
       "      <td>5</td>\n",
       "    </tr>\n",
       "    <tr>\n",
       "      <th>15589</th>\n",
       "      <td>1</td>\n",
       "      <td>Mr. Steven Mendez</td>\n",
       "      <td>yes</td>\n",
       "      <td>1983.0</td>\n",
       "      <td>business</td>\n",
       "      <td>suite</td>\n",
       "      <td>5136</td>\n",
       "      <td>3</td>\n",
       "      <td>3</td>\n",
       "      <td>3</td>\n",
       "      <td>...</td>\n",
       "      <td>3</td>\n",
       "      <td>3</td>\n",
       "      <td>3</td>\n",
       "      <td>3</td>\n",
       "      <td>4</td>\n",
       "      <td>5</td>\n",
       "      <td>4</td>\n",
       "      <td>1</td>\n",
       "      <td>3</td>\n",
       "      <td>3</td>\n",
       "    </tr>\n",
       "  </tbody>\n",
       "</table>\n",
       "<p>15294 rows × 21 columns</p>\n",
       "</div>"
      ],
      "text/plain": [
       "         Churn                    Name Longevity  Year_Birth TypeTravel  \\\n",
       "Cust_ID                                                                   \n",
       "1            1       Ms. Nicole Clarke       yes      1974.0   business   \n",
       "2            0         Mr. Jesse Scott       yes      1965.0   business   \n",
       "3            1  Mr. Christopher Carter       yes      1973.0   business   \n",
       "4            0     Ms. Jennifer Morgan       yes      1993.0    leisure   \n",
       "5            0       Mr. Michael White       yes      1989.0   business   \n",
       "...        ...                     ...       ...         ...        ...   \n",
       "15585        1       Ms. Wendy Roberts        no      1988.0   business   \n",
       "15586        1         Ms. Sonya Smith        no      2000.0   business   \n",
       "15587        0      Mr. Maxwell Wright       yes      1964.0   business   \n",
       "15588        0       Mr. Gregory Moran       yes      1992.0    leisure   \n",
       "15589        1       Mr. Steven Mendez       yes      1983.0   business   \n",
       "\n",
       "        RoomType  RewardPoints  Comfort  ReceptionSchedule  FoodDrink  ...  \\\n",
       "Cust_ID                                                                ...   \n",
       "1         single          4907        3                  4          1  ...   \n",
       "2         single          6724        1                  1          1  ...   \n",
       "3         single          4365        3                  3          3  ...   \n",
       "4         double          3849        1                  1          1  ...   \n",
       "5         single          5376        2                  2          3  ...   \n",
       "...          ...           ...      ...                ...        ...  ...   \n",
       "15585     double          4968        2                  0          2  ...   \n",
       "15586     double          4970        3                  3          3  ...   \n",
       "15587     single          4046        1                  1          1  ...   \n",
       "15588     double          5155        4                  3          4  ...   \n",
       "15589      suite          5136        3                  3          3  ...   \n",
       "\n",
       "         Wifi  Amenities  Staff  OnlineBooking  PriceQuality  RoomSpace  \\\n",
       "Cust_ID                                                                   \n",
       "1           4          3      4              3             3          3   \n",
       "2           5          3      4              5             5          5   \n",
       "3           1          4      4              3             3          2   \n",
       "4           4          4      5              4             4          4   \n",
       "5           5          5      5              5             5          3   \n",
       "...       ...        ...    ...            ...           ...        ...   \n",
       "15585       3          2      4              3             4          5   \n",
       "15586       5          3      5              5             3          1   \n",
       "15587       3          4      5              4             4          4   \n",
       "15588       5          4      5              5             2          5   \n",
       "15589       3          3      3              3             4          5   \n",
       "\n",
       "         CheckOut  Checkin  Cleanliness  BarService  \n",
       "Cust_ID                                              \n",
       "1               3        4            3           4  \n",
       "2               5        1            5           2  \n",
       "3               3        2            3           1  \n",
       "4               4        4            4           3  \n",
       "5               4        1            3           5  \n",
       "...           ...      ...          ...         ...  \n",
       "15585           1        3            4           3  \n",
       "15586           3        4            4           5  \n",
       "15587           4        5            4           4  \n",
       "15588           4        3            4           5  \n",
       "15589           4        1            3           3  \n",
       "\n",
       "[15294 rows x 21 columns]"
      ]
     },
     "execution_count": 35,
     "metadata": {},
     "output_type": "execute_result"
    }
   ],
   "source": [
    "df"
   ]
  },
  {
   "cell_type": "code",
   "execution_count": 40,
   "id": "9278e7f0",
   "metadata": {},
   "outputs": [],
   "source": [
    "data = df.iloc[:,1:]\n",
    "target = df.loc[:,'Churn']\n",
    "\n",
    "cat_vars = ['Name', 'Longevity', 'TypeTravel', 'RoomType']\n",
    "num_vars = list(set(data.columns) - set(cat_vars))"
   ]
  },
  {
   "cell_type": "code",
   "execution_count": 49,
   "id": "901aee24",
   "metadata": {},
   "outputs": [],
   "source": [
    "def transform_data(X, age=False):\n",
    "        cat_vars = ['Name', 'Longevity', 'TypeTravel', 'RoomType']\n",
    "        num_vars = list(set(X.columns) - set(cat_vars))\n",
    "        print()\n",
    "        # get all numerical variables\n",
    "        X_train_num = X[num_vars]\n",
    "        #\n",
    "        # get all categorical variables\n",
    "        X_train_cat = X[cat_vars]\n",
    "        X_train_cat['Gender'] = ['Male' if i == 'Mr.' else 'Female' for i in X_train_cat[\"Name\"].str[:3]]\n",
    "        #df_scaled['Longevity'] = [1 if i == 'yes' else 0 for i in df_scaled[\"Longevity\"]]\n",
    "        #df_scaled['TypeTravel'] = [1 if i == 'business' else 0 for i in df_scaled[\"TypeTravel\"]]\n",
    "        \n",
    "        # fill missing values (KNN Imputer for Year of Birth: first variable of numerical variables)\n",
    "        k_imputer = round(np.sqrt(len(X_train_num)),0).astype('int32') # 125\n",
    "        imputer = KNNImputer(n_neighbors=k_imputer, weights=\"uniform\", metric='nan_euclidean')\n",
    "        imputer.fit(X_train_num)\n",
    "        data_KNN_train = imputer.transform(X_train_num)\n",
    "        data_KNN_train = pd.DataFrame(data_KNN_train)\n",
    "        data_KNN_train[0] = data_KNN_train[0].round(0)\n",
    "        X_train_num['Year_Birth'] = data_KNN_train[0].values\n",
    "        if age:\n",
    "            X_train_num['Age'] = date.today().year - X_train_num['Year_Birth']\n",
    "            \n",
    "        \n",
    "        # Apply scaling to numerical data\n",
    "        scaler = MinMaxScaler().fit(X_train_num)\n",
    "        X_train_scaled = pd.DataFrame(scaler.transform(X_train_num), columns = X_train_num.columns, index = X_train_num.index,) # MinMaxScaler in the training data\n",
    "        \n",
    "        return X_train_scaled, X_train_cat"
   ]
  },
  {
   "cell_type": "code",
   "execution_count": 50,
   "id": "3592526f",
   "metadata": {},
   "outputs": [],
   "source": [
    "def select_best_features(X, y, splits, age=False):\n",
    "    sel_log = [0, 0, 0, 0, 0, 0, 0, 0, 0, 0, 0, 0, 0, 0, 0, 0]\n",
    "    sel_tree = [0, 0, 0, 0, 0, 0, 0, 0, 0, 0, 0, 0, 0, 0, 0, 0]\n",
    "    sel_forest = [0, 0, 0, 0, 0, 0, 0, 0, 0, 0, 0, 0, 0, 0, 0, 0]\n",
    "    sel_lasso = [0, 0, 0, 0, 0, 0, 0, 0, 0, 0, 0, 0, 0, 0, 0, 0]\n",
    "    \n",
    "    if age:\n",
    "        sel_log.append(0)\n",
    "        sel_tree.append(0)\n",
    "        sel_forest.append(0)\n",
    "        sel_lasso.append(0)\n",
    "        \n",
    "    skf = StratifiedKFold(n_splits = splits, shuffle=True, random_state=42)\n",
    "    counter = 0\n",
    "    for train_index, val_index in skf.split(X, y):\n",
    "        counter +=1\n",
    "        print('')\n",
    "        print('--------------------------------------------------------')\n",
    "        print('SPLIT ', counter)\n",
    "        print('--------------------------------------------------------')\n",
    "        print('')\n",
    "        X_train, X_val = X.iloc[train_index], X.iloc[val_index]\n",
    "        y_train, y_val = y.iloc[train_index], y.iloc[val_index]\n",
    "        \n",
    "        \n",
    "        X_train_scaled, X_train_cat = transform_data(X_train, age)\n",
    "        X_val_scaled, X_val_cat = transform_data(X_val, age)\n",
    "\n",
    "        # Check which features to use using RFE and Logistic Regression\n",
    "        print('')\n",
    "        print('----------------- RFE ----------------------')\n",
    "        model = LogisticRegression()\n",
    "        rfe = RFE(estimator = model, n_features_to_select = 5)\n",
    "        X_rfe = rfe.fit_transform(X = X_train_scaled, y = y_train)\n",
    "        selected_features = pd.Series(rfe.support_, index = X_train_scaled.columns)\n",
    "        sel_log=np.add(sel_log,list(map(int, selected_features)))\n",
    "\n",
    "         # Check which features to use using RFE and decision tree\n",
    "        model = DecisionTreeClassifier()\n",
    "        rfe = RFE(estimator = model, n_features_to_select = 5)\n",
    "        X_rfe = rfe.fit_transform(X = X_train_scaled, y = y_train)\n",
    "        selected_features = pd.Series(rfe.support_, index = X_train_scaled.columns)\n",
    "        sel_tree=np.add(sel_tree,list(map(int, selected_features)))\n",
    "        \n",
    "        # Check which features to use using RFE and random forest\n",
    "        model = RandomForestClassifier()\n",
    "        rfe = RFE(estimator = model, n_features_to_select = 5)\n",
    "        X_rfe = rfe.fit_transform(X = X_train_scaled, y = y_train)\n",
    "        selected_features = pd.Series(rfe.support_, index = X_train_scaled.columns)\n",
    "        sel_forest=np.add(sel_forest,list(map(int, selected_features)))\n",
    "\n",
    "        #Lasso\n",
    "        reg = LassoCV()\n",
    "        reg.fit(X=X_train_scaled, y=y_train.replace('nochurn',0).replace('churn',1))\n",
    "        print(\"Best alpha using built-in LassoCV: %f\" % reg.alpha_)\n",
    "        print(\"Best score using built-in LassoCV: %f\" %reg.score(X = X_train_scaled,y = y_train.replace('nochurn',0).replace('churn',1)))\n",
    "        coef = pd.Series(reg.coef_, index = X_train_scaled.columns)\n",
    "        sel_lasso=np.add(sel_lasso,coef.values)\n",
    "        \n",
    "        # Check which features to use using Chi-Square\n",
    "        print('')\n",
    "        print('----------------- CHI-SQUARE ----------------------')\n",
    "        def TestIndependence(X,y,var,alpha=0.05):        \n",
    "            dfObserved = pd.crosstab(y,X) \n",
    "            chi2, p, dof, expected = stats.chi2_contingency(dfObserved.values)\n",
    "            dfExpected = pd.DataFrame(expected, columns=dfObserved.columns, index = dfObserved.index)\n",
    "            if p<alpha:\n",
    "                result=\"{0} is IMPORTANT for Prediction\".format(var)\n",
    "            else:\n",
    "                result=\"{0} is NOT important for Prediction. (Discard {0} from model)\".format(var)\n",
    "            print(result)\n",
    "        \n",
    "        for var in X_train_cat:\n",
    "            TestIndependence(X_train_cat[var],y_train, var)\n",
    "        \n",
    "        sel_lasso = sel_lasso/splits\n",
    "        \n",
    "        if age==True:\n",
    "            num_vars.append(\"Age\")\n",
    "         \n",
    "        final = pd.DataFrame(np.array([sel_log,sel_tree,sel_forest,sel_lasso]),\\\n",
    "                         columns=set(num_vars),index=['Logistic Regression','Decision Tree','Random Forest','Lasso'])\n",
    "                             \n",
    "    print(final.T)"
   ]
  },
  {
   "cell_type": "code",
   "execution_count": 51,
   "id": "7766c818",
   "metadata": {},
   "outputs": [
    {
     "name": "stdout",
     "output_type": "stream",
     "text": [
      "\n",
      "--------------------------------------------------------\n",
      "SPLIT  1\n",
      "--------------------------------------------------------\n",
      "\n",
      "\n",
      "\n",
      "\n",
      "----------------- RFE ----------------------\n",
      "Best alpha using built-in LassoCV: 0.000175\n",
      "Best score using built-in LassoCV: 0.410056\n",
      "\n",
      "----------------- CHI-SQUARE ----------------------\n",
      "Name is NOT important for Prediction. (Discard Name from model)\n",
      "Longevity is IMPORTANT for Prediction\n",
      "TypeTravel is IMPORTANT for Prediction\n",
      "RoomType is IMPORTANT for Prediction\n",
      "Gender is IMPORTANT for Prediction\n",
      "\n",
      "--------------------------------------------------------\n",
      "SPLIT  2\n",
      "--------------------------------------------------------\n",
      "\n",
      "\n",
      "\n",
      "\n",
      "----------------- RFE ----------------------\n",
      "Best alpha using built-in LassoCV: 0.000111\n",
      "Best score using built-in LassoCV: 0.402961\n",
      "\n",
      "----------------- CHI-SQUARE ----------------------\n",
      "Name is NOT important for Prediction. (Discard Name from model)\n",
      "Longevity is IMPORTANT for Prediction\n",
      "TypeTravel is IMPORTANT for Prediction\n",
      "RoomType is IMPORTANT for Prediction\n",
      "Gender is IMPORTANT for Prediction\n",
      "\n",
      "--------------------------------------------------------\n",
      "SPLIT  3\n",
      "--------------------------------------------------------\n",
      "\n",
      "\n",
      "\n",
      "\n",
      "----------------- RFE ----------------------\n",
      "Best alpha using built-in LassoCV: 0.000174\n",
      "Best score using built-in LassoCV: 0.406874\n",
      "\n",
      "----------------- CHI-SQUARE ----------------------\n",
      "Name is NOT important for Prediction. (Discard Name from model)\n",
      "Longevity is IMPORTANT for Prediction\n",
      "TypeTravel is IMPORTANT for Prediction\n",
      "RoomType is IMPORTANT for Prediction\n",
      "Gender is IMPORTANT for Prediction\n",
      "                   Logistic Regression  Decision Tree  Random Forest  \\\n",
      "RoomSpace                          0.0            1.0            0.0   \n",
      "CheckOut                           0.0            0.0            0.0   \n",
      "Wifi                               0.0            0.0            0.0   \n",
      "Comfort                            0.0            3.0            3.0   \n",
      "Amenities                          3.0            0.0            0.0   \n",
      "Checkin                            0.0            0.0            0.0   \n",
      "PriceQuality                       0.0            2.0            0.0   \n",
      "Age                                0.0            0.0            0.0   \n",
      "ReceptionSchedule                  3.0            0.0            0.0   \n",
      "FoodDrink                          0.0            0.0            3.0   \n",
      "BarService                         0.0            3.0            3.0   \n",
      "Location                           3.0            3.0            3.0   \n",
      "Cleanliness                        3.0            0.0            0.0   \n",
      "Year_Birth                         0.0            0.0            0.0   \n",
      "Staff                              3.0            3.0            3.0   \n",
      "OnlineBooking                      0.0            0.0            0.0   \n",
      "RewardPoints                       0.0            0.0            0.0   \n",
      "\n",
      "                          Lasso  \n",
      "RoomSpace         -1.132599e-01  \n",
      "CheckOut          -8.747691e-04  \n",
      "Wifi               2.981063e-02  \n",
      "Comfort           -5.932554e-02  \n",
      "Amenities         -9.741285e-02  \n",
      "Checkin           -3.219337e-02  \n",
      "PriceQuality      -2.846155e-02  \n",
      "Age                2.403825e-03  \n",
      "ReceptionSchedule -8.800573e-04  \n",
      "FoodDrink         -5.881015e-02  \n",
      "BarService        -2.049502e-02  \n",
      "Location          -3.244811e-01  \n",
      "Cleanliness       -7.276893e-02  \n",
      "Year_Birth         6.150956e-02  \n",
      "Staff             -1.099380e-01  \n",
      "OnlineBooking      5.704149e-02  \n",
      "RewardPoints       4.624461e-12  \n"
     ]
    }
   ],
   "source": [
    "select_best_features(data, target, 3, True)"
   ]
  },
  {
   "cell_type": "markdown",
   "id": "be63aa92",
   "metadata": {},
   "source": [
    "### 4.1) Metric Features"
   ]
  },
  {
   "cell_type": "code",
   "execution_count": 185,
   "id": "4176809f",
   "metadata": {},
   "outputs": [],
   "source": [
    "def cor_heatmap(cor):\n",
    "    plt.figure(figsize=(12,10))\n",
    "    sns.heatmap(data = cor, annot = True, cmap = plt.cm.Reds, fmt='.1')\n",
    "    plt.show()"
   ]
  },
  {
   "cell_type": "code",
   "execution_count": 186,
   "id": "43054e77",
   "metadata": {},
   "outputs": [
    {
     "data": {
      "image/png": "[encoded data removed]",
      "text/plain": [
       "<Figure size 864x720 with 2 Axes>"
      ]
     },
     "metadata": {
      "needs_background": "light"
     },
     "output_type": "display_data"
    }
   ],
   "source": [
    "cor_heatmap(data.corr())"
   ]
  },
  {
   "cell_type": "code",
   "execution_count": 187,
   "id": "a765d29e",
   "metadata": {},
   "outputs": [],
   "source": [
    "#RFE"
   ]
  },
  {
   "cell_type": "code",
   "execution_count": 188,
   "id": "11b9b919",
   "metadata": {},
   "outputs": [
    {
     "name": "stdout",
     "output_type": "stream",
     "text": [
      "Optimum number of features: 5\n",
      "Score with 5 features: 0.796906\n"
     ]
    }
   ],
   "source": [
    "#no of features\n",
    "nof_list=np.arange(1,6)            \n",
    "high_score=0\n",
    "#Variable to store the optimum features\n",
    "nof=0           \n",
    "score_list =[]\n",
    "\n",
    "#for each possible number of features\n",
    "for n in range(len(nof_list)):\n",
    "    #the data is split into training and test sets, with stratification\n",
    "    X_train1, X_test1, y_train1, y_test1 = train_test_split(data,target, test_size = 0.3, random_state = 0, stratify = target)\n",
    "    \n",
    "    model = LogisticRegression()\n",
    "    rfe = RFE(model,nof_list[n])\n",
    "    \n",
    "    #then the features are ranked and selected based on their importance to a logistic regression\n",
    "    X_train_rfe = rfe.fit_transform(X_train1,y_train1)\n",
    "    X_test_rfe = rfe.transform(X_test1)\n",
    "    \n",
    "    #the training partition with only the selected feature(s) is fit into a logistic regression\n",
    "    model.fit(X_train_rfe,y_train1)\n",
    "    \n",
    "    #then the target is predicted for the test partition, and its accuracy evaluated\n",
    "    #by its f1 score\n",
    "    y_pred = model.predict(X_test_rfe)\n",
    "    score = f1_score(y_test1, y_pred, average='micro')\n",
    "    score_list.append(score)\n",
    "    \n",
    "    #the f1 score is saved in a list of scores, and the high score\n",
    "    #and corresponding number of features are isolated\n",
    "    if(score>high_score):\n",
    "        high_score = score\n",
    "        nof = nof_list[n]\n",
    "        \n",
    "#The optimum number of features and the corresponding score is printed\n",
    "print(\"Optimum number of features: %d\" %nof)\n",
    "print(\"Score with %d features: %f\" % (nof, high_score))"
   ]
  },
  {
   "cell_type": "code",
   "execution_count": 189,
   "id": "e18fa0c4",
   "metadata": {},
   "outputs": [
    {
     "data": {
      "text/plain": [
       "RewardPoints         False\n",
       "Comfort              False\n",
       "ReceptionSchedule     True\n",
       "FoodDrink             True\n",
       "Location             False\n",
       "Wifi                 False\n",
       "Amenities             True\n",
       "Staff                False\n",
       "OnlineBooking        False\n",
       "PriceQuality         False\n",
       "RoomSpace             True\n",
       "CheckOut             False\n",
       "Checkin              False\n",
       "Cleanliness          False\n",
       "BarService           False\n",
       "Age                  False\n",
       "Overall_Rating        True\n",
       "dtype: bool"
      ]
     },
     "execution_count": 189,
     "metadata": {},
     "output_type": "execute_result"
    }
   ],
   "source": [
    "#RFE selects 5 features according to a logistic regression\n",
    "rfe = RFE(estimator = model, n_features_to_select = 5)\n",
    "X_rfe = rfe.fit_transform(X = data, y = target)\n",
    "model = LogisticRegression().fit(X = X_rfe,y = target)\n",
    "selected_features = pd.Series(rfe.support_, index = data.columns)\n",
    "\n",
    "# Features selected with RFE\n",
    "selected_features"
   ]
  },
  {
   "cell_type": "code",
   "execution_count": 190,
   "id": "594a670f",
   "metadata": {},
   "outputs": [],
   "source": [
    "#LASSO"
   ]
  },
  {
   "cell_type": "code",
   "execution_count": 191,
   "id": "d5be98b3",
   "metadata": {},
   "outputs": [
    {
     "name": "stdout",
     "output_type": "stream",
     "text": [
      "Best alpha using built-in LassoCV: 0.000121\n",
      "Best score using built-in LassoCV: 0.407498\n",
      "Lasso picked 15 variables and eliminated the other 2 variables\n"
     ]
    },
    {
     "data": {
      "image/png": "[encoded data removed]",
      "text/plain": [
       "<Figure size 576x720 with 1 Axes>"
      ]
     },
     "metadata": {
      "needs_background": "light"
     },
     "output_type": "display_data"
    }
   ],
   "source": [
    "#barh plot created to show feature importance\n",
    "def plot_importance(coef,name):\n",
    "    imp_coef = coef.sort_values()\n",
    "    plt.figure(figsize=(8,10))\n",
    "    imp_coef.plot(kind = \"barh\", color=\"peru\")\n",
    "    plt.title(\"Feature importance using \" + name + \" Model\")\n",
    "    plt.show()\n",
    "    \n",
    "reg = LassoCV()\n",
    "\n",
    "#the best alpha, best score, and feature importance plot determined\n",
    "#using LASSO are shown\n",
    "reg.fit(X=data, y=target)\n",
    "print(\"Best alpha using built-in LassoCV: %f\" % reg.alpha_)\n",
    "print(\"Best score using built-in LassoCV: %f\" %reg.score(X = data,y = target))\n",
    "coef = pd.Series(reg.coef_, index = data.columns)\n",
    "print(\"Lasso picked \" + str(sum(coef != 0)) + \" variables and eliminated the other \" +  str(sum(coef == 0)) + \" variables\")\n",
    "plot_importance(coef,'Lasso')"
   ]
  },
  {
   "cell_type": "markdown",
   "id": "48959881",
   "metadata": {},
   "source": [
    "<hr> \n",
    "\n",
    "### Numerical Data\n",
    "\n",
    "| Predictor | RFE | Lasso |  Correlation | Include in the model?\n",
    "| --- | --- | --- | --- | --- |\n",
    "| RewardPoints | Discard | Keep |  Keep |  Keep\n",
    "| Comfort | Discard | Keep | Keep | Keep\n",
    "| ReceptionSchedule | Keep | Keep  | Keep | Keep\n",
    "| FoodDrink | Discard | Keep | Discard |Discard \n",
    "| Location | Keep | Keep | Keep | Keep\n",
    "| Wifi | Discard | Keep | Keep | Keep\n",
    "| Amenities | Keep | Keep | Keep | Keep\n",
    "| Staff | Discard | Keep | Discard | Discard\n",
    "| OnlineBooking | Discard | Keep | Discard | Discard\n",
    "| PriceQuality | Discard | Keep | Keep | Keep\n",
    "| RoomSpace | Keep | Keep | Keep | Keep\n",
    "| CheckOut | Discard | Keep | Keep | Keep\n",
    "| Checkin | Discard | Keep  | Keep | Keep\n",
    "| Cleanliness | Discard | Discard  | Keep | Discard\n",
    "| BarService | Discard | Keep | Keep | Keep\n",
    "| Age | Discard | Keep | Keep | Keep\n",
    "| Overall_Rating | Keep | Discard  | Keep | Keep\n",
    "\n",
    "<hr> "
   ]
  },
  {
   "cell_type": "markdown",
   "id": "e63ae890",
   "metadata": {},
   "source": [
    "After analysing the results, the following variables were decided to be removed: FoodDrink, Staff, OnlineBooking and Cleanliness"
   ]
  },
  {
   "cell_type": "code",
   "execution_count": 216,
   "id": "12648b76",
   "metadata": {},
   "outputs": [],
   "source": [
    "metric_features_to_remove = ['FoodDrink', 'Staff', 'OnlineBooking', 'Cleanliness']"
   ]
  },
  {
   "cell_type": "markdown",
   "id": "bccba6f4",
   "metadata": {},
   "source": [
    "### 4.2) Non Metric Features"
   ]
  },
  {
   "cell_type": "code",
   "execution_count": 205,
   "id": "d111c8f1",
   "metadata": {},
   "outputs": [
    {
     "data": {
      "text/plain": [
       "['Longevity', 'TypeTravel', 'RoomType', 'Gender', 'Churn']"
      ]
     },
     "execution_count": 205,
     "metadata": {},
     "output_type": "execute_result"
    }
   ],
   "source": [
    "non_metric_features"
   ]
  },
  {
   "cell_type": "code",
   "execution_count": 206,
   "id": "e5b8e1bf",
   "metadata": {},
   "outputs": [
    {
     "data": {
      "text/html": [
       "<div>\n",
       "<style scoped>\n",
       "    .dataframe tbody tr th:only-of-type {\n",
       "        vertical-align: middle;\n",
       "    }\n",
       "\n",
       "    .dataframe tbody tr th {\n",
       "        vertical-align: top;\n",
       "    }\n",
       "\n",
       "    .dataframe thead th {\n",
       "        text-align: right;\n",
       "    }\n",
       "</style>\n",
       "<table border=\"1\" class=\"dataframe\">\n",
       "  <thead>\n",
       "    <tr style=\"text-align: right;\">\n",
       "      <th></th>\n",
       "      <th>Longevity</th>\n",
       "      <th>TypeTravel</th>\n",
       "      <th>RoomType</th>\n",
       "      <th>Gender</th>\n",
       "      <th>Churn</th>\n",
       "    </tr>\n",
       "    <tr>\n",
       "      <th>Cust_ID</th>\n",
       "      <th></th>\n",
       "      <th></th>\n",
       "      <th></th>\n",
       "      <th></th>\n",
       "      <th></th>\n",
       "    </tr>\n",
       "  </thead>\n",
       "  <tbody>\n",
       "    <tr>\n",
       "      <th>1</th>\n",
       "      <td>yes</td>\n",
       "      <td>business</td>\n",
       "      <td>single</td>\n",
       "      <td>Female</td>\n",
       "      <td>1</td>\n",
       "    </tr>\n",
       "    <tr>\n",
       "      <th>2</th>\n",
       "      <td>yes</td>\n",
       "      <td>business</td>\n",
       "      <td>single</td>\n",
       "      <td>Male</td>\n",
       "      <td>0</td>\n",
       "    </tr>\n",
       "    <tr>\n",
       "      <th>3</th>\n",
       "      <td>yes</td>\n",
       "      <td>business</td>\n",
       "      <td>single</td>\n",
       "      <td>Male</td>\n",
       "      <td>1</td>\n",
       "    </tr>\n",
       "    <tr>\n",
       "      <th>4</th>\n",
       "      <td>yes</td>\n",
       "      <td>leisure</td>\n",
       "      <td>double</td>\n",
       "      <td>Female</td>\n",
       "      <td>0</td>\n",
       "    </tr>\n",
       "    <tr>\n",
       "      <th>5</th>\n",
       "      <td>yes</td>\n",
       "      <td>business</td>\n",
       "      <td>single</td>\n",
       "      <td>Male</td>\n",
       "      <td>0</td>\n",
       "    </tr>\n",
       "    <tr>\n",
       "      <th>...</th>\n",
       "      <td>...</td>\n",
       "      <td>...</td>\n",
       "      <td>...</td>\n",
       "      <td>...</td>\n",
       "      <td>...</td>\n",
       "    </tr>\n",
       "    <tr>\n",
       "      <th>15585</th>\n",
       "      <td>no</td>\n",
       "      <td>business</td>\n",
       "      <td>double</td>\n",
       "      <td>Female</td>\n",
       "      <td>1</td>\n",
       "    </tr>\n",
       "    <tr>\n",
       "      <th>15586</th>\n",
       "      <td>no</td>\n",
       "      <td>business</td>\n",
       "      <td>double</td>\n",
       "      <td>Female</td>\n",
       "      <td>1</td>\n",
       "    </tr>\n",
       "    <tr>\n",
       "      <th>15587</th>\n",
       "      <td>yes</td>\n",
       "      <td>business</td>\n",
       "      <td>single</td>\n",
       "      <td>Male</td>\n",
       "      <td>0</td>\n",
       "    </tr>\n",
       "    <tr>\n",
       "      <th>15588</th>\n",
       "      <td>yes</td>\n",
       "      <td>leisure</td>\n",
       "      <td>double</td>\n",
       "      <td>Male</td>\n",
       "      <td>0</td>\n",
       "    </tr>\n",
       "    <tr>\n",
       "      <th>15589</th>\n",
       "      <td>yes</td>\n",
       "      <td>business</td>\n",
       "      <td>suite</td>\n",
       "      <td>Male</td>\n",
       "      <td>1</td>\n",
       "    </tr>\n",
       "  </tbody>\n",
       "</table>\n",
       "<p>15294 rows × 5 columns</p>\n",
       "</div>"
      ],
      "text/plain": [
       "        Longevity TypeTravel RoomType  Gender  Churn\n",
       "Cust_ID                                             \n",
       "1             yes   business   single  Female      1\n",
       "2             yes   business   single    Male      0\n",
       "3             yes   business   single    Male      1\n",
       "4             yes    leisure   double  Female      0\n",
       "5             yes   business   single    Male      0\n",
       "...           ...        ...      ...     ...    ...\n",
       "15585          no   business   double  Female      1\n",
       "15586          no   business   double  Female      1\n",
       "15587         yes   business   single    Male      0\n",
       "15588         yes    leisure   double    Male      0\n",
       "15589         yes   business    suite    Male      1\n",
       "\n",
       "[15294 rows x 5 columns]"
      ]
     },
     "execution_count": 206,
     "metadata": {},
     "output_type": "execute_result"
    }
   ],
   "source": [
    "df_non_metric=df_scaled[non_metric_features].copy()\n",
    "df_non_metric"
   ]
  },
  {
   "cell_type": "code",
   "execution_count": 207,
   "id": "5a48b4a4",
   "metadata": {},
   "outputs": [
    {
     "data": {
      "text/html": [
       "<div>\n",
       "<style scoped>\n",
       "    .dataframe tbody tr th:only-of-type {\n",
       "        vertical-align: middle;\n",
       "    }\n",
       "\n",
       "    .dataframe tbody tr th {\n",
       "        vertical-align: top;\n",
       "    }\n",
       "\n",
       "    .dataframe thead th {\n",
       "        text-align: right;\n",
       "    }\n",
       "</style>\n",
       "<table border=\"1\" class=\"dataframe\">\n",
       "  <thead>\n",
       "    <tr style=\"text-align: right;\">\n",
       "      <th></th>\n",
       "      <th>Column</th>\n",
       "      <th>Feature Importance</th>\n",
       "    </tr>\n",
       "  </thead>\n",
       "  <tbody>\n",
       "    <tr>\n",
       "      <th>0</th>\n",
       "      <td>Longevity</td>\n",
       "      <td>Important Feature</td>\n",
       "    </tr>\n",
       "    <tr>\n",
       "      <th>1</th>\n",
       "      <td>TypeTravel</td>\n",
       "      <td>Important Feature</td>\n",
       "    </tr>\n",
       "    <tr>\n",
       "      <th>2</th>\n",
       "      <td>RoomType</td>\n",
       "      <td>Important Feature</td>\n",
       "    </tr>\n",
       "    <tr>\n",
       "      <th>3</th>\n",
       "      <td>Gender</td>\n",
       "      <td>Important Feature</td>\n",
       "    </tr>\n",
       "    <tr>\n",
       "      <th>4</th>\n",
       "      <td>Churn</td>\n",
       "      <td>Important Feature</td>\n",
       "    </tr>\n",
       "  </tbody>\n",
       "</table>\n",
       "</div>"
      ],
      "text/plain": [
       "       Column Feature Importance\n",
       "0   Longevity  Important Feature\n",
       "1  TypeTravel  Important Feature\n",
       "2    RoomType  Important Feature\n",
       "3      Gender  Important Feature\n",
       "4       Churn  Important Feature"
      ]
     },
     "execution_count": 207,
     "metadata": {},
     "output_type": "execute_result"
    }
   ],
   "source": [
    "#The categorical features' importance is evaluated using the chi-squared test.\n",
    "#If the test's contingency is below the standard alpha of 0.05, then the\n",
    "#categorical feature is deemed important.\n",
    "chi2_check = []\n",
    "for feature in non_metric_features:\n",
    "    if chi2_contingency(pd.crosstab(df_non_metric['Churn'], df_non_metric[feature]))[1] < 0.05:\n",
    "        chi2_check.append('Important Feature')\n",
    "    else:\n",
    "        chi2_check.append('Not an Important Feature')\n",
    "res = pd.DataFrame(data = [non_metric_features, chi2_check] \n",
    "             ).T \n",
    "res.columns = ['Column', 'Feature Importance']\n",
    "res"
   ]
  },
  {
   "cell_type": "markdown",
   "id": "3ae6db10",
   "metadata": {},
   "source": [
    "# 5) Creating Dummies and Binary Variables"
   ]
  },
  {
   "cell_type": "markdown",
   "id": "52445386",
   "metadata": {},
   "source": [
    "The following variables need dummies: RoomType  \n",
    "The following variables are binary: Longevity, TypeTravel"
   ]
  },
  {
   "cell_type": "code",
   "execution_count": 218,
   "id": "7283bb43",
   "metadata": {},
   "outputs": [],
   "source": [
    "#yes = 1, no = 0\n",
    "df_scaled['Longevity'] = [1 if i == 'yes' else 0 for i in df_scaled[\"Longevity\"]]"
   ]
  },
  {
   "cell_type": "code",
   "execution_count": 219,
   "id": "1ac88f24",
   "metadata": {},
   "outputs": [],
   "source": [
    "#business = 1, leisure = 0\n",
    "df_scaled['TypeTravel'] = [1 if i == 'business' else 0 for i in df_scaled[\"TypeTravel\"]]"
   ]
  },
  {
   "cell_type": "code",
   "execution_count": 220,
   "id": "9c39c4c8",
   "metadata": {},
   "outputs": [],
   "source": [
    "#Male = 1, Female = 0\n",
    "df_scaled['Gender'] = [1 if i == 'Male' else 0 for i in df_scaled[\"Gender\"]]"
   ]
  },
  {
   "cell_type": "code",
   "execution_count": 221,
   "id": "c0024c0f",
   "metadata": {},
   "outputs": [],
   "source": [
    "df_scaled = pd.get_dummies(df_scaled, drop_first = True)"
   ]
  },
  {
   "cell_type": "markdown",
   "id": "906b941f",
   "metadata": {},
   "source": [
    "# 6) Modelling"
   ]
  },
  {
   "cell_type": "code",
   "execution_count": 226,
   "id": "ed9d3425",
   "metadata": {},
   "outputs": [],
   "source": [
    "df_model = df_scaled.drop(columns=metric_features_to_remove)"
   ]
  },
  {
   "cell_type": "code",
   "execution_count": 228,
   "id": "7187f690",
   "metadata": {},
   "outputs": [],
   "source": [
    "df_model_data = df_model.drop(columns = ['Churn'])\n",
    "df_model_target = df_model['Churn']"
   ]
  },
  {
   "cell_type": "code",
   "execution_count": 229,
   "id": "00a71184",
   "metadata": {},
   "outputs": [],
   "source": [
    "#splitting the training data into training and validation sets\n",
    "X_train, X_val, y_train, y_val = train_test_split(df_model_data,\n",
    "                                                  df_model_target,\n",
    "                                                  test_size = 0.30,\n",
    "                                                  random_state = 15,\n",
    "                                                  shuffle=True,\n",
    "                                                  stratify=df_model_target\n",
    ")"
   ]
  },
  {
   "cell_type": "code",
   "execution_count": 236,
   "id": "ca64682c",
   "metadata": {},
   "outputs": [],
   "source": [
    "def score(y_val,y_pred):\n",
    "    '''Shows the micro f score, then a complete analysis,\n",
    "    with precision, recall, f1-score, and support, for both\n",
    "    training and validation sets, after that the accuracy, and\n",
    "    finally the base and weighted averages\n",
    "    \n",
    "    Requires: the target from the validation dataset \n",
    "    and the corresponding prediction\n",
    "    '''\n",
    "    print('Micro f1 score:', f1_score(y_val, y_pred, average='micro'))\n",
    "    #calculating the micro f1 score\n",
    "    print('\\nResults on the data set:')\n",
    "    print(classification_report(y_true = y_val, y_pred = y_pred))"
   ]
  },
  {
   "cell_type": "markdown",
   "id": "a43a1d9e",
   "metadata": {},
   "source": [
    "#### Model 1 - Gradient Boosting Classifier"
   ]
  },
  {
   "cell_type": "code",
   "execution_count": null,
   "id": "6ca5fe07",
   "metadata": {},
   "outputs": [],
   "source": [
    "clf = GradientBoostingClassifier(random_state=15)\n",
    "\n",
    "print('-------MODEL WITH THE SELECTED FEATURES-------')\n",
    "scores = model_selection.cross_val_score(clf, X_train, y_train, cv=3, scoring='f1')\n",
    "print(\"Score on train: %0.5f (+/- %0.2f)\" % (scores.mean(), scores.std()))\n",
    "clf.fit(X_train, y_train)\n",
    "y_pred = clf.predict(X_val)\n",
    "score(y_val,y_pred)"
   ]
  },
  {
   "cell_type": "code",
   "execution_count": null,
   "id": "b072477b",
   "metadata": {},
   "outputs": [],
   "source": []
  },
  {
   "cell_type": "code",
   "execution_count": null,
   "id": "6b4fd319",
   "metadata": {},
   "outputs": [],
   "source": []
  },
  {
   "cell_type": "markdown",
   "id": "8ca2962e",
   "metadata": {},
   "source": [
    "#### Model 2 - Gradient Boosting Classifier"
   ]
  },
  {
   "cell_type": "code",
   "execution_count": 238,
   "id": "842addc3",
   "metadata": {},
   "outputs": [
    {
     "name": "stdout",
     "output_type": "stream",
     "text": [
      "-------MODEL WITH THE SELECTED FEATURES-------\n",
      "Score on train: 0.93274 (+/- 0.00)\n",
      "Micro f1 score: 0.9429069514055349\n",
      "\n",
      "Results on the data set:\n",
      "              precision    recall  f1-score   support\n",
      "\n",
      "           0       0.95      0.94      0.95      2488\n",
      "           1       0.93      0.95      0.94      2101\n",
      "\n",
      "    accuracy                           0.94      4589\n",
      "   macro avg       0.94      0.94      0.94      4589\n",
      "weighted avg       0.94      0.94      0.94      4589\n",
      "\n"
     ]
    }
   ],
   "source": [
    "clf =HistGradientBoostingClassifier(random_state=15)\n",
    "\n",
    "print('-------MODEL WITH THE SELECTED FEATURES-------')\n",
    "scores = model_selection.cross_val_score(clf, X_train, y_train, cv=3, scoring='f1')\n",
    "print(\"Score on train: %0.5f (+/- %0.2f)\" % (scores.mean(), scores.std()))\n",
    "clf.fit(X_train, y_train)\n",
    "y_pred = clf.predict(X_val)\n",
    "score(y_val,y_pred)\n"
   ]
  },
  {
   "cell_type": "code",
   "execution_count": null,
   "id": "958e982c",
   "metadata": {},
   "outputs": [],
   "source": []
  },
  {
   "cell_type": "code",
   "execution_count": null,
   "id": "ca0fbff6",
   "metadata": {},
   "outputs": [],
   "source": []
  },
  {
   "cell_type": "markdown",
   "id": "187d7b60",
   "metadata": {},
   "source": [
    "#### Model 3 - AdaBoost Classifier"
   ]
  },
  {
   "cell_type": "code",
   "execution_count": 239,
   "id": "78bd4132",
   "metadata": {},
   "outputs": [
    {
     "name": "stdout",
     "output_type": "stream",
     "text": [
      "-------MODEL WITH THE SELECTED FEATURES-------\n",
      "Score on train: 0.87589 (+/- 0.00)\n",
      "Micro f1 score: 0.8919154499891043\n",
      "\n",
      "Results on the data set:\n",
      "              precision    recall  f1-score   support\n",
      "\n",
      "           0       0.91      0.89      0.90      2488\n",
      "           1       0.87      0.89      0.88      2101\n",
      "\n",
      "    accuracy                           0.89      4589\n",
      "   macro avg       0.89      0.89      0.89      4589\n",
      "weighted avg       0.89      0.89      0.89      4589\n",
      "\n"
     ]
    }
   ],
   "source": [
    "clf = AdaBoostClassifier(random_state=15)\n",
    "\n",
    "print('-------MODEL WITH THE SELECTED FEATURES-------')\n",
    "scores = model_selection.cross_val_score(clf, X_train, y_train, cv=3, scoring='f1')\n",
    "print(\"Score on train: %0.5f (+/- %0.2f)\" % (scores.mean(), scores.std()))\n",
    "clf.fit(X_train, y_train)\n",
    "y_pred = clf.predict(X_val)\n",
    "score(y_val,y_pred)"
   ]
  },
  {
   "cell_type": "code",
   "execution_count": null,
   "id": "549aa509",
   "metadata": {},
   "outputs": [],
   "source": []
  },
  {
   "cell_type": "code",
   "execution_count": null,
   "id": "f0c4bc3d",
   "metadata": {},
   "outputs": [],
   "source": []
  },
  {
   "cell_type": "markdown",
   "id": "985b7204",
   "metadata": {},
   "source": [
    "#### Model 4 - Support Vector Classifier"
   ]
  },
  {
   "cell_type": "code",
   "execution_count": 241,
   "id": "0d3e5f83",
   "metadata": {},
   "outputs": [
    {
     "name": "stdout",
     "output_type": "stream",
     "text": [
      "-------MODEL WITH THE SELECTED FEATURES-------\n",
      "Score on train: 0.90511 (+/- 0.00)\n",
      "Micro f1 score: 0.9150141643059491\n",
      "\n",
      "Results on the data set:\n",
      "              precision    recall  f1-score   support\n",
      "\n",
      "           0       0.92      0.92      0.92      2488\n",
      "           1       0.91      0.91      0.91      2101\n",
      "\n",
      "    accuracy                           0.92      4589\n",
      "   macro avg       0.91      0.91      0.91      4589\n",
      "weighted avg       0.91      0.92      0.92      4589\n",
      "\n"
     ]
    }
   ],
   "source": [
    "clf = SVC(random_state=15)\n",
    "\n",
    "print('-------MODEL WITH THE SELECTED FEATURES-------')\n",
    "scores = model_selection.cross_val_score(clf, X_train, y_train, cv=3, scoring='f1')\n",
    "print(\"Score on train: %0.5f (+/- %0.2f)\" % (scores.mean(), scores.std()))\n",
    "clf.fit(X_train, y_train)\n",
    "y_pred = clf.predict(X_val)\n",
    "score(y_val,y_pred)"
   ]
  },
  {
   "cell_type": "code",
   "execution_count": null,
   "id": "433dfac4",
   "metadata": {},
   "outputs": [],
   "source": []
  },
  {
   "cell_type": "code",
   "execution_count": null,
   "id": "ed6f36fa",
   "metadata": {},
   "outputs": [],
   "source": []
  },
  {
   "cell_type": "markdown",
   "id": "643143a9",
   "metadata": {},
   "source": [
    "#### Model 5 - Logistic Regressor"
   ]
  },
  {
   "cell_type": "code",
   "execution_count": 242,
   "id": "b81242a3",
   "metadata": {},
   "outputs": [
    {
     "name": "stdout",
     "output_type": "stream",
     "text": [
      "-------MODEL WITH THE SELECTED FEATURES-------\n",
      "Score on train: 0.81523 (+/- 0.00)\n",
      "Micro f1 score: 0.8322074526040533\n",
      "\n",
      "Results on the data set:\n",
      "              precision    recall  f1-score   support\n",
      "\n",
      "           0       0.85      0.84      0.84      2488\n",
      "           1       0.81      0.83      0.82      2101\n",
      "\n",
      "    accuracy                           0.83      4589\n",
      "   macro avg       0.83      0.83      0.83      4589\n",
      "weighted avg       0.83      0.83      0.83      4589\n",
      "\n"
     ]
    }
   ],
   "source": [
    "clf = LogisticRegression(random_state=15)\n",
    "\n",
    "print('-------MODEL WITH THE SELECTED FEATURES-------')\n",
    "scores = model_selection.cross_val_score(clf, X_train, y_train, cv=3, scoring='f1')\n",
    "print(\"Score on train: %0.5f (+/- %0.2f)\" % (scores.mean(), scores.std()))\n",
    "clf.fit(X_train, y_train)\n",
    "y_pred = clf.predict(X_val)\n",
    "score(y_val,y_pred)"
   ]
  },
  {
   "cell_type": "code",
   "execution_count": null,
   "id": "3c3f110f",
   "metadata": {},
   "outputs": [],
   "source": []
  },
  {
   "cell_type": "code",
   "execution_count": null,
   "id": "234f2587",
   "metadata": {},
   "outputs": [],
   "source": []
  },
  {
   "cell_type": "markdown",
   "id": "18ade9c4",
   "metadata": {},
   "source": [
    "#### Model 6 - Gaussian Naive Bayes"
   ]
  },
  {
   "cell_type": "code",
   "execution_count": 243,
   "id": "92807f50",
   "metadata": {},
   "outputs": [
    {
     "name": "stdout",
     "output_type": "stream",
     "text": [
      "-------MODEL WITH THE SELECTED FEATURES-------\n",
      "Score on train: 0.80703 (+/- 0.00)\n",
      "Micro f1 score: 0.8208760078448464\n",
      "\n",
      "Results on the data set:\n",
      "              precision    recall  f1-score   support\n",
      "\n",
      "           0       0.85      0.82      0.83      2488\n",
      "           1       0.79      0.83      0.81      2101\n",
      "\n",
      "    accuracy                           0.82      4589\n",
      "   macro avg       0.82      0.82      0.82      4589\n",
      "weighted avg       0.82      0.82      0.82      4589\n",
      "\n"
     ]
    }
   ],
   "source": [
    "clf = GaussianNB()\n",
    "\n",
    "print('-------MODEL WITH THE SELECTED FEATURES-------')\n",
    "scores = model_selection.cross_val_score(clf, X_train, y_train, cv=3, scoring='f1')\n",
    "print(\"Score on train: %0.5f (+/- %0.2f)\" % (scores.mean(), scores.std()))\n",
    "clf.fit(X_train, y_train)\n",
    "y_pred = clf.predict(X_val)\n",
    "score(y_val,y_pred)"
   ]
  },
  {
   "cell_type": "code",
   "execution_count": null,
   "id": "2fc8fbb9",
   "metadata": {},
   "outputs": [],
   "source": []
  },
  {
   "cell_type": "code",
   "execution_count": null,
   "id": "02676efa",
   "metadata": {},
   "outputs": [],
   "source": []
  },
  {
   "cell_type": "markdown",
   "id": "e384206a",
   "metadata": {},
   "source": [
    "#### Model 7 - Extra Trees Classifier"
   ]
  },
  {
   "cell_type": "code",
   "execution_count": 245,
   "id": "82ac1648",
   "metadata": {},
   "outputs": [
    {
     "name": "stdout",
     "output_type": "stream",
     "text": [
      "-------MODEL WITH THE SELECTED FEATURES-------\n",
      "Score on train: 0.92233 (+/- 0.00)\n",
      "Micro f1 score: 0.9322292438439748\n",
      "\n",
      "Results on the data set:\n",
      "              precision    recall  f1-score   support\n",
      "\n",
      "           0       0.94      0.94      0.94      2488\n",
      "           1       0.92      0.93      0.93      2101\n",
      "\n",
      "    accuracy                           0.93      4589\n",
      "   macro avg       0.93      0.93      0.93      4589\n",
      "weighted avg       0.93      0.93      0.93      4589\n",
      "\n"
     ]
    }
   ],
   "source": [
    "clf = ExtraTreesClassifier(random_state=15)\n",
    "\n",
    "print('-------MODEL WITH THE SELECTED FEATURES-------')\n",
    "scores = model_selection.cross_val_score(clf, X_train, y_train, cv=3, scoring='f1')\n",
    "print(\"Score on train: %0.5f (+/- %0.2f)\" % (scores.mean(), scores.std()))\n",
    "clf.fit(X_train, y_train)\n",
    "y_pred = clf.predict(X_val)\n",
    "score(y_val,y_pred)"
   ]
  },
  {
   "cell_type": "code",
   "execution_count": null,
   "id": "fe047a97",
   "metadata": {},
   "outputs": [],
   "source": []
  },
  {
   "cell_type": "code",
   "execution_count": null,
   "id": "6dba3936",
   "metadata": {},
   "outputs": [],
   "source": []
  },
  {
   "cell_type": "markdown",
   "id": "c358eb92",
   "metadata": {},
   "source": [
    "#### Model 8 - K-Neighbors Classifier"
   ]
  },
  {
   "cell_type": "code",
   "execution_count": 246,
   "id": "9c7b91e1",
   "metadata": {},
   "outputs": [
    {
     "name": "stdout",
     "output_type": "stream",
     "text": [
      "-------MODEL WITH THE SELECTED FEATURES-------\n",
      "Score on train: 0.88364 (+/- 0.00)\n",
      "Micro f1 score: 0.8923512747875354\n",
      "\n",
      "Results on the data set:\n",
      "              precision    recall  f1-score   support\n",
      "\n",
      "           0       0.92      0.88      0.90      2488\n",
      "           1       0.87      0.91      0.89      2101\n",
      "\n",
      "    accuracy                           0.89      4589\n",
      "   macro avg       0.89      0.89      0.89      4589\n",
      "weighted avg       0.89      0.89      0.89      4589\n",
      "\n"
     ]
    }
   ],
   "source": [
    "clf = KNeighborsClassifier()\n",
    "\n",
    "print('-------MODEL WITH THE SELECTED FEATURES-------')\n",
    "scores = model_selection.cross_val_score(clf, X_train, y_train, cv=3, scoring='f1')\n",
    "print(\"Score on train: %0.5f (+/- %0.2f)\" % (scores.mean(), scores.std()))\n",
    "clf.fit(X_train, y_train)\n",
    "y_pred = clf.predict(X_val)\n",
    "score(y_val,y_pred)"
   ]
  },
  {
   "cell_type": "code",
   "execution_count": null,
   "id": "6310df63",
   "metadata": {},
   "outputs": [],
   "source": []
  },
  {
   "cell_type": "code",
   "execution_count": null,
   "id": "78949961",
   "metadata": {},
   "outputs": [],
   "source": []
  },
  {
   "cell_type": "markdown",
   "id": "6ca684e4",
   "metadata": {},
   "source": [
    "#### Model 9 - Random Forest Classifier"
   ]
  },
  {
   "cell_type": "code",
   "execution_count": 247,
   "id": "8a2d80cb",
   "metadata": {},
   "outputs": [
    {
     "name": "stdout",
     "output_type": "stream",
     "text": [
      "-------MODEL WITH THE SELECTED FEATURES-------\n",
      "Score on train: 0.92183 (+/- 0.00)\n",
      "Micro f1 score: 0.9350621050337764\n",
      "\n",
      "Results on the data set:\n",
      "              precision    recall  f1-score   support\n",
      "\n",
      "           0       0.94      0.94      0.94      2488\n",
      "           1       0.93      0.93      0.93      2101\n",
      "\n",
      "    accuracy                           0.94      4589\n",
      "   macro avg       0.93      0.93      0.93      4589\n",
      "weighted avg       0.94      0.94      0.94      4589\n",
      "\n"
     ]
    }
   ],
   "source": [
    "clf =  RandomForestClassifier(random_state=15)\n",
    "\n",
    "print('-------MODEL WITH THE SELECTED FEATURES-------')\n",
    "scores = model_selection.cross_val_score(clf, X_train, y_train, cv=3, scoring='f1')\n",
    "print(\"Score on train: %0.5f (+/- %0.2f)\" % (scores.mean(), scores.std()))\n",
    "clf.fit(X_train, y_train)\n",
    "y_pred = clf.predict(X_val)\n",
    "score(y_val,y_pred)"
   ]
  },
  {
   "cell_type": "code",
   "execution_count": null,
   "id": "ea0fc150",
   "metadata": {},
   "outputs": [],
   "source": []
  },
  {
   "cell_type": "code",
   "execution_count": null,
   "id": "16d7fb61",
   "metadata": {},
   "outputs": [],
   "source": []
  },
  {
   "cell_type": "markdown",
   "id": "f8b992b9",
   "metadata": {},
   "source": [
    "#### Model 10 - Decision Tree Classifier"
   ]
  },
  {
   "cell_type": "code",
   "execution_count": 248,
   "id": "a8a5909d",
   "metadata": {},
   "outputs": [
    {
     "name": "stdout",
     "output_type": "stream",
     "text": [
      "-------MODEL WITH THE SELECTED FEATURES-------\n",
      "Score on train: 0.88029 (+/- 0.01)\n",
      "Micro f1 score: 0.9062976683373284\n",
      "\n",
      "Results on the data set:\n",
      "              precision    recall  f1-score   support\n",
      "\n",
      "           0       0.92      0.90      0.91      2488\n",
      "           1       0.89      0.91      0.90      2101\n",
      "\n",
      "    accuracy                           0.91      4589\n",
      "   macro avg       0.91      0.91      0.91      4589\n",
      "weighted avg       0.91      0.91      0.91      4589\n",
      "\n"
     ]
    }
   ],
   "source": [
    "clf = DecisionTreeClassifier()\n",
    "\n",
    "print('-------MODEL WITH THE SELECTED FEATURES-------')\n",
    "scores = model_selection.cross_val_score(clf, X_train, y_train, cv=3, scoring='f1')\n",
    "print(\"Score on train: %0.5f (+/- %0.2f)\" % (scores.mean(), scores.std()))\n",
    "clf.fit(X_train, y_train)\n",
    "y_pred = clf.predict(X_val)\n",
    "score(y_val,y_pred)"
   ]
  },
  {
   "cell_type": "code",
   "execution_count": null,
   "id": "405712f3",
   "metadata": {},
   "outputs": [],
   "source": []
  },
  {
   "cell_type": "code",
   "execution_count": null,
   "id": "72437bd5",
   "metadata": {},
   "outputs": [],
   "source": []
  },
  {
   "cell_type": "markdown",
   "id": "3f51c8c6",
   "metadata": {},
   "source": [
    "#### Model 11 - MLP Classifier"
   ]
  },
  {
   "cell_type": "code",
   "execution_count": 249,
   "id": "d5a44c24",
   "metadata": {},
   "outputs": [
    {
     "name": "stdout",
     "output_type": "stream",
     "text": [
      "-------MODEL WITH THE SELECTED FEATURES-------\n",
      "Score on train: 0.91367 (+/- 0.00)\n",
      "Micro f1 score: 0.9293963826541729\n",
      "\n",
      "Results on the data set:\n",
      "              precision    recall  f1-score   support\n",
      "\n",
      "           0       0.94      0.93      0.93      2488\n",
      "           1       0.92      0.92      0.92      2101\n",
      "\n",
      "    accuracy                           0.93      4589\n",
      "   macro avg       0.93      0.93      0.93      4589\n",
      "weighted avg       0.93      0.93      0.93      4589\n",
      "\n"
     ]
    }
   ],
   "source": [
    "clf = MLPClassifier()\n",
    "\n",
    "print('-------MODEL WITH THE SELECTED FEATURES-------')\n",
    "scores = model_selection.cross_val_score(clf, X_train, y_train, cv=3, scoring='f1')\n",
    "print(\"Score on train: %0.5f (+/- %0.2f)\" % (scores.mean(), scores.std()))\n",
    "clf.fit(X_train, y_train)\n",
    "y_pred = clf.predict(X_val)\n",
    "score(y_val,y_pred)"
   ]
  },
  {
   "cell_type": "code",
   "execution_count": null,
   "id": "177bd099",
   "metadata": {},
   "outputs": [],
   "source": []
  },
  {
   "cell_type": "code",
   "execution_count": null,
   "id": "6dc83e4b",
   "metadata": {},
   "outputs": [],
   "source": []
  }
 ],
 "metadata": {
  "kernelspec": {
   "display_name": "Python 3 (ipykernel)",
   "language": "python",
   "name": "python3"
  },
  "language_info": {
   "codemirror_mode": {
    "name": "ipython",
    "version": 3
   },
   "file_extension": ".py",
   "mimetype": "text/x-python",
   "name": "python",
   "nbconvert_exporter": "python",
   "pygments_lexer": "ipython3",
   "version": "3.9.7"
  }
 },
 "nbformat": 4,
 "nbformat_minor": 5
}
