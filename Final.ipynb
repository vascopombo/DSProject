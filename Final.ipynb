{
 "cells": [
  {
   "cell_type": "markdown",
   "id": "5320828d",
   "metadata": {},
   "source": [
    "## DATA SCIENCE"
   ]
  },
  {
   "cell_type": "markdown",
   "id": "ff68bc13",
   "metadata": {},
   "source": [
    "Group 17\n",
    "\n",
    "Daniel Lucas  \n",
    "Ricardo Nobre  \n",
    "Ricardo Carvalho  \n",
    "Diogo Torneiro  \n",
    "Vasco Pombo  "
   ]
  },
  {
   "cell_type": "code",
   "execution_count": 198,
   "id": "95935e8d",
   "metadata": {},
   "outputs": [
    {
     "name": "stdout",
     "output_type": "stream",
     "text": [
      "Collecting kneed\n",
      "  Downloading kneed-0.7.0-py2.py3-none-any.whl (9.4 kB)\n",
      "Requirement already satisfied: numpy>=1.14.2 in c:\\users\\danie\\anaconda3\\lib\\site-packages (from kneed) (1.20.3)\n",
      "Requirement already satisfied: scipy in c:\\users\\danie\\anaconda3\\lib\\site-packages (from kneed) (1.7.1)\n",
      "Requirement already satisfied: matplotlib in c:\\users\\danie\\anaconda3\\lib\\site-packages (from kneed) (3.4.3)\n",
      "Requirement already satisfied: python-dateutil>=2.7 in c:\\users\\danie\\anaconda3\\lib\\site-packages (from matplotlib->kneed) (2.8.2)\n",
      "Requirement already satisfied: kiwisolver>=1.0.1 in c:\\users\\danie\\anaconda3\\lib\\site-packages (from matplotlib->kneed) (1.3.1)\n",
      "Requirement already satisfied: pyparsing>=2.2.1 in c:\\users\\danie\\anaconda3\\lib\\site-packages (from matplotlib->kneed) (3.0.4)\n",
      "Requirement already satisfied: cycler>=0.10 in c:\\users\\danie\\anaconda3\\lib\\site-packages (from matplotlib->kneed) (0.10.0)\n",
      "Requirement already satisfied: pillow>=6.2.0 in c:\\users\\danie\\anaconda3\\lib\\site-packages (from matplotlib->kneed) (8.4.0)\n",
      "Requirement already satisfied: six in c:\\users\\danie\\anaconda3\\lib\\site-packages (from cycler>=0.10->matplotlib->kneed) (1.16.0)\n",
      "Installing collected packages: kneed\n",
      "Successfully installed kneed-0.7.0\n",
      "Note: you may need to restart the kernel to use updated packages.\n"
     ]
    }
   ],
   "source": [
    "pip install kneed"
   ]
  },
  {
   "cell_type": "markdown",
   "id": "d4b1ea3b",
   "metadata": {},
   "source": [
    "### Imports"
   ]
  },
  {
   "cell_type": "code",
   "execution_count": 31,
   "id": "7d4ad0c0",
   "metadata": {},
   "outputs": [],
   "source": [
    "import pandas as pd\n",
    "import numpy as np\n",
    "import matplotlib.pyplot as plt\n",
    "import seaborn as sns\n",
    "from sklearn.preprocessing import MinMaxScaler\n",
    "from datetime import date\n",
    "\n",
    "import warnings\n",
    "warnings.filterwarnings(\"ignore\")"
   ]
  },
  {
   "cell_type": "markdown",
   "id": "07edf82a",
   "metadata": {},
   "source": [
    "### Importing Data"
   ]
  },
  {
   "cell_type": "code",
   "execution_count": 124,
   "id": "92cd50ad",
   "metadata": {},
   "outputs": [],
   "source": [
    "original_data = pd.read_csv('cluster.csv')"
   ]
  },
  {
   "cell_type": "code",
   "execution_count": 125,
   "id": "af8ff2e0",
   "metadata": {},
   "outputs": [],
   "source": [
    "df = original_data.copy()"
   ]
  },
  {
   "cell_type": "code",
   "execution_count": 126,
   "id": "e8f3c34d",
   "metadata": {},
   "outputs": [
    {
     "data": {
      "text/html": [
       "<div>\n",
       "<style scoped>\n",
       "    .dataframe tbody tr th:only-of-type {\n",
       "        vertical-align: middle;\n",
       "    }\n",
       "\n",
       "    .dataframe tbody tr th {\n",
       "        vertical-align: top;\n",
       "    }\n",
       "\n",
       "    .dataframe thead th {\n",
       "        text-align: right;\n",
       "    }\n",
       "</style>\n",
       "<table border=\"1\" class=\"dataframe\">\n",
       "  <thead>\n",
       "    <tr style=\"text-align: right;\">\n",
       "      <th></th>\n",
       "      <th>Churn</th>\n",
       "      <th>Name</th>\n",
       "      <th>Longevity</th>\n",
       "      <th>Year_Birth</th>\n",
       "      <th>TypeTravel</th>\n",
       "      <th>RoomType</th>\n",
       "      <th>RewardPoints</th>\n",
       "      <th>Comfort</th>\n",
       "      <th>ReceptionSchedule</th>\n",
       "      <th>FoodDrink</th>\n",
       "      <th>...</th>\n",
       "      <th>Wifi</th>\n",
       "      <th>Amenities</th>\n",
       "      <th>Staff</th>\n",
       "      <th>OnlineBooking</th>\n",
       "      <th>PriceQuality</th>\n",
       "      <th>RoomSpace</th>\n",
       "      <th>CheckOut</th>\n",
       "      <th>Checkin</th>\n",
       "      <th>Cleanliness</th>\n",
       "      <th>BarService</th>\n",
       "    </tr>\n",
       "  </thead>\n",
       "  <tbody>\n",
       "    <tr>\n",
       "      <th>0</th>\n",
       "      <td>churn</td>\n",
       "      <td>Ms. Nicole Clarke</td>\n",
       "      <td>yes</td>\n",
       "      <td>1974.0</td>\n",
       "      <td>business</td>\n",
       "      <td>single</td>\n",
       "      <td>4907</td>\n",
       "      <td>3</td>\n",
       "      <td>4</td>\n",
       "      <td>1</td>\n",
       "      <td>...</td>\n",
       "      <td>4</td>\n",
       "      <td>3</td>\n",
       "      <td>4</td>\n",
       "      <td>3</td>\n",
       "      <td>3</td>\n",
       "      <td>3</td>\n",
       "      <td>3</td>\n",
       "      <td>4</td>\n",
       "      <td>3</td>\n",
       "      <td>4</td>\n",
       "    </tr>\n",
       "    <tr>\n",
       "      <th>1</th>\n",
       "      <td>nochurn</td>\n",
       "      <td>Mr. Jesse Scott</td>\n",
       "      <td>yes</td>\n",
       "      <td>1965.0</td>\n",
       "      <td>business</td>\n",
       "      <td>single</td>\n",
       "      <td>6724</td>\n",
       "      <td>1</td>\n",
       "      <td>1</td>\n",
       "      <td>1</td>\n",
       "      <td>...</td>\n",
       "      <td>5</td>\n",
       "      <td>3</td>\n",
       "      <td>4</td>\n",
       "      <td>5</td>\n",
       "      <td>5</td>\n",
       "      <td>5</td>\n",
       "      <td>5</td>\n",
       "      <td>1</td>\n",
       "      <td>5</td>\n",
       "      <td>2</td>\n",
       "    </tr>\n",
       "    <tr>\n",
       "      <th>2</th>\n",
       "      <td>churn</td>\n",
       "      <td>Mr. Christopher Carter</td>\n",
       "      <td>yes</td>\n",
       "      <td>1973.0</td>\n",
       "      <td>business</td>\n",
       "      <td>single</td>\n",
       "      <td>4365</td>\n",
       "      <td>3</td>\n",
       "      <td>3</td>\n",
       "      <td>3</td>\n",
       "      <td>...</td>\n",
       "      <td>1</td>\n",
       "      <td>4</td>\n",
       "      <td>4</td>\n",
       "      <td>3</td>\n",
       "      <td>3</td>\n",
       "      <td>2</td>\n",
       "      <td>3</td>\n",
       "      <td>2</td>\n",
       "      <td>3</td>\n",
       "      <td>1</td>\n",
       "    </tr>\n",
       "    <tr>\n",
       "      <th>3</th>\n",
       "      <td>nochurn</td>\n",
       "      <td>Ms. Jennifer Morgan</td>\n",
       "      <td>yes</td>\n",
       "      <td>1993.0</td>\n",
       "      <td>leisure</td>\n",
       "      <td>double</td>\n",
       "      <td>3849</td>\n",
       "      <td>1</td>\n",
       "      <td>1</td>\n",
       "      <td>1</td>\n",
       "      <td>...</td>\n",
       "      <td>4</td>\n",
       "      <td>4</td>\n",
       "      <td>5</td>\n",
       "      <td>4</td>\n",
       "      <td>4</td>\n",
       "      <td>4</td>\n",
       "      <td>4</td>\n",
       "      <td>4</td>\n",
       "      <td>4</td>\n",
       "      <td>3</td>\n",
       "    </tr>\n",
       "    <tr>\n",
       "      <th>4</th>\n",
       "      <td>nochurn</td>\n",
       "      <td>Mr. Michael White</td>\n",
       "      <td>yes</td>\n",
       "      <td>1989.0</td>\n",
       "      <td>business</td>\n",
       "      <td>single</td>\n",
       "      <td>5376</td>\n",
       "      <td>2</td>\n",
       "      <td>2</td>\n",
       "      <td>3</td>\n",
       "      <td>...</td>\n",
       "      <td>5</td>\n",
       "      <td>5</td>\n",
       "      <td>5</td>\n",
       "      <td>5</td>\n",
       "      <td>5</td>\n",
       "      <td>3</td>\n",
       "      <td>4</td>\n",
       "      <td>1</td>\n",
       "      <td>3</td>\n",
       "      <td>5</td>\n",
       "    </tr>\n",
       "  </tbody>\n",
       "</table>\n",
       "<p>5 rows × 21 columns</p>\n",
       "</div>"
      ],
      "text/plain": [
       "     Churn                    Name Longevity  Year_Birth TypeTravel RoomType  \\\n",
       "0    churn       Ms. Nicole Clarke       yes      1974.0   business   single   \n",
       "1  nochurn         Mr. Jesse Scott       yes      1965.0   business   single   \n",
       "2    churn  Mr. Christopher Carter       yes      1973.0   business   single   \n",
       "3  nochurn     Ms. Jennifer Morgan       yes      1993.0    leisure   double   \n",
       "4  nochurn       Mr. Michael White       yes      1989.0   business   single   \n",
       "\n",
       "   RewardPoints  Comfort  ReceptionSchedule  FoodDrink  ...  Wifi  Amenities  \\\n",
       "0          4907        3                  4          1  ...     4          3   \n",
       "1          6724        1                  1          1  ...     5          3   \n",
       "2          4365        3                  3          3  ...     1          4   \n",
       "3          3849        1                  1          1  ...     4          4   \n",
       "4          5376        2                  2          3  ...     5          5   \n",
       "\n",
       "   Staff  OnlineBooking  PriceQuality  RoomSpace  CheckOut  Checkin  \\\n",
       "0      4              3             3          3         3        4   \n",
       "1      4              5             5          5         5        1   \n",
       "2      4              3             3          2         3        2   \n",
       "3      5              4             4          4         4        4   \n",
       "4      5              5             5          3         4        1   \n",
       "\n",
       "   Cleanliness  BarService  \n",
       "0            3           4  \n",
       "1            5           2  \n",
       "2            3           1  \n",
       "3            4           3  \n",
       "4            3           5  \n",
       "\n",
       "[5 rows x 21 columns]"
      ]
     },
     "execution_count": 126,
     "metadata": {},
     "output_type": "execute_result"
    }
   ],
   "source": [
    "df.head()"
   ]
  },
  {
   "cell_type": "markdown",
   "id": "3ba645df",
   "metadata": {},
   "source": [
    "| Variable      | Description |\n",
    "| ----------- | ----------- |\n",
    "| Name      | Customer’s name       |\n",
    "| Year Birth    | Customer’s birth year        |\n",
    "| Longevity   | Whether the customer registered more than 1 year ago or not        |\n",
    "| Churn   | Whether the customer churned or not (churn or nochurn)        |\n",
    "| TypeTravel   | Customer’s reason for travelling (business or leisure)        |\n",
    "| RoomType   | Type of room reserved        |\n",
    "| RewardPoints   | Customer’s rewarding point for loyalty        |\n",
    "| Comfort   | Satisfaction level of customer regarding comfort of the room (0 to 5)        |\n",
    "| ReceptionSchedule   | Satisfaction level of customer regarding reception schedule (0 to 5)        |\n",
    "| ReceptionSchedule   | Satisfaction level of customer regarding food and drink available (0 to 5)        |\n",
    "| Location   |   Satisfaction level of customer regarding accommodation location (0 to 5)      |\n",
    "| Wifi   |    Satisfaction level of customer regarding wi-fi service (0 to 5)     |\n",
    "| Amenities   | Satisfaction level of customer regarding accommodation amenities(0 to 5)        |\n",
    "| Staff   | Satisfaction level of customer regarding staff (0 to 5)        |\n",
    "| OnlineBooking   | Satisfaction level of customer regarding online booking ease(0 to 5)        |\n",
    "| PriceQuality   | Satisfaction level of customer regarding price quality relationship (0 to 5)        |\n",
    "| RoomSpace   | Satisfaction level of customer regarding room space (0 to 5)        |\n",
    "| CheckOut   | Satisfaction level of customer regarding check-out (0 to 5)        |\n",
    "| CheckIn   | Satisfaction level of customer regarding check-in (0 to 5)        |\n",
    "| Cleanliness   | Satisfaction level of customer regarding cleanliness (0 to 5)        |\n",
    "| BarService   | Satisfaction level of customer regarding bar service (0 to 5)        |"
   ]
  },
  {
   "cell_type": "markdown",
   "id": "b3d2f64c",
   "metadata": {},
   "source": [
    "## CRISP-DM"
   ]
  },
  {
   "cell_type": "markdown",
   "id": "dbe6e654",
   "metadata": {},
   "source": [
    "### 1. Data Understanding"
   ]
  },
  {
   "cell_type": "markdown",
   "id": "f001ab8c",
   "metadata": {},
   "source": [
    "#### 1.1 Dataframe Size"
   ]
  },
  {
   "cell_type": "code",
   "execution_count": 127,
   "id": "d6b7b003",
   "metadata": {},
   "outputs": [
    {
     "name": "stdout",
     "output_type": "stream",
     "text": [
      "Dataframe has 15589 rows and 21 columns\n"
     ]
    }
   ],
   "source": [
    "df_original_row_size = df.shape[0]\n",
    "df_original_columns_size = df.shape[1]\n",
    "\n",
    "print(\"Dataframe has\", df_original_row_size, \"rows and\", df_original_columns_size, \"columns\")"
   ]
  },
  {
   "cell_type": "markdown",
   "id": "cf519068",
   "metadata": {},
   "source": [
    "#### 1.2 Dataframe Info and Description"
   ]
  },
  {
   "cell_type": "code",
   "execution_count": 128,
   "id": "0359eada",
   "metadata": {},
   "outputs": [
    {
     "name": "stdout",
     "output_type": "stream",
     "text": [
      "<class 'pandas.core.frame.DataFrame'>\n",
      "RangeIndex: 15589 entries, 0 to 15588\n",
      "Data columns (total 21 columns):\n",
      " #   Column             Non-Null Count  Dtype  \n",
      "---  ------             --------------  -----  \n",
      " 0   Churn              15589 non-null  object \n",
      " 1   Name               15589 non-null  object \n",
      " 2   Longevity          15589 non-null  object \n",
      " 3   Year_Birth         15394 non-null  float64\n",
      " 4   TypeTravel         15589 non-null  object \n",
      " 5   RoomType           15589 non-null  object \n",
      " 6   RewardPoints       15589 non-null  int64  \n",
      " 7   Comfort            15589 non-null  int64  \n",
      " 8   ReceptionSchedule  15589 non-null  int64  \n",
      " 9   FoodDrink          15589 non-null  int64  \n",
      " 10  Location           15589 non-null  int64  \n",
      " 11  Wifi               15589 non-null  int64  \n",
      " 12  Amenities          15589 non-null  int64  \n",
      " 13  Staff              15589 non-null  int64  \n",
      " 14  OnlineBooking      15589 non-null  int64  \n",
      " 15  PriceQuality       15589 non-null  int64  \n",
      " 16  RoomSpace          15589 non-null  int64  \n",
      " 17  CheckOut           15589 non-null  int64  \n",
      " 18  Checkin            15589 non-null  int64  \n",
      " 19  Cleanliness        15589 non-null  int64  \n",
      " 20  BarService         15589 non-null  int64  \n",
      "dtypes: float64(1), int64(15), object(5)\n",
      "memory usage: 2.5+ MB\n"
     ]
    }
   ],
   "source": [
    "df.info()"
   ]
  },
  {
   "cell_type": "code",
   "execution_count": 129,
   "id": "e34c3fbd",
   "metadata": {},
   "outputs": [
    {
     "data": {
      "text/html": [
       "<div>\n",
       "<style scoped>\n",
       "    .dataframe tbody tr th:only-of-type {\n",
       "        vertical-align: middle;\n",
       "    }\n",
       "\n",
       "    .dataframe tbody tr th {\n",
       "        vertical-align: top;\n",
       "    }\n",
       "\n",
       "    .dataframe thead th {\n",
       "        text-align: right;\n",
       "    }\n",
       "</style>\n",
       "<table border=\"1\" class=\"dataframe\">\n",
       "  <thead>\n",
       "    <tr style=\"text-align: right;\">\n",
       "      <th></th>\n",
       "      <th>count</th>\n",
       "      <th>mean</th>\n",
       "      <th>std</th>\n",
       "      <th>min</th>\n",
       "      <th>25%</th>\n",
       "      <th>50%</th>\n",
       "      <th>75%</th>\n",
       "      <th>max</th>\n",
       "    </tr>\n",
       "  </thead>\n",
       "  <tbody>\n",
       "    <tr>\n",
       "      <th>Year_Birth</th>\n",
       "      <td>15394.0</td>\n",
       "      <td>1981.706444</td>\n",
       "      <td>15.179042</td>\n",
       "      <td>1936.0</td>\n",
       "      <td>1970.0</td>\n",
       "      <td>1981.0</td>\n",
       "      <td>1994.0</td>\n",
       "      <td>2014.0</td>\n",
       "    </tr>\n",
       "    <tr>\n",
       "      <th>RewardPoints</th>\n",
       "      <td>15589.0</td>\n",
       "      <td>5022.593816</td>\n",
       "      <td>1027.962379</td>\n",
       "      <td>409.0</td>\n",
       "      <td>4445.0</td>\n",
       "      <td>5088.0</td>\n",
       "      <td>5649.0</td>\n",
       "      <td>6950.0</td>\n",
       "    </tr>\n",
       "    <tr>\n",
       "      <th>Comfort</th>\n",
       "      <td>15589.0</td>\n",
       "      <td>2.841619</td>\n",
       "      <td>1.388624</td>\n",
       "      <td>0.0</td>\n",
       "      <td>2.0</td>\n",
       "      <td>3.0</td>\n",
       "      <td>4.0</td>\n",
       "      <td>5.0</td>\n",
       "    </tr>\n",
       "    <tr>\n",
       "      <th>ReceptionSchedule</th>\n",
       "      <td>15589.0</td>\n",
       "      <td>2.997242</td>\n",
       "      <td>1.518994</td>\n",
       "      <td>0.0</td>\n",
       "      <td>2.0</td>\n",
       "      <td>3.0</td>\n",
       "      <td>4.0</td>\n",
       "      <td>5.0</td>\n",
       "    </tr>\n",
       "    <tr>\n",
       "      <th>FoodDrink</th>\n",
       "      <td>15589.0</td>\n",
       "      <td>2.844570</td>\n",
       "      <td>1.436948</td>\n",
       "      <td>0.0</td>\n",
       "      <td>2.0</td>\n",
       "      <td>3.0</td>\n",
       "      <td>4.0</td>\n",
       "      <td>5.0</td>\n",
       "    </tr>\n",
       "    <tr>\n",
       "      <th>Location</th>\n",
       "      <td>15589.0</td>\n",
       "      <td>2.986016</td>\n",
       "      <td>1.299438</td>\n",
       "      <td>1.0</td>\n",
       "      <td>2.0</td>\n",
       "      <td>3.0</td>\n",
       "      <td>4.0</td>\n",
       "      <td>5.0</td>\n",
       "    </tr>\n",
       "    <tr>\n",
       "      <th>Wifi</th>\n",
       "      <td>15589.0</td>\n",
       "      <td>3.245109</td>\n",
       "      <td>1.327026</td>\n",
       "      <td>0.0</td>\n",
       "      <td>2.0</td>\n",
       "      <td>3.0</td>\n",
       "      <td>4.0</td>\n",
       "      <td>6.0</td>\n",
       "    </tr>\n",
       "    <tr>\n",
       "      <th>Amenities</th>\n",
       "      <td>15589.0</td>\n",
       "      <td>3.374816</td>\n",
       "      <td>1.352417</td>\n",
       "      <td>0.0</td>\n",
       "      <td>2.0</td>\n",
       "      <td>4.0</td>\n",
       "      <td>4.0</td>\n",
       "      <td>5.0</td>\n",
       "    </tr>\n",
       "    <tr>\n",
       "      <th>Staff</th>\n",
       "      <td>15589.0</td>\n",
       "      <td>3.506383</td>\n",
       "      <td>1.319565</td>\n",
       "      <td>1.0</td>\n",
       "      <td>3.0</td>\n",
       "      <td>4.0</td>\n",
       "      <td>5.0</td>\n",
       "      <td>5.0</td>\n",
       "    </tr>\n",
       "    <tr>\n",
       "      <th>OnlineBooking</th>\n",
       "      <td>15589.0</td>\n",
       "      <td>3.454231</td>\n",
       "      <td>1.310343</td>\n",
       "      <td>0.0</td>\n",
       "      <td>2.0</td>\n",
       "      <td>4.0</td>\n",
       "      <td>5.0</td>\n",
       "      <td>5.0</td>\n",
       "    </tr>\n",
       "    <tr>\n",
       "      <th>PriceQuality</th>\n",
       "      <td>15589.0</td>\n",
       "      <td>3.459683</td>\n",
       "      <td>1.268130</td>\n",
       "      <td>1.0</td>\n",
       "      <td>3.0</td>\n",
       "      <td>4.0</td>\n",
       "      <td>4.0</td>\n",
       "      <td>5.0</td>\n",
       "    </tr>\n",
       "    <tr>\n",
       "      <th>RoomSpace</th>\n",
       "      <td>15589.0</td>\n",
       "      <td>3.470845</td>\n",
       "      <td>1.293873</td>\n",
       "      <td>0.0</td>\n",
       "      <td>2.0</td>\n",
       "      <td>4.0</td>\n",
       "      <td>5.0</td>\n",
       "      <td>5.0</td>\n",
       "    </tr>\n",
       "    <tr>\n",
       "      <th>CheckOut</th>\n",
       "      <td>15589.0</td>\n",
       "      <td>3.700558</td>\n",
       "      <td>1.158644</td>\n",
       "      <td>1.0</td>\n",
       "      <td>3.0</td>\n",
       "      <td>4.0</td>\n",
       "      <td>5.0</td>\n",
       "      <td>5.0</td>\n",
       "    </tr>\n",
       "    <tr>\n",
       "      <th>Checkin</th>\n",
       "      <td>15589.0</td>\n",
       "      <td>3.327282</td>\n",
       "      <td>1.266872</td>\n",
       "      <td>1.0</td>\n",
       "      <td>3.0</td>\n",
       "      <td>3.0</td>\n",
       "      <td>4.0</td>\n",
       "      <td>5.0</td>\n",
       "    </tr>\n",
       "    <tr>\n",
       "      <th>Cleanliness</th>\n",
       "      <td>15589.0</td>\n",
       "      <td>3.692347</td>\n",
       "      <td>1.154437</td>\n",
       "      <td>1.0</td>\n",
       "      <td>3.0</td>\n",
       "      <td>4.0</td>\n",
       "      <td>5.0</td>\n",
       "      <td>5.0</td>\n",
       "    </tr>\n",
       "    <tr>\n",
       "      <th>BarService</th>\n",
       "      <td>15589.0</td>\n",
       "      <td>3.347360</td>\n",
       "      <td>1.300452</td>\n",
       "      <td>0.0</td>\n",
       "      <td>2.0</td>\n",
       "      <td>3.0</td>\n",
       "      <td>4.0</td>\n",
       "      <td>5.0</td>\n",
       "    </tr>\n",
       "  </tbody>\n",
       "</table>\n",
       "</div>"
      ],
      "text/plain": [
       "                     count         mean          std     min     25%     50%  \\\n",
       "Year_Birth         15394.0  1981.706444    15.179042  1936.0  1970.0  1981.0   \n",
       "RewardPoints       15589.0  5022.593816  1027.962379   409.0  4445.0  5088.0   \n",
       "Comfort            15589.0     2.841619     1.388624     0.0     2.0     3.0   \n",
       "ReceptionSchedule  15589.0     2.997242     1.518994     0.0     2.0     3.0   \n",
       "FoodDrink          15589.0     2.844570     1.436948     0.0     2.0     3.0   \n",
       "Location           15589.0     2.986016     1.299438     1.0     2.0     3.0   \n",
       "Wifi               15589.0     3.245109     1.327026     0.0     2.0     3.0   \n",
       "Amenities          15589.0     3.374816     1.352417     0.0     2.0     4.0   \n",
       "Staff              15589.0     3.506383     1.319565     1.0     3.0     4.0   \n",
       "OnlineBooking      15589.0     3.454231     1.310343     0.0     2.0     4.0   \n",
       "PriceQuality       15589.0     3.459683     1.268130     1.0     3.0     4.0   \n",
       "RoomSpace          15589.0     3.470845     1.293873     0.0     2.0     4.0   \n",
       "CheckOut           15589.0     3.700558     1.158644     1.0     3.0     4.0   \n",
       "Checkin            15589.0     3.327282     1.266872     1.0     3.0     3.0   \n",
       "Cleanliness        15589.0     3.692347     1.154437     1.0     3.0     4.0   \n",
       "BarService         15589.0     3.347360     1.300452     0.0     2.0     3.0   \n",
       "\n",
       "                      75%     max  \n",
       "Year_Birth         1994.0  2014.0  \n",
       "RewardPoints       5649.0  6950.0  \n",
       "Comfort               4.0     5.0  \n",
       "ReceptionSchedule     4.0     5.0  \n",
       "FoodDrink             4.0     5.0  \n",
       "Location              4.0     5.0  \n",
       "Wifi                  4.0     6.0  \n",
       "Amenities             4.0     5.0  \n",
       "Staff                 5.0     5.0  \n",
       "OnlineBooking         5.0     5.0  \n",
       "PriceQuality          4.0     5.0  \n",
       "RoomSpace             5.0     5.0  \n",
       "CheckOut              5.0     5.0  \n",
       "Checkin               4.0     5.0  \n",
       "Cleanliness           5.0     5.0  \n",
       "BarService            4.0     5.0  "
      ]
     },
     "execution_count": 129,
     "metadata": {},
     "output_type": "execute_result"
    }
   ],
   "source": [
    "df.describe().T"
   ]
  },
  {
   "cell_type": "markdown",
   "id": "20f551f2",
   "metadata": {},
   "source": [
    "On a first look, we noticed the ranges of each variable look acceptable. However, some variables have different scales than others and this must be handled later on."
   ]
  },
  {
   "cell_type": "markdown",
   "id": "c0c3b56a",
   "metadata": {},
   "source": [
    "#### 1.2.1 Variable Analysis and Congruence Checks\n",
    "\n",
    "#### 1.2.1.1 Churn"
   ]
  },
  {
   "cell_type": "code",
   "execution_count": 130,
   "id": "e87bc0c4",
   "metadata": {},
   "outputs": [
    {
     "data": {
      "text/plain": [
       "nochurn    8477\n",
       "churn      7112\n",
       "Name: Churn, dtype: int64"
      ]
     },
     "execution_count": 130,
     "metadata": {},
     "output_type": "execute_result"
    }
   ],
   "source": [
    "df['Churn'].value_counts()"
   ]
  },
  {
   "cell_type": "markdown",
   "id": "612a797d",
   "metadata": {},
   "source": [
    "Variable looks good to us, we will create dummies for it to make it numerical."
   ]
  },
  {
   "cell_type": "code",
   "execution_count": 131,
   "id": "316ed0e1",
   "metadata": {},
   "outputs": [
    {
     "data": {
      "text/plain": [
       "<AxesSubplot:xlabel='Churn', ylabel='count'>"
      ]
     },
     "execution_count": 131,
     "metadata": {},
     "output_type": "execute_result"
    },
    {
     "data": {
      "image/png": "[encoded data removed]",
      "text/plain": [
       "<Figure size 432x288 with 1 Axes>"
      ]
     },
     "metadata": {
      "needs_background": "light"
     },
     "output_type": "display_data"
    }
   ],
   "source": [
    "sns.countplot(df[\"Churn\"], color=\"skyblue\")"
   ]
  },
  {
   "cell_type": "markdown",
   "id": "5cae1ff2",
   "metadata": {},
   "source": [
    "#### 1.2.1.2 Name"
   ]
  },
  {
   "cell_type": "code",
   "execution_count": 132,
   "id": "c0be72d1",
   "metadata": {},
   "outputs": [
    {
     "data": {
      "text/plain": [
       "Mr. Michael Smith    9\n",
       "Ms. Amanda Smith     7\n",
       "Mr. John Smith       7\n",
       "Mr. Michael Jones    6\n",
       "Mr. William Smith    6\n",
       "                    ..\n",
       "Ms. Laurie Smith     1\n",
       "Mr. Aaron Cox        1\n",
       "Ms. Natasha Estes    1\n",
       "Ms. Beverly Lee      1\n",
       "Mr. Steven Mendez    1\n",
       "Name: Name, Length: 14227, dtype: int64"
      ]
     },
     "execution_count": 132,
     "metadata": {},
     "output_type": "execute_result"
    }
   ],
   "source": [
    "df['Name'].value_counts()"
   ]
  },
  {
   "cell_type": "markdown",
   "id": "15921e09",
   "metadata": {},
   "source": [
    "Variable looks good tu us and based on the prefix before the name, we can create a new variable called gender."
   ]
  },
  {
   "cell_type": "code",
   "execution_count": 133,
   "id": "db8be3bb",
   "metadata": {},
   "outputs": [
    {
     "data": {
      "text/plain": [
       "array(['Ms.', 'Mr.'], dtype=object)"
      ]
     },
     "execution_count": 133,
     "metadata": {},
     "output_type": "execute_result"
    }
   ],
   "source": [
    "df[\"Characters\"] = df[\"Name\"].str[:3]\n",
    "df['Characters'].unique()\n"
   ]
  },
  {
   "cell_type": "code",
   "execution_count": 134,
   "id": "f58d21e8",
   "metadata": {},
   "outputs": [],
   "source": [
    "df.drop(columns=[\"Characters\"], axis=1, inplace=True)\n",
    "df['Gender'] = [1 if i == 'Mr.' else 0 for i in df[\"Name\"].str[:3]]"
   ]
  },
  {
   "cell_type": "code",
   "execution_count": 135,
   "id": "398419ab",
   "metadata": {},
   "outputs": [],
   "source": [
    "df.drop(columns=['Name'], inplace=True)"
   ]
  },
  {
   "cell_type": "markdown",
   "id": "04a76f0e",
   "metadata": {},
   "source": [
    "#### 1.2.1.3 Longevity"
   ]
  },
  {
   "cell_type": "code",
   "execution_count": 136,
   "id": "6f25e823",
   "metadata": {},
   "outputs": [
    {
     "data": {
      "text/plain": [
       "yes    12548\n",
       "no      2874\n",
       "y        167\n",
       "Name: Longevity, dtype: int64"
      ]
     },
     "execution_count": 136,
     "metadata": {},
     "output_type": "execute_result"
    }
   ],
   "source": [
    "df['Longevity'].value_counts()"
   ]
  },
  {
   "cell_type": "markdown",
   "id": "823e65c9",
   "metadata": {},
   "source": [
    "Variable does not look good because we have entries with 'yes' and entries with 'y' which most likely mean the same. Will will transform the entries with 'y' into 'yes'"
   ]
  },
  {
   "cell_type": "code",
   "execution_count": 137,
   "id": "ba74b1a4",
   "metadata": {},
   "outputs": [],
   "source": [
    "df['Longevity'].replace('y','yes', inplace=True)"
   ]
  },
  {
   "cell_type": "code",
   "execution_count": 138,
   "id": "e1660f5a",
   "metadata": {},
   "outputs": [
    {
     "data": {
      "text/plain": [
       "yes    12715\n",
       "no      2874\n",
       "Name: Longevity, dtype: int64"
      ]
     },
     "execution_count": 138,
     "metadata": {},
     "output_type": "execute_result"
    }
   ],
   "source": [
    "df['Longevity'].value_counts()"
   ]
  },
  {
   "cell_type": "code",
   "execution_count": 139,
   "id": "8ff42509",
   "metadata": {},
   "outputs": [
    {
     "data": {
      "text/plain": [
       "<AxesSubplot:xlabel='Longevity', ylabel='count'>"
      ]
     },
     "execution_count": 139,
     "metadata": {},
     "output_type": "execute_result"
    },
    {
     "data": {
      "image/png": "[encoded data removed]",
      "text/plain": [
       "<Figure size 432x288 with 1 Axes>"
      ]
     },
     "metadata": {
      "needs_background": "light"
     },
     "output_type": "display_data"
    }
   ],
   "source": [
    "sns.countplot(df[\"Longevity\"], color=\"skyblue\")"
   ]
  },
  {
   "cell_type": "markdown",
   "id": "0fc83f58",
   "metadata": {},
   "source": [
    "#### 1.2.1.4 Year Birth"
   ]
  },
  {
   "cell_type": "code",
   "execution_count": 140,
   "id": "4d8a7578",
   "metadata": {},
   "outputs": [
    {
     "data": {
      "text/plain": [
       "1982.0    441\n",
       "1996.0    416\n",
       "1980.0    383\n",
       "1998.0    380\n",
       "1981.0    369\n",
       "         ... \n",
       "1947.0      9\n",
       "1945.0      8\n",
       "1943.0      6\n",
       "1942.0      3\n",
       "1936.0      2\n",
       "Name: Year_Birth, Length: 75, dtype: int64"
      ]
     },
     "execution_count": 140,
     "metadata": {},
     "output_type": "execute_result"
    }
   ],
   "source": [
    "df['Year_Birth'].value_counts()"
   ]
  },
  {
   "cell_type": "markdown",
   "id": "93377eb6",
   "metadata": {},
   "source": [
    "Variable has missing values. We will handle these missing values and then create a new variable called Age based on this"
   ]
  },
  {
   "cell_type": "code",
   "execution_count": 141,
   "id": "2ce4abec",
   "metadata": {},
   "outputs": [
    {
     "data": {
      "text/plain": [
       "<AxesSubplot:xlabel='Year_Birth', ylabel='Count'>"
      ]
     },
     "execution_count": 141,
     "metadata": {},
     "output_type": "execute_result"
    },
    {
     "data": {
      "image/png": "[encoded data removed]",
      "text/plain": [
       "<Figure size 432x288 with 1 Axes>"
      ]
     },
     "metadata": {
      "needs_background": "light"
     },
     "output_type": "display_data"
    }
   ],
   "source": [
    "sns.histplot(df[\"Year_Birth\"], color=\"skyblue\")"
   ]
  },
  {
   "cell_type": "markdown",
   "id": "e2e15a73",
   "metadata": {},
   "source": [
    "#### 1.2.1.5 Type Travel"
   ]
  },
  {
   "cell_type": "code",
   "execution_count": 142,
   "id": "a87bce10",
   "metadata": {},
   "outputs": [
    {
     "data": {
      "text/plain": [
       "business    10756\n",
       "leisure      4833\n",
       "Name: TypeTravel, dtype: int64"
      ]
     },
     "execution_count": 142,
     "metadata": {},
     "output_type": "execute_result"
    }
   ],
   "source": [
    "df['TypeTravel'].value_counts()"
   ]
  },
  {
   "cell_type": "markdown",
   "id": "aa58c286",
   "metadata": {},
   "source": [
    "Variable looks good to us and we will create dummies for it"
   ]
  },
  {
   "cell_type": "code",
   "execution_count": 143,
   "id": "6c3ae9ca",
   "metadata": {},
   "outputs": [
    {
     "data": {
      "text/plain": [
       "<AxesSubplot:xlabel='TypeTravel', ylabel='count'>"
      ]
     },
     "execution_count": 143,
     "metadata": {},
     "output_type": "execute_result"
    },
    {
     "data": {
      "image/png": "[encoded data removed]",
      "text/plain": [
       "<Figure size 432x288 with 1 Axes>"
      ]
     },
     "metadata": {
      "needs_background": "light"
     },
     "output_type": "display_data"
    }
   ],
   "source": [
    "sns.countplot(df[\"TypeTravel\"], color=\"skyblue\")"
   ]
  },
  {
   "cell_type": "markdown",
   "id": "b194d0e1",
   "metadata": {},
   "source": [
    "#### 1.2.1.6 Room Type"
   ]
  },
  {
   "cell_type": "code",
   "execution_count": 144,
   "id": "234d6d2b",
   "metadata": {},
   "outputs": [
    {
     "data": {
      "text/plain": [
       "single    7442\n",
       "double    7021\n",
       "suite     1126\n",
       "Name: RoomType, dtype: int64"
      ]
     },
     "execution_count": 144,
     "metadata": {},
     "output_type": "execute_result"
    }
   ],
   "source": [
    "df['RoomType'].value_counts()"
   ]
  },
  {
   "cell_type": "markdown",
   "id": "f3dd2edf",
   "metadata": {},
   "source": [
    "Variable looks good to us and we will create dummies for it"
   ]
  },
  {
   "cell_type": "code",
   "execution_count": 145,
   "id": "531dfe69",
   "metadata": {},
   "outputs": [
    {
     "data": {
      "text/plain": [
       "<AxesSubplot:xlabel='RoomType', ylabel='count'>"
      ]
     },
     "execution_count": 145,
     "metadata": {},
     "output_type": "execute_result"
    },
    {
     "data": {
      "image/png": "[encoded data removed]",
      "text/plain": [
       "<Figure size 432x288 with 1 Axes>"
      ]
     },
     "metadata": {
      "needs_background": "light"
     },
     "output_type": "display_data"
    }
   ],
   "source": [
    "sns.countplot(df[\"RoomType\"], color=\"skyblue\")"
   ]
  },
  {
   "cell_type": "markdown",
   "id": "2d7bea7a",
   "metadata": {},
   "source": [
    "#### 1.2.1.7 RewardPoints"
   ]
  },
  {
   "cell_type": "code",
   "execution_count": 146,
   "id": "571a3085",
   "metadata": {},
   "outputs": [
    {
     "data": {
      "text/plain": [
       "5286    19\n",
       "5010    17\n",
       "5347    16\n",
       "5094    16\n",
       "4942    16\n",
       "        ..\n",
       "3656     1\n",
       "2524     1\n",
       "5974     1\n",
       "3802     1\n",
       "3304     1\n",
       "Name: RewardPoints, Length: 4061, dtype: int64"
      ]
     },
     "execution_count": 146,
     "metadata": {},
     "output_type": "execute_result"
    }
   ],
   "source": [
    "df['RewardPoints'].value_counts()"
   ]
  },
  {
   "cell_type": "markdown",
   "id": "5ca226d5",
   "metadata": {},
   "source": [
    "Variable looks good to us, but because of the scale we will have to normalize all the variables in the dataframe"
   ]
  },
  {
   "cell_type": "code",
   "execution_count": 147,
   "id": "a56a8d5f",
   "metadata": {},
   "outputs": [
    {
     "data": {
      "text/plain": [
       "<AxesSubplot:xlabel='RewardPoints', ylabel='Count'>"
      ]
     },
     "execution_count": 147,
     "metadata": {},
     "output_type": "execute_result"
    },
    {
     "data": {
      "image/png": "[encoded data removed]",
      "text/plain": [
       "<Figure size 432x288 with 1 Axes>"
      ]
     },
     "metadata": {
      "needs_background": "light"
     },
     "output_type": "display_data"
    }
   ],
   "source": [
    "sns.histplot(df[\"RewardPoints\"], color=\"skyblue\")"
   ]
  },
  {
   "cell_type": "markdown",
   "id": "9bbe2821",
   "metadata": {},
   "source": [
    "#### 1.2.1.8 Ratings"
   ]
  },
  {
   "cell_type": "markdown",
   "id": "cb4ccea8",
   "metadata": {},
   "source": [
    "All ratings variables look ok to us"
   ]
  },
  {
   "cell_type": "code",
   "execution_count": 148,
   "id": "325a9603",
   "metadata": {},
   "outputs": [
    {
     "data": {
      "text/plain": [
       "<AxesSubplot:xlabel='BarService', ylabel='Count'>"
      ]
     },
     "execution_count": 148,
     "metadata": {},
     "output_type": "execute_result"
    },
    {
     "data": {
      "image/png": "[encoded data removed]",
      "text/plain": [
       "<Figure size 1440x1080 with 16 Axes>"
      ]
     },
     "metadata": {
      "needs_background": "light"
     },
     "output_type": "display_data"
    }
   ],
   "source": [
    "f, axes = plt.subplots(4,4, figsize=(20, 15), squeeze=False)  \n",
    "sns.histplot(df[\"Comfort\"], color=\"skyblue\", ax=axes[0, 2])\n",
    "sns.histplot(df[\"ReceptionSchedule\"], color=\"skyblue\", ax=axes[0, 3])\n",
    "sns.histplot(df[\"FoodDrink\"], color=\"skyblue\", ax=axes[1, 0])\n",
    "sns.histplot(df[\"Location\"], color=\"skyblue\", ax=axes[1, 1])\n",
    "sns.histplot(df[\"Wifi\"], color=\"skyblue\", ax=axes[1, 2])\n",
    "sns.histplot(df[\"Amenities\"], color=\"skyblue\", ax=axes[1, 3])\n",
    "sns.histplot(df[\"Staff\"], color=\"skyblue\", ax=axes[2, 0])\n",
    "sns.histplot(df[\"OnlineBooking\"], color=\"skyblue\", ax=axes[2, 1])\n",
    "sns.histplot(df[\"PriceQuality\"], color=\"skyblue\", ax=axes[2, 2])\n",
    "sns.histplot(df[\"RoomSpace\"], color=\"skyblue\", ax=axes[2, 3])\n",
    "sns.histplot(df[\"CheckOut\"], color=\"skyblue\", ax=axes[3, 0])\n",
    "sns.histplot(df[\"Checkin\"], color=\"skyblue\", ax=axes[3, 1])\n",
    "sns.histplot(df[\"Cleanliness\"], color=\"skyblue\", ax=axes[3, 2])\n",
    "sns.histplot(df[\"BarService\"], color=\"skyblue\", ax=axes[3, 3])"
   ]
  },
  {
   "cell_type": "markdown",
   "id": "25103abe",
   "metadata": {},
   "source": [
    "Upon looking at the charts, we noticed that 'Wifi' has values that should not be there, in particular, some surveys were marked with 6 which is not an available rating. "
   ]
  },
  {
   "cell_type": "code",
   "execution_count": 149,
   "id": "7e96ec97",
   "metadata": {},
   "outputs": [
    {
     "data": {
      "text/plain": [
       "4    3704\n",
       "5    3446\n",
       "3    3348\n",
       "2    3245\n",
       "1    1792\n",
       "6      36\n",
       "0      18\n",
       "Name: Wifi, dtype: int64"
      ]
     },
     "execution_count": 149,
     "metadata": {},
     "output_type": "execute_result"
    }
   ],
   "source": [
    "df['Wifi'].value_counts()"
   ]
  },
  {
   "cell_type": "markdown",
   "id": "f6f8ab24",
   "metadata": {},
   "source": [
    "Since there are only 36 rows with value 6, we will convert them to a 5."
   ]
  },
  {
   "cell_type": "code",
   "execution_count": 150,
   "id": "3eadcbb0",
   "metadata": {},
   "outputs": [],
   "source": [
    "df['Wifi'].replace(6,5, inplace=True)"
   ]
  },
  {
   "cell_type": "code",
   "execution_count": 151,
   "id": "77f070bf",
   "metadata": {},
   "outputs": [
    {
     "data": {
      "text/plain": [
       "4    3704\n",
       "5    3482\n",
       "3    3348\n",
       "2    3245\n",
       "1    1792\n",
       "0      18\n",
       "Name: Wifi, dtype: int64"
      ]
     },
     "execution_count": 151,
     "metadata": {},
     "output_type": "execute_result"
    }
   ],
   "source": [
    "df['Wifi'].value_counts()"
   ]
  },
  {
   "cell_type": "code",
   "execution_count": 152,
   "id": "84bbb536",
   "metadata": {},
   "outputs": [
    {
     "data": {
      "text/plain": [
       "<AxesSubplot:xlabel='Wifi', ylabel='Count'>"
      ]
     },
     "execution_count": 152,
     "metadata": {},
     "output_type": "execute_result"
    },
    {
     "data": {
      "image/png": "[encoded data removed]",
      "text/plain": [
       "<Figure size 432x288 with 1 Axes>"
      ]
     },
     "metadata": {
      "needs_background": "light"
     },
     "output_type": "display_data"
    }
   ],
   "source": [
    "sns.histplot(df[\"Wifi\"], color=\"skyblue\")"
   ]
  },
  {
   "cell_type": "markdown",
   "id": "b401772c",
   "metadata": {},
   "source": [
    "#### 1.2.2 Outlier Observation Using Box Plot Chart"
   ]
  },
  {
   "cell_type": "code",
   "execution_count": 153,
   "id": "8cd99725",
   "metadata": {},
   "outputs": [
    {
     "data": {
      "text/plain": [
       "<AxesSubplot:xlabel='BarService'>"
      ]
     },
     "execution_count": 153,
     "metadata": {},
     "output_type": "execute_result"
    },
    {
     "data": {
      "image/png": "[encoded data removed]",
      "text/plain": [
       "<Figure size 1440x1080 with 16 Axes>"
      ]
     },
     "metadata": {
      "needs_background": "light"
     },
     "output_type": "display_data"
    }
   ],
   "source": [
    "f, axes = plt.subplots(4,4, figsize=(20, 15), squeeze=False)    \n",
    "sns.boxplot(df[\"Year_Birth\"], color=\"skyblue\", ax=axes[0, 0])\n",
    "sns.boxplot(df[\"RewardPoints\"], color=\"skyblue\", ax=axes[0, 1])\n",
    "sns.boxplot(df[\"Comfort\"], color=\"skyblue\", ax=axes[0, 2])\n",
    "sns.boxplot(df[\"ReceptionSchedule\"], color=\"skyblue\", ax=axes[0, 3])\n",
    "sns.boxplot(df[\"FoodDrink\"], color=\"skyblue\", ax=axes[1, 0])\n",
    "sns.boxplot(df[\"Location\"], color=\"skyblue\", ax=axes[1, 1])\n",
    "sns.boxplot(df[\"Wifi\"], color=\"skyblue\", ax=axes[1, 2])\n",
    "sns.boxplot(df[\"Amenities\"], color=\"skyblue\", ax=axes[1, 3])\n",
    "sns.boxplot(df[\"Staff\"], color=\"skyblue\", ax=axes[2, 0])\n",
    "sns.boxplot(df[\"OnlineBooking\"], color=\"skyblue\", ax=axes[2, 1])\n",
    "sns.boxplot(df[\"PriceQuality\"], color=\"skyblue\", ax=axes[2, 2])\n",
    "sns.boxplot(df[\"RoomSpace\"], color=\"skyblue\", ax=axes[2, 3])\n",
    "sns.boxplot(df[\"CheckOut\"], color=\"skyblue\", ax=axes[3, 0])\n",
    "sns.boxplot(df[\"Checkin\"], color=\"skyblue\", ax=axes[3, 1])\n",
    "sns.boxplot(df[\"Cleanliness\"], color=\"skyblue\", ax=axes[3, 2])\n",
    "sns.boxplot(df[\"BarService\"], color=\"skyblue\", ax=axes[3, 3])"
   ]
  },
  {
   "cell_type": "markdown",
   "id": "0153b4ab",
   "metadata": {},
   "source": [
    "Looking at the box plots of all variables, we noticed 3 variables with possible outliers. These are: RewardPoints, PriceQuality, Checkin. These outliers will be handled later on."
   ]
  },
  {
   "cell_type": "markdown",
   "id": "4bce6608",
   "metadata": {},
   "source": [
    "#### 1.2.3 Pairplot of all variables of the dataframe"
   ]
  },
  {
   "cell_type": "code",
   "execution_count": 154,
   "id": "e02b0323",
   "metadata": {},
   "outputs": [],
   "source": [
    "#sns.pairplot(df)"
   ]
  },
  {
   "cell_type": "markdown",
   "id": "7c6ae454",
   "metadata": {},
   "source": [
    "#### 1.2.4 Skewness of the variables of the Dataframe"
   ]
  },
  {
   "cell_type": "code",
   "execution_count": 155,
   "id": "e44a86a8",
   "metadata": {},
   "outputs": [
    {
     "data": {
      "text/plain": [
       "Year_Birth          -0.003847\n",
       "RewardPoints        -0.453779\n",
       "Comfort             -0.100907\n",
       "ReceptionSchedule   -0.260705\n",
       "FoodDrink           -0.123610\n",
       "Location            -0.050229\n",
       "Wifi                -0.183010\n",
       "Amenities           -0.599498\n",
       "Staff               -0.554561\n",
       "OnlineBooking       -0.472074\n",
       "PriceQuality        -0.503381\n",
       "RoomSpace           -0.482952\n",
       "CheckOut            -0.750689\n",
       "Checkin             -0.382588\n",
       "Cleanliness         -0.745131\n",
       "BarService          -0.358297\n",
       "Gender               0.048900\n",
       "dtype: float64"
      ]
     },
     "execution_count": 155,
     "metadata": {},
     "output_type": "execute_result"
    }
   ],
   "source": [
    "df.skew()"
   ]
  },
  {
   "cell_type": "markdown",
   "id": "c2de8db4",
   "metadata": {},
   "source": [
    "TODO: Analyze these results"
   ]
  },
  {
   "cell_type": "markdown",
   "id": "b5d53d47",
   "metadata": {},
   "source": [
    "#### 1.3 Missing Values"
   ]
  },
  {
   "cell_type": "code",
   "execution_count": 156,
   "id": "ab5d9105",
   "metadata": {},
   "outputs": [
    {
     "data": {
      "text/plain": [
       "Churn                  0\n",
       "Longevity              0\n",
       "Year_Birth           195\n",
       "TypeTravel             0\n",
       "RoomType               0\n",
       "RewardPoints           0\n",
       "Comfort                0\n",
       "ReceptionSchedule      0\n",
       "FoodDrink              0\n",
       "Location               0\n",
       "Wifi                   0\n",
       "Amenities              0\n",
       "Staff                  0\n",
       "OnlineBooking          0\n",
       "PriceQuality           0\n",
       "RoomSpace              0\n",
       "CheckOut               0\n",
       "Checkin                0\n",
       "Cleanliness            0\n",
       "BarService             0\n",
       "Gender                 0\n",
       "dtype: int64"
      ]
     },
     "execution_count": 156,
     "metadata": {},
     "output_type": "execute_result"
    }
   ],
   "source": [
    "df.isna().sum()"
   ]
  },
  {
   "cell_type": "markdown",
   "id": "75c2798d",
   "metadata": {},
   "source": [
    "Year of Birth is the only variable with missing values. We have different methods to fill in these missing values like using the mode, mean or KNN Inputer. We decided to fill these missing values with the mode."
   ]
  },
  {
   "cell_type": "code",
   "execution_count": 157,
   "id": "d3945bee",
   "metadata": {},
   "outputs": [],
   "source": [
    "#df.fillna(int(df['Year_Birth'].mode()), inplace=True)\n",
    "#print(int(df['Year_Birth'].mode())\n",
    "\n",
    "import numpy as np\n",
    "\n",
    "df_dropped = df.drop(columns=['Churn', 'RoomType', 'Longevity', 'TypeTravel'])\n",
    "\n",
    "from sklearn.impute import KNNImputer\n",
    "imputer = KNNImputer(n_neighbors=2)\n",
    "imputer_matrix = imputer.fit_transform(df_dropped)\n",
    "\n",
    "data_cleaned = pd.DataFrame(data=imputer_matrix, columns = df_dropped.columns, index = df_dropped.index)\n",
    "df['Year_Birth'] = data_cleaned['Year_Birth']"
   ]
  },
  {
   "cell_type": "code",
   "execution_count": 158,
   "id": "1b9f79d9",
   "metadata": {},
   "outputs": [
    {
     "data": {
      "text/plain": [
       "Churn                0\n",
       "Longevity            0\n",
       "Year_Birth           0\n",
       "TypeTravel           0\n",
       "RoomType             0\n",
       "RewardPoints         0\n",
       "Comfort              0\n",
       "ReceptionSchedule    0\n",
       "FoodDrink            0\n",
       "Location             0\n",
       "Wifi                 0\n",
       "Amenities            0\n",
       "Staff                0\n",
       "OnlineBooking        0\n",
       "PriceQuality         0\n",
       "RoomSpace            0\n",
       "CheckOut             0\n",
       "Checkin              0\n",
       "Cleanliness          0\n",
       "BarService           0\n",
       "Gender               0\n",
       "dtype: int64"
      ]
     },
     "execution_count": 158,
     "metadata": {},
     "output_type": "execute_result"
    }
   ],
   "source": [
    "df.isna().sum()"
   ]
  },
  {
   "cell_type": "code",
   "execution_count": 159,
   "id": "658cb641",
   "metadata": {},
   "outputs": [],
   "source": [
    "#converter Year_Birth para integer\n",
    "df['Year_Birth'] = df['Year_Birth'].astype('int64')"
   ]
  },
  {
   "cell_type": "markdown",
   "id": "3a3efe38",
   "metadata": {},
   "source": [
    "Now we have no missing values"
   ]
  },
  {
   "cell_type": "markdown",
   "id": "2943e5c9",
   "metadata": {},
   "source": [
    "#### 1.5 Duplicate Values"
   ]
  },
  {
   "cell_type": "code",
   "execution_count": 160,
   "id": "822fe20d",
   "metadata": {},
   "outputs": [],
   "source": [
    "#create duplicate datafranme\n",
    "duplicates = df.duplicated()"
   ]
  },
  {
   "cell_type": "code",
   "execution_count": 161,
   "id": "6ec0c272",
   "metadata": {},
   "outputs": [
    {
     "data": {
      "text/html": [
       "<div>\n",
       "<style scoped>\n",
       "    .dataframe tbody tr th:only-of-type {\n",
       "        vertical-align: middle;\n",
       "    }\n",
       "\n",
       "    .dataframe tbody tr th {\n",
       "        vertical-align: top;\n",
       "    }\n",
       "\n",
       "    .dataframe thead th {\n",
       "        text-align: right;\n",
       "    }\n",
       "</style>\n",
       "<table border=\"1\" class=\"dataframe\">\n",
       "  <thead>\n",
       "    <tr style=\"text-align: right;\">\n",
       "      <th></th>\n",
       "      <th>Churn</th>\n",
       "      <th>Longevity</th>\n",
       "      <th>Year_Birth</th>\n",
       "      <th>TypeTravel</th>\n",
       "      <th>RoomType</th>\n",
       "      <th>RewardPoints</th>\n",
       "      <th>Comfort</th>\n",
       "      <th>ReceptionSchedule</th>\n",
       "      <th>FoodDrink</th>\n",
       "      <th>Location</th>\n",
       "      <th>...</th>\n",
       "      <th>Amenities</th>\n",
       "      <th>Staff</th>\n",
       "      <th>OnlineBooking</th>\n",
       "      <th>PriceQuality</th>\n",
       "      <th>RoomSpace</th>\n",
       "      <th>CheckOut</th>\n",
       "      <th>Checkin</th>\n",
       "      <th>Cleanliness</th>\n",
       "      <th>BarService</th>\n",
       "      <th>Gender</th>\n",
       "    </tr>\n",
       "  </thead>\n",
       "  <tbody>\n",
       "    <tr>\n",
       "      <th>8195</th>\n",
       "      <td>nochurn</td>\n",
       "      <td>yes</td>\n",
       "      <td>1995</td>\n",
       "      <td>leisure</td>\n",
       "      <td>double</td>\n",
       "      <td>5098</td>\n",
       "      <td>5</td>\n",
       "      <td>5</td>\n",
       "      <td>5</td>\n",
       "      <td>5</td>\n",
       "      <td>...</td>\n",
       "      <td>5</td>\n",
       "      <td>5</td>\n",
       "      <td>3</td>\n",
       "      <td>3</td>\n",
       "      <td>4</td>\n",
       "      <td>3</td>\n",
       "      <td>3</td>\n",
       "      <td>3</td>\n",
       "      <td>5</td>\n",
       "      <td>0</td>\n",
       "    </tr>\n",
       "    <tr>\n",
       "      <th>9176</th>\n",
       "      <td>churn</td>\n",
       "      <td>yes</td>\n",
       "      <td>1991</td>\n",
       "      <td>business</td>\n",
       "      <td>suite</td>\n",
       "      <td>5932</td>\n",
       "      <td>3</td>\n",
       "      <td>3</td>\n",
       "      <td>2</td>\n",
       "      <td>3</td>\n",
       "      <td>...</td>\n",
       "      <td>3</td>\n",
       "      <td>3</td>\n",
       "      <td>3</td>\n",
       "      <td>4</td>\n",
       "      <td>1</td>\n",
       "      <td>4</td>\n",
       "      <td>3</td>\n",
       "      <td>4</td>\n",
       "      <td>3</td>\n",
       "      <td>0</td>\n",
       "    </tr>\n",
       "    <tr>\n",
       "      <th>9417</th>\n",
       "      <td>nochurn</td>\n",
       "      <td>yes</td>\n",
       "      <td>1972</td>\n",
       "      <td>business</td>\n",
       "      <td>double</td>\n",
       "      <td>6769</td>\n",
       "      <td>5</td>\n",
       "      <td>4</td>\n",
       "      <td>4</td>\n",
       "      <td>4</td>\n",
       "      <td>...</td>\n",
       "      <td>5</td>\n",
       "      <td>4</td>\n",
       "      <td>5</td>\n",
       "      <td>5</td>\n",
       "      <td>5</td>\n",
       "      <td>5</td>\n",
       "      <td>2</td>\n",
       "      <td>5</td>\n",
       "      <td>1</td>\n",
       "      <td>0</td>\n",
       "    </tr>\n",
       "  </tbody>\n",
       "</table>\n",
       "<p>3 rows × 21 columns</p>\n",
       "</div>"
      ],
      "text/plain": [
       "        Churn Longevity  Year_Birth TypeTravel RoomType  RewardPoints  \\\n",
       "8195  nochurn       yes        1995    leisure   double          5098   \n",
       "9176    churn       yes        1991   business    suite          5932   \n",
       "9417  nochurn       yes        1972   business   double          6769   \n",
       "\n",
       "      Comfort  ReceptionSchedule  FoodDrink  Location  ...  Amenities  Staff  \\\n",
       "8195        5                  5          5         5  ...          5      5   \n",
       "9176        3                  3          2         3  ...          3      3   \n",
       "9417        5                  4          4         4  ...          5      4   \n",
       "\n",
       "      OnlineBooking  PriceQuality  RoomSpace  CheckOut  Checkin  Cleanliness  \\\n",
       "8195              3             3          4         3        3            3   \n",
       "9176              3             4          1         4        3            4   \n",
       "9417              5             5          5         5        2            5   \n",
       "\n",
       "      BarService  Gender  \n",
       "8195           5       0  \n",
       "9176           3       0  \n",
       "9417           1       0  \n",
       "\n",
       "[3 rows x 21 columns]"
      ]
     },
     "execution_count": 161,
     "metadata": {},
     "output_type": "execute_result"
    }
   ],
   "source": [
    "#visualize the duplicates\n",
    "df[duplicates]"
   ]
  },
  {
   "cell_type": "code",
   "execution_count": 162,
   "id": "d24b4327",
   "metadata": {},
   "outputs": [
    {
     "data": {
      "text/plain": [
       "(15586, 21)"
      ]
     },
     "execution_count": 162,
     "metadata": {},
     "output_type": "execute_result"
    }
   ],
   "source": [
    "df.drop_duplicates(inplace = True)\n",
    "df.shape"
   ]
  },
  {
   "cell_type": "markdown",
   "id": "f55c4c20",
   "metadata": {},
   "source": [
    "#### 1.6 Outliers"
   ]
  },
  {
   "cell_type": "code",
   "execution_count": 163,
   "id": "6ab0334e",
   "metadata": {},
   "outputs": [],
   "source": [
    "#method to return the boundaries of IQR \n",
    "def get_IQR_bounds(s):\n",
    "    q1 = s.quantile(0.25)\n",
    "    q3 = s.quantile(0.75)\n",
    "    \n",
    "    iqr = q3 - q1\n",
    "    \n",
    "    lower_bound = q1 -(1.5 * iqr)\n",
    "    upper_bound = q3 +(1.5 * iqr)\n",
    "    \n",
    "    return (lower_bound,upper_bound)"
   ]
  },
  {
   "cell_type": "markdown",
   "id": "092432a0",
   "metadata": {},
   "source": [
    "##### 1.6.1 Removing Outliers on Reward Points"
   ]
  },
  {
   "cell_type": "code",
   "execution_count": 164,
   "id": "50e3d08d",
   "metadata": {},
   "outputs": [
    {
     "data": {
      "text/plain": [
       "count    15586.000000\n",
       "mean      5022.418581\n",
       "std       1027.940126\n",
       "min        409.000000\n",
       "25%       4445.000000\n",
       "50%       5088.000000\n",
       "75%       5648.750000\n",
       "max       6950.000000\n",
       "Name: RewardPoints, dtype: float64"
      ]
     },
     "execution_count": 164,
     "metadata": {},
     "output_type": "execute_result"
    }
   ],
   "source": [
    "df['RewardPoints'].describe()"
   ]
  },
  {
   "cell_type": "code",
   "execution_count": 165,
   "id": "825da8e9",
   "metadata": {},
   "outputs": [
    {
     "name": "stdout",
     "output_type": "stream",
     "text": [
      "There are been 293 outliers removed\n"
     ]
    }
   ],
   "source": [
    "df = df[df['RewardPoints'] > get_IQR_bounds(df['RewardPoints'])[0]]\n",
    "\n",
    "print(\"There are been\",df_original_row_size - df.shape[0], \"outliers removed\")"
   ]
  },
  {
   "cell_type": "code",
   "execution_count": 166,
   "id": "6d712ef4",
   "metadata": {},
   "outputs": [
    {
     "data": {
      "text/plain": [
       "<AxesSubplot:xlabel='RewardPoints', ylabel='Count'>"
      ]
     },
     "execution_count": 166,
     "metadata": {},
     "output_type": "execute_result"
    },
    {
     "data": {
      "image/png": "[encoded data removed]",
      "text/plain": [
       "<Figure size 432x288 with 1 Axes>"
      ]
     },
     "metadata": {
      "needs_background": "light"
     },
     "output_type": "display_data"
    }
   ],
   "source": [
    "sns.histplot(df[\"RewardPoints\"], color=\"skyblue\")"
   ]
  },
  {
   "cell_type": "markdown",
   "id": "06f54503",
   "metadata": {},
   "source": [
    "##### 1.6.2 Removing Outliers on Ratings Variables"
   ]
  },
  {
   "cell_type": "markdown",
   "id": "6ee64650",
   "metadata": {},
   "source": [
    "After some research and analysis on the subject, we decided not to remove outliers on the two ratings variables that presented outliers in the boxplot visualization. Those are 'PriceQuality' and 'Checkin'. The reason we did not remove them was because they were too many entries that would have to be removed, and if we did, we would effectively be shortening the rating scale for the rating data."
   ]
  },
  {
   "cell_type": "markdown",
   "id": "c7a96de3",
   "metadata": {},
   "source": [
    "Instead, we will look for straight lining on the ratings entries, meaning people who answered all the answers with the same variable, which can mean they were in a rush and decided to fill the survey as fast as they could."
   ]
  },
  {
   "cell_type": "markdown",
   "id": "1598f705",
   "metadata": {},
   "source": [
    "##### 1.6.1 Removing Outliers on Straight Lining entries to the Ratings Variables"
   ]
  },
  {
   "cell_type": "code",
   "execution_count": 167,
   "id": "7378d5a7",
   "metadata": {},
   "outputs": [
    {
     "data": {
      "text/plain": [
       "Index(['Churn', 'Longevity', 'Year_Birth', 'TypeTravel', 'RoomType',\n",
       "       'RewardPoints', 'Comfort', 'ReceptionSchedule', 'FoodDrink', 'Location',\n",
       "       'Wifi', 'Amenities', 'Staff', 'OnlineBooking', 'PriceQuality',\n",
       "       'RoomSpace', 'CheckOut', 'Checkin', 'Cleanliness', 'BarService',\n",
       "       'Gender'],\n",
       "      dtype='object')"
      ]
     },
     "execution_count": 167,
     "metadata": {},
     "output_type": "execute_result"
    }
   ],
   "source": [
    "df.columns"
   ]
  },
  {
   "cell_type": "code",
   "execution_count": 168,
   "id": "571f8a0c",
   "metadata": {},
   "outputs": [],
   "source": [
    "straight_lining_entries = df[(df['Comfort'] == df['ReceptionSchedule']) & (df['Comfort'] == df['FoodDrink']) & (df['Comfort'] == df['Location']) & (df['Comfort'] == df['Wifi']) & (df['Comfort'] == df['Amenities']) & (df['Comfort'] == df['Staff']) & (df['Comfort'] == df['OnlineBooking']) & (df['Comfort'] == df['PriceQuality']) & (df['Comfort'] == df['RoomSpace']) & (df['Comfort'] == df['CheckOut']) & (df['Comfort'] == df['Checkin']) & (df['Comfort'] == df['Cleanliness']) & (df['Comfort'] == df['BarService'])]"
   ]
  },
  {
   "cell_type": "code",
   "execution_count": 169,
   "id": "c53db7c0",
   "metadata": {},
   "outputs": [
    {
     "data": {
      "text/html": [
       "<div>\n",
       "<style scoped>\n",
       "    .dataframe tbody tr th:only-of-type {\n",
       "        vertical-align: middle;\n",
       "    }\n",
       "\n",
       "    .dataframe tbody tr th {\n",
       "        vertical-align: top;\n",
       "    }\n",
       "\n",
       "    .dataframe thead th {\n",
       "        text-align: right;\n",
       "    }\n",
       "</style>\n",
       "<table border=\"1\" class=\"dataframe\">\n",
       "  <thead>\n",
       "    <tr style=\"text-align: right;\">\n",
       "      <th></th>\n",
       "      <th>Churn</th>\n",
       "      <th>Longevity</th>\n",
       "      <th>Year_Birth</th>\n",
       "      <th>TypeTravel</th>\n",
       "      <th>RoomType</th>\n",
       "      <th>RewardPoints</th>\n",
       "      <th>Comfort</th>\n",
       "      <th>ReceptionSchedule</th>\n",
       "      <th>FoodDrink</th>\n",
       "      <th>Location</th>\n",
       "      <th>...</th>\n",
       "      <th>Amenities</th>\n",
       "      <th>Staff</th>\n",
       "      <th>OnlineBooking</th>\n",
       "      <th>PriceQuality</th>\n",
       "      <th>RoomSpace</th>\n",
       "      <th>CheckOut</th>\n",
       "      <th>Checkin</th>\n",
       "      <th>Cleanliness</th>\n",
       "      <th>BarService</th>\n",
       "      <th>Gender</th>\n",
       "    </tr>\n",
       "  </thead>\n",
       "  <tbody>\n",
       "    <tr>\n",
       "      <th>1548</th>\n",
       "      <td>nochurn</td>\n",
       "      <td>yes</td>\n",
       "      <td>1981</td>\n",
       "      <td>business</td>\n",
       "      <td>single</td>\n",
       "      <td>5289</td>\n",
       "      <td>4</td>\n",
       "      <td>4</td>\n",
       "      <td>4</td>\n",
       "      <td>4</td>\n",
       "      <td>...</td>\n",
       "      <td>4</td>\n",
       "      <td>4</td>\n",
       "      <td>4</td>\n",
       "      <td>4</td>\n",
       "      <td>4</td>\n",
       "      <td>4</td>\n",
       "      <td>4</td>\n",
       "      <td>4</td>\n",
       "      <td>4</td>\n",
       "      <td>1</td>\n",
       "    </tr>\n",
       "    <tr>\n",
       "      <th>15259</th>\n",
       "      <td>nochurn</td>\n",
       "      <td>yes</td>\n",
       "      <td>1976</td>\n",
       "      <td>business</td>\n",
       "      <td>single</td>\n",
       "      <td>6699</td>\n",
       "      <td>5</td>\n",
       "      <td>5</td>\n",
       "      <td>5</td>\n",
       "      <td>5</td>\n",
       "      <td>...</td>\n",
       "      <td>5</td>\n",
       "      <td>5</td>\n",
       "      <td>5</td>\n",
       "      <td>5</td>\n",
       "      <td>5</td>\n",
       "      <td>5</td>\n",
       "      <td>5</td>\n",
       "      <td>5</td>\n",
       "      <td>5</td>\n",
       "      <td>1</td>\n",
       "    </tr>\n",
       "  </tbody>\n",
       "</table>\n",
       "<p>2 rows × 21 columns</p>\n",
       "</div>"
      ],
      "text/plain": [
       "         Churn Longevity  Year_Birth TypeTravel RoomType  RewardPoints  \\\n",
       "1548   nochurn       yes        1981   business   single          5289   \n",
       "15259  nochurn       yes        1976   business   single          6699   \n",
       "\n",
       "       Comfort  ReceptionSchedule  FoodDrink  Location  ...  Amenities  Staff  \\\n",
       "1548         4                  4          4         4  ...          4      4   \n",
       "15259        5                  5          5         5  ...          5      5   \n",
       "\n",
       "       OnlineBooking  PriceQuality  RoomSpace  CheckOut  Checkin  Cleanliness  \\\n",
       "1548               4             4          4         4        4            4   \n",
       "15259              5             5          5         5        5            5   \n",
       "\n",
       "       BarService  Gender  \n",
       "1548            4       1  \n",
       "15259           5       1  \n",
       "\n",
       "[2 rows x 21 columns]"
      ]
     },
     "execution_count": 169,
     "metadata": {},
     "output_type": "execute_result"
    }
   ],
   "source": [
    "straight_lining_entries"
   ]
  },
  {
   "cell_type": "markdown",
   "id": "2beed2f1",
   "metadata": {},
   "source": [
    " #### Removing straight lines"
   ]
  },
  {
   "cell_type": "code",
   "execution_count": 170,
   "id": "9c4a8113",
   "metadata": {},
   "outputs": [],
   "source": [
    "df.drop(straight_lining_entries.index, axis=0, inplace=True)"
   ]
  },
  {
   "cell_type": "markdown",
   "id": "0557993c",
   "metadata": {},
   "source": [
    "We found 2 entries that are considered straight lining answers and we will remove them from the data"
   ]
  },
  {
   "cell_type": "markdown",
   "id": "cc90f5fa",
   "metadata": {},
   "source": [
    "#### 1.7 Feature Engineering"
   ]
  },
  {
   "cell_type": "markdown",
   "id": "d344c310",
   "metadata": {},
   "source": [
    "##### 1.7.1 Creating Age Variable"
   ]
  },
  {
   "cell_type": "code",
   "execution_count": 171,
   "id": "ce2a3397",
   "metadata": {},
   "outputs": [],
   "source": [
    "df['Age'] = date.today().year - df['Year_Birth']"
   ]
  },
  {
   "cell_type": "code",
   "execution_count": 172,
   "id": "ac040e09",
   "metadata": {},
   "outputs": [],
   "source": [
    "del df['Year_Birth']"
   ]
  },
  {
   "cell_type": "code",
   "execution_count": 173,
   "id": "d1bf776f",
   "metadata": {},
   "outputs": [],
   "source": [
    "age_analysis_col = ['Age', 'Comfort', 'ReceptionSchedule', 'FoodDrink', 'Location', 'Wifi',\n",
    "'Amenities', 'Staff', 'OnlineBooking', 'PriceQuality', 'RoomSpace',\n",
    " 'CheckOut', 'Checkin', 'Cleanliness', 'BarService']\n",
    "likert_columns = ['Comfort', 'ReceptionSchedule', 'FoodDrink', 'Location', 'Wifi',\n",
    "'Amenities', 'Staff', 'OnlineBooking', 'PriceQuality', 'RoomSpace',\n",
    " 'CheckOut', 'Checkin', 'Cleanliness', 'BarService']"
   ]
  },
  {
   "cell_type": "code",
   "execution_count": 174,
   "id": "4e9be4bb",
   "metadata": {},
   "outputs": [
    {
     "data": {
      "text/html": [
       "<div>\n",
       "<style scoped>\n",
       "    .dataframe tbody tr th:only-of-type {\n",
       "        vertical-align: middle;\n",
       "    }\n",
       "\n",
       "    .dataframe tbody tr th {\n",
       "        vertical-align: top;\n",
       "    }\n",
       "\n",
       "    .dataframe thead th {\n",
       "        text-align: right;\n",
       "    }\n",
       "</style>\n",
       "<table border=\"1\" class=\"dataframe\">\n",
       "  <thead>\n",
       "    <tr style=\"text-align: right;\">\n",
       "      <th></th>\n",
       "      <th>Comfort</th>\n",
       "      <th>ReceptionSchedule</th>\n",
       "      <th>FoodDrink</th>\n",
       "      <th>Location</th>\n",
       "      <th>Wifi</th>\n",
       "      <th>Amenities</th>\n",
       "      <th>Staff</th>\n",
       "      <th>OnlineBooking</th>\n",
       "      <th>PriceQuality</th>\n",
       "      <th>RoomSpace</th>\n",
       "      <th>CheckOut</th>\n",
       "      <th>Checkin</th>\n",
       "      <th>Cleanliness</th>\n",
       "      <th>BarService</th>\n",
       "    </tr>\n",
       "    <tr>\n",
       "      <th>Age</th>\n",
       "      <th></th>\n",
       "      <th></th>\n",
       "      <th></th>\n",
       "      <th></th>\n",
       "      <th></th>\n",
       "      <th></th>\n",
       "      <th></th>\n",
       "      <th></th>\n",
       "      <th></th>\n",
       "      <th></th>\n",
       "      <th></th>\n",
       "      <th></th>\n",
       "      <th></th>\n",
       "      <th></th>\n",
       "    </tr>\n",
       "  </thead>\n",
       "  <tbody>\n",
       "    <tr>\n",
       "      <th>8</th>\n",
       "      <td>2.855422</td>\n",
       "      <td>3.445783</td>\n",
       "      <td>2.698795</td>\n",
       "      <td>3.168675</td>\n",
       "      <td>2.987952</td>\n",
       "      <td>3.048193</td>\n",
       "      <td>3.397590</td>\n",
       "      <td>3.349398</td>\n",
       "      <td>3.542169</td>\n",
       "      <td>3.530120</td>\n",
       "      <td>3.783133</td>\n",
       "      <td>3.361446</td>\n",
       "      <td>3.867470</td>\n",
       "      <td>3.216867</td>\n",
       "    </tr>\n",
       "    <tr>\n",
       "      <th>9</th>\n",
       "      <td>2.785714</td>\n",
       "      <td>3.142857</td>\n",
       "      <td>2.887755</td>\n",
       "      <td>3.000000</td>\n",
       "      <td>2.948980</td>\n",
       "      <td>2.938776</td>\n",
       "      <td>3.071429</td>\n",
       "      <td>3.051020</td>\n",
       "      <td>3.397959</td>\n",
       "      <td>3.377551</td>\n",
       "      <td>3.816327</td>\n",
       "      <td>3.285714</td>\n",
       "      <td>3.755102</td>\n",
       "      <td>3.000000</td>\n",
       "    </tr>\n",
       "    <tr>\n",
       "      <th>10</th>\n",
       "      <td>2.724490</td>\n",
       "      <td>3.346939</td>\n",
       "      <td>2.724490</td>\n",
       "      <td>3.061224</td>\n",
       "      <td>3.020408</td>\n",
       "      <td>2.969388</td>\n",
       "      <td>3.224490</td>\n",
       "      <td>3.142857</td>\n",
       "      <td>3.224490</td>\n",
       "      <td>3.244898</td>\n",
       "      <td>3.581633</td>\n",
       "      <td>3.204082</td>\n",
       "      <td>3.551020</td>\n",
       "      <td>3.071429</td>\n",
       "    </tr>\n",
       "    <tr>\n",
       "      <th>11</th>\n",
       "      <td>2.705263</td>\n",
       "      <td>3.200000</td>\n",
       "      <td>2.494737</td>\n",
       "      <td>2.768421</td>\n",
       "      <td>3.210526</td>\n",
       "      <td>2.989474</td>\n",
       "      <td>3.178947</td>\n",
       "      <td>3.284211</td>\n",
       "      <td>3.473684</td>\n",
       "      <td>3.221053</td>\n",
       "      <td>3.673684</td>\n",
       "      <td>3.305263</td>\n",
       "      <td>3.810526</td>\n",
       "      <td>3.273684</td>\n",
       "    </tr>\n",
       "    <tr>\n",
       "      <th>12</th>\n",
       "      <td>2.666667</td>\n",
       "      <td>3.200000</td>\n",
       "      <td>2.733333</td>\n",
       "      <td>3.038095</td>\n",
       "      <td>2.971429</td>\n",
       "      <td>2.895238</td>\n",
       "      <td>3.104762</td>\n",
       "      <td>3.038095</td>\n",
       "      <td>3.323810</td>\n",
       "      <td>3.219048</td>\n",
       "      <td>3.600000</td>\n",
       "      <td>3.276190</td>\n",
       "      <td>3.733333</td>\n",
       "      <td>3.019048</td>\n",
       "    </tr>\n",
       "  </tbody>\n",
       "</table>\n",
       "</div>"
      ],
      "text/plain": [
       "      Comfort  ReceptionSchedule  FoodDrink  Location      Wifi  Amenities  \\\n",
       "Age                                                                          \n",
       "8    2.855422           3.445783   2.698795  3.168675  2.987952   3.048193   \n",
       "9    2.785714           3.142857   2.887755  3.000000  2.948980   2.938776   \n",
       "10   2.724490           3.346939   2.724490  3.061224  3.020408   2.969388   \n",
       "11   2.705263           3.200000   2.494737  2.768421  3.210526   2.989474   \n",
       "12   2.666667           3.200000   2.733333  3.038095  2.971429   2.895238   \n",
       "\n",
       "        Staff  OnlineBooking  PriceQuality  RoomSpace  CheckOut   Checkin  \\\n",
       "Age                                                                         \n",
       "8    3.397590       3.349398      3.542169   3.530120  3.783133  3.361446   \n",
       "9    3.071429       3.051020      3.397959   3.377551  3.816327  3.285714   \n",
       "10   3.224490       3.142857      3.224490   3.244898  3.581633  3.204082   \n",
       "11   3.178947       3.284211      3.473684   3.221053  3.673684  3.305263   \n",
       "12   3.104762       3.038095      3.323810   3.219048  3.600000  3.276190   \n",
       "\n",
       "     Cleanliness  BarService  \n",
       "Age                           \n",
       "8       3.867470    3.216867  \n",
       "9       3.755102    3.000000  \n",
       "10      3.551020    3.071429  \n",
       "11      3.810526    3.273684  \n",
       "12      3.733333    3.019048  "
      ]
     },
     "execution_count": 174,
     "metadata": {},
     "output_type": "execute_result"
    }
   ],
   "source": [
    "df_age_analysys = df[age_analysis_col].groupby('Age').mean()\n",
    "df_age_analysys.head()"
   ]
  },
  {
   "cell_type": "code",
   "execution_count": 175,
   "id": "62d7a1f5",
   "metadata": {},
   "outputs": [
    {
     "data": {
      "text/plain": [
       "Comfort              2.848922\n",
       "ReceptionSchedule    3.048737\n",
       "FoodDrink            2.855800\n",
       "Location             2.994868\n",
       "Wifi                 3.205912\n",
       "Amenities            3.262154\n",
       "Staff                3.415234\n",
       "OnlineBooking        3.380496\n",
       "PriceQuality         3.360840\n",
       "RoomSpace            3.434851\n",
       "CheckOut             3.607079\n",
       "Checkin              3.226350\n",
       "Cleanliness          3.584075\n",
       "BarService           3.261339\n",
       "dtype: float64"
      ]
     },
     "execution_count": 175,
     "metadata": {},
     "output_type": "execute_result"
    }
   ],
   "source": [
    "df_age_analysys.mean()"
   ]
  },
  {
   "cell_type": "code",
   "execution_count": 176,
   "id": "c62081fb",
   "metadata": {},
   "outputs": [
    {
     "data": {
      "text/html": [
       "<div>\n",
       "<style scoped>\n",
       "    .dataframe tbody tr th:only-of-type {\n",
       "        vertical-align: middle;\n",
       "    }\n",
       "\n",
       "    .dataframe tbody tr th {\n",
       "        vertical-align: top;\n",
       "    }\n",
       "\n",
       "    .dataframe thead th {\n",
       "        text-align: right;\n",
       "    }\n",
       "</style>\n",
       "<table border=\"1\" class=\"dataframe\">\n",
       "  <thead>\n",
       "    <tr style=\"text-align: right;\">\n",
       "      <th></th>\n",
       "      <th>Comfort</th>\n",
       "      <th>ReceptionSchedule</th>\n",
       "      <th>FoodDrink</th>\n",
       "      <th>Location</th>\n",
       "      <th>Wifi</th>\n",
       "      <th>Amenities</th>\n",
       "      <th>Staff</th>\n",
       "      <th>OnlineBooking</th>\n",
       "      <th>PriceQuality</th>\n",
       "      <th>RoomSpace</th>\n",
       "      <th>CheckOut</th>\n",
       "      <th>Checkin</th>\n",
       "      <th>Cleanliness</th>\n",
       "      <th>BarService</th>\n",
       "    </tr>\n",
       "    <tr>\n",
       "      <th>Age</th>\n",
       "      <th></th>\n",
       "      <th></th>\n",
       "      <th></th>\n",
       "      <th></th>\n",
       "      <th></th>\n",
       "      <th></th>\n",
       "      <th></th>\n",
       "      <th></th>\n",
       "      <th></th>\n",
       "      <th></th>\n",
       "      <th></th>\n",
       "      <th></th>\n",
       "      <th></th>\n",
       "      <th></th>\n",
       "    </tr>\n",
       "  </thead>\n",
       "  <tbody>\n",
       "    <tr>\n",
       "      <th>8</th>\n",
       "      <td>0.006500</td>\n",
       "      <td>0.397046</td>\n",
       "      <td>-0.157005</td>\n",
       "      <td>0.173807</td>\n",
       "      <td>-0.217960</td>\n",
       "      <td>-0.213961</td>\n",
       "      <td>-0.017643</td>\n",
       "      <td>-0.031098</td>\n",
       "      <td>0.181328</td>\n",
       "      <td>0.095270</td>\n",
       "      <td>0.176054</td>\n",
       "      <td>0.135096</td>\n",
       "      <td>0.283394</td>\n",
       "      <td>-0.044471</td>\n",
       "    </tr>\n",
       "    <tr>\n",
       "      <th>9</th>\n",
       "      <td>-0.063207</td>\n",
       "      <td>0.094120</td>\n",
       "      <td>0.031955</td>\n",
       "      <td>0.005132</td>\n",
       "      <td>-0.256932</td>\n",
       "      <td>-0.323379</td>\n",
       "      <td>-0.343805</td>\n",
       "      <td>-0.329475</td>\n",
       "      <td>0.037119</td>\n",
       "      <td>-0.057300</td>\n",
       "      <td>0.209248</td>\n",
       "      <td>0.059364</td>\n",
       "      <td>0.171027</td>\n",
       "      <td>-0.261339</td>\n",
       "    </tr>\n",
       "    <tr>\n",
       "      <th>10</th>\n",
       "      <td>-0.124432</td>\n",
       "      <td>0.298202</td>\n",
       "      <td>-0.131310</td>\n",
       "      <td>0.066357</td>\n",
       "      <td>-0.185503</td>\n",
       "      <td>-0.292766</td>\n",
       "      <td>-0.190744</td>\n",
       "      <td>-0.237638</td>\n",
       "      <td>-0.136350</td>\n",
       "      <td>-0.189953</td>\n",
       "      <td>-0.025446</td>\n",
       "      <td>-0.022269</td>\n",
       "      <td>-0.033055</td>\n",
       "      <td>-0.189910</td>\n",
       "    </tr>\n",
       "    <tr>\n",
       "      <th>11</th>\n",
       "      <td>-0.143659</td>\n",
       "      <td>0.151263</td>\n",
       "      <td>-0.361063</td>\n",
       "      <td>-0.226447</td>\n",
       "      <td>0.004615</td>\n",
       "      <td>-0.272680</td>\n",
       "      <td>-0.236286</td>\n",
       "      <td>-0.096285</td>\n",
       "      <td>0.112844</td>\n",
       "      <td>-0.213798</td>\n",
       "      <td>0.066605</td>\n",
       "      <td>0.078913</td>\n",
       "      <td>0.226451</td>\n",
       "      <td>0.012345</td>\n",
       "    </tr>\n",
       "    <tr>\n",
       "      <th>12</th>\n",
       "      <td>-0.182255</td>\n",
       "      <td>0.151263</td>\n",
       "      <td>-0.122466</td>\n",
       "      <td>0.043228</td>\n",
       "      <td>-0.234483</td>\n",
       "      <td>-0.366916</td>\n",
       "      <td>-0.310472</td>\n",
       "      <td>-0.342400</td>\n",
       "      <td>-0.037031</td>\n",
       "      <td>-0.215803</td>\n",
       "      <td>-0.007079</td>\n",
       "      <td>0.049840</td>\n",
       "      <td>0.149258</td>\n",
       "      <td>-0.242291</td>\n",
       "    </tr>\n",
       "    <tr>\n",
       "      <th>...</th>\n",
       "      <td>...</td>\n",
       "      <td>...</td>\n",
       "      <td>...</td>\n",
       "      <td>...</td>\n",
       "      <td>...</td>\n",
       "      <td>...</td>\n",
       "      <td>...</td>\n",
       "      <td>...</td>\n",
       "      <td>...</td>\n",
       "      <td>...</td>\n",
       "      <td>...</td>\n",
       "      <td>...</td>\n",
       "      <td>...</td>\n",
       "      <td>...</td>\n",
       "    </tr>\n",
       "    <tr>\n",
       "      <th>78</th>\n",
       "      <td>0.151078</td>\n",
       "      <td>0.201263</td>\n",
       "      <td>0.831700</td>\n",
       "      <td>0.442632</td>\n",
       "      <td>0.294088</td>\n",
       "      <td>0.237846</td>\n",
       "      <td>-0.352734</td>\n",
       "      <td>-0.192996</td>\n",
       "      <td>-0.423340</td>\n",
       "      <td>-0.372351</td>\n",
       "      <td>-0.669579</td>\n",
       "      <td>-0.913850</td>\n",
       "      <td>-0.459075</td>\n",
       "      <td>-0.323839</td>\n",
       "    </tr>\n",
       "    <tr>\n",
       "      <th>79</th>\n",
       "      <td>0.151078</td>\n",
       "      <td>0.451263</td>\n",
       "      <td>0.477534</td>\n",
       "      <td>0.505132</td>\n",
       "      <td>-0.205912</td>\n",
       "      <td>-0.928821</td>\n",
       "      <td>-0.915234</td>\n",
       "      <td>-0.213829</td>\n",
       "      <td>-0.027507</td>\n",
       "      <td>0.231816</td>\n",
       "      <td>-0.440412</td>\n",
       "      <td>-1.226350</td>\n",
       "      <td>-0.250742</td>\n",
       "      <td>0.071995</td>\n",
       "    </tr>\n",
       "    <tr>\n",
       "      <th>80</th>\n",
       "      <td>0.151078</td>\n",
       "      <td>0.284597</td>\n",
       "      <td>-0.189133</td>\n",
       "      <td>0.005132</td>\n",
       "      <td>1.460755</td>\n",
       "      <td>-0.928821</td>\n",
       "      <td>-0.748567</td>\n",
       "      <td>-0.380496</td>\n",
       "      <td>-0.360840</td>\n",
       "      <td>-0.434851</td>\n",
       "      <td>-0.607079</td>\n",
       "      <td>-0.893017</td>\n",
       "      <td>-0.584075</td>\n",
       "      <td>-1.928005</td>\n",
       "    </tr>\n",
       "    <tr>\n",
       "      <th>81</th>\n",
       "      <td>-0.387383</td>\n",
       "      <td>-0.510275</td>\n",
       "      <td>-0.701954</td>\n",
       "      <td>-0.456406</td>\n",
       "      <td>0.024858</td>\n",
       "      <td>-0.262154</td>\n",
       "      <td>-0.184465</td>\n",
       "      <td>-0.149726</td>\n",
       "      <td>-0.053148</td>\n",
       "      <td>0.103611</td>\n",
       "      <td>-0.145540</td>\n",
       "      <td>-0.687889</td>\n",
       "      <td>-0.122537</td>\n",
       "      <td>-0.030570</td>\n",
       "    </tr>\n",
       "    <tr>\n",
       "      <th>86</th>\n",
       "      <td>0.151078</td>\n",
       "      <td>-2.048737</td>\n",
       "      <td>-1.855800</td>\n",
       "      <td>-1.994868</td>\n",
       "      <td>-0.205912</td>\n",
       "      <td>-0.262154</td>\n",
       "      <td>-0.415234</td>\n",
       "      <td>0.619504</td>\n",
       "      <td>-1.360840</td>\n",
       "      <td>0.565149</td>\n",
       "      <td>-0.607079</td>\n",
       "      <td>-0.226350</td>\n",
       "      <td>-2.584075</td>\n",
       "      <td>-0.261339</td>\n",
       "    </tr>\n",
       "  </tbody>\n",
       "</table>\n",
       "<p>75 rows × 14 columns</p>\n",
       "</div>"
      ],
      "text/plain": [
       "      Comfort  ReceptionSchedule  FoodDrink  Location      Wifi  Amenities  \\\n",
       "Age                                                                          \n",
       "8    0.006500           0.397046  -0.157005  0.173807 -0.217960  -0.213961   \n",
       "9   -0.063207           0.094120   0.031955  0.005132 -0.256932  -0.323379   \n",
       "10  -0.124432           0.298202  -0.131310  0.066357 -0.185503  -0.292766   \n",
       "11  -0.143659           0.151263  -0.361063 -0.226447  0.004615  -0.272680   \n",
       "12  -0.182255           0.151263  -0.122466  0.043228 -0.234483  -0.366916   \n",
       "..        ...                ...        ...       ...       ...        ...   \n",
       "78   0.151078           0.201263   0.831700  0.442632  0.294088   0.237846   \n",
       "79   0.151078           0.451263   0.477534  0.505132 -0.205912  -0.928821   \n",
       "80   0.151078           0.284597  -0.189133  0.005132  1.460755  -0.928821   \n",
       "81  -0.387383          -0.510275  -0.701954 -0.456406  0.024858  -0.262154   \n",
       "86   0.151078          -2.048737  -1.855800 -1.994868 -0.205912  -0.262154   \n",
       "\n",
       "        Staff  OnlineBooking  PriceQuality  RoomSpace  CheckOut   Checkin  \\\n",
       "Age                                                                         \n",
       "8   -0.017643      -0.031098      0.181328   0.095270  0.176054  0.135096   \n",
       "9   -0.343805      -0.329475      0.037119  -0.057300  0.209248  0.059364   \n",
       "10  -0.190744      -0.237638     -0.136350  -0.189953 -0.025446 -0.022269   \n",
       "11  -0.236286      -0.096285      0.112844  -0.213798  0.066605  0.078913   \n",
       "12  -0.310472      -0.342400     -0.037031  -0.215803 -0.007079  0.049840   \n",
       "..        ...            ...           ...        ...       ...       ...   \n",
       "78  -0.352734      -0.192996     -0.423340  -0.372351 -0.669579 -0.913850   \n",
       "79  -0.915234      -0.213829     -0.027507   0.231816 -0.440412 -1.226350   \n",
       "80  -0.748567      -0.380496     -0.360840  -0.434851 -0.607079 -0.893017   \n",
       "81  -0.184465      -0.149726     -0.053148   0.103611 -0.145540 -0.687889   \n",
       "86  -0.415234       0.619504     -1.360840   0.565149 -0.607079 -0.226350   \n",
       "\n",
       "     Cleanliness  BarService  \n",
       "Age                           \n",
       "8       0.283394   -0.044471  \n",
       "9       0.171027   -0.261339  \n",
       "10     -0.033055   -0.189910  \n",
       "11      0.226451    0.012345  \n",
       "12      0.149258   -0.242291  \n",
       "..           ...         ...  \n",
       "78     -0.459075   -0.323839  \n",
       "79     -0.250742    0.071995  \n",
       "80     -0.584075   -1.928005  \n",
       "81     -0.122537   -0.030570  \n",
       "86     -2.584075   -0.261339  \n",
       "\n",
       "[75 rows x 14 columns]"
      ]
     },
     "execution_count": 176,
     "metadata": {},
     "output_type": "execute_result"
    }
   ],
   "source": [
    "df_age_analysys - df_age_analysys.mean()"
   ]
  },
  {
   "cell_type": "code",
   "execution_count": 177,
   "id": "7fbc4ff2",
   "metadata": {},
   "outputs": [
    {
     "data": {
      "text/html": [
       "<div>\n",
       "<style scoped>\n",
       "    .dataframe tbody tr th:only-of-type {\n",
       "        vertical-align: middle;\n",
       "    }\n",
       "\n",
       "    .dataframe tbody tr th {\n",
       "        vertical-align: top;\n",
       "    }\n",
       "\n",
       "    .dataframe thead th {\n",
       "        text-align: right;\n",
       "    }\n",
       "</style>\n",
       "<table border=\"1\" class=\"dataframe\">\n",
       "  <thead>\n",
       "    <tr style=\"text-align: right;\">\n",
       "      <th></th>\n",
       "      <th>Comfort</th>\n",
       "      <th>ReceptionSchedule</th>\n",
       "      <th>FoodDrink</th>\n",
       "      <th>Location</th>\n",
       "      <th>Wifi</th>\n",
       "      <th>Amenities</th>\n",
       "      <th>Staff</th>\n",
       "      <th>OnlineBooking</th>\n",
       "      <th>PriceQuality</th>\n",
       "      <th>RoomSpace</th>\n",
       "      <th>CheckOut</th>\n",
       "      <th>Checkin</th>\n",
       "      <th>Cleanliness</th>\n",
       "      <th>BarService</th>\n",
       "    </tr>\n",
       "    <tr>\n",
       "      <th>Age</th>\n",
       "      <th></th>\n",
       "      <th></th>\n",
       "      <th></th>\n",
       "      <th></th>\n",
       "      <th></th>\n",
       "      <th></th>\n",
       "      <th></th>\n",
       "      <th></th>\n",
       "      <th></th>\n",
       "      <th></th>\n",
       "      <th></th>\n",
       "      <th></th>\n",
       "      <th></th>\n",
       "      <th></th>\n",
       "    </tr>\n",
       "  </thead>\n",
       "  <tbody>\n",
       "    <tr>\n",
       "      <th>72</th>\n",
       "      <td>0.128880</td>\n",
       "      <td>-0.321485</td>\n",
       "      <td>0.782995</td>\n",
       "      <td>0.676502</td>\n",
       "      <td>-2.320477</td>\n",
       "      <td>0.849226</td>\n",
       "      <td>-0.532170</td>\n",
       "      <td>-0.692083</td>\n",
       "      <td>-1.633600</td>\n",
       "      <td>-0.703541</td>\n",
       "      <td>-2.256637</td>\n",
       "      <td>-2.974001</td>\n",
       "      <td>-0.635316</td>\n",
       "      <td>-1.360574</td>\n",
       "    </tr>\n",
       "    <tr>\n",
       "      <th>73</th>\n",
       "      <td>0.837878</td>\n",
       "      <td>-0.832206</td>\n",
       "      <td>-0.197729</td>\n",
       "      <td>-0.336419</td>\n",
       "      <td>-2.576620</td>\n",
       "      <td>-0.485434</td>\n",
       "      <td>-0.463941</td>\n",
       "      <td>0.184339</td>\n",
       "      <td>-0.720591</td>\n",
       "      <td>-1.520253</td>\n",
       "      <td>-1.061821</td>\n",
       "      <td>-1.824260</td>\n",
       "      <td>-0.394007</td>\n",
       "      <td>-1.393406</td>\n",
       "    </tr>\n",
       "    <tr>\n",
       "      <th>74</th>\n",
       "      <td>-1.807895</td>\n",
       "      <td>0.699957</td>\n",
       "      <td>2.663837</td>\n",
       "      <td>1.006289</td>\n",
       "      <td>-0.886078</td>\n",
       "      <td>-0.194642</td>\n",
       "      <td>-0.054568</td>\n",
       "      <td>-2.992692</td>\n",
       "      <td>-2.515126</td>\n",
       "      <td>-3.492314</td>\n",
       "      <td>-3.000079</td>\n",
       "      <td>-1.086839</td>\n",
       "      <td>-2.746768</td>\n",
       "      <td>-1.935132</td>\n",
       "    </tr>\n",
       "    <tr>\n",
       "      <th>75</th>\n",
       "      <td>-1.626323</td>\n",
       "      <td>-1.180425</td>\n",
       "      <td>0.759485</td>\n",
       "      <td>0.016926</td>\n",
       "      <td>-0.348178</td>\n",
       "      <td>-0.820963</td>\n",
       "      <td>0.303634</td>\n",
       "      <td>-0.979659</td>\n",
       "      <td>-4.085344</td>\n",
       "      <td>0.272529</td>\n",
       "      <td>-3.650590</td>\n",
       "      <td>-2.002668</td>\n",
       "      <td>-1.796615</td>\n",
       "      <td>1.684587</td>\n",
       "    </tr>\n",
       "    <tr>\n",
       "      <th>76</th>\n",
       "      <td>0.290278</td>\n",
       "      <td>0.483287</td>\n",
       "      <td>1.974195</td>\n",
       "      <td>1.482650</td>\n",
       "      <td>0.548321</td>\n",
       "      <td>-1.168918</td>\n",
       "      <td>0.502635</td>\n",
       "      <td>-4.441224</td>\n",
       "      <td>-2.294745</td>\n",
       "      <td>-3.213437</td>\n",
       "      <td>-2.669660</td>\n",
       "      <td>-0.013747</td>\n",
       "      <td>-2.606005</td>\n",
       "      <td>0.248191</td>\n",
       "    </tr>\n",
       "    <tr>\n",
       "      <th>77</th>\n",
       "      <td>5.636585</td>\n",
       "      <td>3.694639</td>\n",
       "      <td>4.286062</td>\n",
       "      <td>4.139275</td>\n",
       "      <td>0.189721</td>\n",
       "      <td>0.744839</td>\n",
       "      <td>-0.144118</td>\n",
       "      <td>1.416808</td>\n",
       "      <td>0.046808</td>\n",
       "      <td>1.841214</td>\n",
       "      <td>-1.791987</td>\n",
       "      <td>-0.337525</td>\n",
       "      <td>-0.846461</td>\n",
       "      <td>0.391830</td>\n",
       "    </tr>\n",
       "    <tr>\n",
       "      <th>78</th>\n",
       "      <td>1.097268</td>\n",
       "      <td>0.560669</td>\n",
       "      <td>2.346445</td>\n",
       "      <td>1.459748</td>\n",
       "      <td>1.265521</td>\n",
       "      <td>0.744839</td>\n",
       "      <td>-1.263498</td>\n",
       "      <td>-0.740013</td>\n",
       "      <td>-1.399445</td>\n",
       "      <td>-1.557603</td>\n",
       "      <td>-2.488963</td>\n",
       "      <td>-3.043382</td>\n",
       "      <td>-1.163179</td>\n",
       "      <td>-1.116386</td>\n",
       "    </tr>\n",
       "    <tr>\n",
       "      <th>79</th>\n",
       "      <td>1.097268</td>\n",
       "      <td>1.257107</td>\n",
       "      <td>1.347247</td>\n",
       "      <td>1.665865</td>\n",
       "      <td>-0.886078</td>\n",
       "      <td>-2.908698</td>\n",
       "      <td>-3.278383</td>\n",
       "      <td>-0.819895</td>\n",
       "      <td>-0.090930</td>\n",
       "      <td>0.969722</td>\n",
       "      <td>-1.637103</td>\n",
       "      <td>-4.084096</td>\n",
       "      <td>-0.635316</td>\n",
       "      <td>0.248191</td>\n",
       "    </tr>\n",
       "    <tr>\n",
       "      <th>80</th>\n",
       "      <td>1.097268</td>\n",
       "      <td>0.792815</td>\n",
       "      <td>-0.533594</td>\n",
       "      <td>0.016926</td>\n",
       "      <td>6.285917</td>\n",
       "      <td>-2.908698</td>\n",
       "      <td>-2.681380</td>\n",
       "      <td>-1.458953</td>\n",
       "      <td>-1.192837</td>\n",
       "      <td>-1.819051</td>\n",
       "      <td>-2.256637</td>\n",
       "      <td>-2.974001</td>\n",
       "      <td>-1.479897</td>\n",
       "      <td>-6.646514</td>\n",
       "    </tr>\n",
       "    <tr>\n",
       "      <th>81</th>\n",
       "      <td>-2.813529</td>\n",
       "      <td>-1.421500</td>\n",
       "      <td>-1.980395</td>\n",
       "      <td>-1.505172</td>\n",
       "      <td>0.106968</td>\n",
       "      <td>-0.820963</td>\n",
       "      <td>-0.660755</td>\n",
       "      <td>-0.574103</td>\n",
       "      <td>-0.175692</td>\n",
       "      <td>0.433420</td>\n",
       "      <td>-0.541004</td>\n",
       "      <td>-2.290865</td>\n",
       "      <td>-0.310477</td>\n",
       "      <td>-0.105384</td>\n",
       "    </tr>\n",
       "    <tr>\n",
       "      <th>86</th>\n",
       "      <td>1.097268</td>\n",
       "      <td>-5.707270</td>\n",
       "      <td>-5.235698</td>\n",
       "      <td>-6.578833</td>\n",
       "      <td>-0.886078</td>\n",
       "      <td>-0.820963</td>\n",
       "      <td>-1.487374</td>\n",
       "      <td>2.375396</td>\n",
       "      <td>-4.498559</td>\n",
       "      <td>2.364109</td>\n",
       "      <td>-2.256637</td>\n",
       "      <td>-0.753811</td>\n",
       "      <td>-6.547382</td>\n",
       "      <td>-0.900927</td>\n",
       "    </tr>\n",
       "  </tbody>\n",
       "</table>\n",
       "</div>"
      ],
      "text/plain": [
       "      Comfort  ReceptionSchedule  FoodDrink  Location      Wifi  Amenities  \\\n",
       "Age                                                                          \n",
       "72   0.128880          -0.321485   0.782995  0.676502 -2.320477   0.849226   \n",
       "73   0.837878          -0.832206  -0.197729 -0.336419 -2.576620  -0.485434   \n",
       "74  -1.807895           0.699957   2.663837  1.006289 -0.886078  -0.194642   \n",
       "75  -1.626323          -1.180425   0.759485  0.016926 -0.348178  -0.820963   \n",
       "76   0.290278           0.483287   1.974195  1.482650  0.548321  -1.168918   \n",
       "77   5.636585           3.694639   4.286062  4.139275  0.189721   0.744839   \n",
       "78   1.097268           0.560669   2.346445  1.459748  1.265521   0.744839   \n",
       "79   1.097268           1.257107   1.347247  1.665865 -0.886078  -2.908698   \n",
       "80   1.097268           0.792815  -0.533594  0.016926  6.285917  -2.908698   \n",
       "81  -2.813529          -1.421500  -1.980395 -1.505172  0.106968  -0.820963   \n",
       "86   1.097268          -5.707270  -5.235698 -6.578833 -0.886078  -0.820963   \n",
       "\n",
       "        Staff  OnlineBooking  PriceQuality  RoomSpace  CheckOut   Checkin  \\\n",
       "Age                                                                         \n",
       "72  -0.532170      -0.692083     -1.633600  -0.703541 -2.256637 -2.974001   \n",
       "73  -0.463941       0.184339     -0.720591  -1.520253 -1.061821 -1.824260   \n",
       "74  -0.054568      -2.992692     -2.515126  -3.492314 -3.000079 -1.086839   \n",
       "75   0.303634      -0.979659     -4.085344   0.272529 -3.650590 -2.002668   \n",
       "76   0.502635      -4.441224     -2.294745  -3.213437 -2.669660 -0.013747   \n",
       "77  -0.144118       1.416808      0.046808   1.841214 -1.791987 -0.337525   \n",
       "78  -1.263498      -0.740013     -1.399445  -1.557603 -2.488963 -3.043382   \n",
       "79  -3.278383      -0.819895     -0.090930   0.969722 -1.637103 -4.084096   \n",
       "80  -2.681380      -1.458953     -1.192837  -1.819051 -2.256637 -2.974001   \n",
       "81  -0.660755      -0.574103     -0.175692   0.433420 -0.541004 -2.290865   \n",
       "86  -1.487374       2.375396     -4.498559   2.364109 -2.256637 -0.753811   \n",
       "\n",
       "     Cleanliness  BarService  \n",
       "Age                           \n",
       "72     -0.635316   -1.360574  \n",
       "73     -0.394007   -1.393406  \n",
       "74     -2.746768   -1.935132  \n",
       "75     -1.796615    1.684587  \n",
       "76     -2.606005    0.248191  \n",
       "77     -0.846461    0.391830  \n",
       "78     -1.163179   -1.116386  \n",
       "79     -0.635316    0.248191  \n",
       "80     -1.479897   -6.646514  \n",
       "81     -0.310477   -0.105384  \n",
       "86     -6.547382   -0.900927  "
      ]
     },
     "execution_count": 177,
     "metadata": {},
     "output_type": "execute_result"
    }
   ],
   "source": [
    "from scipy.stats import zscore\n",
    "df_age_zscore = df_age_analysys.apply(zscore)\n",
    "df_age_zscore[(abs(df_age_zscore[likert_columns]) > 2).any(1)]"
   ]
  },
  {
   "cell_type": "code",
   "execution_count": 178,
   "id": "ce78b8a2",
   "metadata": {},
   "outputs": [
    {
     "data": {
      "text/html": [
       "<div>\n",
       "<style scoped>\n",
       "    .dataframe tbody tr th:only-of-type {\n",
       "        vertical-align: middle;\n",
       "    }\n",
       "\n",
       "    .dataframe tbody tr th {\n",
       "        vertical-align: top;\n",
       "    }\n",
       "\n",
       "    .dataframe thead th {\n",
       "        text-align: right;\n",
       "    }\n",
       "</style>\n",
       "<table border=\"1\" class=\"dataframe\">\n",
       "  <thead>\n",
       "    <tr style=\"text-align: right;\">\n",
       "      <th></th>\n",
       "      <th>Churn</th>\n",
       "      <th>Longevity</th>\n",
       "      <th>TypeTravel</th>\n",
       "      <th>RoomType</th>\n",
       "      <th>RewardPoints</th>\n",
       "      <th>Comfort</th>\n",
       "      <th>ReceptionSchedule</th>\n",
       "      <th>FoodDrink</th>\n",
       "      <th>Location</th>\n",
       "      <th>Wifi</th>\n",
       "      <th>...</th>\n",
       "      <th>Staff</th>\n",
       "      <th>OnlineBooking</th>\n",
       "      <th>PriceQuality</th>\n",
       "      <th>RoomSpace</th>\n",
       "      <th>CheckOut</th>\n",
       "      <th>Checkin</th>\n",
       "      <th>Cleanliness</th>\n",
       "      <th>BarService</th>\n",
       "      <th>Gender</th>\n",
       "      <th>Age</th>\n",
       "    </tr>\n",
       "  </thead>\n",
       "  <tbody>\n",
       "    <tr>\n",
       "      <th>182</th>\n",
       "      <td>churn</td>\n",
       "      <td>yes</td>\n",
       "      <td>business</td>\n",
       "      <td>single</td>\n",
       "      <td>6713</td>\n",
       "      <td>3</td>\n",
       "      <td>5</td>\n",
       "      <td>5</td>\n",
       "      <td>5</td>\n",
       "      <td>2</td>\n",
       "      <td>...</td>\n",
       "      <td>3</td>\n",
       "      <td>3</td>\n",
       "      <td>3</td>\n",
       "      <td>3</td>\n",
       "      <td>3</td>\n",
       "      <td>1</td>\n",
       "      <td>3</td>\n",
       "      <td>4</td>\n",
       "      <td>1</td>\n",
       "      <td>75</td>\n",
       "    </tr>\n",
       "    <tr>\n",
       "      <th>250</th>\n",
       "      <td>churn</td>\n",
       "      <td>yes</td>\n",
       "      <td>business</td>\n",
       "      <td>suite</td>\n",
       "      <td>5498</td>\n",
       "      <td>3</td>\n",
       "      <td>4</td>\n",
       "      <td>3</td>\n",
       "      <td>4</td>\n",
       "      <td>3</td>\n",
       "      <td>...</td>\n",
       "      <td>3</td>\n",
       "      <td>3</td>\n",
       "      <td>1</td>\n",
       "      <td>4</td>\n",
       "      <td>4</td>\n",
       "      <td>2</td>\n",
       "      <td>3</td>\n",
       "      <td>3</td>\n",
       "      <td>1</td>\n",
       "      <td>79</td>\n",
       "    </tr>\n",
       "    <tr>\n",
       "      <th>255</th>\n",
       "      <td>churn</td>\n",
       "      <td>yes</td>\n",
       "      <td>business</td>\n",
       "      <td>double</td>\n",
       "      <td>6439</td>\n",
       "      <td>1</td>\n",
       "      <td>2</td>\n",
       "      <td>2</td>\n",
       "      <td>2</td>\n",
       "      <td>4</td>\n",
       "      <td>...</td>\n",
       "      <td>4</td>\n",
       "      <td>1</td>\n",
       "      <td>1</td>\n",
       "      <td>1</td>\n",
       "      <td>1</td>\n",
       "      <td>1</td>\n",
       "      <td>1</td>\n",
       "      <td>4</td>\n",
       "      <td>0</td>\n",
       "      <td>81</td>\n",
       "    </tr>\n",
       "    <tr>\n",
       "      <th>403</th>\n",
       "      <td>churn</td>\n",
       "      <td>yes</td>\n",
       "      <td>business</td>\n",
       "      <td>double</td>\n",
       "      <td>6806</td>\n",
       "      <td>2</td>\n",
       "      <td>4</td>\n",
       "      <td>4</td>\n",
       "      <td>4</td>\n",
       "      <td>5</td>\n",
       "      <td>...</td>\n",
       "      <td>4</td>\n",
       "      <td>2</td>\n",
       "      <td>2</td>\n",
       "      <td>2</td>\n",
       "      <td>2</td>\n",
       "      <td>3</td>\n",
       "      <td>2</td>\n",
       "      <td>3</td>\n",
       "      <td>0</td>\n",
       "      <td>76</td>\n",
       "    </tr>\n",
       "    <tr>\n",
       "      <th>425</th>\n",
       "      <td>nochurn</td>\n",
       "      <td>yes</td>\n",
       "      <td>business</td>\n",
       "      <td>double</td>\n",
       "      <td>6936</td>\n",
       "      <td>4</td>\n",
       "      <td>2</td>\n",
       "      <td>2</td>\n",
       "      <td>2</td>\n",
       "      <td>4</td>\n",
       "      <td>...</td>\n",
       "      <td>2</td>\n",
       "      <td>4</td>\n",
       "      <td>4</td>\n",
       "      <td>4</td>\n",
       "      <td>4</td>\n",
       "      <td>3</td>\n",
       "      <td>4</td>\n",
       "      <td>4</td>\n",
       "      <td>0</td>\n",
       "      <td>79</td>\n",
       "    </tr>\n",
       "    <tr>\n",
       "      <th>...</th>\n",
       "      <td>...</td>\n",
       "      <td>...</td>\n",
       "      <td>...</td>\n",
       "      <td>...</td>\n",
       "      <td>...</td>\n",
       "      <td>...</td>\n",
       "      <td>...</td>\n",
       "      <td>...</td>\n",
       "      <td>...</td>\n",
       "      <td>...</td>\n",
       "      <td>...</td>\n",
       "      <td>...</td>\n",
       "      <td>...</td>\n",
       "      <td>...</td>\n",
       "      <td>...</td>\n",
       "      <td>...</td>\n",
       "      <td>...</td>\n",
       "      <td>...</td>\n",
       "      <td>...</td>\n",
       "      <td>...</td>\n",
       "      <td>...</td>\n",
       "    </tr>\n",
       "    <tr>\n",
       "      <th>14706</th>\n",
       "      <td>nochurn</td>\n",
       "      <td>yes</td>\n",
       "      <td>business</td>\n",
       "      <td>single</td>\n",
       "      <td>4566</td>\n",
       "      <td>2</td>\n",
       "      <td>2</td>\n",
       "      <td>4</td>\n",
       "      <td>2</td>\n",
       "      <td>3</td>\n",
       "      <td>...</td>\n",
       "      <td>3</td>\n",
       "      <td>4</td>\n",
       "      <td>4</td>\n",
       "      <td>4</td>\n",
       "      <td>5</td>\n",
       "      <td>2</td>\n",
       "      <td>4</td>\n",
       "      <td>1</td>\n",
       "      <td>1</td>\n",
       "      <td>74</td>\n",
       "    </tr>\n",
       "    <tr>\n",
       "      <th>15109</th>\n",
       "      <td>nochurn</td>\n",
       "      <td>yes</td>\n",
       "      <td>business</td>\n",
       "      <td>double</td>\n",
       "      <td>6127</td>\n",
       "      <td>5</td>\n",
       "      <td>3</td>\n",
       "      <td>3</td>\n",
       "      <td>3</td>\n",
       "      <td>4</td>\n",
       "      <td>...</td>\n",
       "      <td>1</td>\n",
       "      <td>5</td>\n",
       "      <td>5</td>\n",
       "      <td>5</td>\n",
       "      <td>5</td>\n",
       "      <td>5</td>\n",
       "      <td>5</td>\n",
       "      <td>4</td>\n",
       "      <td>0</td>\n",
       "      <td>73</td>\n",
       "    </tr>\n",
       "    <tr>\n",
       "      <th>15132</th>\n",
       "      <td>nochurn</td>\n",
       "      <td>yes</td>\n",
       "      <td>business</td>\n",
       "      <td>single</td>\n",
       "      <td>3300</td>\n",
       "      <td>4</td>\n",
       "      <td>4</td>\n",
       "      <td>4</td>\n",
       "      <td>4</td>\n",
       "      <td>3</td>\n",
       "      <td>...</td>\n",
       "      <td>5</td>\n",
       "      <td>3</td>\n",
       "      <td>3</td>\n",
       "      <td>2</td>\n",
       "      <td>3</td>\n",
       "      <td>4</td>\n",
       "      <td>3</td>\n",
       "      <td>5</td>\n",
       "      <td>1</td>\n",
       "      <td>76</td>\n",
       "    </tr>\n",
       "    <tr>\n",
       "      <th>15494</th>\n",
       "      <td>churn</td>\n",
       "      <td>yes</td>\n",
       "      <td>business</td>\n",
       "      <td>single</td>\n",
       "      <td>5369</td>\n",
       "      <td>4</td>\n",
       "      <td>1</td>\n",
       "      <td>1</td>\n",
       "      <td>1</td>\n",
       "      <td>5</td>\n",
       "      <td>...</td>\n",
       "      <td>3</td>\n",
       "      <td>4</td>\n",
       "      <td>4</td>\n",
       "      <td>4</td>\n",
       "      <td>4</td>\n",
       "      <td>3</td>\n",
       "      <td>4</td>\n",
       "      <td>2</td>\n",
       "      <td>1</td>\n",
       "      <td>78</td>\n",
       "    </tr>\n",
       "    <tr>\n",
       "      <th>15530</th>\n",
       "      <td>churn</td>\n",
       "      <td>yes</td>\n",
       "      <td>business</td>\n",
       "      <td>double</td>\n",
       "      <td>4513</td>\n",
       "      <td>3</td>\n",
       "      <td>3</td>\n",
       "      <td>3</td>\n",
       "      <td>3</td>\n",
       "      <td>3</td>\n",
       "      <td>...</td>\n",
       "      <td>3</td>\n",
       "      <td>3</td>\n",
       "      <td>2</td>\n",
       "      <td>2</td>\n",
       "      <td>4</td>\n",
       "      <td>4</td>\n",
       "      <td>4</td>\n",
       "      <td>3</td>\n",
       "      <td>1</td>\n",
       "      <td>73</td>\n",
       "    </tr>\n",
       "  </tbody>\n",
       "</table>\n",
       "<p>102 rows × 21 columns</p>\n",
       "</div>"
      ],
      "text/plain": [
       "         Churn Longevity TypeTravel RoomType  RewardPoints  Comfort  \\\n",
       "182      churn       yes   business   single          6713        3   \n",
       "250      churn       yes   business    suite          5498        3   \n",
       "255      churn       yes   business   double          6439        1   \n",
       "403      churn       yes   business   double          6806        2   \n",
       "425    nochurn       yes   business   double          6936        4   \n",
       "...        ...       ...        ...      ...           ...      ...   \n",
       "14706  nochurn       yes   business   single          4566        2   \n",
       "15109  nochurn       yes   business   double          6127        5   \n",
       "15132  nochurn       yes   business   single          3300        4   \n",
       "15494    churn       yes   business   single          5369        4   \n",
       "15530    churn       yes   business   double          4513        3   \n",
       "\n",
       "       ReceptionSchedule  FoodDrink  Location  Wifi  ...  Staff  \\\n",
       "182                    5          5         5     2  ...      3   \n",
       "250                    4          3         4     3  ...      3   \n",
       "255                    2          2         2     4  ...      4   \n",
       "403                    4          4         4     5  ...      4   \n",
       "425                    2          2         2     4  ...      2   \n",
       "...                  ...        ...       ...   ...  ...    ...   \n",
       "14706                  2          4         2     3  ...      3   \n",
       "15109                  3          3         3     4  ...      1   \n",
       "15132                  4          4         4     3  ...      5   \n",
       "15494                  1          1         1     5  ...      3   \n",
       "15530                  3          3         3     3  ...      3   \n",
       "\n",
       "       OnlineBooking  PriceQuality  RoomSpace  CheckOut  Checkin  Cleanliness  \\\n",
       "182                3             3          3         3        1            3   \n",
       "250                3             1          4         4        2            3   \n",
       "255                1             1          1         1        1            1   \n",
       "403                2             2          2         2        3            2   \n",
       "425                4             4          4         4        3            4   \n",
       "...              ...           ...        ...       ...      ...          ...   \n",
       "14706              4             4          4         5        2            4   \n",
       "15109              5             5          5         5        5            5   \n",
       "15132              3             3          2         3        4            3   \n",
       "15494              4             4          4         4        3            4   \n",
       "15530              3             2          2         4        4            4   \n",
       "\n",
       "       BarService  Gender  Age  \n",
       "182             4       1   75  \n",
       "250             3       1   79  \n",
       "255             4       0   81  \n",
       "403             3       0   76  \n",
       "425             4       0   79  \n",
       "...           ...     ...  ...  \n",
       "14706           1       1   74  \n",
       "15109           4       0   73  \n",
       "15132           5       1   76  \n",
       "15494           2       1   78  \n",
       "15530           3       1   73  \n",
       "\n",
       "[102 rows x 21 columns]"
      ]
     },
     "execution_count": 178,
     "metadata": {},
     "output_type": "execute_result"
    }
   ],
   "source": [
    "df[df['Age'] > 72]"
   ]
  },
  {
   "cell_type": "markdown",
   "id": "3f7827ac",
   "metadata": {},
   "source": [
    "We thought about removing the rows with age less than 10 years old because we considered people this young to not be able to answer properly unless an adult helps them. However, because of the high number of entries, we decided not to remove them."
   ]
  },
  {
   "cell_type": "markdown",
   "id": "ecf17be8",
   "metadata": {},
   "source": [
    "# TODO GROUP BY AGE AND CHECK MEANS OF ANSWERS"
   ]
  },
  {
   "cell_type": "markdown",
   "id": "b731ade5",
   "metadata": {},
   "source": [
    "#### 1.8 Creating Dummies and Binary variables"
   ]
  },
  {
   "cell_type": "markdown",
   "id": "2ab997da",
   "metadata": {},
   "source": [
    "The following variables need dummies: RoomType  \n",
    "The following variables are binary: Churn, Longevity, TypeTravel"
   ]
  },
  {
   "cell_type": "code",
   "execution_count": 179,
   "id": "d8636854",
   "metadata": {},
   "outputs": [],
   "source": [
    "#churn = 1, nochurn = 0\n",
    "df['Churn'] = [1 if i == 'churn' else 0 for i in df[\"Churn\"]]"
   ]
  },
  {
   "cell_type": "code",
   "execution_count": 180,
   "id": "2b3da91c",
   "metadata": {},
   "outputs": [],
   "source": [
    "#yes = 1, no = 0\n",
    "df['Longevity'] = [1 if i == 'yes' else 0 for i in df[\"Longevity\"]]"
   ]
  },
  {
   "cell_type": "code",
   "execution_count": 181,
   "id": "c9cf2327",
   "metadata": {},
   "outputs": [],
   "source": [
    "#business = 1, leisure = 0\n",
    "df['TypeTravel'] = [1 if i == 'business' else 0 for i in df[\"TypeTravel\"]]"
   ]
  },
  {
   "cell_type": "code",
   "execution_count": 182,
   "id": "93999dfd",
   "metadata": {},
   "outputs": [
    {
     "data": {
      "text/html": [
       "<div>\n",
       "<style scoped>\n",
       "    .dataframe tbody tr th:only-of-type {\n",
       "        vertical-align: middle;\n",
       "    }\n",
       "\n",
       "    .dataframe tbody tr th {\n",
       "        vertical-align: top;\n",
       "    }\n",
       "\n",
       "    .dataframe thead th {\n",
       "        text-align: right;\n",
       "    }\n",
       "</style>\n",
       "<table border=\"1\" class=\"dataframe\">\n",
       "  <thead>\n",
       "    <tr style=\"text-align: right;\">\n",
       "      <th></th>\n",
       "      <th>Churn</th>\n",
       "      <th>Longevity</th>\n",
       "      <th>TypeTravel</th>\n",
       "      <th>RewardPoints</th>\n",
       "      <th>Comfort</th>\n",
       "      <th>ReceptionSchedule</th>\n",
       "      <th>FoodDrink</th>\n",
       "      <th>Location</th>\n",
       "      <th>Wifi</th>\n",
       "      <th>Amenities</th>\n",
       "      <th>...</th>\n",
       "      <th>PriceQuality</th>\n",
       "      <th>RoomSpace</th>\n",
       "      <th>CheckOut</th>\n",
       "      <th>Checkin</th>\n",
       "      <th>Cleanliness</th>\n",
       "      <th>BarService</th>\n",
       "      <th>Gender</th>\n",
       "      <th>Age</th>\n",
       "      <th>RoomType_single</th>\n",
       "      <th>RoomType_suite</th>\n",
       "    </tr>\n",
       "  </thead>\n",
       "  <tbody>\n",
       "    <tr>\n",
       "      <th>0</th>\n",
       "      <td>1</td>\n",
       "      <td>1</td>\n",
       "      <td>1</td>\n",
       "      <td>4907</td>\n",
       "      <td>3</td>\n",
       "      <td>4</td>\n",
       "      <td>1</td>\n",
       "      <td>4</td>\n",
       "      <td>4</td>\n",
       "      <td>3</td>\n",
       "      <td>...</td>\n",
       "      <td>3</td>\n",
       "      <td>3</td>\n",
       "      <td>3</td>\n",
       "      <td>4</td>\n",
       "      <td>3</td>\n",
       "      <td>4</td>\n",
       "      <td>0</td>\n",
       "      <td>48</td>\n",
       "      <td>1</td>\n",
       "      <td>0</td>\n",
       "    </tr>\n",
       "    <tr>\n",
       "      <th>1</th>\n",
       "      <td>0</td>\n",
       "      <td>1</td>\n",
       "      <td>1</td>\n",
       "      <td>6724</td>\n",
       "      <td>1</td>\n",
       "      <td>1</td>\n",
       "      <td>1</td>\n",
       "      <td>1</td>\n",
       "      <td>5</td>\n",
       "      <td>3</td>\n",
       "      <td>...</td>\n",
       "      <td>5</td>\n",
       "      <td>5</td>\n",
       "      <td>5</td>\n",
       "      <td>1</td>\n",
       "      <td>5</td>\n",
       "      <td>2</td>\n",
       "      <td>1</td>\n",
       "      <td>57</td>\n",
       "      <td>1</td>\n",
       "      <td>0</td>\n",
       "    </tr>\n",
       "    <tr>\n",
       "      <th>2</th>\n",
       "      <td>1</td>\n",
       "      <td>1</td>\n",
       "      <td>1</td>\n",
       "      <td>4365</td>\n",
       "      <td>3</td>\n",
       "      <td>3</td>\n",
       "      <td>3</td>\n",
       "      <td>3</td>\n",
       "      <td>1</td>\n",
       "      <td>4</td>\n",
       "      <td>...</td>\n",
       "      <td>3</td>\n",
       "      <td>2</td>\n",
       "      <td>3</td>\n",
       "      <td>2</td>\n",
       "      <td>3</td>\n",
       "      <td>1</td>\n",
       "      <td>1</td>\n",
       "      <td>49</td>\n",
       "      <td>1</td>\n",
       "      <td>0</td>\n",
       "    </tr>\n",
       "    <tr>\n",
       "      <th>3</th>\n",
       "      <td>0</td>\n",
       "      <td>1</td>\n",
       "      <td>0</td>\n",
       "      <td>3849</td>\n",
       "      <td>1</td>\n",
       "      <td>1</td>\n",
       "      <td>1</td>\n",
       "      <td>1</td>\n",
       "      <td>4</td>\n",
       "      <td>4</td>\n",
       "      <td>...</td>\n",
       "      <td>4</td>\n",
       "      <td>4</td>\n",
       "      <td>4</td>\n",
       "      <td>4</td>\n",
       "      <td>4</td>\n",
       "      <td>3</td>\n",
       "      <td>0</td>\n",
       "      <td>29</td>\n",
       "      <td>0</td>\n",
       "      <td>0</td>\n",
       "    </tr>\n",
       "    <tr>\n",
       "      <th>4</th>\n",
       "      <td>0</td>\n",
       "      <td>1</td>\n",
       "      <td>1</td>\n",
       "      <td>5376</td>\n",
       "      <td>2</td>\n",
       "      <td>2</td>\n",
       "      <td>3</td>\n",
       "      <td>2</td>\n",
       "      <td>5</td>\n",
       "      <td>5</td>\n",
       "      <td>...</td>\n",
       "      <td>5</td>\n",
       "      <td>3</td>\n",
       "      <td>4</td>\n",
       "      <td>1</td>\n",
       "      <td>3</td>\n",
       "      <td>5</td>\n",
       "      <td>1</td>\n",
       "      <td>33</td>\n",
       "      <td>1</td>\n",
       "      <td>0</td>\n",
       "    </tr>\n",
       "    <tr>\n",
       "      <th>...</th>\n",
       "      <td>...</td>\n",
       "      <td>...</td>\n",
       "      <td>...</td>\n",
       "      <td>...</td>\n",
       "      <td>...</td>\n",
       "      <td>...</td>\n",
       "      <td>...</td>\n",
       "      <td>...</td>\n",
       "      <td>...</td>\n",
       "      <td>...</td>\n",
       "      <td>...</td>\n",
       "      <td>...</td>\n",
       "      <td>...</td>\n",
       "      <td>...</td>\n",
       "      <td>...</td>\n",
       "      <td>...</td>\n",
       "      <td>...</td>\n",
       "      <td>...</td>\n",
       "      <td>...</td>\n",
       "      <td>...</td>\n",
       "      <td>...</td>\n",
       "    </tr>\n",
       "    <tr>\n",
       "      <th>15584</th>\n",
       "      <td>1</td>\n",
       "      <td>0</td>\n",
       "      <td>1</td>\n",
       "      <td>4968</td>\n",
       "      <td>2</td>\n",
       "      <td>0</td>\n",
       "      <td>2</td>\n",
       "      <td>2</td>\n",
       "      <td>3</td>\n",
       "      <td>2</td>\n",
       "      <td>...</td>\n",
       "      <td>4</td>\n",
       "      <td>5</td>\n",
       "      <td>1</td>\n",
       "      <td>3</td>\n",
       "      <td>4</td>\n",
       "      <td>3</td>\n",
       "      <td>0</td>\n",
       "      <td>34</td>\n",
       "      <td>0</td>\n",
       "      <td>0</td>\n",
       "    </tr>\n",
       "    <tr>\n",
       "      <th>15585</th>\n",
       "      <td>1</td>\n",
       "      <td>0</td>\n",
       "      <td>1</td>\n",
       "      <td>4970</td>\n",
       "      <td>3</td>\n",
       "      <td>3</td>\n",
       "      <td>3</td>\n",
       "      <td>3</td>\n",
       "      <td>5</td>\n",
       "      <td>3</td>\n",
       "      <td>...</td>\n",
       "      <td>3</td>\n",
       "      <td>1</td>\n",
       "      <td>3</td>\n",
       "      <td>4</td>\n",
       "      <td>4</td>\n",
       "      <td>5</td>\n",
       "      <td>0</td>\n",
       "      <td>22</td>\n",
       "      <td>0</td>\n",
       "      <td>0</td>\n",
       "    </tr>\n",
       "    <tr>\n",
       "      <th>15586</th>\n",
       "      <td>0</td>\n",
       "      <td>1</td>\n",
       "      <td>1</td>\n",
       "      <td>4046</td>\n",
       "      <td>1</td>\n",
       "      <td>1</td>\n",
       "      <td>1</td>\n",
       "      <td>1</td>\n",
       "      <td>3</td>\n",
       "      <td>4</td>\n",
       "      <td>...</td>\n",
       "      <td>4</td>\n",
       "      <td>4</td>\n",
       "      <td>4</td>\n",
       "      <td>5</td>\n",
       "      <td>4</td>\n",
       "      <td>4</td>\n",
       "      <td>1</td>\n",
       "      <td>58</td>\n",
       "      <td>1</td>\n",
       "      <td>0</td>\n",
       "    </tr>\n",
       "    <tr>\n",
       "      <th>15587</th>\n",
       "      <td>0</td>\n",
       "      <td>1</td>\n",
       "      <td>0</td>\n",
       "      <td>5155</td>\n",
       "      <td>4</td>\n",
       "      <td>3</td>\n",
       "      <td>4</td>\n",
       "      <td>4</td>\n",
       "      <td>5</td>\n",
       "      <td>4</td>\n",
       "      <td>...</td>\n",
       "      <td>2</td>\n",
       "      <td>5</td>\n",
       "      <td>4</td>\n",
       "      <td>3</td>\n",
       "      <td>4</td>\n",
       "      <td>5</td>\n",
       "      <td>1</td>\n",
       "      <td>30</td>\n",
       "      <td>0</td>\n",
       "      <td>0</td>\n",
       "    </tr>\n",
       "    <tr>\n",
       "      <th>15588</th>\n",
       "      <td>1</td>\n",
       "      <td>1</td>\n",
       "      <td>1</td>\n",
       "      <td>5136</td>\n",
       "      <td>3</td>\n",
       "      <td>3</td>\n",
       "      <td>3</td>\n",
       "      <td>3</td>\n",
       "      <td>3</td>\n",
       "      <td>3</td>\n",
       "      <td>...</td>\n",
       "      <td>4</td>\n",
       "      <td>5</td>\n",
       "      <td>4</td>\n",
       "      <td>1</td>\n",
       "      <td>3</td>\n",
       "      <td>3</td>\n",
       "      <td>1</td>\n",
       "      <td>39</td>\n",
       "      <td>0</td>\n",
       "      <td>1</td>\n",
       "    </tr>\n",
       "  </tbody>\n",
       "</table>\n",
       "<p>15294 rows × 22 columns</p>\n",
       "</div>"
      ],
      "text/plain": [
       "       Churn  Longevity  TypeTravel  RewardPoints  Comfort  ReceptionSchedule  \\\n",
       "0          1          1           1          4907        3                  4   \n",
       "1          0          1           1          6724        1                  1   \n",
       "2          1          1           1          4365        3                  3   \n",
       "3          0          1           0          3849        1                  1   \n",
       "4          0          1           1          5376        2                  2   \n",
       "...      ...        ...         ...           ...      ...                ...   \n",
       "15584      1          0           1          4968        2                  0   \n",
       "15585      1          0           1          4970        3                  3   \n",
       "15586      0          1           1          4046        1                  1   \n",
       "15587      0          1           0          5155        4                  3   \n",
       "15588      1          1           1          5136        3                  3   \n",
       "\n",
       "       FoodDrink  Location  Wifi  Amenities  ...  PriceQuality  RoomSpace  \\\n",
       "0              1         4     4          3  ...             3          3   \n",
       "1              1         1     5          3  ...             5          5   \n",
       "2              3         3     1          4  ...             3          2   \n",
       "3              1         1     4          4  ...             4          4   \n",
       "4              3         2     5          5  ...             5          3   \n",
       "...          ...       ...   ...        ...  ...           ...        ...   \n",
       "15584          2         2     3          2  ...             4          5   \n",
       "15585          3         3     5          3  ...             3          1   \n",
       "15586          1         1     3          4  ...             4          4   \n",
       "15587          4         4     5          4  ...             2          5   \n",
       "15588          3         3     3          3  ...             4          5   \n",
       "\n",
       "       CheckOut  Checkin  Cleanliness  BarService  Gender  Age  \\\n",
       "0             3        4            3           4       0   48   \n",
       "1             5        1            5           2       1   57   \n",
       "2             3        2            3           1       1   49   \n",
       "3             4        4            4           3       0   29   \n",
       "4             4        1            3           5       1   33   \n",
       "...         ...      ...          ...         ...     ...  ...   \n",
       "15584         1        3            4           3       0   34   \n",
       "15585         3        4            4           5       0   22   \n",
       "15586         4        5            4           4       1   58   \n",
       "15587         4        3            4           5       1   30   \n",
       "15588         4        1            3           3       1   39   \n",
       "\n",
       "       RoomType_single  RoomType_suite  \n",
       "0                    1               0  \n",
       "1                    1               0  \n",
       "2                    1               0  \n",
       "3                    0               0  \n",
       "4                    1               0  \n",
       "...                ...             ...  \n",
       "15584                0               0  \n",
       "15585                0               0  \n",
       "15586                1               0  \n",
       "15587                0               0  \n",
       "15588                0               1  \n",
       "\n",
       "[15294 rows x 22 columns]"
      ]
     },
     "execution_count": 182,
     "metadata": {},
     "output_type": "execute_result"
    }
   ],
   "source": [
    "df = pd.get_dummies(df, drop_first = True)\n",
    "df"
   ]
  },
  {
   "cell_type": "markdown",
   "id": "db5b5757",
   "metadata": {},
   "source": [
    "#### 1.9 Normalizing variables"
   ]
  },
  {
   "cell_type": "markdown",
   "id": "b48b9663",
   "metadata": {},
   "source": [
    "Because the variable 'RewardPoints' is in a scale that is very different from the rest, we decided to normalize the dataframe"
   ]
  },
  {
   "cell_type": "code",
   "execution_count": 250,
   "id": "cd8e32d7",
   "metadata": {},
   "outputs": [],
   "source": [
    "#scaler = MinMaxScaler()\n",
    "from sklearn.preprocessing import StandardScaler\n",
    "scaler = StandardScaler()\n",
    "df_normalized = pd.DataFrame(scaler.fit_transform(df), columns = df.columns)\n"
   ]
  },
  {
   "cell_type": "code",
   "execution_count": 251,
   "id": "1a4695ff",
   "metadata": {},
   "outputs": [
    {
     "data": {
      "text/html": [
       "<div>\n",
       "<style scoped>\n",
       "    .dataframe tbody tr th:only-of-type {\n",
       "        vertical-align: middle;\n",
       "    }\n",
       "\n",
       "    .dataframe tbody tr th {\n",
       "        vertical-align: top;\n",
       "    }\n",
       "\n",
       "    .dataframe thead th {\n",
       "        text-align: right;\n",
       "    }\n",
       "</style>\n",
       "<table border=\"1\" class=\"dataframe\">\n",
       "  <thead>\n",
       "    <tr style=\"text-align: right;\">\n",
       "      <th></th>\n",
       "      <th>Churn</th>\n",
       "      <th>Longevity</th>\n",
       "      <th>TypeTravel</th>\n",
       "      <th>RewardPoints</th>\n",
       "      <th>Comfort</th>\n",
       "      <th>ReceptionSchedule</th>\n",
       "      <th>FoodDrink</th>\n",
       "      <th>Location</th>\n",
       "      <th>Wifi</th>\n",
       "      <th>Amenities</th>\n",
       "      <th>...</th>\n",
       "      <th>PriceQuality</th>\n",
       "      <th>RoomSpace</th>\n",
       "      <th>CheckOut</th>\n",
       "      <th>Checkin</th>\n",
       "      <th>Cleanliness</th>\n",
       "      <th>BarService</th>\n",
       "      <th>Gender</th>\n",
       "      <th>Age</th>\n",
       "      <th>RoomType_single</th>\n",
       "      <th>RoomType_suite</th>\n",
       "    </tr>\n",
       "  </thead>\n",
       "  <tbody>\n",
       "    <tr>\n",
       "      <th>0</th>\n",
       "      <td>1.088225</td>\n",
       "      <td>0.480526</td>\n",
       "      <td>0.678371</td>\n",
       "      <td>-0.179120</td>\n",
       "      <td>0.111340</td>\n",
       "      <td>0.659378</td>\n",
       "      <td>-1.282046</td>\n",
       "      <td>0.781583</td>\n",
       "      <td>0.575899</td>\n",
       "      <td>-0.274676</td>\n",
       "      <td>...</td>\n",
       "      <td>-0.366359</td>\n",
       "      <td>-0.367210</td>\n",
       "      <td>-0.603975</td>\n",
       "      <td>0.529825</td>\n",
       "      <td>-0.603038</td>\n",
       "      <td>0.504413</td>\n",
       "      <td>-0.976349</td>\n",
       "      <td>0.495312</td>\n",
       "      <td>1.065009</td>\n",
       "      <td>-0.281507</td>\n",
       "    </tr>\n",
       "    <tr>\n",
       "      <th>1</th>\n",
       "      <td>-0.918928</td>\n",
       "      <td>0.480526</td>\n",
       "      <td>0.678371</td>\n",
       "      <td>1.727438</td>\n",
       "      <td>-1.328083</td>\n",
       "      <td>-1.313339</td>\n",
       "      <td>-1.282046</td>\n",
       "      <td>-1.529469</td>\n",
       "      <td>1.331544</td>\n",
       "      <td>-0.274676</td>\n",
       "      <td>...</td>\n",
       "      <td>1.211310</td>\n",
       "      <td>1.179503</td>\n",
       "      <td>1.120831</td>\n",
       "      <td>-1.839978</td>\n",
       "      <td>1.131561</td>\n",
       "      <td>-1.033104</td>\n",
       "      <td>1.024224</td>\n",
       "      <td>1.089588</td>\n",
       "      <td>1.065009</td>\n",
       "      <td>-0.281507</td>\n",
       "    </tr>\n",
       "    <tr>\n",
       "      <th>2</th>\n",
       "      <td>1.088225</td>\n",
       "      <td>0.480526</td>\n",
       "      <td>0.678371</td>\n",
       "      <td>-0.747835</td>\n",
       "      <td>0.111340</td>\n",
       "      <td>0.001806</td>\n",
       "      <td>0.109947</td>\n",
       "      <td>0.011232</td>\n",
       "      <td>-1.691036</td>\n",
       "      <td>0.463878</td>\n",
       "      <td>...</td>\n",
       "      <td>-0.366359</td>\n",
       "      <td>-1.140567</td>\n",
       "      <td>-0.603975</td>\n",
       "      <td>-1.050044</td>\n",
       "      <td>-0.603038</td>\n",
       "      <td>-1.801862</td>\n",
       "      <td>1.024224</td>\n",
       "      <td>0.561342</td>\n",
       "      <td>1.065009</td>\n",
       "      <td>-0.281507</td>\n",
       "    </tr>\n",
       "    <tr>\n",
       "      <th>3</th>\n",
       "      <td>-0.918928</td>\n",
       "      <td>0.480526</td>\n",
       "      <td>-1.474120</td>\n",
       "      <td>-1.289268</td>\n",
       "      <td>-1.328083</td>\n",
       "      <td>-1.313339</td>\n",
       "      <td>-1.282046</td>\n",
       "      <td>-1.529469</td>\n",
       "      <td>0.575899</td>\n",
       "      <td>0.463878</td>\n",
       "      <td>...</td>\n",
       "      <td>0.422476</td>\n",
       "      <td>0.406146</td>\n",
       "      <td>0.258428</td>\n",
       "      <td>0.529825</td>\n",
       "      <td>0.264262</td>\n",
       "      <td>-0.264345</td>\n",
       "      <td>-0.976349</td>\n",
       "      <td>-0.759270</td>\n",
       "      <td>-0.938959</td>\n",
       "      <td>-0.281507</td>\n",
       "    </tr>\n",
       "    <tr>\n",
       "      <th>4</th>\n",
       "      <td>-0.918928</td>\n",
       "      <td>0.480526</td>\n",
       "      <td>0.678371</td>\n",
       "      <td>0.312997</td>\n",
       "      <td>-0.608371</td>\n",
       "      <td>-0.655767</td>\n",
       "      <td>0.109947</td>\n",
       "      <td>-0.759119</td>\n",
       "      <td>1.331544</td>\n",
       "      <td>1.202433</td>\n",
       "      <td>...</td>\n",
       "      <td>1.211310</td>\n",
       "      <td>-0.367210</td>\n",
       "      <td>0.258428</td>\n",
       "      <td>-1.839978</td>\n",
       "      <td>-0.603038</td>\n",
       "      <td>1.273171</td>\n",
       "      <td>1.024224</td>\n",
       "      <td>-0.495148</td>\n",
       "      <td>1.065009</td>\n",
       "      <td>-0.281507</td>\n",
       "    </tr>\n",
       "  </tbody>\n",
       "</table>\n",
       "<p>5 rows × 22 columns</p>\n",
       "</div>"
      ],
      "text/plain": [
       "      Churn  Longevity  TypeTravel  RewardPoints   Comfort  ReceptionSchedule  \\\n",
       "0  1.088225   0.480526    0.678371     -0.179120  0.111340           0.659378   \n",
       "1 -0.918928   0.480526    0.678371      1.727438 -1.328083          -1.313339   \n",
       "2  1.088225   0.480526    0.678371     -0.747835  0.111340           0.001806   \n",
       "3 -0.918928   0.480526   -1.474120     -1.289268 -1.328083          -1.313339   \n",
       "4 -0.918928   0.480526    0.678371      0.312997 -0.608371          -0.655767   \n",
       "\n",
       "   FoodDrink  Location      Wifi  Amenities  ...  PriceQuality  RoomSpace  \\\n",
       "0  -1.282046  0.781583  0.575899  -0.274676  ...     -0.366359  -0.367210   \n",
       "1  -1.282046 -1.529469  1.331544  -0.274676  ...      1.211310   1.179503   \n",
       "2   0.109947  0.011232 -1.691036   0.463878  ...     -0.366359  -1.140567   \n",
       "3  -1.282046 -1.529469  0.575899   0.463878  ...      0.422476   0.406146   \n",
       "4   0.109947 -0.759119  1.331544   1.202433  ...      1.211310  -0.367210   \n",
       "\n",
       "   CheckOut   Checkin  Cleanliness  BarService    Gender       Age  \\\n",
       "0 -0.603975  0.529825    -0.603038    0.504413 -0.976349  0.495312   \n",
       "1  1.120831 -1.839978     1.131561   -1.033104  1.024224  1.089588   \n",
       "2 -0.603975 -1.050044    -0.603038   -1.801862  1.024224  0.561342   \n",
       "3  0.258428  0.529825     0.264262   -0.264345 -0.976349 -0.759270   \n",
       "4  0.258428 -1.839978    -0.603038    1.273171  1.024224 -0.495148   \n",
       "\n",
       "   RoomType_single  RoomType_suite  \n",
       "0         1.065009       -0.281507  \n",
       "1         1.065009       -0.281507  \n",
       "2         1.065009       -0.281507  \n",
       "3        -0.938959       -0.281507  \n",
       "4         1.065009       -0.281507  \n",
       "\n",
       "[5 rows x 22 columns]"
      ]
     },
     "execution_count": 251,
     "metadata": {},
     "output_type": "execute_result"
    }
   ],
   "source": [
    "df_normalized.head()"
   ]
  },
  {
   "cell_type": "markdown",
   "id": "48c01c12",
   "metadata": {},
   "source": [
    "# TODO CREATE RATING NORMALIZATION BY HAND"
   ]
  },
  {
   "cell_type": "markdown",
   "id": "837e8277",
   "metadata": {},
   "source": [
    "#### 1.10 Correlation Matrix"
   ]
  },
  {
   "cell_type": "code",
   "execution_count": 185,
   "id": "50188975",
   "metadata": {},
   "outputs": [
    {
     "data": {
      "text/plain": [
       "<AxesSubplot:>"
      ]
     },
     "execution_count": 185,
     "metadata": {},
     "output_type": "execute_result"
    },
    {
     "data": {
      "image/png": "[encoded data removed]",
      "text/plain": [
       "<Figure size 1152x720 with 2 Axes>"
      ]
     },
     "metadata": {
      "needs_background": "light"
     },
     "output_type": "display_data"
    }
   ],
   "source": [
    "df_corr = df.corr(method = 'spearman')\n",
    "figure = plt.figure(figsize=(16,10))\n",
    "sns.heatmap(df_corr, annot=True, fmt = '.1g')"
   ]
  },
  {
   "cell_type": "markdown",
   "id": "873fb954",
   "metadata": {},
   "source": [
    "### First try DBSCAN https://machinelearningknowledge.ai/tutorial-for-dbscan-clustering-in-python-sklearn/"
   ]
  },
  {
   "cell_type": "code",
   "execution_count": 252,
   "id": "d7208cee",
   "metadata": {},
   "outputs": [],
   "source": [
    "minPts = len(df_normalized.columns) + 1"
   ]
  },
  {
   "cell_type": "code",
   "execution_count": 253,
   "id": "81febb7c",
   "metadata": {},
   "outputs": [],
   "source": [
    "import pandas as pd\n",
    "import numpy as np\n",
    "from sklearn.datasets import make_moons\n",
    "import matplotlib.pyplot as plt\n",
    "import seaborn as sns\n",
    "from sklearn.cluster import DBSCAN\n",
    "from sklearn.metrics import silhouette_score\n",
    "from sklearn.metrics import v_measure_score"
   ]
  },
  {
   "cell_type": "code",
   "execution_count": 254,
   "id": "2c271acf",
   "metadata": {},
   "outputs": [
    {
     "data": {
      "text/plain": [
       "DBSCAN(eps=0.1, min_samples=8)"
      ]
     },
     "execution_count": 254,
     "metadata": {},
     "output_type": "execute_result"
    }
   ],
   "source": [
    "dbscan_cluster1 = DBSCAN(eps=0.1, min_samples=8)\n",
    "dbscan_cluster1.fit(df_normalized)"
   ]
  },
  {
   "cell_type": "code",
   "execution_count": 255,
   "id": "5f5a5168",
   "metadata": {},
   "outputs": [
    {
     "data": {
      "text/plain": [
       "array([-1, -1, -1, ..., -1, -1, -1], dtype=int64)"
      ]
     },
     "execution_count": 255,
     "metadata": {},
     "output_type": "execute_result"
    }
   ],
   "source": [
    "dbscan_cluster1.labels_"
   ]
  },
  {
   "cell_type": "code",
   "execution_count": 258,
   "id": "dfaf2979",
   "metadata": {},
   "outputs": [
    {
     "name": "stdout",
     "output_type": "stream",
     "text": [
      "Estimated no. of clusters: 0\n"
     ]
    }
   ],
   "source": [
    "# Number of Clusters\n",
    "labels=dbscan_cluster1.labels_\n",
    "N_clus=len(set(labels))-(1 if -1 in labels else 0)\n",
    "print('Estimated no. of clusters: %d' % N_clus)"
   ]
  },
  {
   "cell_type": "code",
   "execution_count": 259,
   "id": "315ecc3d",
   "metadata": {
    "scrolled": true
   },
   "outputs": [
    {
     "name": "stdout",
     "output_type": "stream",
     "text": [
      "Estimated no. of noise points: 15294\n"
     ]
    }
   ],
   "source": [
    "# Identify Noise\n",
    "n_noise = list(dbscan_cluster1.labels_).count(-1)\n",
    "print('Estimated no. of noise points: %d' % n_noise)"
   ]
  },
  {
   "cell_type": "markdown",
   "id": "1d2fe471",
   "metadata": {},
   "source": [
    "Finding the Optimal value of Epsilon\n",
    "Rather than experimenting with different values of epsilon, we can use the elbow point detection method to arrive at a suitable value of epsilon.\n",
    "\n",
    "In this approach, the average distance between each point and its k nearest neighbors is calculated where k = the MinPts selected by us. We then plot the average k-distances in ascending order on a k-distance graph\n",
    "\n",
    "The optimal value for epsilon is the point with maximum curvature or bend, i.e. at the greatest slope.\n",
    "\n",
    "Let us implement this technique below and generate a graph."
   ]
  },
  {
   "cell_type": "code",
   "execution_count": 260,
   "id": "33425c18",
   "metadata": {},
   "outputs": [
    {
     "data": {
      "text/plain": [
       "Text(0, 0.5, 'Distance')"
      ]
     },
     "execution_count": 260,
     "metadata": {},
     "output_type": "execute_result"
    },
    {
     "data": {
      "image/png": "[encoded data removed]",
      "text/plain": [
       "<Figure size 360x360 with 1 Axes>"
      ]
     },
     "metadata": {
      "needs_background": "light"
     },
     "output_type": "display_data"
    }
   ],
   "source": [
    "from sklearn.neighbors import NearestNeighbors\n",
    "\n",
    "nearest_neighbors = NearestNeighbors(n_neighbors=11)\n",
    "neighbors = nearest_neighbors.fit(df_normalized)\n",
    "\n",
    "distances, indices = neighbors.kneighbors(df_normalized)\n",
    "distances = np.sort(distances[:,10], axis=0)\n",
    "\n",
    "fig = plt.figure(figsize=(5, 5))\n",
    "plt.plot(distances)\n",
    "plt.xlabel(\"Points\")\n",
    "plt.ylabel(\"Distance\")"
   ]
  },
  {
   "cell_type": "code",
   "execution_count": 261,
   "id": "d9a7cca6",
   "metadata": {},
   "outputs": [
    {
     "name": "stdout",
     "output_type": "stream",
     "text": [
      "3.3392481792599606\n"
     ]
    },
    {
     "data": {
      "text/plain": [
       "<Figure size 360x360 with 0 Axes>"
      ]
     },
     "metadata": {},
     "output_type": "display_data"
    },
    {
     "data": {
      "image/png": "[encoded data removed]",
      "text/plain": [
       "<Figure size 432x432 with 1 Axes>"
      ]
     },
     "metadata": {
      "needs_background": "light"
     },
     "output_type": "display_data"
    }
   ],
   "source": [
    "from kneed import KneeLocator\n",
    "\n",
    "i = np.arange(len(distances))\n",
    "knee = KneeLocator(i, distances, S=1, curve='convex', direction='increasing', interp_method='polynomial')\n",
    "\n",
    "fig = plt.figure(figsize=(5, 5))\n",
    "knee.plot_knee()\n",
    "plt.xlabel(\"Points\")\n",
    "plt.ylabel(\"Distance\")\n",
    "\n",
    "print(distances[knee.knee])"
   ]
  },
  {
   "cell_type": "code",
   "execution_count": 307,
   "id": "ba78c6bd",
   "metadata": {},
   "outputs": [
    {
     "data": {
      "text/plain": [
       "DBSCAN(eps=3.3392481792599606, min_samples=28)"
      ]
     },
     "execution_count": 307,
     "metadata": {},
     "output_type": "execute_result"
    }
   ],
   "source": [
    "dbscan_cluster1 = DBSCAN(eps=3.3392481792599606, min_samples=minPts + 5)\n",
    "dbscan_cluster1.fit(df_normalized)"
   ]
  },
  {
   "cell_type": "code",
   "execution_count": 308,
   "id": "3680ced7",
   "metadata": {},
   "outputs": [
    {
     "name": "stdout",
     "output_type": "stream",
     "text": [
      "Estimated no. of clusters: 3\n"
     ]
    }
   ],
   "source": [
    "# Number of Clusters\n",
    "labels=dbscan_cluster1.labels_\n",
    "N_clus=len(set(labels))-(1 if -1 in labels else 0)\n",
    "print('Estimated no. of clusters: %d' % N_clus)"
   ]
  },
  {
   "cell_type": "code",
   "execution_count": 309,
   "id": "99d34481",
   "metadata": {},
   "outputs": [
    {
     "data": {
      "text/plain": [
       "array([0, 0, 0, ..., 0, 0, 1], dtype=int64)"
      ]
     },
     "execution_count": 309,
     "metadata": {},
     "output_type": "execute_result"
    }
   ],
   "source": [
    "dbscan_cluster1.labels_"
   ]
  },
  {
   "cell_type": "code",
   "execution_count": 310,
   "id": "e7f1b7d9",
   "metadata": {},
   "outputs": [
    {
     "name": "stdout",
     "output_type": "stream",
     "text": [
      "Estimated no. of noise points: 904\n"
     ]
    }
   ],
   "source": [
    "# Identify Noise\n",
    "n_noise = list(dbscan_cluster1.labels_).count(-1)\n",
    "print('Estimated no. of noise points: %d' % n_noise)"
   ]
  },
  {
   "cell_type": "code",
   "execution_count": 306,
   "id": "ca61bcf0",
   "metadata": {},
   "outputs": [
    {
     "data": {
      "text/html": [
       "<div>\n",
       "<style scoped>\n",
       "    .dataframe tbody tr th:only-of-type {\n",
       "        vertical-align: middle;\n",
       "    }\n",
       "\n",
       "    .dataframe tbody tr th {\n",
       "        vertical-align: top;\n",
       "    }\n",
       "\n",
       "    .dataframe thead th {\n",
       "        text-align: right;\n",
       "    }\n",
       "</style>\n",
       "<table border=\"1\" class=\"dataframe\">\n",
       "  <thead>\n",
       "    <tr style=\"text-align: right;\">\n",
       "      <th></th>\n",
       "      <th>pc1</th>\n",
       "      <th>pc2</th>\n",
       "    </tr>\n",
       "  </thead>\n",
       "  <tbody>\n",
       "    <tr>\n",
       "      <th>15289</th>\n",
       "      <td>1.689962</td>\n",
       "      <td>1.891687</td>\n",
       "    </tr>\n",
       "    <tr>\n",
       "      <th>15290</th>\n",
       "      <td>-0.156656</td>\n",
       "      <td>0.548633</td>\n",
       "    </tr>\n",
       "    <tr>\n",
       "      <th>15291</th>\n",
       "      <td>-1.298591</td>\n",
       "      <td>3.062235</td>\n",
       "    </tr>\n",
       "    <tr>\n",
       "      <th>15292</th>\n",
       "      <td>-2.095884</td>\n",
       "      <td>-0.802588</td>\n",
       "    </tr>\n",
       "    <tr>\n",
       "      <th>15293</th>\n",
       "      <td>1.150173</td>\n",
       "      <td>-0.526375</td>\n",
       "    </tr>\n",
       "  </tbody>\n",
       "</table>\n",
       "</div>"
      ],
      "text/plain": [
       "            pc1       pc2\n",
       "15289  1.689962  1.891687\n",
       "15290 -0.156656  0.548633\n",
       "15291 -1.298591  3.062235\n",
       "15292 -2.095884 -0.802588\n",
       "15293  1.150173 -0.526375"
      ]
     },
     "execution_count": 306,
     "metadata": {},
     "output_type": "execute_result"
    }
   ],
   "source": [
    "from sklearn.decomposition import PCA\n",
    "pca_breast = PCA(n_components=2)\n",
    "principalComponents_breast = pca_breast.fit_transform(df_normalized)\n",
    "principal_breast_Df = pd.DataFrame(data = principalComponents_breast\n",
    "             , columns = ['pc1', 'pc2'])\n",
    "principal_breast_Df.tail()"
   ]
  },
  {
   "cell_type": "code",
   "execution_count": 223,
   "id": "1864f3d5",
   "metadata": {},
   "outputs": [
    {
     "name": "stdout",
     "output_type": "stream",
     "text": [
      "Explained variation per principal component: [0.2109637  0.14189957]\n"
     ]
    }
   ],
   "source": [
    "print('Explained variation per principal component: {}'.format(pca_breast.explained_variance_ratio_))"
   ]
  },
  {
   "cell_type": "code",
   "execution_count": null,
   "id": "9384f086",
   "metadata": {},
   "outputs": [],
   "source": []
  },
  {
   "cell_type": "code",
   "execution_count": null,
   "id": "8d886ba0",
   "metadata": {},
   "outputs": [],
   "source": []
  },
  {
   "cell_type": "code",
   "execution_count": null,
   "id": "0af00cc5",
   "metadata": {},
   "outputs": [],
   "source": []
  },
  {
   "cell_type": "code",
   "execution_count": null,
   "id": "51e2aa85",
   "metadata": {},
   "outputs": [],
   "source": []
  },
  {
   "cell_type": "code",
   "execution_count": null,
   "id": "a1bdbf42",
   "metadata": {},
   "outputs": [],
   "source": [
    "'Comfort' 'Amenities'"
   ]
  },
  {
   "cell_type": "code",
   "execution_count": 122,
   "id": "d9927115",
   "metadata": {},
   "outputs": [
    {
     "data": {
      "text/plain": [
       "Index(['Comfort', 'ReceptionSchedule', 'FoodDrink', 'Location', 'Wifi',\n",
       "       'Amenities', 'Staff', 'OnlineBooking', 'PriceQuality', 'RoomSpace',\n",
       "       'CheckOut', 'Checkin', 'Cleanliness', 'BarService'],\n",
       "      dtype='object')"
      ]
     },
     "execution_count": 122,
     "metadata": {},
     "output_type": "execute_result"
    }
   ],
   "source": [
    "df.columns[5:-2]"
   ]
  },
  {
   "cell_type": "code",
   "execution_count": 114,
   "id": "a2a47501",
   "metadata": {},
   "outputs": [
    {
     "data": {
      "image/png": "[encoded data removed]",
      "text/plain": [
       "<Figure size 432x288 with 1 Axes>"
      ]
     },
     "metadata": {
      "needs_background": "light"
     },
     "output_type": "display_data"
    }
   ],
   "source": [
    "likert_questions = df.iloc[:,7:-1]\n",
    "question_means = likert_questions.mean(axis = 0)\n",
    "grand_mean = question_means.mean()\n",
    "sns.barplot(x=question_means.index, y=question_means.values, data=question_means)\n",
    "plt.ylim(1,5)\n",
    "plt.show()"
   ]
  },
  {
   "cell_type": "code",
   "execution_count": null,
   "id": "ce7030ed",
   "metadata": {},
   "outputs": [],
   "source": []
  },
  {
   "cell_type": "code",
   "execution_count": null,
   "id": "ecd24145",
   "metadata": {},
   "outputs": [],
   "source": []
  },
  {
   "cell_type": "code",
   "execution_count": null,
   "id": "a15fb6c7",
   "metadata": {},
   "outputs": [],
   "source": []
  },
  {
   "cell_type": "code",
   "execution_count": null,
   "id": "73716dff",
   "metadata": {},
   "outputs": [],
   "source": []
  },
  {
   "cell_type": "code",
   "execution_count": null,
   "id": "416bd3d9",
   "metadata": {},
   "outputs": [],
   "source": []
  },
  {
   "cell_type": "code",
   "execution_count": null,
   "id": "214a527b",
   "metadata": {},
   "outputs": [],
   "source": []
  },
  {
   "cell_type": "code",
   "execution_count": null,
   "id": "b25fd33c",
   "metadata": {},
   "outputs": [],
   "source": []
  },
  {
   "cell_type": "code",
   "execution_count": null,
   "id": "1eb7263f",
   "metadata": {},
   "outputs": [],
   "source": []
  },
  {
   "cell_type": "code",
   "execution_count": null,
   "id": "e45fd5dd",
   "metadata": {},
   "outputs": [],
   "source": []
  },
  {
   "cell_type": "code",
   "execution_count": null,
   "id": "ba2e62ea",
   "metadata": {},
   "outputs": [],
   "source": []
  },
  {
   "cell_type": "code",
   "execution_count": null,
   "id": "203c931f",
   "metadata": {},
   "outputs": [],
   "source": []
  },
  {
   "cell_type": "code",
   "execution_count": null,
   "id": "b816add3",
   "metadata": {},
   "outputs": [],
   "source": []
  },
  {
   "cell_type": "code",
   "execution_count": null,
   "id": "b6a83f89",
   "metadata": {},
   "outputs": [],
   "source": []
  },
  {
   "cell_type": "code",
   "execution_count": null,
   "id": "cd1581c0",
   "metadata": {},
   "outputs": [],
   "source": []
  },
  {
   "cell_type": "code",
   "execution_count": null,
   "id": "ee664766",
   "metadata": {},
   "outputs": [],
   "source": []
  }
 ],
 "metadata": {
  "kernelspec": {
   "display_name": "Python 3 (ipykernel)",
   "language": "python",
   "name": "python3"
  },
  "language_info": {
   "codemirror_mode": {
    "name": "ipython",
    "version": 3
   },
   "file_extension": ".py",
   "mimetype": "text/x-python",
   "name": "python",
   "nbconvert_exporter": "python",
   "pygments_lexer": "ipython3",
   "version": "3.9.7"
  }
 },
 "nbformat": 4,
 "nbformat_minor": 5
}
