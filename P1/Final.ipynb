{
 "cells": [
  {
   "cell_type": "markdown",
   "id": "5320828d",
   "metadata": {},
   "source": [
    "## DATA SCIENCE"
   ]
  },
  {
   "cell_type": "markdown",
   "id": "ff68bc13",
   "metadata": {},
   "source": [
    "Group 17\n",
    "\n",
    "Daniel Lucas  \n",
    "Ricardo Nobre  \n",
    "Ricardo Carvalho  \n",
    "Diogo Torneiro  \n",
    "Vasco Pombo  "
   ]
  },
  {
   "cell_type": "markdown",
   "id": "d4b1ea3b",
   "metadata": {},
   "source": [
    "### Imports"
   ]
  },
  {
   "cell_type": "code",
   "execution_count": 31,
   "id": "7d4ad0c0",
   "metadata": {},
   "outputs": [],
   "source": [
    "import pandas as pd\n",
    "import numpy as np\n",
    "import matplotlib.pyplot as plt\n",
    "import seaborn as sns\n",
    "from sklearn.preprocessing import MinMaxScaler\n",
    "from datetime import date\n",
    "\n",
    "import warnings\n",
    "warnings.filterwarnings(\"ignore\")"
   ]
  },
  {
   "cell_type": "markdown",
   "id": "07edf82a",
   "metadata": {},
   "source": [
    "### Importing Data"
   ]
  },
  {
   "cell_type": "code",
   "execution_count": 32,
   "id": "92cd50ad",
   "metadata": {},
   "outputs": [],
   "source": [
    "original_data = pd.read_csv('cluster.csv')"
   ]
  },
  {
   "cell_type": "code",
   "execution_count": 33,
   "id": "af8ff2e0",
   "metadata": {},
   "outputs": [],
   "source": [
    "df = original_data.copy()"
   ]
  },
  {
   "cell_type": "code",
   "execution_count": 34,
   "id": "e8f3c34d",
   "metadata": {},
   "outputs": [
    {
     "data": {
      "text/html": [
       "<div>\n",
       "<style scoped>\n",
       "    .dataframe tbody tr th:only-of-type {\n",
       "        vertical-align: middle;\n",
       "    }\n",
       "\n",
       "    .dataframe tbody tr th {\n",
       "        vertical-align: top;\n",
       "    }\n",
       "\n",
       "    .dataframe thead th {\n",
       "        text-align: right;\n",
       "    }\n",
       "</style>\n",
       "<table border=\"1\" class=\"dataframe\">\n",
       "  <thead>\n",
       "    <tr style=\"text-align: right;\">\n",
       "      <th></th>\n",
       "      <th>Churn</th>\n",
       "      <th>Name</th>\n",
       "      <th>Longevity</th>\n",
       "      <th>Year_Birth</th>\n",
       "      <th>TypeTravel</th>\n",
       "      <th>RoomType</th>\n",
       "      <th>RewardPoints</th>\n",
       "      <th>Comfort</th>\n",
       "      <th>ReceptionSchedule</th>\n",
       "      <th>FoodDrink</th>\n",
       "      <th>...</th>\n",
       "      <th>Wifi</th>\n",
       "      <th>Amenities</th>\n",
       "      <th>Staff</th>\n",
       "      <th>OnlineBooking</th>\n",
       "      <th>PriceQuality</th>\n",
       "      <th>RoomSpace</th>\n",
       "      <th>CheckOut</th>\n",
       "      <th>Checkin</th>\n",
       "      <th>Cleanliness</th>\n",
       "      <th>BarService</th>\n",
       "    </tr>\n",
       "  </thead>\n",
       "  <tbody>\n",
       "    <tr>\n",
       "      <th>0</th>\n",
       "      <td>churn</td>\n",
       "      <td>Ms. Nicole Clarke</td>\n",
       "      <td>yes</td>\n",
       "      <td>1974.0</td>\n",
       "      <td>business</td>\n",
       "      <td>single</td>\n",
       "      <td>4907</td>\n",
       "      <td>3</td>\n",
       "      <td>4</td>\n",
       "      <td>1</td>\n",
       "      <td>...</td>\n",
       "      <td>4</td>\n",
       "      <td>3</td>\n",
       "      <td>4</td>\n",
       "      <td>3</td>\n",
       "      <td>3</td>\n",
       "      <td>3</td>\n",
       "      <td>3</td>\n",
       "      <td>4</td>\n",
       "      <td>3</td>\n",
       "      <td>4</td>\n",
       "    </tr>\n",
       "    <tr>\n",
       "      <th>1</th>\n",
       "      <td>nochurn</td>\n",
       "      <td>Mr. Jesse Scott</td>\n",
       "      <td>yes</td>\n",
       "      <td>1965.0</td>\n",
       "      <td>business</td>\n",
       "      <td>single</td>\n",
       "      <td>6724</td>\n",
       "      <td>1</td>\n",
       "      <td>1</td>\n",
       "      <td>1</td>\n",
       "      <td>...</td>\n",
       "      <td>5</td>\n",
       "      <td>3</td>\n",
       "      <td>4</td>\n",
       "      <td>5</td>\n",
       "      <td>5</td>\n",
       "      <td>5</td>\n",
       "      <td>5</td>\n",
       "      <td>1</td>\n",
       "      <td>5</td>\n",
       "      <td>2</td>\n",
       "    </tr>\n",
       "    <tr>\n",
       "      <th>2</th>\n",
       "      <td>churn</td>\n",
       "      <td>Mr. Christopher Carter</td>\n",
       "      <td>yes</td>\n",
       "      <td>1973.0</td>\n",
       "      <td>business</td>\n",
       "      <td>single</td>\n",
       "      <td>4365</td>\n",
       "      <td>3</td>\n",
       "      <td>3</td>\n",
       "      <td>3</td>\n",
       "      <td>...</td>\n",
       "      <td>1</td>\n",
       "      <td>4</td>\n",
       "      <td>4</td>\n",
       "      <td>3</td>\n",
       "      <td>3</td>\n",
       "      <td>2</td>\n",
       "      <td>3</td>\n",
       "      <td>2</td>\n",
       "      <td>3</td>\n",
       "      <td>1</td>\n",
       "    </tr>\n",
       "    <tr>\n",
       "      <th>3</th>\n",
       "      <td>nochurn</td>\n",
       "      <td>Ms. Jennifer Morgan</td>\n",
       "      <td>yes</td>\n",
       "      <td>1993.0</td>\n",
       "      <td>leisure</td>\n",
       "      <td>double</td>\n",
       "      <td>3849</td>\n",
       "      <td>1</td>\n",
       "      <td>1</td>\n",
       "      <td>1</td>\n",
       "      <td>...</td>\n",
       "      <td>4</td>\n",
       "      <td>4</td>\n",
       "      <td>5</td>\n",
       "      <td>4</td>\n",
       "      <td>4</td>\n",
       "      <td>4</td>\n",
       "      <td>4</td>\n",
       "      <td>4</td>\n",
       "      <td>4</td>\n",
       "      <td>3</td>\n",
       "    </tr>\n",
       "    <tr>\n",
       "      <th>4</th>\n",
       "      <td>nochurn</td>\n",
       "      <td>Mr. Michael White</td>\n",
       "      <td>yes</td>\n",
       "      <td>1989.0</td>\n",
       "      <td>business</td>\n",
       "      <td>single</td>\n",
       "      <td>5376</td>\n",
       "      <td>2</td>\n",
       "      <td>2</td>\n",
       "      <td>3</td>\n",
       "      <td>...</td>\n",
       "      <td>5</td>\n",
       "      <td>5</td>\n",
       "      <td>5</td>\n",
       "      <td>5</td>\n",
       "      <td>5</td>\n",
       "      <td>3</td>\n",
       "      <td>4</td>\n",
       "      <td>1</td>\n",
       "      <td>3</td>\n",
       "      <td>5</td>\n",
       "    </tr>\n",
       "  </tbody>\n",
       "</table>\n",
       "<p>5 rows × 21 columns</p>\n",
       "</div>"
      ],
      "text/plain": [
       "     Churn                    Name Longevity  Year_Birth TypeTravel RoomType  \\\n",
       "0    churn       Ms. Nicole Clarke       yes      1974.0   business   single   \n",
       "1  nochurn         Mr. Jesse Scott       yes      1965.0   business   single   \n",
       "2    churn  Mr. Christopher Carter       yes      1973.0   business   single   \n",
       "3  nochurn     Ms. Jennifer Morgan       yes      1993.0    leisure   double   \n",
       "4  nochurn       Mr. Michael White       yes      1989.0   business   single   \n",
       "\n",
       "   RewardPoints  Comfort  ReceptionSchedule  FoodDrink  ...  Wifi  Amenities  \\\n",
       "0          4907        3                  4          1  ...     4          3   \n",
       "1          6724        1                  1          1  ...     5          3   \n",
       "2          4365        3                  3          3  ...     1          4   \n",
       "3          3849        1                  1          1  ...     4          4   \n",
       "4          5376        2                  2          3  ...     5          5   \n",
       "\n",
       "   Staff  OnlineBooking  PriceQuality  RoomSpace  CheckOut  Checkin  \\\n",
       "0      4              3             3          3         3        4   \n",
       "1      4              5             5          5         5        1   \n",
       "2      4              3             3          2         3        2   \n",
       "3      5              4             4          4         4        4   \n",
       "4      5              5             5          3         4        1   \n",
       "\n",
       "   Cleanliness  BarService  \n",
       "0            3           4  \n",
       "1            5           2  \n",
       "2            3           1  \n",
       "3            4           3  \n",
       "4            3           5  \n",
       "\n",
       "[5 rows x 21 columns]"
      ]
     },
     "execution_count": 34,
     "metadata": {},
     "output_type": "execute_result"
    }
   ],
   "source": [
    "df.head()"
   ]
  },
  {
   "cell_type": "markdown",
   "id": "3ba645df",
   "metadata": {},
   "source": [
    "| Variable      | Description |\n",
    "| ----------- | ----------- |\n",
    "| Name      | Customer’s name       |\n",
    "| Year Birth    | Customer’s birth year        |\n",
    "| Longevity   | Whether the customer registered more than 1 year ago or not        |\n",
    "| Churn   | Whether the customer churned or not (churn or nochurn)        |\n",
    "| TypeTravel   | Customer’s reason for travelling (business or leisure)        |\n",
    "| RoomType   | Type of room reserved        |\n",
    "| RewardPoints   | Customer’s rewarding point for loyalty        |\n",
    "| Comfort   | Satisfaction level of customer regarding comfort of the room (0 to 5)        |\n",
    "| ReceptionSchedule   | Satisfaction level of customer regarding reception schedule (0 to 5)        |\n",
    "| ReceptionSchedule   | Satisfaction level of customer regarding food and drink available (0 to 5)        |\n",
    "| Location   |   Satisfaction level of customer regarding accommodation location (0 to 5)      |\n",
    "| Wifi   |    Satisfaction level of customer regarding wi-fi service (0 to 5)     |\n",
    "| Amenities   | Satisfaction level of customer regarding accommodation amenities(0 to 5)        |\n",
    "| Staff   | Satisfaction level of customer regarding staff (0 to 5)        |\n",
    "| OnlineBooking   | Satisfaction level of customer regarding online booking ease(0 to 5)        |\n",
    "| PriceQuality   | Satisfaction level of customer regarding price quality relationship (0 to 5)        |\n",
    "| RoomSpace   | Satisfaction level of customer regarding room space (0 to 5)        |\n",
    "| CheckOut   | Satisfaction level of customer regarding check-out (0 to 5)        |\n",
    "| CheckIn   | Satisfaction level of customer regarding check-in (0 to 5)        |\n",
    "| Cleanliness   | Satisfaction level of customer regarding cleanliness (0 to 5)        |\n",
    "| BarService   | Satisfaction level of customer regarding bar service (0 to 5)        |"
   ]
  },
  {
   "cell_type": "markdown",
   "id": "b3d2f64c",
   "metadata": {},
   "source": [
    "## CRISP-DM"
   ]
  },
  {
   "cell_type": "markdown",
   "id": "dbe6e654",
   "metadata": {},
   "source": [
    "### 1. Data Understanding"
   ]
  },
  {
   "cell_type": "markdown",
   "id": "f001ab8c",
   "metadata": {},
   "source": [
    "#### 1.1 Dataframe Size"
   ]
  },
  {
   "cell_type": "code",
   "execution_count": 35,
   "id": "d6b7b003",
   "metadata": {},
   "outputs": [
    {
     "name": "stdout",
     "output_type": "stream",
     "text": [
      "Dataframe has 15589 rows and 21 columns\n"
     ]
    }
   ],
   "source": [
    "df_original_row_size = df.shape[0]\n",
    "df_original_columns_size = df.shape[1]\n",
    "\n",
    "print(\"Dataframe has\", df_original_row_size, \"rows and\", df_original_columns_size, \"columns\")"
   ]
  },
  {
   "cell_type": "markdown",
   "id": "cf519068",
   "metadata": {},
   "source": [
    "#### 1.2 Dataframe Info and Description"
   ]
  },
  {
   "cell_type": "code",
   "execution_count": 36,
   "id": "0359eada",
   "metadata": {},
   "outputs": [
    {
     "name": "stdout",
     "output_type": "stream",
     "text": [
      "<class 'pandas.core.frame.DataFrame'>\n",
      "RangeIndex: 15589 entries, 0 to 15588\n",
      "Data columns (total 21 columns):\n",
      " #   Column             Non-Null Count  Dtype  \n",
      "---  ------             --------------  -----  \n",
      " 0   Churn              15589 non-null  object \n",
      " 1   Name               15589 non-null  object \n",
      " 2   Longevity          15589 non-null  object \n",
      " 3   Year_Birth         15394 non-null  float64\n",
      " 4   TypeTravel         15589 non-null  object \n",
      " 5   RoomType           15589 non-null  object \n",
      " 6   RewardPoints       15589 non-null  int64  \n",
      " 7   Comfort            15589 non-null  int64  \n",
      " 8   ReceptionSchedule  15589 non-null  int64  \n",
      " 9   FoodDrink          15589 non-null  int64  \n",
      " 10  Location           15589 non-null  int64  \n",
      " 11  Wifi               15589 non-null  int64  \n",
      " 12  Amenities          15589 non-null  int64  \n",
      " 13  Staff              15589 non-null  int64  \n",
      " 14  OnlineBooking      15589 non-null  int64  \n",
      " 15  PriceQuality       15589 non-null  int64  \n",
      " 16  RoomSpace          15589 non-null  int64  \n",
      " 17  CheckOut           15589 non-null  int64  \n",
      " 18  Checkin            15589 non-null  int64  \n",
      " 19  Cleanliness        15589 non-null  int64  \n",
      " 20  BarService         15589 non-null  int64  \n",
      "dtypes: float64(1), int64(15), object(5)\n",
      "memory usage: 2.5+ MB\n"
     ]
    }
   ],
   "source": [
    "df.info()"
   ]
  },
  {
   "cell_type": "code",
   "execution_count": 37,
   "id": "e34c3fbd",
   "metadata": {},
   "outputs": [
    {
     "data": {
      "text/html": [
       "<div>\n",
       "<style scoped>\n",
       "    .dataframe tbody tr th:only-of-type {\n",
       "        vertical-align: middle;\n",
       "    }\n",
       "\n",
       "    .dataframe tbody tr th {\n",
       "        vertical-align: top;\n",
       "    }\n",
       "\n",
       "    .dataframe thead th {\n",
       "        text-align: right;\n",
       "    }\n",
       "</style>\n",
       "<table border=\"1\" class=\"dataframe\">\n",
       "  <thead>\n",
       "    <tr style=\"text-align: right;\">\n",
       "      <th></th>\n",
       "      <th>count</th>\n",
       "      <th>mean</th>\n",
       "      <th>std</th>\n",
       "      <th>min</th>\n",
       "      <th>25%</th>\n",
       "      <th>50%</th>\n",
       "      <th>75%</th>\n",
       "      <th>max</th>\n",
       "    </tr>\n",
       "  </thead>\n",
       "  <tbody>\n",
       "    <tr>\n",
       "      <th>Year_Birth</th>\n",
       "      <td>15394.0</td>\n",
       "      <td>1981.706444</td>\n",
       "      <td>15.179042</td>\n",
       "      <td>1936.0</td>\n",
       "      <td>1970.0</td>\n",
       "      <td>1981.0</td>\n",
       "      <td>1994.0</td>\n",
       "      <td>2014.0</td>\n",
       "    </tr>\n",
       "    <tr>\n",
       "      <th>RewardPoints</th>\n",
       "      <td>15589.0</td>\n",
       "      <td>5022.593816</td>\n",
       "      <td>1027.962379</td>\n",
       "      <td>409.0</td>\n",
       "      <td>4445.0</td>\n",
       "      <td>5088.0</td>\n",
       "      <td>5649.0</td>\n",
       "      <td>6950.0</td>\n",
       "    </tr>\n",
       "    <tr>\n",
       "      <th>Comfort</th>\n",
       "      <td>15589.0</td>\n",
       "      <td>2.841619</td>\n",
       "      <td>1.388624</td>\n",
       "      <td>0.0</td>\n",
       "      <td>2.0</td>\n",
       "      <td>3.0</td>\n",
       "      <td>4.0</td>\n",
       "      <td>5.0</td>\n",
       "    </tr>\n",
       "    <tr>\n",
       "      <th>ReceptionSchedule</th>\n",
       "      <td>15589.0</td>\n",
       "      <td>2.997242</td>\n",
       "      <td>1.518994</td>\n",
       "      <td>0.0</td>\n",
       "      <td>2.0</td>\n",
       "      <td>3.0</td>\n",
       "      <td>4.0</td>\n",
       "      <td>5.0</td>\n",
       "    </tr>\n",
       "    <tr>\n",
       "      <th>FoodDrink</th>\n",
       "      <td>15589.0</td>\n",
       "      <td>2.844570</td>\n",
       "      <td>1.436948</td>\n",
       "      <td>0.0</td>\n",
       "      <td>2.0</td>\n",
       "      <td>3.0</td>\n",
       "      <td>4.0</td>\n",
       "      <td>5.0</td>\n",
       "    </tr>\n",
       "    <tr>\n",
       "      <th>Location</th>\n",
       "      <td>15589.0</td>\n",
       "      <td>2.986016</td>\n",
       "      <td>1.299438</td>\n",
       "      <td>1.0</td>\n",
       "      <td>2.0</td>\n",
       "      <td>3.0</td>\n",
       "      <td>4.0</td>\n",
       "      <td>5.0</td>\n",
       "    </tr>\n",
       "    <tr>\n",
       "      <th>Wifi</th>\n",
       "      <td>15589.0</td>\n",
       "      <td>3.245109</td>\n",
       "      <td>1.327026</td>\n",
       "      <td>0.0</td>\n",
       "      <td>2.0</td>\n",
       "      <td>3.0</td>\n",
       "      <td>4.0</td>\n",
       "      <td>6.0</td>\n",
       "    </tr>\n",
       "    <tr>\n",
       "      <th>Amenities</th>\n",
       "      <td>15589.0</td>\n",
       "      <td>3.374816</td>\n",
       "      <td>1.352417</td>\n",
       "      <td>0.0</td>\n",
       "      <td>2.0</td>\n",
       "      <td>4.0</td>\n",
       "      <td>4.0</td>\n",
       "      <td>5.0</td>\n",
       "    </tr>\n",
       "    <tr>\n",
       "      <th>Staff</th>\n",
       "      <td>15589.0</td>\n",
       "      <td>3.506383</td>\n",
       "      <td>1.319565</td>\n",
       "      <td>1.0</td>\n",
       "      <td>3.0</td>\n",
       "      <td>4.0</td>\n",
       "      <td>5.0</td>\n",
       "      <td>5.0</td>\n",
       "    </tr>\n",
       "    <tr>\n",
       "      <th>OnlineBooking</th>\n",
       "      <td>15589.0</td>\n",
       "      <td>3.454231</td>\n",
       "      <td>1.310343</td>\n",
       "      <td>0.0</td>\n",
       "      <td>2.0</td>\n",
       "      <td>4.0</td>\n",
       "      <td>5.0</td>\n",
       "      <td>5.0</td>\n",
       "    </tr>\n",
       "    <tr>\n",
       "      <th>PriceQuality</th>\n",
       "      <td>15589.0</td>\n",
       "      <td>3.459683</td>\n",
       "      <td>1.268130</td>\n",
       "      <td>1.0</td>\n",
       "      <td>3.0</td>\n",
       "      <td>4.0</td>\n",
       "      <td>4.0</td>\n",
       "      <td>5.0</td>\n",
       "    </tr>\n",
       "    <tr>\n",
       "      <th>RoomSpace</th>\n",
       "      <td>15589.0</td>\n",
       "      <td>3.470845</td>\n",
       "      <td>1.293873</td>\n",
       "      <td>0.0</td>\n",
       "      <td>2.0</td>\n",
       "      <td>4.0</td>\n",
       "      <td>5.0</td>\n",
       "      <td>5.0</td>\n",
       "    </tr>\n",
       "    <tr>\n",
       "      <th>CheckOut</th>\n",
       "      <td>15589.0</td>\n",
       "      <td>3.700558</td>\n",
       "      <td>1.158644</td>\n",
       "      <td>1.0</td>\n",
       "      <td>3.0</td>\n",
       "      <td>4.0</td>\n",
       "      <td>5.0</td>\n",
       "      <td>5.0</td>\n",
       "    </tr>\n",
       "    <tr>\n",
       "      <th>Checkin</th>\n",
       "      <td>15589.0</td>\n",
       "      <td>3.327282</td>\n",
       "      <td>1.266872</td>\n",
       "      <td>1.0</td>\n",
       "      <td>3.0</td>\n",
       "      <td>3.0</td>\n",
       "      <td>4.0</td>\n",
       "      <td>5.0</td>\n",
       "    </tr>\n",
       "    <tr>\n",
       "      <th>Cleanliness</th>\n",
       "      <td>15589.0</td>\n",
       "      <td>3.692347</td>\n",
       "      <td>1.154437</td>\n",
       "      <td>1.0</td>\n",
       "      <td>3.0</td>\n",
       "      <td>4.0</td>\n",
       "      <td>5.0</td>\n",
       "      <td>5.0</td>\n",
       "    </tr>\n",
       "    <tr>\n",
       "      <th>BarService</th>\n",
       "      <td>15589.0</td>\n",
       "      <td>3.347360</td>\n",
       "      <td>1.300452</td>\n",
       "      <td>0.0</td>\n",
       "      <td>2.0</td>\n",
       "      <td>3.0</td>\n",
       "      <td>4.0</td>\n",
       "      <td>5.0</td>\n",
       "    </tr>\n",
       "  </tbody>\n",
       "</table>\n",
       "</div>"
      ],
      "text/plain": [
       "                     count         mean          std     min     25%     50%  \\\n",
       "Year_Birth         15394.0  1981.706444    15.179042  1936.0  1970.0  1981.0   \n",
       "RewardPoints       15589.0  5022.593816  1027.962379   409.0  4445.0  5088.0   \n",
       "Comfort            15589.0     2.841619     1.388624     0.0     2.0     3.0   \n",
       "ReceptionSchedule  15589.0     2.997242     1.518994     0.0     2.0     3.0   \n",
       "FoodDrink          15589.0     2.844570     1.436948     0.0     2.0     3.0   \n",
       "Location           15589.0     2.986016     1.299438     1.0     2.0     3.0   \n",
       "Wifi               15589.0     3.245109     1.327026     0.0     2.0     3.0   \n",
       "Amenities          15589.0     3.374816     1.352417     0.0     2.0     4.0   \n",
       "Staff              15589.0     3.506383     1.319565     1.0     3.0     4.0   \n",
       "OnlineBooking      15589.0     3.454231     1.310343     0.0     2.0     4.0   \n",
       "PriceQuality       15589.0     3.459683     1.268130     1.0     3.0     4.0   \n",
       "RoomSpace          15589.0     3.470845     1.293873     0.0     2.0     4.0   \n",
       "CheckOut           15589.0     3.700558     1.158644     1.0     3.0     4.0   \n",
       "Checkin            15589.0     3.327282     1.266872     1.0     3.0     3.0   \n",
       "Cleanliness        15589.0     3.692347     1.154437     1.0     3.0     4.0   \n",
       "BarService         15589.0     3.347360     1.300452     0.0     2.0     3.0   \n",
       "\n",
       "                      75%     max  \n",
       "Year_Birth         1994.0  2014.0  \n",
       "RewardPoints       5649.0  6950.0  \n",
       "Comfort               4.0     5.0  \n",
       "ReceptionSchedule     4.0     5.0  \n",
       "FoodDrink             4.0     5.0  \n",
       "Location              4.0     5.0  \n",
       "Wifi                  4.0     6.0  \n",
       "Amenities             4.0     5.0  \n",
       "Staff                 5.0     5.0  \n",
       "OnlineBooking         5.0     5.0  \n",
       "PriceQuality          4.0     5.0  \n",
       "RoomSpace             5.0     5.0  \n",
       "CheckOut              5.0     5.0  \n",
       "Checkin               4.0     5.0  \n",
       "Cleanliness           5.0     5.0  \n",
       "BarService            4.0     5.0  "
      ]
     },
     "execution_count": 37,
     "metadata": {},
     "output_type": "execute_result"
    }
   ],
   "source": [
    "df.describe().T"
   ]
  },
  {
   "cell_type": "markdown",
   "id": "20f551f2",
   "metadata": {},
   "source": [
    "On a first look, we noticed the ranges of each variable look acceptable. However, some variables have different scales than others and this must be handled later on."
   ]
  },
  {
   "cell_type": "markdown",
   "id": "c0c3b56a",
   "metadata": {},
   "source": [
    "#### 1.2.1 Variable Analysis and Congruence Checks\n",
    "\n",
    "#### 1.2.1.1 Churn"
   ]
  },
  {
   "cell_type": "code",
   "execution_count": 38,
   "id": "e87bc0c4",
   "metadata": {},
   "outputs": [
    {
     "data": {
      "text/plain": [
       "nochurn    8477\n",
       "churn      7112\n",
       "Name: Churn, dtype: int64"
      ]
     },
     "execution_count": 38,
     "metadata": {},
     "output_type": "execute_result"
    }
   ],
   "source": [
    "df['Churn'].value_counts()"
   ]
  },
  {
   "cell_type": "markdown",
   "id": "612a797d",
   "metadata": {},
   "source": [
    "Variable looks good to us, we will create dummies for it to make it numerical."
   ]
  },
  {
   "cell_type": "code",
   "execution_count": 39,
   "id": "316ed0e1",
   "metadata": {},
   "outputs": [
    {
     "data": {
      "text/plain": [
       "<AxesSubplot:xlabel='Churn', ylabel='count'>"
      ]
     },
     "execution_count": 39,
     "metadata": {},
     "output_type": "execute_result"
    },
    {
     "data": {
      "image/png": "[encoded data removed]",
      "text/plain": [
       "<Figure size 432x288 with 1 Axes>"
      ]
     },
     "metadata": {
      "needs_background": "light"
     },
     "output_type": "display_data"
    }
   ],
   "source": [
    "sns.countplot(df[\"Churn\"], color=\"skyblue\")"
   ]
  },
  {
   "cell_type": "markdown",
   "id": "5cae1ff2",
   "metadata": {},
   "source": [
    "#### 1.2.1.2 Name"
   ]
  },
  {
   "cell_type": "code",
   "execution_count": 40,
   "id": "c0be72d1",
   "metadata": {},
   "outputs": [
    {
     "data": {
      "text/plain": [
       "Mr. Michael Smith    9\n",
       "Ms. Amanda Smith     7\n",
       "Mr. John Smith       7\n",
       "Mr. Michael Jones    6\n",
       "Mr. William Smith    6\n",
       "                    ..\n",
       "Ms. Laurie Smith     1\n",
       "Mr. Aaron Cox        1\n",
       "Ms. Natasha Estes    1\n",
       "Ms. Beverly Lee      1\n",
       "Mr. Steven Mendez    1\n",
       "Name: Name, Length: 14227, dtype: int64"
      ]
     },
     "execution_count": 40,
     "metadata": {},
     "output_type": "execute_result"
    }
   ],
   "source": [
    "df['Name'].value_counts()"
   ]
  },
  {
   "cell_type": "markdown",
   "id": "15921e09",
   "metadata": {},
   "source": [
    "Variable looks good tu us and based on the prefix before the name, we can create a new variable called gender."
   ]
  },
  {
   "cell_type": "code",
   "execution_count": 41,
   "id": "db8be3bb",
   "metadata": {},
   "outputs": [
    {
     "data": {
      "text/plain": [
       "array(['Ms.', 'Mr.'], dtype=object)"
      ]
     },
     "execution_count": 41,
     "metadata": {},
     "output_type": "execute_result"
    }
   ],
   "source": [
    "df[\"Characters\"] = df[\"Name\"].str[:3]\n",
    "df['Characters'].unique()\n"
   ]
  },
  {
   "cell_type": "code",
   "execution_count": 42,
   "id": "f58d21e8",
   "metadata": {},
   "outputs": [],
   "source": [
    "df.drop(columns=[\"Characters\"], axis=1, inplace=True)\n",
    "df['Gender'] = [1 if i == 'Mr.' else 0 for i in df[\"Name\"].str[:3]]"
   ]
  },
  {
   "cell_type": "code",
   "execution_count": 43,
   "id": "398419ab",
   "metadata": {},
   "outputs": [],
   "source": [
    "df.drop(columns=['Name'], inplace=True)"
   ]
  },
  {
   "cell_type": "markdown",
   "id": "04a76f0e",
   "metadata": {},
   "source": [
    "#### 1.2.1.3 Longevity"
   ]
  },
  {
   "cell_type": "code",
   "execution_count": 44,
   "id": "6f25e823",
   "metadata": {},
   "outputs": [
    {
     "data": {
      "text/plain": [
       "yes    12548\n",
       "no      2874\n",
       "y        167\n",
       "Name: Longevity, dtype: int64"
      ]
     },
     "execution_count": 44,
     "metadata": {},
     "output_type": "execute_result"
    }
   ],
   "source": [
    "df['Longevity'].value_counts()"
   ]
  },
  {
   "cell_type": "markdown",
   "id": "823e65c9",
   "metadata": {},
   "source": [
    "Variable does not look good because we have entries with 'yes' and entries with 'y' which most likely mean the same. Will will transform the entries with 'y' into 'yes'"
   ]
  },
  {
   "cell_type": "code",
   "execution_count": 45,
   "id": "ba74b1a4",
   "metadata": {},
   "outputs": [],
   "source": [
    "df['Longevity'].replace('y','yes', inplace=True)"
   ]
  },
  {
   "cell_type": "code",
   "execution_count": 46,
   "id": "e1660f5a",
   "metadata": {},
   "outputs": [
    {
     "data": {
      "text/plain": [
       "yes    12715\n",
       "no      2874\n",
       "Name: Longevity, dtype: int64"
      ]
     },
     "execution_count": 46,
     "metadata": {},
     "output_type": "execute_result"
    }
   ],
   "source": [
    "df['Longevity'].value_counts()"
   ]
  },
  {
   "cell_type": "code",
   "execution_count": 47,
   "id": "8ff42509",
   "metadata": {},
   "outputs": [
    {
     "data": {
      "text/plain": [
       "<AxesSubplot:xlabel='Longevity', ylabel='count'>"
      ]
     },
     "execution_count": 47,
     "metadata": {},
     "output_type": "execute_result"
    },
    {
     "data": {
      "image/png": "[encoded data removed]",
      "text/plain": [
       "<Figure size 432x288 with 1 Axes>"
      ]
     },
     "metadata": {
      "needs_background": "light"
     },
     "output_type": "display_data"
    }
   ],
   "source": [
    "sns.countplot(df[\"Longevity\"], color=\"skyblue\")"
   ]
  },
  {
   "cell_type": "markdown",
   "id": "0fc83f58",
   "metadata": {},
   "source": [
    "#### 1.2.1.4 Year Birth"
   ]
  },
  {
   "cell_type": "code",
   "execution_count": 48,
   "id": "4d8a7578",
   "metadata": {},
   "outputs": [
    {
     "data": {
      "text/plain": [
       "1982.0    441\n",
       "1996.0    416\n",
       "1980.0    383\n",
       "1998.0    380\n",
       "1981.0    369\n",
       "         ... \n",
       "1947.0      9\n",
       "1945.0      8\n",
       "1943.0      6\n",
       "1942.0      3\n",
       "1936.0      2\n",
       "Name: Year_Birth, Length: 75, dtype: int64"
      ]
     },
     "execution_count": 48,
     "metadata": {},
     "output_type": "execute_result"
    }
   ],
   "source": [
    "df['Year_Birth'].value_counts()"
   ]
  },
  {
   "cell_type": "markdown",
   "id": "93377eb6",
   "metadata": {},
   "source": [
    "Variable has missing values. We will handle these missing values and then create a new variable called Age based on this"
   ]
  },
  {
   "cell_type": "code",
   "execution_count": 49,
   "id": "2ce4abec",
   "metadata": {},
   "outputs": [
    {
     "data": {
      "text/plain": [
       "<AxesSubplot:xlabel='Year_Birth', ylabel='Count'>"
      ]
     },
     "execution_count": 49,
     "metadata": {},
     "output_type": "execute_result"
    },
    {
     "data": {
      "image/png": "[encoded data removed]",
      "text/plain": [
       "<Figure size 432x288 with 1 Axes>"
      ]
     },
     "metadata": {
      "needs_background": "light"
     },
     "output_type": "display_data"
    }
   ],
   "source": [
    "sns.histplot(df[\"Year_Birth\"], color=\"skyblue\")"
   ]
  },
  {
   "cell_type": "markdown",
   "id": "e2e15a73",
   "metadata": {},
   "source": [
    "#### 1.2.1.5 Type Travel"
   ]
  },
  {
   "cell_type": "code",
   "execution_count": 50,
   "id": "a87bce10",
   "metadata": {},
   "outputs": [
    {
     "data": {
      "text/plain": [
       "business    10756\n",
       "leisure      4833\n",
       "Name: TypeTravel, dtype: int64"
      ]
     },
     "execution_count": 50,
     "metadata": {},
     "output_type": "execute_result"
    }
   ],
   "source": [
    "df['TypeTravel'].value_counts()"
   ]
  },
  {
   "cell_type": "markdown",
   "id": "aa58c286",
   "metadata": {},
   "source": [
    "Variable looks good to us and we will create dummies for it"
   ]
  },
  {
   "cell_type": "code",
   "execution_count": 51,
   "id": "6c3ae9ca",
   "metadata": {},
   "outputs": [
    {
     "data": {
      "text/plain": [
       "<AxesSubplot:xlabel='TypeTravel', ylabel='count'>"
      ]
     },
     "execution_count": 51,
     "metadata": {},
     "output_type": "execute_result"
    },
    {
     "data": {
      "image/png": "[encoded data removed]",
      "text/plain": [
       "<Figure size 432x288 with 1 Axes>"
      ]
     },
     "metadata": {
      "needs_background": "light"
     },
     "output_type": "display_data"
    }
   ],
   "source": [
    "sns.countplot(df[\"TypeTravel\"], color=\"skyblue\")"
   ]
  },
  {
   "cell_type": "markdown",
   "id": "b194d0e1",
   "metadata": {},
   "source": [
    "#### 1.2.1.6 Room Type"
   ]
  },
  {
   "cell_type": "code",
   "execution_count": 52,
   "id": "234d6d2b",
   "metadata": {},
   "outputs": [
    {
     "data": {
      "text/plain": [
       "single    7442\n",
       "double    7021\n",
       "suite     1126\n",
       "Name: RoomType, dtype: int64"
      ]
     },
     "execution_count": 52,
     "metadata": {},
     "output_type": "execute_result"
    }
   ],
   "source": [
    "df['RoomType'].value_counts()"
   ]
  },
  {
   "cell_type": "markdown",
   "id": "f3dd2edf",
   "metadata": {},
   "source": [
    "Variable looks good to us and we will create dummies for it"
   ]
  },
  {
   "cell_type": "code",
   "execution_count": 53,
   "id": "531dfe69",
   "metadata": {},
   "outputs": [
    {
     "data": {
      "text/plain": [
       "<AxesSubplot:xlabel='RoomType', ylabel='count'>"
      ]
     },
     "execution_count": 53,
     "metadata": {},
     "output_type": "execute_result"
    },
    {
     "data": {
      "image/png": "[encoded data removed]",
      "text/plain": [
       "<Figure size 432x288 with 1 Axes>"
      ]
     },
     "metadata": {
      "needs_background": "light"
     },
     "output_type": "display_data"
    }
   ],
   "source": [
    "sns.countplot(df[\"RoomType\"], color=\"skyblue\")"
   ]
  },
  {
   "cell_type": "markdown",
   "id": "2d7bea7a",
   "metadata": {},
   "source": [
    "#### 1.2.1.7 RewardPoints"
   ]
  },
  {
   "cell_type": "code",
   "execution_count": 54,
   "id": "571a3085",
   "metadata": {},
   "outputs": [
    {
     "data": {
      "text/plain": [
       "5286    19\n",
       "5010    17\n",
       "5347    16\n",
       "5094    16\n",
       "4942    16\n",
       "        ..\n",
       "3656     1\n",
       "2524     1\n",
       "5974     1\n",
       "3802     1\n",
       "3304     1\n",
       "Name: RewardPoints, Length: 4061, dtype: int64"
      ]
     },
     "execution_count": 54,
     "metadata": {},
     "output_type": "execute_result"
    }
   ],
   "source": [
    "df['RewardPoints'].value_counts()"
   ]
  },
  {
   "cell_type": "markdown",
   "id": "5ca226d5",
   "metadata": {},
   "source": [
    "Variable looks good to us, but because of the scale we will have to normalize all the variables in the dataframe"
   ]
  },
  {
   "cell_type": "code",
   "execution_count": 55,
   "id": "a56a8d5f",
   "metadata": {},
   "outputs": [
    {
     "data": {
      "text/plain": [
       "<AxesSubplot:xlabel='RewardPoints', ylabel='Count'>"
      ]
     },
     "execution_count": 55,
     "metadata": {},
     "output_type": "execute_result"
    },
    {
     "data": {
      "image/png": "[encoded data removed]",
      "text/plain": [
       "<Figure size 432x288 with 1 Axes>"
      ]
     },
     "metadata": {
      "needs_background": "light"
     },
     "output_type": "display_data"
    }
   ],
   "source": [
    "sns.histplot(df[\"RewardPoints\"], color=\"skyblue\")"
   ]
  },
  {
   "cell_type": "markdown",
   "id": "9bbe2821",
   "metadata": {},
   "source": [
    "#### 1.2.1.8 Ratings"
   ]
  },
  {
   "cell_type": "markdown",
   "id": "cb4ccea8",
   "metadata": {},
   "source": [
    "All ratings variables look ok to us"
   ]
  },
  {
   "cell_type": "code",
   "execution_count": 56,
   "id": "325a9603",
   "metadata": {},
   "outputs": [
    {
     "data": {
      "text/plain": [
       "<AxesSubplot:xlabel='BarService', ylabel='Count'>"
      ]
     },
     "execution_count": 56,
     "metadata": {},
     "output_type": "execute_result"
    },
    {
     "data": {
      "image/png": "[encoded data removed]",
      "text/plain": [
       "<Figure size 1440x1080 with 16 Axes>"
      ]
     },
     "metadata": {
      "needs_background": "light"
     },
     "output_type": "display_data"
    }
   ],
   "source": [
    "f, axes = plt.subplots(4,4, figsize=(20, 15), squeeze=False)  \n",
    "sns.histplot(df[\"Comfort\"], color=\"skyblue\", ax=axes[0, 2])\n",
    "sns.histplot(df[\"ReceptionSchedule\"], color=\"skyblue\", ax=axes[0, 3])\n",
    "sns.histplot(df[\"FoodDrink\"], color=\"skyblue\", ax=axes[1, 0])\n",
    "sns.histplot(df[\"Location\"], color=\"skyblue\", ax=axes[1, 1])\n",
    "sns.histplot(df[\"Wifi\"], color=\"skyblue\", ax=axes[1, 2])\n",
    "sns.histplot(df[\"Amenities\"], color=\"skyblue\", ax=axes[1, 3])\n",
    "sns.histplot(df[\"Staff\"], color=\"skyblue\", ax=axes[2, 0])\n",
    "sns.histplot(df[\"OnlineBooking\"], color=\"skyblue\", ax=axes[2, 1])\n",
    "sns.histplot(df[\"PriceQuality\"], color=\"skyblue\", ax=axes[2, 2])\n",
    "sns.histplot(df[\"RoomSpace\"], color=\"skyblue\", ax=axes[2, 3])\n",
    "sns.histplot(df[\"CheckOut\"], color=\"skyblue\", ax=axes[3, 0])\n",
    "sns.histplot(df[\"Checkin\"], color=\"skyblue\", ax=axes[3, 1])\n",
    "sns.histplot(df[\"Cleanliness\"], color=\"skyblue\", ax=axes[3, 2])\n",
    "sns.histplot(df[\"BarService\"], color=\"skyblue\", ax=axes[3, 3])"
   ]
  },
  {
   "cell_type": "markdown",
   "id": "25103abe",
   "metadata": {},
   "source": [
    "Upon looking at the charts, we noticed that 'Wifi' has values that should not be there, in particular, some surveys were marked with 6 which is not an available rating. "
   ]
  },
  {
   "cell_type": "code",
   "execution_count": 57,
   "id": "7e96ec97",
   "metadata": {},
   "outputs": [
    {
     "data": {
      "text/plain": [
       "4    3704\n",
       "5    3446\n",
       "3    3348\n",
       "2    3245\n",
       "1    1792\n",
       "6      36\n",
       "0      18\n",
       "Name: Wifi, dtype: int64"
      ]
     },
     "execution_count": 57,
     "metadata": {},
     "output_type": "execute_result"
    }
   ],
   "source": [
    "df['Wifi'].value_counts()"
   ]
  },
  {
   "cell_type": "markdown",
   "id": "f6f8ab24",
   "metadata": {},
   "source": [
    "Since there are only 36 rows with value 6, we will convert them to a 5."
   ]
  },
  {
   "cell_type": "code",
   "execution_count": 58,
   "id": "3eadcbb0",
   "metadata": {},
   "outputs": [],
   "source": [
    "df['Wifi'].replace(6,5, inplace=True)"
   ]
  },
  {
   "cell_type": "code",
   "execution_count": 59,
   "id": "77f070bf",
   "metadata": {},
   "outputs": [
    {
     "data": {
      "text/plain": [
       "4    3704\n",
       "5    3482\n",
       "3    3348\n",
       "2    3245\n",
       "1    1792\n",
       "0      18\n",
       "Name: Wifi, dtype: int64"
      ]
     },
     "execution_count": 59,
     "metadata": {},
     "output_type": "execute_result"
    }
   ],
   "source": [
    "df['Wifi'].value_counts()"
   ]
  },
  {
   "cell_type": "code",
   "execution_count": 60,
   "id": "84bbb536",
   "metadata": {},
   "outputs": [
    {
     "data": {
      "text/plain": [
       "<AxesSubplot:xlabel='Wifi', ylabel='Count'>"
      ]
     },
     "execution_count": 60,
     "metadata": {},
     "output_type": "execute_result"
    },
    {
     "data": {
      "image/png": "[encoded data removed]",
      "text/plain": [
       "<Figure size 432x288 with 1 Axes>"
      ]
     },
     "metadata": {
      "needs_background": "light"
     },
     "output_type": "display_data"
    }
   ],
   "source": [
    "sns.histplot(df[\"Wifi\"], color=\"skyblue\")"
   ]
  },
  {
   "cell_type": "markdown",
   "id": "b401772c",
   "metadata": {},
   "source": [
    "#### 1.2.2 Outlier Observation Using Box Plot Chart"
   ]
  },
  {
   "cell_type": "code",
   "execution_count": 61,
   "id": "8cd99725",
   "metadata": {},
   "outputs": [
    {
     "data": {
      "text/plain": [
       "<AxesSubplot:xlabel='BarService'>"
      ]
     },
     "execution_count": 61,
     "metadata": {},
     "output_type": "execute_result"
    },
    {
     "data": {
      "image/png": "[encoded data removed]",
      "text/plain": [
       "<Figure size 1440x1080 with 16 Axes>"
      ]
     },
     "metadata": {
      "needs_background": "light"
     },
     "output_type": "display_data"
    }
   ],
   "source": [
    "f, axes = plt.subplots(4,4, figsize=(20, 15), squeeze=False)    \n",
    "sns.boxplot(df[\"Year_Birth\"], color=\"skyblue\", ax=axes[0, 0])\n",
    "sns.boxplot(df[\"RewardPoints\"], color=\"skyblue\", ax=axes[0, 1])\n",
    "sns.boxplot(df[\"Comfort\"], color=\"skyblue\", ax=axes[0, 2])\n",
    "sns.boxplot(df[\"ReceptionSchedule\"], color=\"skyblue\", ax=axes[0, 3])\n",
    "sns.boxplot(df[\"FoodDrink\"], color=\"skyblue\", ax=axes[1, 0])\n",
    "sns.boxplot(df[\"Location\"], color=\"skyblue\", ax=axes[1, 1])\n",
    "sns.boxplot(df[\"Wifi\"], color=\"skyblue\", ax=axes[1, 2])\n",
    "sns.boxplot(df[\"Amenities\"], color=\"skyblue\", ax=axes[1, 3])\n",
    "sns.boxplot(df[\"Staff\"], color=\"skyblue\", ax=axes[2, 0])\n",
    "sns.boxplot(df[\"OnlineBooking\"], color=\"skyblue\", ax=axes[2, 1])\n",
    "sns.boxplot(df[\"PriceQuality\"], color=\"skyblue\", ax=axes[2, 2])\n",
    "sns.boxplot(df[\"RoomSpace\"], color=\"skyblue\", ax=axes[2, 3])\n",
    "sns.boxplot(df[\"CheckOut\"], color=\"skyblue\", ax=axes[3, 0])\n",
    "sns.boxplot(df[\"Checkin\"], color=\"skyblue\", ax=axes[3, 1])\n",
    "sns.boxplot(df[\"Cleanliness\"], color=\"skyblue\", ax=axes[3, 2])\n",
    "sns.boxplot(df[\"BarService\"], color=\"skyblue\", ax=axes[3, 3])"
   ]
  },
  {
   "cell_type": "markdown",
   "id": "0153b4ab",
   "metadata": {},
   "source": [
    "Looking at the box plots of all variables, we noticed 3 variables with possible outliers. These are: RewardPoints, PriceQuality, Checkin. These outliers will be handled later on."
   ]
  },
  {
   "cell_type": "markdown",
   "id": "4bce6608",
   "metadata": {},
   "source": [
    "#### 1.2.3 Pairplot of all variables of the dataframe"
   ]
  },
  {
   "cell_type": "code",
   "execution_count": 62,
   "id": "e02b0323",
   "metadata": {},
   "outputs": [],
   "source": [
    "#sns.pairplot(df)"
   ]
  },
  {
   "cell_type": "markdown",
   "id": "7c6ae454",
   "metadata": {},
   "source": [
    "#### 1.2.4 Skewness of the variables of the Dataframe"
   ]
  },
  {
   "cell_type": "code",
   "execution_count": 63,
   "id": "e44a86a8",
   "metadata": {},
   "outputs": [
    {
     "data": {
      "text/plain": [
       "Year_Birth          -0.003847\n",
       "RewardPoints        -0.453779\n",
       "Comfort             -0.100907\n",
       "ReceptionSchedule   -0.260705\n",
       "FoodDrink           -0.123610\n",
       "Location            -0.050229\n",
       "Wifi                -0.183010\n",
       "Amenities           -0.599498\n",
       "Staff               -0.554561\n",
       "OnlineBooking       -0.472074\n",
       "PriceQuality        -0.503381\n",
       "RoomSpace           -0.482952\n",
       "CheckOut            -0.750689\n",
       "Checkin             -0.382588\n",
       "Cleanliness         -0.745131\n",
       "BarService          -0.358297\n",
       "Gender               0.048900\n",
       "dtype: float64"
      ]
     },
     "execution_count": 63,
     "metadata": {},
     "output_type": "execute_result"
    }
   ],
   "source": [
    "df.skew()"
   ]
  },
  {
   "cell_type": "markdown",
   "id": "c2de8db4",
   "metadata": {},
   "source": [
    "TODO: Analyze these results"
   ]
  },
  {
   "cell_type": "markdown",
   "id": "b5d53d47",
   "metadata": {},
   "source": [
    "#### 1.3 Missing Values"
   ]
  },
  {
   "cell_type": "code",
   "execution_count": 64,
   "id": "ab5d9105",
   "metadata": {},
   "outputs": [
    {
     "data": {
      "text/plain": [
       "Churn                  0\n",
       "Longevity              0\n",
       "Year_Birth           195\n",
       "TypeTravel             0\n",
       "RoomType               0\n",
       "RewardPoints           0\n",
       "Comfort                0\n",
       "ReceptionSchedule      0\n",
       "FoodDrink              0\n",
       "Location               0\n",
       "Wifi                   0\n",
       "Amenities              0\n",
       "Staff                  0\n",
       "OnlineBooking          0\n",
       "PriceQuality           0\n",
       "RoomSpace              0\n",
       "CheckOut               0\n",
       "Checkin                0\n",
       "Cleanliness            0\n",
       "BarService             0\n",
       "Gender                 0\n",
       "dtype: int64"
      ]
     },
     "execution_count": 64,
     "metadata": {},
     "output_type": "execute_result"
    }
   ],
   "source": [
    "df.isna().sum()"
   ]
  },
  {
   "cell_type": "markdown",
   "id": "75c2798d",
   "metadata": {},
   "source": [
    "Year of Birth is the only variable with missing values. We have different methods to fill in these missing values like using the mode, mean or KNN Inputer. We decided to fill these missing values with the mode."
   ]
  },
  {
   "cell_type": "code",
   "execution_count": 65,
   "id": "d3945bee",
   "metadata": {},
   "outputs": [],
   "source": [
    "#df.fillna(int(df['Year_Birth'].mode()), inplace=True)\n",
    "#print(int(df['Year_Birth'].mode())\n",
    "\n",
    "import numpy as np\n",
    "\n",
    "df_dropped = df.drop(columns=['Churn', 'RoomType', 'Longevity', 'TypeTravel'])\n",
    "\n",
    "from sklearn.impute import KNNImputer\n",
    "imputer = KNNImputer(n_neighbors=2)\n",
    "imputer_matrix = imputer.fit_transform(df_dropped)\n",
    "\n",
    "data_cleaned = pd.DataFrame(data=imputer_matrix, columns = df_dropped.columns, index = df_dropped.index)\n",
    "df['Year_Birth'] = data_cleaned['Year_Birth']"
   ]
  },
  {
   "cell_type": "code",
   "execution_count": 66,
   "id": "1b9f79d9",
   "metadata": {},
   "outputs": [
    {
     "data": {
      "text/plain": [
       "Churn                0\n",
       "Longevity            0\n",
       "Year_Birth           0\n",
       "TypeTravel           0\n",
       "RoomType             0\n",
       "RewardPoints         0\n",
       "Comfort              0\n",
       "ReceptionSchedule    0\n",
       "FoodDrink            0\n",
       "Location             0\n",
       "Wifi                 0\n",
       "Amenities            0\n",
       "Staff                0\n",
       "OnlineBooking        0\n",
       "PriceQuality         0\n",
       "RoomSpace            0\n",
       "CheckOut             0\n",
       "Checkin              0\n",
       "Cleanliness          0\n",
       "BarService           0\n",
       "Gender               0\n",
       "dtype: int64"
      ]
     },
     "execution_count": 66,
     "metadata": {},
     "output_type": "execute_result"
    }
   ],
   "source": [
    "df.isna().sum()"
   ]
  },
  {
   "cell_type": "code",
   "execution_count": 67,
   "id": "658cb641",
   "metadata": {},
   "outputs": [],
   "source": [
    "#converter Year_Birth para integer\n",
    "df['Year_Birth'] = df['Year_Birth'].astype('int64')"
   ]
  },
  {
   "cell_type": "markdown",
   "id": "3a3efe38",
   "metadata": {},
   "source": [
    "Now we have no missing values"
   ]
  },
  {
   "cell_type": "markdown",
   "id": "2943e5c9",
   "metadata": {},
   "source": [
    "#### 1.5 Duplicate Values"
   ]
  },
  {
   "cell_type": "code",
   "execution_count": 68,
   "id": "822fe20d",
   "metadata": {},
   "outputs": [],
   "source": [
    "#create duplicate datafranme\n",
    "duplicates = df.duplicated()"
   ]
  },
  {
   "cell_type": "code",
   "execution_count": 69,
   "id": "6ec0c272",
   "metadata": {},
   "outputs": [
    {
     "data": {
      "text/html": [
       "<div>\n",
       "<style scoped>\n",
       "    .dataframe tbody tr th:only-of-type {\n",
       "        vertical-align: middle;\n",
       "    }\n",
       "\n",
       "    .dataframe tbody tr th {\n",
       "        vertical-align: top;\n",
       "    }\n",
       "\n",
       "    .dataframe thead th {\n",
       "        text-align: right;\n",
       "    }\n",
       "</style>\n",
       "<table border=\"1\" class=\"dataframe\">\n",
       "  <thead>\n",
       "    <tr style=\"text-align: right;\">\n",
       "      <th></th>\n",
       "      <th>Churn</th>\n",
       "      <th>Longevity</th>\n",
       "      <th>Year_Birth</th>\n",
       "      <th>TypeTravel</th>\n",
       "      <th>RoomType</th>\n",
       "      <th>RewardPoints</th>\n",
       "      <th>Comfort</th>\n",
       "      <th>ReceptionSchedule</th>\n",
       "      <th>FoodDrink</th>\n",
       "      <th>Location</th>\n",
       "      <th>...</th>\n",
       "      <th>Amenities</th>\n",
       "      <th>Staff</th>\n",
       "      <th>OnlineBooking</th>\n",
       "      <th>PriceQuality</th>\n",
       "      <th>RoomSpace</th>\n",
       "      <th>CheckOut</th>\n",
       "      <th>Checkin</th>\n",
       "      <th>Cleanliness</th>\n",
       "      <th>BarService</th>\n",
       "      <th>Gender</th>\n",
       "    </tr>\n",
       "  </thead>\n",
       "  <tbody>\n",
       "    <tr>\n",
       "      <th>8195</th>\n",
       "      <td>nochurn</td>\n",
       "      <td>yes</td>\n",
       "      <td>1995</td>\n",
       "      <td>leisure</td>\n",
       "      <td>double</td>\n",
       "      <td>5098</td>\n",
       "      <td>5</td>\n",
       "      <td>5</td>\n",
       "      <td>5</td>\n",
       "      <td>5</td>\n",
       "      <td>...</td>\n",
       "      <td>5</td>\n",
       "      <td>5</td>\n",
       "      <td>3</td>\n",
       "      <td>3</td>\n",
       "      <td>4</td>\n",
       "      <td>3</td>\n",
       "      <td>3</td>\n",
       "      <td>3</td>\n",
       "      <td>5</td>\n",
       "      <td>0</td>\n",
       "    </tr>\n",
       "    <tr>\n",
       "      <th>9176</th>\n",
       "      <td>churn</td>\n",
       "      <td>yes</td>\n",
       "      <td>1991</td>\n",
       "      <td>business</td>\n",
       "      <td>suite</td>\n",
       "      <td>5932</td>\n",
       "      <td>3</td>\n",
       "      <td>3</td>\n",
       "      <td>2</td>\n",
       "      <td>3</td>\n",
       "      <td>...</td>\n",
       "      <td>3</td>\n",
       "      <td>3</td>\n",
       "      <td>3</td>\n",
       "      <td>4</td>\n",
       "      <td>1</td>\n",
       "      <td>4</td>\n",
       "      <td>3</td>\n",
       "      <td>4</td>\n",
       "      <td>3</td>\n",
       "      <td>0</td>\n",
       "    </tr>\n",
       "    <tr>\n",
       "      <th>9417</th>\n",
       "      <td>nochurn</td>\n",
       "      <td>yes</td>\n",
       "      <td>1972</td>\n",
       "      <td>business</td>\n",
       "      <td>double</td>\n",
       "      <td>6769</td>\n",
       "      <td>5</td>\n",
       "      <td>4</td>\n",
       "      <td>4</td>\n",
       "      <td>4</td>\n",
       "      <td>...</td>\n",
       "      <td>5</td>\n",
       "      <td>4</td>\n",
       "      <td>5</td>\n",
       "      <td>5</td>\n",
       "      <td>5</td>\n",
       "      <td>5</td>\n",
       "      <td>2</td>\n",
       "      <td>5</td>\n",
       "      <td>1</td>\n",
       "      <td>0</td>\n",
       "    </tr>\n",
       "  </tbody>\n",
       "</table>\n",
       "<p>3 rows × 21 columns</p>\n",
       "</div>"
      ],
      "text/plain": [
       "        Churn Longevity  Year_Birth TypeTravel RoomType  RewardPoints  \\\n",
       "8195  nochurn       yes        1995    leisure   double          5098   \n",
       "9176    churn       yes        1991   business    suite          5932   \n",
       "9417  nochurn       yes        1972   business   double          6769   \n",
       "\n",
       "      Comfort  ReceptionSchedule  FoodDrink  Location  ...  Amenities  Staff  \\\n",
       "8195        5                  5          5         5  ...          5      5   \n",
       "9176        3                  3          2         3  ...          3      3   \n",
       "9417        5                  4          4         4  ...          5      4   \n",
       "\n",
       "      OnlineBooking  PriceQuality  RoomSpace  CheckOut  Checkin  Cleanliness  \\\n",
       "8195              3             3          4         3        3            3   \n",
       "9176              3             4          1         4        3            4   \n",
       "9417              5             5          5         5        2            5   \n",
       "\n",
       "      BarService  Gender  \n",
       "8195           5       0  \n",
       "9176           3       0  \n",
       "9417           1       0  \n",
       "\n",
       "[3 rows x 21 columns]"
      ]
     },
     "execution_count": 69,
     "metadata": {},
     "output_type": "execute_result"
    }
   ],
   "source": [
    "#visualize the duplicates\n",
    "df[duplicates]"
   ]
  },
  {
   "cell_type": "code",
   "execution_count": 70,
   "id": "d24b4327",
   "metadata": {},
   "outputs": [
    {
     "data": {
      "text/plain": [
       "(15586, 21)"
      ]
     },
     "execution_count": 70,
     "metadata": {},
     "output_type": "execute_result"
    }
   ],
   "source": [
    "df.drop_duplicates(inplace = True)\n",
    "df.shape"
   ]
  },
  {
   "cell_type": "markdown",
   "id": "f55c4c20",
   "metadata": {},
   "source": [
    "#### 1.6 Outliers"
   ]
  },
  {
   "cell_type": "code",
   "execution_count": 71,
   "id": "6ab0334e",
   "metadata": {},
   "outputs": [],
   "source": [
    "#method to return the boundaries of IQR \n",
    "def get_IQR_bounds(s):\n",
    "    q1 = s.quantile(0.25)\n",
    "    q3 = s.quantile(0.75)\n",
    "    \n",
    "    iqr = q3 - q1\n",
    "    \n",
    "    lower_bound = q1 -(1.5 * iqr)\n",
    "    upper_bound = q3 +(1.5 * iqr)\n",
    "    \n",
    "    return (lower_bound,upper_bound)"
   ]
  },
  {
   "cell_type": "markdown",
   "id": "092432a0",
   "metadata": {},
   "source": [
    "##### 1.6.1 Removing Outliers on Reward Points"
   ]
  },
  {
   "cell_type": "code",
   "execution_count": 72,
   "id": "50e3d08d",
   "metadata": {},
   "outputs": [
    {
     "data": {
      "text/plain": [
       "count    15586.000000\n",
       "mean      5022.418581\n",
       "std       1027.940126\n",
       "min        409.000000\n",
       "25%       4445.000000\n",
       "50%       5088.000000\n",
       "75%       5648.750000\n",
       "max       6950.000000\n",
       "Name: RewardPoints, dtype: float64"
      ]
     },
     "execution_count": 72,
     "metadata": {},
     "output_type": "execute_result"
    }
   ],
   "source": [
    "df['RewardPoints'].describe()"
   ]
  },
  {
   "cell_type": "code",
   "execution_count": 73,
   "id": "825da8e9",
   "metadata": {},
   "outputs": [
    {
     "name": "stdout",
     "output_type": "stream",
     "text": [
      "There are been 293 outliers removed\n"
     ]
    }
   ],
   "source": [
    "df = df[df['RewardPoints'] > get_IQR_bounds(df['RewardPoints'])[0]]\n",
    "\n",
    "print(\"There are been\",df_original_row_size - df.shape[0], \"outliers removed\")"
   ]
  },
  {
   "cell_type": "code",
   "execution_count": 74,
   "id": "6d712ef4",
   "metadata": {},
   "outputs": [
    {
     "data": {
      "text/plain": [
       "<AxesSubplot:xlabel='RewardPoints', ylabel='Count'>"
      ]
     },
     "execution_count": 74,
     "metadata": {},
     "output_type": "execute_result"
    },
    {
     "data": {
      "image/png": "[encoded data removed]",
      "text/plain": [
       "<Figure size 432x288 with 1 Axes>"
      ]
     },
     "metadata": {
      "needs_background": "light"
     },
     "output_type": "display_data"
    }
   ],
   "source": [
    "sns.histplot(df[\"RewardPoints\"], color=\"skyblue\")"
   ]
  },
  {
   "cell_type": "markdown",
   "id": "06f54503",
   "metadata": {},
   "source": [
    "##### 1.6.2 Removing Outliers on Ratings Variables"
   ]
  },
  {
   "cell_type": "markdown",
   "id": "6ee64650",
   "metadata": {},
   "source": [
    "After some research and analysis on the subject, we decided not to remove outliers on the two ratings variables that presented outliers in the boxplot visualization. Those are 'PriceQuality' and 'Checkin'. The reason we did not remove them was because they were too many entries that would have to be removed, and if we did, we would effectively be shortening the rating scale for the rating data."
   ]
  },
  {
   "cell_type": "markdown",
   "id": "c7a96de3",
   "metadata": {},
   "source": [
    "Instead, we will look for straight lining on the ratings entries, meaning people who answered all the answers with the same variable, which can mean they were in a rush and decided to fill the survey as fast as they could."
   ]
  },
  {
   "cell_type": "markdown",
   "id": "1598f705",
   "metadata": {},
   "source": [
    "##### 1.6.1 Removing Outliers on Straight Lining entries to the Ratings Variables"
   ]
  },
  {
   "cell_type": "code",
   "execution_count": 75,
   "id": "7378d5a7",
   "metadata": {},
   "outputs": [
    {
     "data": {
      "text/plain": [
       "Index(['Churn', 'Longevity', 'Year_Birth', 'TypeTravel', 'RoomType',\n",
       "       'RewardPoints', 'Comfort', 'ReceptionSchedule', 'FoodDrink', 'Location',\n",
       "       'Wifi', 'Amenities', 'Staff', 'OnlineBooking', 'PriceQuality',\n",
       "       'RoomSpace', 'CheckOut', 'Checkin', 'Cleanliness', 'BarService',\n",
       "       'Gender'],\n",
       "      dtype='object')"
      ]
     },
     "execution_count": 75,
     "metadata": {},
     "output_type": "execute_result"
    }
   ],
   "source": [
    "df.columns"
   ]
  },
  {
   "cell_type": "code",
   "execution_count": 76,
   "id": "571f8a0c",
   "metadata": {},
   "outputs": [],
   "source": [
    "straight_lining_entries = df[(df['Comfort'] == df['ReceptionSchedule']) & (df['Comfort'] == df['FoodDrink']) & (df['Comfort'] == df['Location']) & (df['Comfort'] == df['Wifi']) & (df['Comfort'] == df['Amenities']) & (df['Comfort'] == df['Staff']) & (df['Comfort'] == df['OnlineBooking']) & (df['Comfort'] == df['PriceQuality']) & (df['Comfort'] == df['RoomSpace']) & (df['Comfort'] == df['CheckOut']) & (df['Comfort'] == df['Checkin']) & (df['Comfort'] == df['Cleanliness']) & (df['Comfort'] == df['BarService'])]"
   ]
  },
  {
   "cell_type": "code",
   "execution_count": 77,
   "id": "c53db7c0",
   "metadata": {},
   "outputs": [
    {
     "data": {
      "text/html": [
       "<div>\n",
       "<style scoped>\n",
       "    .dataframe tbody tr th:only-of-type {\n",
       "        vertical-align: middle;\n",
       "    }\n",
       "\n",
       "    .dataframe tbody tr th {\n",
       "        vertical-align: top;\n",
       "    }\n",
       "\n",
       "    .dataframe thead th {\n",
       "        text-align: right;\n",
       "    }\n",
       "</style>\n",
       "<table border=\"1\" class=\"dataframe\">\n",
       "  <thead>\n",
       "    <tr style=\"text-align: right;\">\n",
       "      <th></th>\n",
       "      <th>Churn</th>\n",
       "      <th>Longevity</th>\n",
       "      <th>Year_Birth</th>\n",
       "      <th>TypeTravel</th>\n",
       "      <th>RoomType</th>\n",
       "      <th>RewardPoints</th>\n",
       "      <th>Comfort</th>\n",
       "      <th>ReceptionSchedule</th>\n",
       "      <th>FoodDrink</th>\n",
       "      <th>Location</th>\n",
       "      <th>...</th>\n",
       "      <th>Amenities</th>\n",
       "      <th>Staff</th>\n",
       "      <th>OnlineBooking</th>\n",
       "      <th>PriceQuality</th>\n",
       "      <th>RoomSpace</th>\n",
       "      <th>CheckOut</th>\n",
       "      <th>Checkin</th>\n",
       "      <th>Cleanliness</th>\n",
       "      <th>BarService</th>\n",
       "      <th>Gender</th>\n",
       "    </tr>\n",
       "  </thead>\n",
       "  <tbody>\n",
       "    <tr>\n",
       "      <th>1548</th>\n",
       "      <td>nochurn</td>\n",
       "      <td>yes</td>\n",
       "      <td>1981</td>\n",
       "      <td>business</td>\n",
       "      <td>single</td>\n",
       "      <td>5289</td>\n",
       "      <td>4</td>\n",
       "      <td>4</td>\n",
       "      <td>4</td>\n",
       "      <td>4</td>\n",
       "      <td>...</td>\n",
       "      <td>4</td>\n",
       "      <td>4</td>\n",
       "      <td>4</td>\n",
       "      <td>4</td>\n",
       "      <td>4</td>\n",
       "      <td>4</td>\n",
       "      <td>4</td>\n",
       "      <td>4</td>\n",
       "      <td>4</td>\n",
       "      <td>1</td>\n",
       "    </tr>\n",
       "    <tr>\n",
       "      <th>15259</th>\n",
       "      <td>nochurn</td>\n",
       "      <td>yes</td>\n",
       "      <td>1976</td>\n",
       "      <td>business</td>\n",
       "      <td>single</td>\n",
       "      <td>6699</td>\n",
       "      <td>5</td>\n",
       "      <td>5</td>\n",
       "      <td>5</td>\n",
       "      <td>5</td>\n",
       "      <td>...</td>\n",
       "      <td>5</td>\n",
       "      <td>5</td>\n",
       "      <td>5</td>\n",
       "      <td>5</td>\n",
       "      <td>5</td>\n",
       "      <td>5</td>\n",
       "      <td>5</td>\n",
       "      <td>5</td>\n",
       "      <td>5</td>\n",
       "      <td>1</td>\n",
       "    </tr>\n",
       "  </tbody>\n",
       "</table>\n",
       "<p>2 rows × 21 columns</p>\n",
       "</div>"
      ],
      "text/plain": [
       "         Churn Longevity  Year_Birth TypeTravel RoomType  RewardPoints  \\\n",
       "1548   nochurn       yes        1981   business   single          5289   \n",
       "15259  nochurn       yes        1976   business   single          6699   \n",
       "\n",
       "       Comfort  ReceptionSchedule  FoodDrink  Location  ...  Amenities  Staff  \\\n",
       "1548         4                  4          4         4  ...          4      4   \n",
       "15259        5                  5          5         5  ...          5      5   \n",
       "\n",
       "       OnlineBooking  PriceQuality  RoomSpace  CheckOut  Checkin  Cleanliness  \\\n",
       "1548               4             4          4         4        4            4   \n",
       "15259              5             5          5         5        5            5   \n",
       "\n",
       "       BarService  Gender  \n",
       "1548            4       1  \n",
       "15259           5       1  \n",
       "\n",
       "[2 rows x 21 columns]"
      ]
     },
     "execution_count": 77,
     "metadata": {},
     "output_type": "execute_result"
    }
   ],
   "source": [
    "straight_lining_entries"
   ]
  },
  {
   "cell_type": "markdown",
   "id": "2beed2f1",
   "metadata": {},
   "source": [
    " #### Removing straight lines"
   ]
  },
  {
   "cell_type": "code",
   "execution_count": 85,
   "id": "9c4a8113",
   "metadata": {},
   "outputs": [
    {
     "data": {
      "text/plain": [
       "((15294, 21), (15296, 21))"
      ]
     },
     "execution_count": 85,
     "metadata": {},
     "output_type": "execute_result"
    }
   ],
   "source": [
    "df.drop(straight_lining_entries.index, axis=0, inplace=True)"
   ]
  },
  {
   "cell_type": "markdown",
   "id": "0557993c",
   "metadata": {},
   "source": [
    "We found 2 entries that are considered straight lining answers and we will remove them from the data"
   ]
  },
  {
   "cell_type": "markdown",
   "id": "cc90f5fa",
   "metadata": {},
   "source": [
    "#### 1.7 Feature Engineering"
   ]
  },
  {
   "cell_type": "markdown",
   "id": "d344c310",
   "metadata": {},
   "source": [
    "##### 1.7.1 Creating Age Variable"
   ]
  },
  {
   "cell_type": "code",
   "execution_count": 88,
   "id": "ce2a3397",
   "metadata": {},
   "outputs": [],
   "source": [
    "df['Age'] = date.today().year - df['Year_Birth']"
   ]
  },
  {
   "cell_type": "code",
   "execution_count": 89,
   "id": "ac040e09",
   "metadata": {},
   "outputs": [],
   "source": [
    "del df['Year_Birth']"
   ]
  },
  {
   "cell_type": "code",
   "execution_count": 111,
   "id": "d1bf776f",
   "metadata": {},
   "outputs": [],
   "source": [
    "age_analysis_col = ['Age', 'Comfort', 'ReceptionSchedule', 'FoodDrink', 'Location', 'Wifi',\n",
    "'Amenities', 'Staff', 'OnlineBooking', 'PriceQuality', 'RoomSpace',\n",
    " 'CheckOut', 'Checkin', 'Cleanliness', 'BarService']\n",
    "likert_columns = ['Comfort', 'ReceptionSchedule', 'FoodDrink', 'Location', 'Wifi',\n",
    "'Amenities', 'Staff', 'OnlineBooking', 'PriceQuality', 'RoomSpace',\n",
    " 'CheckOut', 'Checkin', 'Cleanliness', 'BarService']"
   ]
  },
  {
   "cell_type": "code",
   "execution_count": 104,
   "id": "4e9be4bb",
   "metadata": {},
   "outputs": [
    {
     "data": {
      "text/html": [
       "<div>\n",
       "<style scoped>\n",
       "    .dataframe tbody tr th:only-of-type {\n",
       "        vertical-align: middle;\n",
       "    }\n",
       "\n",
       "    .dataframe tbody tr th {\n",
       "        vertical-align: top;\n",
       "    }\n",
       "\n",
       "    .dataframe thead th {\n",
       "        text-align: right;\n",
       "    }\n",
       "</style>\n",
       "<table border=\"1\" class=\"dataframe\">\n",
       "  <thead>\n",
       "    <tr style=\"text-align: right;\">\n",
       "      <th></th>\n",
       "      <th>Comfort</th>\n",
       "      <th>ReceptionSchedule</th>\n",
       "      <th>FoodDrink</th>\n",
       "      <th>Location</th>\n",
       "      <th>Wifi</th>\n",
       "      <th>Amenities</th>\n",
       "      <th>Staff</th>\n",
       "      <th>OnlineBooking</th>\n",
       "      <th>PriceQuality</th>\n",
       "      <th>RoomSpace</th>\n",
       "      <th>CheckOut</th>\n",
       "      <th>Checkin</th>\n",
       "      <th>Cleanliness</th>\n",
       "      <th>BarService</th>\n",
       "    </tr>\n",
       "    <tr>\n",
       "      <th>Age</th>\n",
       "      <th></th>\n",
       "      <th></th>\n",
       "      <th></th>\n",
       "      <th></th>\n",
       "      <th></th>\n",
       "      <th></th>\n",
       "      <th></th>\n",
       "      <th></th>\n",
       "      <th></th>\n",
       "      <th></th>\n",
       "      <th></th>\n",
       "      <th></th>\n",
       "      <th></th>\n",
       "      <th></th>\n",
       "    </tr>\n",
       "  </thead>\n",
       "  <tbody>\n",
       "    <tr>\n",
       "      <th>8</th>\n",
       "      <td>2.855422</td>\n",
       "      <td>3.445783</td>\n",
       "      <td>2.698795</td>\n",
       "      <td>3.168675</td>\n",
       "      <td>2.987952</td>\n",
       "      <td>3.048193</td>\n",
       "      <td>3.397590</td>\n",
       "      <td>3.349398</td>\n",
       "      <td>3.542169</td>\n",
       "      <td>3.530120</td>\n",
       "      <td>3.783133</td>\n",
       "      <td>3.361446</td>\n",
       "      <td>3.867470</td>\n",
       "      <td>3.216867</td>\n",
       "    </tr>\n",
       "    <tr>\n",
       "      <th>9</th>\n",
       "      <td>2.785714</td>\n",
       "      <td>3.142857</td>\n",
       "      <td>2.887755</td>\n",
       "      <td>3.000000</td>\n",
       "      <td>2.948980</td>\n",
       "      <td>2.938776</td>\n",
       "      <td>3.071429</td>\n",
       "      <td>3.051020</td>\n",
       "      <td>3.397959</td>\n",
       "      <td>3.377551</td>\n",
       "      <td>3.816327</td>\n",
       "      <td>3.285714</td>\n",
       "      <td>3.755102</td>\n",
       "      <td>3.000000</td>\n",
       "    </tr>\n",
       "    <tr>\n",
       "      <th>10</th>\n",
       "      <td>2.724490</td>\n",
       "      <td>3.346939</td>\n",
       "      <td>2.724490</td>\n",
       "      <td>3.061224</td>\n",
       "      <td>3.020408</td>\n",
       "      <td>2.969388</td>\n",
       "      <td>3.224490</td>\n",
       "      <td>3.142857</td>\n",
       "      <td>3.224490</td>\n",
       "      <td>3.244898</td>\n",
       "      <td>3.581633</td>\n",
       "      <td>3.204082</td>\n",
       "      <td>3.551020</td>\n",
       "      <td>3.071429</td>\n",
       "    </tr>\n",
       "    <tr>\n",
       "      <th>11</th>\n",
       "      <td>2.705263</td>\n",
       "      <td>3.200000</td>\n",
       "      <td>2.494737</td>\n",
       "      <td>2.768421</td>\n",
       "      <td>3.210526</td>\n",
       "      <td>2.989474</td>\n",
       "      <td>3.178947</td>\n",
       "      <td>3.284211</td>\n",
       "      <td>3.473684</td>\n",
       "      <td>3.221053</td>\n",
       "      <td>3.673684</td>\n",
       "      <td>3.305263</td>\n",
       "      <td>3.810526</td>\n",
       "      <td>3.273684</td>\n",
       "    </tr>\n",
       "    <tr>\n",
       "      <th>12</th>\n",
       "      <td>2.666667</td>\n",
       "      <td>3.200000</td>\n",
       "      <td>2.733333</td>\n",
       "      <td>3.038095</td>\n",
       "      <td>2.971429</td>\n",
       "      <td>2.895238</td>\n",
       "      <td>3.104762</td>\n",
       "      <td>3.038095</td>\n",
       "      <td>3.323810</td>\n",
       "      <td>3.219048</td>\n",
       "      <td>3.600000</td>\n",
       "      <td>3.276190</td>\n",
       "      <td>3.733333</td>\n",
       "      <td>3.019048</td>\n",
       "    </tr>\n",
       "  </tbody>\n",
       "</table>\n",
       "</div>"
      ],
      "text/plain": [
       "      Comfort  ReceptionSchedule  FoodDrink  Location      Wifi  Amenities  \\\n",
       "Age                                                                          \n",
       "8    2.855422           3.445783   2.698795  3.168675  2.987952   3.048193   \n",
       "9    2.785714           3.142857   2.887755  3.000000  2.948980   2.938776   \n",
       "10   2.724490           3.346939   2.724490  3.061224  3.020408   2.969388   \n",
       "11   2.705263           3.200000   2.494737  2.768421  3.210526   2.989474   \n",
       "12   2.666667           3.200000   2.733333  3.038095  2.971429   2.895238   \n",
       "\n",
       "        Staff  OnlineBooking  PriceQuality  RoomSpace  CheckOut   Checkin  \\\n",
       "Age                                                                         \n",
       "8    3.397590       3.349398      3.542169   3.530120  3.783133  3.361446   \n",
       "9    3.071429       3.051020      3.397959   3.377551  3.816327  3.285714   \n",
       "10   3.224490       3.142857      3.224490   3.244898  3.581633  3.204082   \n",
       "11   3.178947       3.284211      3.473684   3.221053  3.673684  3.305263   \n",
       "12   3.104762       3.038095      3.323810   3.219048  3.600000  3.276190   \n",
       "\n",
       "     Cleanliness  BarService  \n",
       "Age                           \n",
       "8       3.867470    3.216867  \n",
       "9       3.755102    3.000000  \n",
       "10      3.551020    3.071429  \n",
       "11      3.810526    3.273684  \n",
       "12      3.733333    3.019048  "
      ]
     },
     "execution_count": 104,
     "metadata": {},
     "output_type": "execute_result"
    }
   ],
   "source": [
    "df_age_analysys = df[age_analysis_col].groupby('Age').mean()\n",
    "df_age_analysys.head()"
   ]
  },
  {
   "cell_type": "code",
   "execution_count": 103,
   "id": "62d7a1f5",
   "metadata": {},
   "outputs": [
    {
     "data": {
      "text/plain": [
       "Comfort              2.849045\n",
       "ReceptionSchedule    3.048853\n",
       "FoodDrink            2.855924\n",
       "Location             2.994985\n",
       "Wifi                 3.206002\n",
       "Amenities            3.262223\n",
       "Staff                3.415295\n",
       "OnlineBooking        3.380565\n",
       "PriceQuality         3.360911\n",
       "RoomSpace            3.434919\n",
       "CheckOut             3.607136\n",
       "Checkin              3.226438\n",
       "Cleanliness          3.584134\n",
       "BarService           3.261420\n",
       "dtype: float64"
      ]
     },
     "execution_count": 103,
     "metadata": {},
     "output_type": "execute_result"
    }
   ],
   "source": [
    "df_age_analysys.mean()"
   ]
  },
  {
   "cell_type": "code",
   "execution_count": 105,
   "id": "c62081fb",
   "metadata": {},
   "outputs": [
    {
     "data": {
      "text/html": [
       "<div>\n",
       "<style scoped>\n",
       "    .dataframe tbody tr th:only-of-type {\n",
       "        vertical-align: middle;\n",
       "    }\n",
       "\n",
       "    .dataframe tbody tr th {\n",
       "        vertical-align: top;\n",
       "    }\n",
       "\n",
       "    .dataframe thead th {\n",
       "        text-align: right;\n",
       "    }\n",
       "</style>\n",
       "<table border=\"1\" class=\"dataframe\">\n",
       "  <thead>\n",
       "    <tr style=\"text-align: right;\">\n",
       "      <th></th>\n",
       "      <th>Comfort</th>\n",
       "      <th>ReceptionSchedule</th>\n",
       "      <th>FoodDrink</th>\n",
       "      <th>Location</th>\n",
       "      <th>Wifi</th>\n",
       "      <th>Amenities</th>\n",
       "      <th>Staff</th>\n",
       "      <th>OnlineBooking</th>\n",
       "      <th>PriceQuality</th>\n",
       "      <th>RoomSpace</th>\n",
       "      <th>CheckOut</th>\n",
       "      <th>Checkin</th>\n",
       "      <th>Cleanliness</th>\n",
       "      <th>BarService</th>\n",
       "    </tr>\n",
       "    <tr>\n",
       "      <th>Age</th>\n",
       "      <th></th>\n",
       "      <th></th>\n",
       "      <th></th>\n",
       "      <th></th>\n",
       "      <th></th>\n",
       "      <th></th>\n",
       "      <th></th>\n",
       "      <th></th>\n",
       "      <th></th>\n",
       "      <th></th>\n",
       "      <th></th>\n",
       "      <th></th>\n",
       "      <th></th>\n",
       "      <th></th>\n",
       "    </tr>\n",
       "  </thead>\n",
       "  <tbody>\n",
       "    <tr>\n",
       "      <th>8</th>\n",
       "      <td>0.006376</td>\n",
       "      <td>0.396930</td>\n",
       "      <td>-0.157129</td>\n",
       "      <td>0.173690</td>\n",
       "      <td>-0.218051</td>\n",
       "      <td>-0.214030</td>\n",
       "      <td>-0.017705</td>\n",
       "      <td>-0.031167</td>\n",
       "      <td>0.181258</td>\n",
       "      <td>0.095202</td>\n",
       "      <td>0.175997</td>\n",
       "      <td>0.135008</td>\n",
       "      <td>0.283335</td>\n",
       "      <td>-0.044553</td>\n",
       "    </tr>\n",
       "    <tr>\n",
       "      <th>9</th>\n",
       "      <td>-0.063331</td>\n",
       "      <td>0.094004</td>\n",
       "      <td>0.031831</td>\n",
       "      <td>0.005015</td>\n",
       "      <td>-0.257023</td>\n",
       "      <td>-0.323448</td>\n",
       "      <td>-0.343866</td>\n",
       "      <td>-0.329545</td>\n",
       "      <td>0.037049</td>\n",
       "      <td>-0.057368</td>\n",
       "      <td>0.209191</td>\n",
       "      <td>0.059277</td>\n",
       "      <td>0.170968</td>\n",
       "      <td>-0.261420</td>\n",
       "    </tr>\n",
       "    <tr>\n",
       "      <th>10</th>\n",
       "      <td>-0.124556</td>\n",
       "      <td>0.298086</td>\n",
       "      <td>-0.131435</td>\n",
       "      <td>0.066240</td>\n",
       "      <td>-0.185594</td>\n",
       "      <td>-0.292835</td>\n",
       "      <td>-0.190805</td>\n",
       "      <td>-0.237708</td>\n",
       "      <td>-0.136421</td>\n",
       "      <td>-0.190021</td>\n",
       "      <td>-0.025503</td>\n",
       "      <td>-0.022356</td>\n",
       "      <td>-0.033114</td>\n",
       "      <td>-0.189992</td>\n",
       "    </tr>\n",
       "    <tr>\n",
       "      <th>11</th>\n",
       "      <td>-0.143782</td>\n",
       "      <td>0.151147</td>\n",
       "      <td>-0.361188</td>\n",
       "      <td>-0.226564</td>\n",
       "      <td>0.004524</td>\n",
       "      <td>-0.272749</td>\n",
       "      <td>-0.236348</td>\n",
       "      <td>-0.096355</td>\n",
       "      <td>0.112774</td>\n",
       "      <td>-0.213866</td>\n",
       "      <td>0.066549</td>\n",
       "      <td>0.078825</td>\n",
       "      <td>0.226392</td>\n",
       "      <td>0.012264</td>\n",
       "    </tr>\n",
       "    <tr>\n",
       "      <th>12</th>\n",
       "      <td>-0.182379</td>\n",
       "      <td>0.151147</td>\n",
       "      <td>-0.122591</td>\n",
       "      <td>0.043110</td>\n",
       "      <td>-0.234574</td>\n",
       "      <td>-0.366985</td>\n",
       "      <td>-0.310533</td>\n",
       "      <td>-0.342470</td>\n",
       "      <td>-0.037101</td>\n",
       "      <td>-0.215871</td>\n",
       "      <td>-0.007136</td>\n",
       "      <td>0.049753</td>\n",
       "      <td>0.149199</td>\n",
       "      <td>-0.242373</td>\n",
       "    </tr>\n",
       "    <tr>\n",
       "      <th>...</th>\n",
       "      <td>...</td>\n",
       "      <td>...</td>\n",
       "      <td>...</td>\n",
       "      <td>...</td>\n",
       "      <td>...</td>\n",
       "      <td>...</td>\n",
       "      <td>...</td>\n",
       "      <td>...</td>\n",
       "      <td>...</td>\n",
       "      <td>...</td>\n",
       "      <td>...</td>\n",
       "      <td>...</td>\n",
       "      <td>...</td>\n",
       "      <td>...</td>\n",
       "    </tr>\n",
       "    <tr>\n",
       "      <th>78</th>\n",
       "      <td>0.150955</td>\n",
       "      <td>0.201147</td>\n",
       "      <td>0.831576</td>\n",
       "      <td>0.442515</td>\n",
       "      <td>0.293998</td>\n",
       "      <td>0.237777</td>\n",
       "      <td>-0.352795</td>\n",
       "      <td>-0.193065</td>\n",
       "      <td>-0.423411</td>\n",
       "      <td>-0.372419</td>\n",
       "      <td>-0.669636</td>\n",
       "      <td>-0.913938</td>\n",
       "      <td>-0.459134</td>\n",
       "      <td>-0.323920</td>\n",
       "    </tr>\n",
       "    <tr>\n",
       "      <th>79</th>\n",
       "      <td>0.150955</td>\n",
       "      <td>0.451147</td>\n",
       "      <td>0.477409</td>\n",
       "      <td>0.505015</td>\n",
       "      <td>-0.206002</td>\n",
       "      <td>-0.928890</td>\n",
       "      <td>-0.915295</td>\n",
       "      <td>-0.213898</td>\n",
       "      <td>-0.027577</td>\n",
       "      <td>0.231748</td>\n",
       "      <td>-0.440469</td>\n",
       "      <td>-1.226438</td>\n",
       "      <td>-0.250801</td>\n",
       "      <td>0.071913</td>\n",
       "    </tr>\n",
       "    <tr>\n",
       "      <th>80</th>\n",
       "      <td>0.150955</td>\n",
       "      <td>0.284480</td>\n",
       "      <td>-0.189258</td>\n",
       "      <td>0.005015</td>\n",
       "      <td>1.460664</td>\n",
       "      <td>-0.928890</td>\n",
       "      <td>-0.748628</td>\n",
       "      <td>-0.380565</td>\n",
       "      <td>-0.360911</td>\n",
       "      <td>-0.434919</td>\n",
       "      <td>-0.607136</td>\n",
       "      <td>-0.893104</td>\n",
       "      <td>-0.584134</td>\n",
       "      <td>-1.928087</td>\n",
       "    </tr>\n",
       "    <tr>\n",
       "      <th>81</th>\n",
       "      <td>-0.387507</td>\n",
       "      <td>-0.510391</td>\n",
       "      <td>-0.702078</td>\n",
       "      <td>-0.456523</td>\n",
       "      <td>0.024767</td>\n",
       "      <td>-0.262223</td>\n",
       "      <td>-0.184526</td>\n",
       "      <td>-0.149796</td>\n",
       "      <td>-0.053218</td>\n",
       "      <td>0.103543</td>\n",
       "      <td>-0.145597</td>\n",
       "      <td>-0.687976</td>\n",
       "      <td>-0.122596</td>\n",
       "      <td>-0.030651</td>\n",
       "    </tr>\n",
       "    <tr>\n",
       "      <th>86</th>\n",
       "      <td>0.150955</td>\n",
       "      <td>-2.048853</td>\n",
       "      <td>-1.855924</td>\n",
       "      <td>-1.994985</td>\n",
       "      <td>-0.206002</td>\n",
       "      <td>-0.262223</td>\n",
       "      <td>-0.415295</td>\n",
       "      <td>0.619435</td>\n",
       "      <td>-1.360911</td>\n",
       "      <td>0.565081</td>\n",
       "      <td>-0.607136</td>\n",
       "      <td>-0.226438</td>\n",
       "      <td>-2.584134</td>\n",
       "      <td>-0.261420</td>\n",
       "    </tr>\n",
       "  </tbody>\n",
       "</table>\n",
       "<p>75 rows × 14 columns</p>\n",
       "</div>"
      ],
      "text/plain": [
       "      Comfort  ReceptionSchedule  FoodDrink  Location      Wifi  Amenities  \\\n",
       "Age                                                                          \n",
       "8    0.006376           0.396930  -0.157129  0.173690 -0.218051  -0.214030   \n",
       "9   -0.063331           0.094004   0.031831  0.005015 -0.257023  -0.323448   \n",
       "10  -0.124556           0.298086  -0.131435  0.066240 -0.185594  -0.292835   \n",
       "11  -0.143782           0.151147  -0.361188 -0.226564  0.004524  -0.272749   \n",
       "12  -0.182379           0.151147  -0.122591  0.043110 -0.234574  -0.366985   \n",
       "..        ...                ...        ...       ...       ...        ...   \n",
       "78   0.150955           0.201147   0.831576  0.442515  0.293998   0.237777   \n",
       "79   0.150955           0.451147   0.477409  0.505015 -0.206002  -0.928890   \n",
       "80   0.150955           0.284480  -0.189258  0.005015  1.460664  -0.928890   \n",
       "81  -0.387507          -0.510391  -0.702078 -0.456523  0.024767  -0.262223   \n",
       "86   0.150955          -2.048853  -1.855924 -1.994985 -0.206002  -0.262223   \n",
       "\n",
       "        Staff  OnlineBooking  PriceQuality  RoomSpace  CheckOut   Checkin  \\\n",
       "Age                                                                         \n",
       "8   -0.017705      -0.031167      0.181258   0.095202  0.175997  0.135008   \n",
       "9   -0.343866      -0.329545      0.037049  -0.057368  0.209191  0.059277   \n",
       "10  -0.190805      -0.237708     -0.136421  -0.190021 -0.025503 -0.022356   \n",
       "11  -0.236348      -0.096355      0.112774  -0.213866  0.066549  0.078825   \n",
       "12  -0.310533      -0.342470     -0.037101  -0.215871 -0.007136  0.049753   \n",
       "..        ...            ...           ...        ...       ...       ...   \n",
       "78  -0.352795      -0.193065     -0.423411  -0.372419 -0.669636 -0.913938   \n",
       "79  -0.915295      -0.213898     -0.027577   0.231748 -0.440469 -1.226438   \n",
       "80  -0.748628      -0.380565     -0.360911  -0.434919 -0.607136 -0.893104   \n",
       "81  -0.184526      -0.149796     -0.053218   0.103543 -0.145597 -0.687976   \n",
       "86  -0.415295       0.619435     -1.360911   0.565081 -0.607136 -0.226438   \n",
       "\n",
       "     Cleanliness  BarService  \n",
       "Age                           \n",
       "8       0.283335   -0.044553  \n",
       "9       0.170968   -0.261420  \n",
       "10     -0.033114   -0.189992  \n",
       "11      0.226392    0.012264  \n",
       "12      0.149199   -0.242373  \n",
       "..           ...         ...  \n",
       "78     -0.459134   -0.323920  \n",
       "79     -0.250801    0.071913  \n",
       "80     -0.584134   -1.928087  \n",
       "81     -0.122596   -0.030651  \n",
       "86     -2.584134   -0.261420  \n",
       "\n",
       "[75 rows x 14 columns]"
      ]
     },
     "execution_count": 105,
     "metadata": {},
     "output_type": "execute_result"
    }
   ],
   "source": [
    "df_age_analysys - df_age_analysys.mean()"
   ]
  },
  {
   "cell_type": "code",
   "execution_count": 112,
   "id": "7fbc4ff2",
   "metadata": {},
   "outputs": [
    {
     "data": {
      "text/html": [
       "<div>\n",
       "<style scoped>\n",
       "    .dataframe tbody tr th:only-of-type {\n",
       "        vertical-align: middle;\n",
       "    }\n",
       "\n",
       "    .dataframe tbody tr th {\n",
       "        vertical-align: top;\n",
       "    }\n",
       "\n",
       "    .dataframe thead th {\n",
       "        text-align: right;\n",
       "    }\n",
       "</style>\n",
       "<table border=\"1\" class=\"dataframe\">\n",
       "  <thead>\n",
       "    <tr style=\"text-align: right;\">\n",
       "      <th></th>\n",
       "      <th>Comfort</th>\n",
       "      <th>ReceptionSchedule</th>\n",
       "      <th>FoodDrink</th>\n",
       "      <th>Location</th>\n",
       "      <th>Wifi</th>\n",
       "      <th>Amenities</th>\n",
       "      <th>Staff</th>\n",
       "      <th>OnlineBooking</th>\n",
       "      <th>PriceQuality</th>\n",
       "      <th>RoomSpace</th>\n",
       "      <th>CheckOut</th>\n",
       "      <th>Checkin</th>\n",
       "      <th>Cleanliness</th>\n",
       "      <th>BarService</th>\n",
       "    </tr>\n",
       "    <tr>\n",
       "      <th>Age</th>\n",
       "      <th></th>\n",
       "      <th></th>\n",
       "      <th></th>\n",
       "      <th></th>\n",
       "      <th></th>\n",
       "      <th></th>\n",
       "      <th></th>\n",
       "      <th></th>\n",
       "      <th></th>\n",
       "      <th></th>\n",
       "      <th></th>\n",
       "      <th></th>\n",
       "      <th></th>\n",
       "      <th></th>\n",
       "    </tr>\n",
       "  </thead>\n",
       "  <tbody>\n",
       "    <tr>\n",
       "      <th>72</th>\n",
       "      <td>0.127941</td>\n",
       "      <td>-0.321815</td>\n",
       "      <td>0.782600</td>\n",
       "      <td>0.676118</td>\n",
       "      <td>-2.320468</td>\n",
       "      <td>0.848797</td>\n",
       "      <td>-0.532268</td>\n",
       "      <td>-0.692196</td>\n",
       "      <td>-1.633511</td>\n",
       "      <td>-0.703626</td>\n",
       "      <td>-2.256539</td>\n",
       "      <td>-2.973850</td>\n",
       "      <td>-0.635421</td>\n",
       "      <td>-1.360627</td>\n",
       "    </tr>\n",
       "    <tr>\n",
       "      <th>73</th>\n",
       "      <td>0.836713</td>\n",
       "      <td>-0.832546</td>\n",
       "      <td>-0.198070</td>\n",
       "      <td>-0.336806</td>\n",
       "      <td>-2.576567</td>\n",
       "      <td>-0.485528</td>\n",
       "      <td>-0.464055</td>\n",
       "      <td>0.184032</td>\n",
       "      <td>-0.720682</td>\n",
       "      <td>-1.520108</td>\n",
       "      <td>-1.061886</td>\n",
       "      <td>-1.824280</td>\n",
       "      <td>-0.394129</td>\n",
       "      <td>-1.393453</td>\n",
       "    </tr>\n",
       "    <tr>\n",
       "      <th>74</th>\n",
       "      <td>-1.808218</td>\n",
       "      <td>0.699647</td>\n",
       "      <td>2.663338</td>\n",
       "      <td>1.005907</td>\n",
       "      <td>-0.886316</td>\n",
       "      <td>-0.194809</td>\n",
       "      <td>-0.054775</td>\n",
       "      <td>-2.992297</td>\n",
       "      <td>-2.514863</td>\n",
       "      <td>-3.491613</td>\n",
       "      <td>-2.999879</td>\n",
       "      <td>-1.086969</td>\n",
       "      <td>-2.746727</td>\n",
       "      <td>-1.935089</td>\n",
       "    </tr>\n",
       "    <tr>\n",
       "      <th>75</th>\n",
       "      <td>-1.626703</td>\n",
       "      <td>-1.180771</td>\n",
       "      <td>0.759091</td>\n",
       "      <td>0.016540</td>\n",
       "      <td>-0.348509</td>\n",
       "      <td>-0.820973</td>\n",
       "      <td>0.303345</td>\n",
       "      <td>-0.979709</td>\n",
       "      <td>-4.084771</td>\n",
       "      <td>0.272169</td>\n",
       "      <td>-3.650301</td>\n",
       "      <td>-2.002661</td>\n",
       "      <td>-1.796639</td>\n",
       "      <td>1.684023</td>\n",
       "    </tr>\n",
       "    <tr>\n",
       "      <th>76</th>\n",
       "      <td>0.289287</td>\n",
       "      <td>0.482973</td>\n",
       "      <td>1.973734</td>\n",
       "      <td>1.482269</td>\n",
       "      <td>0.547836</td>\n",
       "      <td>-1.168842</td>\n",
       "      <td>0.502301</td>\n",
       "      <td>-4.440508</td>\n",
       "      <td>-2.294525</td>\n",
       "      <td>-3.212815</td>\n",
       "      <td>-2.669506</td>\n",
       "      <td>-0.014037</td>\n",
       "      <td>-2.605973</td>\n",
       "      <td>0.247867</td>\n",
       "    </tr>\n",
       "    <tr>\n",
       "      <th>77</th>\n",
       "      <td>5.633891</td>\n",
       "      <td>3.694387</td>\n",
       "      <td>4.285475</td>\n",
       "      <td>4.138903</td>\n",
       "      <td>0.189298</td>\n",
       "      <td>0.744436</td>\n",
       "      <td>-0.144305</td>\n",
       "      <td>1.416229</td>\n",
       "      <td>0.046566</td>\n",
       "      <td>1.840411</td>\n",
       "      <td>-1.791952</td>\n",
       "      <td>-0.337766</td>\n",
       "      <td>-0.846552</td>\n",
       "      <td>0.391483</td>\n",
       "    </tr>\n",
       "    <tr>\n",
       "      <th>78</th>\n",
       "      <td>1.096020</td>\n",
       "      <td>0.560357</td>\n",
       "      <td>2.345964</td>\n",
       "      <td>1.459367</td>\n",
       "      <td>1.264912</td>\n",
       "      <td>0.744436</td>\n",
       "      <td>-1.263430</td>\n",
       "      <td>-0.740115</td>\n",
       "      <td>-1.399402</td>\n",
       "      <td>-1.557447</td>\n",
       "      <td>-2.488833</td>\n",
       "      <td>-3.043220</td>\n",
       "      <td>-1.163248</td>\n",
       "      <td>-1.116480</td>\n",
       "    </tr>\n",
       "    <tr>\n",
       "      <th>79</th>\n",
       "      <td>1.096020</td>\n",
       "      <td>1.256808</td>\n",
       "      <td>1.346822</td>\n",
       "      <td>1.665485</td>\n",
       "      <td>-0.886316</td>\n",
       "      <td>-2.908185</td>\n",
       "      <td>-3.277855</td>\n",
       "      <td>-0.819980</td>\n",
       "      <td>-0.091145</td>\n",
       "      <td>0.969166</td>\n",
       "      <td>-1.637090</td>\n",
       "      <td>-4.083780</td>\n",
       "      <td>-0.635421</td>\n",
       "      <td>0.247867</td>\n",
       "    </tr>\n",
       "    <tr>\n",
       "      <th>80</th>\n",
       "      <td>1.096020</td>\n",
       "      <td>0.792507</td>\n",
       "      <td>-0.533916</td>\n",
       "      <td>0.016540</td>\n",
       "      <td>6.284444</td>\n",
       "      <td>-2.908185</td>\n",
       "      <td>-2.680988</td>\n",
       "      <td>-1.458896</td>\n",
       "      <td>-1.192835</td>\n",
       "      <td>-1.818821</td>\n",
       "      <td>-2.256539</td>\n",
       "      <td>-2.973850</td>\n",
       "      <td>-1.479944</td>\n",
       "      <td>-6.645679</td>\n",
       "    </tr>\n",
       "    <tr>\n",
       "      <th>81</th>\n",
       "      <td>-2.813531</td>\n",
       "      <td>-1.421851</td>\n",
       "      <td>-1.980638</td>\n",
       "      <td>-1.505564</td>\n",
       "      <td>0.106558</td>\n",
       "      <td>-0.820973</td>\n",
       "      <td>-0.660824</td>\n",
       "      <td>-0.574242</td>\n",
       "      <td>-0.175890</td>\n",
       "      <td>0.433014</td>\n",
       "      <td>-0.541140</td>\n",
       "      <td>-2.290816</td>\n",
       "      <td>-0.310605</td>\n",
       "      <td>-0.105648</td>\n",
       "    </tr>\n",
       "    <tr>\n",
       "      <th>86</th>\n",
       "      <td>1.096020</td>\n",
       "      <td>-5.707704</td>\n",
       "      <td>-5.235761</td>\n",
       "      <td>-6.579241</td>\n",
       "      <td>-0.886316</td>\n",
       "      <td>-0.820973</td>\n",
       "      <td>-1.487255</td>\n",
       "      <td>2.374604</td>\n",
       "      <td>-4.497905</td>\n",
       "      <td>2.363159</td>\n",
       "      <td>-2.256539</td>\n",
       "      <td>-0.753990</td>\n",
       "      <td>-6.547077</td>\n",
       "      <td>-0.901057</td>\n",
       "    </tr>\n",
       "  </tbody>\n",
       "</table>\n",
       "</div>"
      ],
      "text/plain": [
       "      Comfort  ReceptionSchedule  FoodDrink  Location      Wifi  Amenities  \\\n",
       "Age                                                                          \n",
       "72   0.127941          -0.321815   0.782600  0.676118 -2.320468   0.848797   \n",
       "73   0.836713          -0.832546  -0.198070 -0.336806 -2.576567  -0.485528   \n",
       "74  -1.808218           0.699647   2.663338  1.005907 -0.886316  -0.194809   \n",
       "75  -1.626703          -1.180771   0.759091  0.016540 -0.348509  -0.820973   \n",
       "76   0.289287           0.482973   1.973734  1.482269  0.547836  -1.168842   \n",
       "77   5.633891           3.694387   4.285475  4.138903  0.189298   0.744436   \n",
       "78   1.096020           0.560357   2.345964  1.459367  1.264912   0.744436   \n",
       "79   1.096020           1.256808   1.346822  1.665485 -0.886316  -2.908185   \n",
       "80   1.096020           0.792507  -0.533916  0.016540  6.284444  -2.908185   \n",
       "81  -2.813531          -1.421851  -1.980638 -1.505564  0.106558  -0.820973   \n",
       "86   1.096020          -5.707704  -5.235761 -6.579241 -0.886316  -0.820973   \n",
       "\n",
       "        Staff  OnlineBooking  PriceQuality  RoomSpace  CheckOut   Checkin  \\\n",
       "Age                                                                         \n",
       "72  -0.532268      -0.692196     -1.633511  -0.703626 -2.256539 -2.973850   \n",
       "73  -0.464055       0.184032     -0.720682  -1.520108 -1.061886 -1.824280   \n",
       "74  -0.054775      -2.992297     -2.514863  -3.491613 -2.999879 -1.086969   \n",
       "75   0.303345      -0.979709     -4.084771   0.272169 -3.650301 -2.002661   \n",
       "76   0.502301      -4.440508     -2.294525  -3.212815 -2.669506 -0.014037   \n",
       "77  -0.144305       1.416229      0.046566   1.840411 -1.791952 -0.337766   \n",
       "78  -1.263430      -0.740115     -1.399402  -1.557447 -2.488833 -3.043220   \n",
       "79  -3.277855      -0.819980     -0.091145   0.969166 -1.637090 -4.083780   \n",
       "80  -2.680988      -1.458896     -1.192835  -1.818821 -2.256539 -2.973850   \n",
       "81  -0.660824      -0.574242     -0.175890   0.433014 -0.541140 -2.290816   \n",
       "86  -1.487255       2.374604     -4.497905   2.363159 -2.256539 -0.753990   \n",
       "\n",
       "     Cleanliness  BarService  \n",
       "Age                           \n",
       "72     -0.635421   -1.360627  \n",
       "73     -0.394129   -1.393453  \n",
       "74     -2.746727   -1.935089  \n",
       "75     -1.796639    1.684023  \n",
       "76     -2.605973    0.247867  \n",
       "77     -0.846552    0.391483  \n",
       "78     -1.163248   -1.116480  \n",
       "79     -0.635421    0.247867  \n",
       "80     -1.479944   -6.645679  \n",
       "81     -0.310605   -0.105648  \n",
       "86     -6.547077   -0.901057  "
      ]
     },
     "execution_count": 112,
     "metadata": {},
     "output_type": "execute_result"
    }
   ],
   "source": [
    "from scipy.stats import zscore\n",
    "df_age_zscore = df_age_analysys.apply(zscore)\n",
    "df_age_zscore[(abs(df_age_zscore[likert_columns]) > 2).any(1)]"
   ]
  },
  {
   "cell_type": "code",
   "execution_count": 113,
   "id": "ce78b8a2",
   "metadata": {},
   "outputs": [
    {
     "data": {
      "text/html": [
       "<div>\n",
       "<style scoped>\n",
       "    .dataframe tbody tr th:only-of-type {\n",
       "        vertical-align: middle;\n",
       "    }\n",
       "\n",
       "    .dataframe tbody tr th {\n",
       "        vertical-align: top;\n",
       "    }\n",
       "\n",
       "    .dataframe thead th {\n",
       "        text-align: right;\n",
       "    }\n",
       "</style>\n",
       "<table border=\"1\" class=\"dataframe\">\n",
       "  <thead>\n",
       "    <tr style=\"text-align: right;\">\n",
       "      <th></th>\n",
       "      <th>Churn</th>\n",
       "      <th>Longevity</th>\n",
       "      <th>TypeTravel</th>\n",
       "      <th>RoomType</th>\n",
       "      <th>RewardPoints</th>\n",
       "      <th>Comfort</th>\n",
       "      <th>ReceptionSchedule</th>\n",
       "      <th>FoodDrink</th>\n",
       "      <th>Location</th>\n",
       "      <th>Wifi</th>\n",
       "      <th>...</th>\n",
       "      <th>Staff</th>\n",
       "      <th>OnlineBooking</th>\n",
       "      <th>PriceQuality</th>\n",
       "      <th>RoomSpace</th>\n",
       "      <th>CheckOut</th>\n",
       "      <th>Checkin</th>\n",
       "      <th>Cleanliness</th>\n",
       "      <th>BarService</th>\n",
       "      <th>Gender</th>\n",
       "      <th>Age</th>\n",
       "    </tr>\n",
       "  </thead>\n",
       "  <tbody>\n",
       "    <tr>\n",
       "      <th>182</th>\n",
       "      <td>churn</td>\n",
       "      <td>yes</td>\n",
       "      <td>business</td>\n",
       "      <td>single</td>\n",
       "      <td>6713</td>\n",
       "      <td>3</td>\n",
       "      <td>5</td>\n",
       "      <td>5</td>\n",
       "      <td>5</td>\n",
       "      <td>2</td>\n",
       "      <td>...</td>\n",
       "      <td>3</td>\n",
       "      <td>3</td>\n",
       "      <td>3</td>\n",
       "      <td>3</td>\n",
       "      <td>3</td>\n",
       "      <td>1</td>\n",
       "      <td>3</td>\n",
       "      <td>4</td>\n",
       "      <td>1</td>\n",
       "      <td>75</td>\n",
       "    </tr>\n",
       "    <tr>\n",
       "      <th>250</th>\n",
       "      <td>churn</td>\n",
       "      <td>yes</td>\n",
       "      <td>business</td>\n",
       "      <td>suite</td>\n",
       "      <td>5498</td>\n",
       "      <td>3</td>\n",
       "      <td>4</td>\n",
       "      <td>3</td>\n",
       "      <td>4</td>\n",
       "      <td>3</td>\n",
       "      <td>...</td>\n",
       "      <td>3</td>\n",
       "      <td>3</td>\n",
       "      <td>1</td>\n",
       "      <td>4</td>\n",
       "      <td>4</td>\n",
       "      <td>2</td>\n",
       "      <td>3</td>\n",
       "      <td>3</td>\n",
       "      <td>1</td>\n",
       "      <td>79</td>\n",
       "    </tr>\n",
       "    <tr>\n",
       "      <th>255</th>\n",
       "      <td>churn</td>\n",
       "      <td>yes</td>\n",
       "      <td>business</td>\n",
       "      <td>double</td>\n",
       "      <td>6439</td>\n",
       "      <td>1</td>\n",
       "      <td>2</td>\n",
       "      <td>2</td>\n",
       "      <td>2</td>\n",
       "      <td>4</td>\n",
       "      <td>...</td>\n",
       "      <td>4</td>\n",
       "      <td>1</td>\n",
       "      <td>1</td>\n",
       "      <td>1</td>\n",
       "      <td>1</td>\n",
       "      <td>1</td>\n",
       "      <td>1</td>\n",
       "      <td>4</td>\n",
       "      <td>0</td>\n",
       "      <td>81</td>\n",
       "    </tr>\n",
       "    <tr>\n",
       "      <th>403</th>\n",
       "      <td>churn</td>\n",
       "      <td>yes</td>\n",
       "      <td>business</td>\n",
       "      <td>double</td>\n",
       "      <td>6806</td>\n",
       "      <td>2</td>\n",
       "      <td>4</td>\n",
       "      <td>4</td>\n",
       "      <td>4</td>\n",
       "      <td>5</td>\n",
       "      <td>...</td>\n",
       "      <td>4</td>\n",
       "      <td>2</td>\n",
       "      <td>2</td>\n",
       "      <td>2</td>\n",
       "      <td>2</td>\n",
       "      <td>3</td>\n",
       "      <td>2</td>\n",
       "      <td>3</td>\n",
       "      <td>0</td>\n",
       "      <td>76</td>\n",
       "    </tr>\n",
       "    <tr>\n",
       "      <th>425</th>\n",
       "      <td>nochurn</td>\n",
       "      <td>yes</td>\n",
       "      <td>business</td>\n",
       "      <td>double</td>\n",
       "      <td>6936</td>\n",
       "      <td>4</td>\n",
       "      <td>2</td>\n",
       "      <td>2</td>\n",
       "      <td>2</td>\n",
       "      <td>4</td>\n",
       "      <td>...</td>\n",
       "      <td>2</td>\n",
       "      <td>4</td>\n",
       "      <td>4</td>\n",
       "      <td>4</td>\n",
       "      <td>4</td>\n",
       "      <td>3</td>\n",
       "      <td>4</td>\n",
       "      <td>4</td>\n",
       "      <td>0</td>\n",
       "      <td>79</td>\n",
       "    </tr>\n",
       "    <tr>\n",
       "      <th>...</th>\n",
       "      <td>...</td>\n",
       "      <td>...</td>\n",
       "      <td>...</td>\n",
       "      <td>...</td>\n",
       "      <td>...</td>\n",
       "      <td>...</td>\n",
       "      <td>...</td>\n",
       "      <td>...</td>\n",
       "      <td>...</td>\n",
       "      <td>...</td>\n",
       "      <td>...</td>\n",
       "      <td>...</td>\n",
       "      <td>...</td>\n",
       "      <td>...</td>\n",
       "      <td>...</td>\n",
       "      <td>...</td>\n",
       "      <td>...</td>\n",
       "      <td>...</td>\n",
       "      <td>...</td>\n",
       "      <td>...</td>\n",
       "      <td>...</td>\n",
       "    </tr>\n",
       "    <tr>\n",
       "      <th>14706</th>\n",
       "      <td>nochurn</td>\n",
       "      <td>yes</td>\n",
       "      <td>business</td>\n",
       "      <td>single</td>\n",
       "      <td>4566</td>\n",
       "      <td>2</td>\n",
       "      <td>2</td>\n",
       "      <td>4</td>\n",
       "      <td>2</td>\n",
       "      <td>3</td>\n",
       "      <td>...</td>\n",
       "      <td>3</td>\n",
       "      <td>4</td>\n",
       "      <td>4</td>\n",
       "      <td>4</td>\n",
       "      <td>5</td>\n",
       "      <td>2</td>\n",
       "      <td>4</td>\n",
       "      <td>1</td>\n",
       "      <td>1</td>\n",
       "      <td>74</td>\n",
       "    </tr>\n",
       "    <tr>\n",
       "      <th>15109</th>\n",
       "      <td>nochurn</td>\n",
       "      <td>yes</td>\n",
       "      <td>business</td>\n",
       "      <td>double</td>\n",
       "      <td>6127</td>\n",
       "      <td>5</td>\n",
       "      <td>3</td>\n",
       "      <td>3</td>\n",
       "      <td>3</td>\n",
       "      <td>4</td>\n",
       "      <td>...</td>\n",
       "      <td>1</td>\n",
       "      <td>5</td>\n",
       "      <td>5</td>\n",
       "      <td>5</td>\n",
       "      <td>5</td>\n",
       "      <td>5</td>\n",
       "      <td>5</td>\n",
       "      <td>4</td>\n",
       "      <td>0</td>\n",
       "      <td>73</td>\n",
       "    </tr>\n",
       "    <tr>\n",
       "      <th>15132</th>\n",
       "      <td>nochurn</td>\n",
       "      <td>yes</td>\n",
       "      <td>business</td>\n",
       "      <td>single</td>\n",
       "      <td>3300</td>\n",
       "      <td>4</td>\n",
       "      <td>4</td>\n",
       "      <td>4</td>\n",
       "      <td>4</td>\n",
       "      <td>3</td>\n",
       "      <td>...</td>\n",
       "      <td>5</td>\n",
       "      <td>3</td>\n",
       "      <td>3</td>\n",
       "      <td>2</td>\n",
       "      <td>3</td>\n",
       "      <td>4</td>\n",
       "      <td>3</td>\n",
       "      <td>5</td>\n",
       "      <td>1</td>\n",
       "      <td>76</td>\n",
       "    </tr>\n",
       "    <tr>\n",
       "      <th>15494</th>\n",
       "      <td>churn</td>\n",
       "      <td>yes</td>\n",
       "      <td>business</td>\n",
       "      <td>single</td>\n",
       "      <td>5369</td>\n",
       "      <td>4</td>\n",
       "      <td>1</td>\n",
       "      <td>1</td>\n",
       "      <td>1</td>\n",
       "      <td>5</td>\n",
       "      <td>...</td>\n",
       "      <td>3</td>\n",
       "      <td>4</td>\n",
       "      <td>4</td>\n",
       "      <td>4</td>\n",
       "      <td>4</td>\n",
       "      <td>3</td>\n",
       "      <td>4</td>\n",
       "      <td>2</td>\n",
       "      <td>1</td>\n",
       "      <td>78</td>\n",
       "    </tr>\n",
       "    <tr>\n",
       "      <th>15530</th>\n",
       "      <td>churn</td>\n",
       "      <td>yes</td>\n",
       "      <td>business</td>\n",
       "      <td>double</td>\n",
       "      <td>4513</td>\n",
       "      <td>3</td>\n",
       "      <td>3</td>\n",
       "      <td>3</td>\n",
       "      <td>3</td>\n",
       "      <td>3</td>\n",
       "      <td>...</td>\n",
       "      <td>3</td>\n",
       "      <td>3</td>\n",
       "      <td>2</td>\n",
       "      <td>2</td>\n",
       "      <td>4</td>\n",
       "      <td>4</td>\n",
       "      <td>4</td>\n",
       "      <td>3</td>\n",
       "      <td>1</td>\n",
       "      <td>73</td>\n",
       "    </tr>\n",
       "  </tbody>\n",
       "</table>\n",
       "<p>102 rows × 21 columns</p>\n",
       "</div>"
      ],
      "text/plain": [
       "         Churn Longevity TypeTravel RoomType  RewardPoints  Comfort  \\\n",
       "182      churn       yes   business   single          6713        3   \n",
       "250      churn       yes   business    suite          5498        3   \n",
       "255      churn       yes   business   double          6439        1   \n",
       "403      churn       yes   business   double          6806        2   \n",
       "425    nochurn       yes   business   double          6936        4   \n",
       "...        ...       ...        ...      ...           ...      ...   \n",
       "14706  nochurn       yes   business   single          4566        2   \n",
       "15109  nochurn       yes   business   double          6127        5   \n",
       "15132  nochurn       yes   business   single          3300        4   \n",
       "15494    churn       yes   business   single          5369        4   \n",
       "15530    churn       yes   business   double          4513        3   \n",
       "\n",
       "       ReceptionSchedule  FoodDrink  Location  Wifi  ...  Staff  \\\n",
       "182                    5          5         5     2  ...      3   \n",
       "250                    4          3         4     3  ...      3   \n",
       "255                    2          2         2     4  ...      4   \n",
       "403                    4          4         4     5  ...      4   \n",
       "425                    2          2         2     4  ...      2   \n",
       "...                  ...        ...       ...   ...  ...    ...   \n",
       "14706                  2          4         2     3  ...      3   \n",
       "15109                  3          3         3     4  ...      1   \n",
       "15132                  4          4         4     3  ...      5   \n",
       "15494                  1          1         1     5  ...      3   \n",
       "15530                  3          3         3     3  ...      3   \n",
       "\n",
       "       OnlineBooking  PriceQuality  RoomSpace  CheckOut  Checkin  Cleanliness  \\\n",
       "182                3             3          3         3        1            3   \n",
       "250                3             1          4         4        2            3   \n",
       "255                1             1          1         1        1            1   \n",
       "403                2             2          2         2        3            2   \n",
       "425                4             4          4         4        3            4   \n",
       "...              ...           ...        ...       ...      ...          ...   \n",
       "14706              4             4          4         5        2            4   \n",
       "15109              5             5          5         5        5            5   \n",
       "15132              3             3          2         3        4            3   \n",
       "15494              4             4          4         4        3            4   \n",
       "15530              3             2          2         4        4            4   \n",
       "\n",
       "       BarService  Gender  Age  \n",
       "182             4       1   75  \n",
       "250             3       1   79  \n",
       "255             4       0   81  \n",
       "403             3       0   76  \n",
       "425             4       0   79  \n",
       "...           ...     ...  ...  \n",
       "14706           1       1   74  \n",
       "15109           4       0   73  \n",
       "15132           5       1   76  \n",
       "15494           2       1   78  \n",
       "15530           3       1   73  \n",
       "\n",
       "[102 rows x 21 columns]"
      ]
     },
     "execution_count": 113,
     "metadata": {},
     "output_type": "execute_result"
    }
   ],
   "source": [
    "df[df['Age'] > 72]"
   ]
  },
  {
   "cell_type": "markdown",
   "id": "3f7827ac",
   "metadata": {},
   "source": [
    "We thought about removing the rows with age less than 10 years old because we considered people this young to not be able to answer properly unless an adult helps them. However, because of the high number of entries, we decided not to remove them."
   ]
  },
  {
   "cell_type": "markdown",
   "id": "ecf17be8",
   "metadata": {},
   "source": [
    "# TODO GROUP BY AGE AND CHECK MEANS OF ANSWERS"
   ]
  },
  {
   "cell_type": "markdown",
   "id": "b731ade5",
   "metadata": {},
   "source": [
    "#### 1.8 Creating Dummies and Binary variables"
   ]
  },
  {
   "cell_type": "markdown",
   "id": "2ab997da",
   "metadata": {},
   "source": [
    "The following variables need dummies: RoomType  \n",
    "The following variables are binary: Churn, Longevity, TypeTravel"
   ]
  },
  {
   "cell_type": "code",
   "execution_count": 379,
   "id": "d8636854",
   "metadata": {},
   "outputs": [],
   "source": [
    "#churn = 1, nochurn = 0\n",
    "df['Churn'] = [1 if i == 'churn' else 0 for i in df[\"Churn\"]]"
   ]
  },
  {
   "cell_type": "code",
   "execution_count": 380,
   "id": "2b3da91c",
   "metadata": {},
   "outputs": [],
   "source": [
    "#yes = 1, no = 0\n",
    "df['Longevity'] = [1 if i == 'yes' else 0 for i in df[\"Longevity\"]]"
   ]
  },
  {
   "cell_type": "code",
   "execution_count": 381,
   "id": "c9cf2327",
   "metadata": {},
   "outputs": [],
   "source": [
    "#business = 1, leisure = 0\n",
    "df['TypeTravel'] = [1 if i == 'business' else 0 for i in df[\"TypeTravel\"]]"
   ]
  },
  {
   "cell_type": "code",
   "execution_count": 382,
   "id": "93999dfd",
   "metadata": {},
   "outputs": [
    {
     "data": {
      "text/html": [
       "<div>\n",
       "<style scoped>\n",
       "    .dataframe tbody tr th:only-of-type {\n",
       "        vertical-align: middle;\n",
       "    }\n",
       "\n",
       "    .dataframe tbody tr th {\n",
       "        vertical-align: top;\n",
       "    }\n",
       "\n",
       "    .dataframe thead th {\n",
       "        text-align: right;\n",
       "    }\n",
       "</style>\n",
       "<table border=\"1\" class=\"dataframe\">\n",
       "  <thead>\n",
       "    <tr style=\"text-align: right;\">\n",
       "      <th></th>\n",
       "      <th>Churn</th>\n",
       "      <th>Longevity</th>\n",
       "      <th>TypeTravel</th>\n",
       "      <th>RewardPoints</th>\n",
       "      <th>Comfort</th>\n",
       "      <th>ReceptionSchedule</th>\n",
       "      <th>FoodDrink</th>\n",
       "      <th>Location</th>\n",
       "      <th>Wifi</th>\n",
       "      <th>Amenities</th>\n",
       "      <th>...</th>\n",
       "      <th>PriceQuality</th>\n",
       "      <th>RoomSpace</th>\n",
       "      <th>CheckOut</th>\n",
       "      <th>Checkin</th>\n",
       "      <th>Cleanliness</th>\n",
       "      <th>BarService</th>\n",
       "      <th>Gender</th>\n",
       "      <th>Age</th>\n",
       "      <th>RoomType_single</th>\n",
       "      <th>RoomType_suite</th>\n",
       "    </tr>\n",
       "  </thead>\n",
       "  <tbody>\n",
       "    <tr>\n",
       "      <th>0</th>\n",
       "      <td>1</td>\n",
       "      <td>1</td>\n",
       "      <td>1</td>\n",
       "      <td>4907</td>\n",
       "      <td>3</td>\n",
       "      <td>4</td>\n",
       "      <td>1</td>\n",
       "      <td>4</td>\n",
       "      <td>4</td>\n",
       "      <td>3</td>\n",
       "      <td>...</td>\n",
       "      <td>3</td>\n",
       "      <td>3</td>\n",
       "      <td>3</td>\n",
       "      <td>4</td>\n",
       "      <td>3</td>\n",
       "      <td>4</td>\n",
       "      <td>0</td>\n",
       "      <td>48</td>\n",
       "      <td>1</td>\n",
       "      <td>0</td>\n",
       "    </tr>\n",
       "    <tr>\n",
       "      <th>1</th>\n",
       "      <td>0</td>\n",
       "      <td>1</td>\n",
       "      <td>1</td>\n",
       "      <td>6724</td>\n",
       "      <td>1</td>\n",
       "      <td>1</td>\n",
       "      <td>1</td>\n",
       "      <td>1</td>\n",
       "      <td>5</td>\n",
       "      <td>3</td>\n",
       "      <td>...</td>\n",
       "      <td>5</td>\n",
       "      <td>5</td>\n",
       "      <td>5</td>\n",
       "      <td>1</td>\n",
       "      <td>5</td>\n",
       "      <td>2</td>\n",
       "      <td>1</td>\n",
       "      <td>57</td>\n",
       "      <td>1</td>\n",
       "      <td>0</td>\n",
       "    </tr>\n",
       "    <tr>\n",
       "      <th>2</th>\n",
       "      <td>1</td>\n",
       "      <td>1</td>\n",
       "      <td>1</td>\n",
       "      <td>4365</td>\n",
       "      <td>3</td>\n",
       "      <td>3</td>\n",
       "      <td>3</td>\n",
       "      <td>3</td>\n",
       "      <td>1</td>\n",
       "      <td>4</td>\n",
       "      <td>...</td>\n",
       "      <td>3</td>\n",
       "      <td>2</td>\n",
       "      <td>3</td>\n",
       "      <td>2</td>\n",
       "      <td>3</td>\n",
       "      <td>1</td>\n",
       "      <td>1</td>\n",
       "      <td>49</td>\n",
       "      <td>1</td>\n",
       "      <td>0</td>\n",
       "    </tr>\n",
       "    <tr>\n",
       "      <th>3</th>\n",
       "      <td>0</td>\n",
       "      <td>1</td>\n",
       "      <td>0</td>\n",
       "      <td>3849</td>\n",
       "      <td>1</td>\n",
       "      <td>1</td>\n",
       "      <td>1</td>\n",
       "      <td>1</td>\n",
       "      <td>4</td>\n",
       "      <td>4</td>\n",
       "      <td>...</td>\n",
       "      <td>4</td>\n",
       "      <td>4</td>\n",
       "      <td>4</td>\n",
       "      <td>4</td>\n",
       "      <td>4</td>\n",
       "      <td>3</td>\n",
       "      <td>0</td>\n",
       "      <td>29</td>\n",
       "      <td>0</td>\n",
       "      <td>0</td>\n",
       "    </tr>\n",
       "    <tr>\n",
       "      <th>4</th>\n",
       "      <td>0</td>\n",
       "      <td>1</td>\n",
       "      <td>1</td>\n",
       "      <td>5376</td>\n",
       "      <td>2</td>\n",
       "      <td>2</td>\n",
       "      <td>3</td>\n",
       "      <td>2</td>\n",
       "      <td>5</td>\n",
       "      <td>5</td>\n",
       "      <td>...</td>\n",
       "      <td>5</td>\n",
       "      <td>3</td>\n",
       "      <td>4</td>\n",
       "      <td>1</td>\n",
       "      <td>3</td>\n",
       "      <td>5</td>\n",
       "      <td>1</td>\n",
       "      <td>33</td>\n",
       "      <td>1</td>\n",
       "      <td>0</td>\n",
       "    </tr>\n",
       "    <tr>\n",
       "      <th>...</th>\n",
       "      <td>...</td>\n",
       "      <td>...</td>\n",
       "      <td>...</td>\n",
       "      <td>...</td>\n",
       "      <td>...</td>\n",
       "      <td>...</td>\n",
       "      <td>...</td>\n",
       "      <td>...</td>\n",
       "      <td>...</td>\n",
       "      <td>...</td>\n",
       "      <td>...</td>\n",
       "      <td>...</td>\n",
       "      <td>...</td>\n",
       "      <td>...</td>\n",
       "      <td>...</td>\n",
       "      <td>...</td>\n",
       "      <td>...</td>\n",
       "      <td>...</td>\n",
       "      <td>...</td>\n",
       "      <td>...</td>\n",
       "      <td>...</td>\n",
       "    </tr>\n",
       "    <tr>\n",
       "      <th>15584</th>\n",
       "      <td>1</td>\n",
       "      <td>0</td>\n",
       "      <td>1</td>\n",
       "      <td>4968</td>\n",
       "      <td>2</td>\n",
       "      <td>0</td>\n",
       "      <td>2</td>\n",
       "      <td>2</td>\n",
       "      <td>3</td>\n",
       "      <td>2</td>\n",
       "      <td>...</td>\n",
       "      <td>4</td>\n",
       "      <td>5</td>\n",
       "      <td>1</td>\n",
       "      <td>3</td>\n",
       "      <td>4</td>\n",
       "      <td>3</td>\n",
       "      <td>0</td>\n",
       "      <td>34</td>\n",
       "      <td>0</td>\n",
       "      <td>0</td>\n",
       "    </tr>\n",
       "    <tr>\n",
       "      <th>15585</th>\n",
       "      <td>1</td>\n",
       "      <td>0</td>\n",
       "      <td>1</td>\n",
       "      <td>4970</td>\n",
       "      <td>3</td>\n",
       "      <td>3</td>\n",
       "      <td>3</td>\n",
       "      <td>3</td>\n",
       "      <td>5</td>\n",
       "      <td>3</td>\n",
       "      <td>...</td>\n",
       "      <td>3</td>\n",
       "      <td>1</td>\n",
       "      <td>3</td>\n",
       "      <td>4</td>\n",
       "      <td>4</td>\n",
       "      <td>5</td>\n",
       "      <td>0</td>\n",
       "      <td>22</td>\n",
       "      <td>0</td>\n",
       "      <td>0</td>\n",
       "    </tr>\n",
       "    <tr>\n",
       "      <th>15586</th>\n",
       "      <td>0</td>\n",
       "      <td>1</td>\n",
       "      <td>1</td>\n",
       "      <td>4046</td>\n",
       "      <td>1</td>\n",
       "      <td>1</td>\n",
       "      <td>1</td>\n",
       "      <td>1</td>\n",
       "      <td>3</td>\n",
       "      <td>4</td>\n",
       "      <td>...</td>\n",
       "      <td>4</td>\n",
       "      <td>4</td>\n",
       "      <td>4</td>\n",
       "      <td>5</td>\n",
       "      <td>4</td>\n",
       "      <td>4</td>\n",
       "      <td>1</td>\n",
       "      <td>58</td>\n",
       "      <td>1</td>\n",
       "      <td>0</td>\n",
       "    </tr>\n",
       "    <tr>\n",
       "      <th>15587</th>\n",
       "      <td>0</td>\n",
       "      <td>1</td>\n",
       "      <td>0</td>\n",
       "      <td>5155</td>\n",
       "      <td>4</td>\n",
       "      <td>3</td>\n",
       "      <td>4</td>\n",
       "      <td>4</td>\n",
       "      <td>5</td>\n",
       "      <td>4</td>\n",
       "      <td>...</td>\n",
       "      <td>2</td>\n",
       "      <td>5</td>\n",
       "      <td>4</td>\n",
       "      <td>3</td>\n",
       "      <td>4</td>\n",
       "      <td>5</td>\n",
       "      <td>1</td>\n",
       "      <td>30</td>\n",
       "      <td>0</td>\n",
       "      <td>0</td>\n",
       "    </tr>\n",
       "    <tr>\n",
       "      <th>15588</th>\n",
       "      <td>1</td>\n",
       "      <td>1</td>\n",
       "      <td>1</td>\n",
       "      <td>5136</td>\n",
       "      <td>3</td>\n",
       "      <td>3</td>\n",
       "      <td>3</td>\n",
       "      <td>3</td>\n",
       "      <td>3</td>\n",
       "      <td>3</td>\n",
       "      <td>...</td>\n",
       "      <td>4</td>\n",
       "      <td>5</td>\n",
       "      <td>4</td>\n",
       "      <td>1</td>\n",
       "      <td>3</td>\n",
       "      <td>3</td>\n",
       "      <td>1</td>\n",
       "      <td>39</td>\n",
       "      <td>0</td>\n",
       "      <td>1</td>\n",
       "    </tr>\n",
       "  </tbody>\n",
       "</table>\n",
       "<p>15296 rows × 22 columns</p>\n",
       "</div>"
      ],
      "text/plain": [
       "       Churn  Longevity  TypeTravel  RewardPoints  Comfort  ReceptionSchedule  \\\n",
       "0          1          1           1          4907        3                  4   \n",
       "1          0          1           1          6724        1                  1   \n",
       "2          1          1           1          4365        3                  3   \n",
       "3          0          1           0          3849        1                  1   \n",
       "4          0          1           1          5376        2                  2   \n",
       "...      ...        ...         ...           ...      ...                ...   \n",
       "15584      1          0           1          4968        2                  0   \n",
       "15585      1          0           1          4970        3                  3   \n",
       "15586      0          1           1          4046        1                  1   \n",
       "15587      0          1           0          5155        4                  3   \n",
       "15588      1          1           1          5136        3                  3   \n",
       "\n",
       "       FoodDrink  Location  Wifi  Amenities  ...  PriceQuality  RoomSpace  \\\n",
       "0              1         4     4          3  ...             3          3   \n",
       "1              1         1     5          3  ...             5          5   \n",
       "2              3         3     1          4  ...             3          2   \n",
       "3              1         1     4          4  ...             4          4   \n",
       "4              3         2     5          5  ...             5          3   \n",
       "...          ...       ...   ...        ...  ...           ...        ...   \n",
       "15584          2         2     3          2  ...             4          5   \n",
       "15585          3         3     5          3  ...             3          1   \n",
       "15586          1         1     3          4  ...             4          4   \n",
       "15587          4         4     5          4  ...             2          5   \n",
       "15588          3         3     3          3  ...             4          5   \n",
       "\n",
       "       CheckOut  Checkin  Cleanliness  BarService  Gender  Age  \\\n",
       "0             3        4            3           4       0   48   \n",
       "1             5        1            5           2       1   57   \n",
       "2             3        2            3           1       1   49   \n",
       "3             4        4            4           3       0   29   \n",
       "4             4        1            3           5       1   33   \n",
       "...         ...      ...          ...         ...     ...  ...   \n",
       "15584         1        3            4           3       0   34   \n",
       "15585         3        4            4           5       0   22   \n",
       "15586         4        5            4           4       1   58   \n",
       "15587         4        3            4           5       1   30   \n",
       "15588         4        1            3           3       1   39   \n",
       "\n",
       "       RoomType_single  RoomType_suite  \n",
       "0                    1               0  \n",
       "1                    1               0  \n",
       "2                    1               0  \n",
       "3                    0               0  \n",
       "4                    1               0  \n",
       "...                ...             ...  \n",
       "15584                0               0  \n",
       "15585                0               0  \n",
       "15586                1               0  \n",
       "15587                0               0  \n",
       "15588                0               1  \n",
       "\n",
       "[15296 rows x 22 columns]"
      ]
     },
     "execution_count": 382,
     "metadata": {},
     "output_type": "execute_result"
    }
   ],
   "source": [
    "df = pd.get_dummies(df, drop_first = True)\n",
    "df"
   ]
  },
  {
   "cell_type": "markdown",
   "id": "db5b5757",
   "metadata": {},
   "source": [
    "#### 1.9 Normalizing variables"
   ]
  },
  {
   "cell_type": "markdown",
   "id": "b48b9663",
   "metadata": {},
   "source": [
    "Because the variable 'RewardPoints' is in a scale that is very different from the rest, we decided to normalize the dataframe"
   ]
  },
  {
   "cell_type": "code",
   "execution_count": 383,
   "id": "cd8e32d7",
   "metadata": {},
   "outputs": [],
   "source": [
    "scaler = MinMaxScaler()\n",
    "df_normalized = pd.DataFrame(scaler.fit_transform(df), columns = df.columns)\n"
   ]
  },
  {
   "cell_type": "code",
   "execution_count": 386,
   "id": "1a4695ff",
   "metadata": {},
   "outputs": [
    {
     "data": {
      "text/html": [
       "<div>\n",
       "<style scoped>\n",
       "    .dataframe tbody tr th:only-of-type {\n",
       "        vertical-align: middle;\n",
       "    }\n",
       "\n",
       "    .dataframe tbody tr th {\n",
       "        vertical-align: top;\n",
       "    }\n",
       "\n",
       "    .dataframe thead th {\n",
       "        text-align: right;\n",
       "    }\n",
       "</style>\n",
       "<table border=\"1\" class=\"dataframe\">\n",
       "  <thead>\n",
       "    <tr style=\"text-align: right;\">\n",
       "      <th></th>\n",
       "      <th>Churn</th>\n",
       "      <th>Longevity</th>\n",
       "      <th>TypeTravel</th>\n",
       "      <th>RewardPoints</th>\n",
       "      <th>Comfort</th>\n",
       "      <th>ReceptionSchedule</th>\n",
       "      <th>FoodDrink</th>\n",
       "      <th>Location</th>\n",
       "      <th>Wifi</th>\n",
       "      <th>Amenities</th>\n",
       "      <th>...</th>\n",
       "      <th>PriceQuality</th>\n",
       "      <th>RoomSpace</th>\n",
       "      <th>CheckOut</th>\n",
       "      <th>Checkin</th>\n",
       "      <th>Cleanliness</th>\n",
       "      <th>BarService</th>\n",
       "      <th>Gender</th>\n",
       "      <th>Age</th>\n",
       "      <th>RoomType_single</th>\n",
       "      <th>RoomType_suite</th>\n",
       "    </tr>\n",
       "  </thead>\n",
       "  <tbody>\n",
       "    <tr>\n",
       "      <th>0</th>\n",
       "      <td>1.0</td>\n",
       "      <td>1.0</td>\n",
       "      <td>1.0</td>\n",
       "      <td>0.525986</td>\n",
       "      <td>0.6</td>\n",
       "      <td>0.8</td>\n",
       "      <td>0.2</td>\n",
       "      <td>0.75</td>\n",
       "      <td>0.8</td>\n",
       "      <td>0.6</td>\n",
       "      <td>...</td>\n",
       "      <td>0.50</td>\n",
       "      <td>0.6</td>\n",
       "      <td>0.50</td>\n",
       "      <td>0.75</td>\n",
       "      <td>0.50</td>\n",
       "      <td>0.8</td>\n",
       "      <td>0.0</td>\n",
       "      <td>0.512821</td>\n",
       "      <td>1.0</td>\n",
       "      <td>0.0</td>\n",
       "    </tr>\n",
       "    <tr>\n",
       "      <th>1</th>\n",
       "      <td>0.0</td>\n",
       "      <td>1.0</td>\n",
       "      <td>1.0</td>\n",
       "      <td>0.947564</td>\n",
       "      <td>0.2</td>\n",
       "      <td>0.2</td>\n",
       "      <td>0.2</td>\n",
       "      <td>0.00</td>\n",
       "      <td>1.0</td>\n",
       "      <td>0.6</td>\n",
       "      <td>...</td>\n",
       "      <td>1.00</td>\n",
       "      <td>1.0</td>\n",
       "      <td>1.00</td>\n",
       "      <td>0.00</td>\n",
       "      <td>1.00</td>\n",
       "      <td>0.4</td>\n",
       "      <td>1.0</td>\n",
       "      <td>0.628205</td>\n",
       "      <td>1.0</td>\n",
       "      <td>0.0</td>\n",
       "    </tr>\n",
       "    <tr>\n",
       "      <th>2</th>\n",
       "      <td>1.0</td>\n",
       "      <td>1.0</td>\n",
       "      <td>1.0</td>\n",
       "      <td>0.400232</td>\n",
       "      <td>0.6</td>\n",
       "      <td>0.6</td>\n",
       "      <td>0.6</td>\n",
       "      <td>0.50</td>\n",
       "      <td>0.2</td>\n",
       "      <td>0.8</td>\n",
       "      <td>...</td>\n",
       "      <td>0.50</td>\n",
       "      <td>0.4</td>\n",
       "      <td>0.50</td>\n",
       "      <td>0.25</td>\n",
       "      <td>0.50</td>\n",
       "      <td>0.2</td>\n",
       "      <td>1.0</td>\n",
       "      <td>0.525641</td>\n",
       "      <td>1.0</td>\n",
       "      <td>0.0</td>\n",
       "    </tr>\n",
       "    <tr>\n",
       "      <th>3</th>\n",
       "      <td>0.0</td>\n",
       "      <td>1.0</td>\n",
       "      <td>0.0</td>\n",
       "      <td>0.280510</td>\n",
       "      <td>0.2</td>\n",
       "      <td>0.2</td>\n",
       "      <td>0.2</td>\n",
       "      <td>0.00</td>\n",
       "      <td>0.8</td>\n",
       "      <td>0.8</td>\n",
       "      <td>...</td>\n",
       "      <td>0.75</td>\n",
       "      <td>0.8</td>\n",
       "      <td>0.75</td>\n",
       "      <td>0.75</td>\n",
       "      <td>0.75</td>\n",
       "      <td>0.6</td>\n",
       "      <td>0.0</td>\n",
       "      <td>0.269231</td>\n",
       "      <td>0.0</td>\n",
       "      <td>0.0</td>\n",
       "    </tr>\n",
       "    <tr>\n",
       "      <th>4</th>\n",
       "      <td>0.0</td>\n",
       "      <td>1.0</td>\n",
       "      <td>1.0</td>\n",
       "      <td>0.634803</td>\n",
       "      <td>0.4</td>\n",
       "      <td>0.4</td>\n",
       "      <td>0.6</td>\n",
       "      <td>0.25</td>\n",
       "      <td>1.0</td>\n",
       "      <td>1.0</td>\n",
       "      <td>...</td>\n",
       "      <td>1.00</td>\n",
       "      <td>0.6</td>\n",
       "      <td>0.75</td>\n",
       "      <td>0.00</td>\n",
       "      <td>0.50</td>\n",
       "      <td>1.0</td>\n",
       "      <td>1.0</td>\n",
       "      <td>0.320513</td>\n",
       "      <td>1.0</td>\n",
       "      <td>0.0</td>\n",
       "    </tr>\n",
       "  </tbody>\n",
       "</table>\n",
       "<p>5 rows × 22 columns</p>\n",
       "</div>"
      ],
      "text/plain": [
       "   Churn  Longevity  TypeTravel  RewardPoints  Comfort  ReceptionSchedule  \\\n",
       "0    1.0        1.0         1.0      0.525986      0.6                0.8   \n",
       "1    0.0        1.0         1.0      0.947564      0.2                0.2   \n",
       "2    1.0        1.0         1.0      0.400232      0.6                0.6   \n",
       "3    0.0        1.0         0.0      0.280510      0.2                0.2   \n",
       "4    0.0        1.0         1.0      0.634803      0.4                0.4   \n",
       "\n",
       "   FoodDrink  Location  Wifi  Amenities  ...  PriceQuality  RoomSpace  \\\n",
       "0        0.2      0.75   0.8        0.6  ...          0.50        0.6   \n",
       "1        0.2      0.00   1.0        0.6  ...          1.00        1.0   \n",
       "2        0.6      0.50   0.2        0.8  ...          0.50        0.4   \n",
       "3        0.2      0.00   0.8        0.8  ...          0.75        0.8   \n",
       "4        0.6      0.25   1.0        1.0  ...          1.00        0.6   \n",
       "\n",
       "   CheckOut  Checkin  Cleanliness  BarService  Gender       Age  \\\n",
       "0      0.50     0.75         0.50         0.8     0.0  0.512821   \n",
       "1      1.00     0.00         1.00         0.4     1.0  0.628205   \n",
       "2      0.50     0.25         0.50         0.2     1.0  0.525641   \n",
       "3      0.75     0.75         0.75         0.6     0.0  0.269231   \n",
       "4      0.75     0.00         0.50         1.0     1.0  0.320513   \n",
       "\n",
       "   RoomType_single  RoomType_suite  \n",
       "0              1.0             0.0  \n",
       "1              1.0             0.0  \n",
       "2              1.0             0.0  \n",
       "3              0.0             0.0  \n",
       "4              1.0             0.0  \n",
       "\n",
       "[5 rows x 22 columns]"
      ]
     },
     "execution_count": 386,
     "metadata": {},
     "output_type": "execute_result"
    }
   ],
   "source": [
    "df_normalized.head()"
   ]
  },
  {
   "cell_type": "markdown",
   "id": "48c01c12",
   "metadata": {},
   "source": [
    "# TODO CREATE RATING NORMALIZATION BY HAND"
   ]
  },
  {
   "cell_type": "markdown",
   "id": "837e8277",
   "metadata": {},
   "source": [
    "#### 1.10 Correlation Matrix"
   ]
  },
  {
   "cell_type": "code",
   "execution_count": 387,
   "id": "50188975",
   "metadata": {},
   "outputs": [
    {
     "data": {
      "text/plain": [
       "<AxesSubplot:>"
      ]
     },
     "execution_count": 387,
     "metadata": {},
     "output_type": "execute_result"
    },
    {
     "data": {
      "image/png": "[encoded data removed]",
      "text/plain": [
       "<Figure size 1152x720 with 2 Axes>"
      ]
     },
     "metadata": {
      "needs_background": "light"
     },
     "output_type": "display_data"
    }
   ],
   "source": [
    "df_corr = df.corr(method = 'spearman')\n",
    "figure = plt.figure(figsize=(16,10))\n",
    "sns.heatmap(df_corr, annot=True, fmt = '.1g')"
   ]
  },
  {
   "cell_type": "code",
   "execution_count": null,
   "id": "2d4e1d9c",
   "metadata": {},
   "outputs": [],
   "source": []
  },
  {
   "cell_type": "code",
   "execution_count": null,
   "id": "d7208cee",
   "metadata": {},
   "outputs": [],
   "source": []
  },
  {
   "cell_type": "code",
   "execution_count": null,
   "id": "81febb7c",
   "metadata": {},
   "outputs": [],
   "source": []
  },
  {
   "cell_type": "code",
   "execution_count": null,
   "id": "2c271acf",
   "metadata": {},
   "outputs": [],
   "source": []
  },
  {
   "cell_type": "code",
   "execution_count": null,
   "id": "5f5a5168",
   "metadata": {},
   "outputs": [],
   "source": []
  },
  {
   "cell_type": "code",
   "execution_count": null,
   "id": "dfaf2979",
   "metadata": {},
   "outputs": [],
   "source": []
  },
  {
   "cell_type": "code",
   "execution_count": null,
   "id": "315ecc3d",
   "metadata": {},
   "outputs": [],
   "source": []
  },
  {
   "cell_type": "code",
   "execution_count": null,
   "id": "33425c18",
   "metadata": {},
   "outputs": [],
   "source": []
  },
  {
   "cell_type": "code",
   "execution_count": null,
   "id": "d9a7cca6",
   "metadata": {},
   "outputs": [],
   "source": []
  },
  {
   "cell_type": "code",
   "execution_count": null,
   "id": "ba78c6bd",
   "metadata": {},
   "outputs": [],
   "source": []
  },
  {
   "cell_type": "code",
   "execution_count": null,
   "id": "a1bdbf42",
   "metadata": {},
   "outputs": [],
   "source": []
  },
  {
   "cell_type": "code",
   "execution_count": null,
   "id": "d9927115",
   "metadata": {},
   "outputs": [],
   "source": []
  },
  {
   "cell_type": "code",
   "execution_count": null,
   "id": "a2a47501",
   "metadata": {},
   "outputs": [],
   "source": [
    "likert_questions = df.iloc[:,7:-1]\n",
    "question_means = likert_questions.mean(axis = 0)\n",
    "grand_mean = question_means.mean()\n",
    "sns.barplot(x=question_means.index, y=question_means.values, data=question_means)\n",
    "plt.ylim(1,5)\n",
    "plt.show()"
   ]
  },
  {
   "cell_type": "code",
   "execution_count": null,
   "id": "ce7030ed",
   "metadata": {},
   "outputs": [],
   "source": []
  },
  {
   "cell_type": "code",
   "execution_count": null,
   "id": "ecd24145",
   "metadata": {},
   "outputs": [],
   "source": []
  },
  {
   "cell_type": "code",
   "execution_count": null,
   "id": "a15fb6c7",
   "metadata": {},
   "outputs": [],
   "source": []
  },
  {
   "cell_type": "code",
   "execution_count": null,
   "id": "73716dff",
   "metadata": {},
   "outputs": [],
   "source": []
  },
  {
   "cell_type": "code",
   "execution_count": null,
   "id": "416bd3d9",
   "metadata": {},
   "outputs": [],
   "source": []
  },
  {
   "cell_type": "code",
   "execution_count": null,
   "id": "214a527b",
   "metadata": {},
   "outputs": [],
   "source": []
  },
  {
   "cell_type": "code",
   "execution_count": null,
   "id": "b25fd33c",
   "metadata": {},
   "outputs": [],
   "source": []
  },
  {
   "cell_type": "code",
   "execution_count": null,
   "id": "1eb7263f",
   "metadata": {},
   "outputs": [],
   "source": []
  },
  {
   "cell_type": "code",
   "execution_count": null,
   "id": "e45fd5dd",
   "metadata": {},
   "outputs": [],
   "source": []
  },
  {
   "cell_type": "code",
   "execution_count": null,
   "id": "ba2e62ea",
   "metadata": {},
   "outputs": [],
   "source": []
  },
  {
   "cell_type": "code",
   "execution_count": null,
   "id": "203c931f",
   "metadata": {},
   "outputs": [],
   "source": []
  },
  {
   "cell_type": "code",
   "execution_count": null,
   "id": "b816add3",
   "metadata": {},
   "outputs": [],
   "source": []
  },
  {
   "cell_type": "code",
   "execution_count": null,
   "id": "b6a83f89",
   "metadata": {},
   "outputs": [],
   "source": []
  },
  {
   "cell_type": "code",
   "execution_count": null,
   "id": "cd1581c0",
   "metadata": {},
   "outputs": [],
   "source": []
  },
  {
   "cell_type": "code",
   "execution_count": null,
   "id": "ee664766",
   "metadata": {},
   "outputs": [],
   "source": []
  }
 ],
 "metadata": {
  "kernelspec": {
   "display_name": "Python 3 (ipykernel)",
   "language": "python",
   "name": "python3"
  },
  "language_info": {
   "codemirror_mode": {
    "name": "ipython",
    "version": 3
   },
   "file_extension": ".py",
   "mimetype": "text/x-python",
   "name": "python",
   "nbconvert_exporter": "python",
   "pygments_lexer": "ipython3",
   "version": "3.9.7"
  }
 },
 "nbformat": 4,
 "nbformat_minor": 5
}
